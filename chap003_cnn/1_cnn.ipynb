{
 "cells": [
  {
   "cell_type": "markdown",
   "id": "245a52ed-989f-476d-95a4-37d983ddae6f",
   "metadata": {},
   "source": [
    "<p style=\"color:#153462; \n",
    "          font-weight: bold; \n",
    "          font-size: 30px; \n",
    "          font-family: Gill Sans, sans-serif; \n",
    "          text-align: center;\">\n",
    "          Theory Behind CNNs</p>"
   ]
  },
  {
   "cell_type": "markdown",
   "id": "6dde06b0-4201-4565-aaaf-30d5e651b7cb",
   "metadata": {},
   "source": [
    "### Introduction about CNN"
   ]
  },
  {
   "cell_type": "markdown",
   "id": "ef617dc1-dc43-47cf-9c86-3e704c1ccff4",
   "metadata": {},
   "source": [
    "<p style=\"text-align: justify; text-justify: inter-word;\">\n",
    "   <font size=3>\n",
    "       <b>Convolutional Neural Networks(CNNs)</b> emerged from the study of the brain's visual cortex,\n",
    "       and they have been used in image recognition since the 1980's. CNNs have managed to achieve superhuman\n",
    "       performance on some complex visual tasks like self drivin cars, automatic video classification system\n",
    "       etc.., They are also successful at many other tasks, such as voice recoginition and nlp tasks.\n",
    "\n",
    "   </font>\n",
    "</p>\n"
   ]
  },
  {
   "cell_type": "markdown",
   "id": "7d790356-6135-425e-9be6-4be823304a3c",
   "metadata": {},
   "source": [
    "<p style=\"text-align: justify; text-justify: inter-word;\">\n",
    "   <font size=3>\n",
    "       Certain type of CNNs, can automatically learn the features from raw data that are most useful for\n",
    "       a particular task. For this reason, it's common to consider CNN layer as feature extractors: the\n",
    "       early layers (those right after the input layer) extract <b>low-level features</b> from raw data,\n",
    "       and the later layers often <b>fully connected layers,</b> as in a <b>multilayer perceptron (MLP)</b>\n",
    "       use these features to predict a continuous target value or class label.\n",
    "   </font>\n",
    "</p>"
   ]
  },
  {
   "cell_type": "markdown",
   "id": "75d12296-002f-4c49-ab9a-22fc934f10a2",
   "metadata": {},
   "source": [
    "<p style=\"text-align: justify; text-justify: inter-word;\">\n",
    "   <font size=3>\n",
    "       Below are some important building blocks of <b>Convolutional Neural Network</b>:\n",
    "       <ul>\n",
    "           <li>Convolutional Layer</li>\n",
    "           <li>ReLU</li>\n",
    "           <li>Pooling Layer</li>\n",
    "       </ul>\n",
    "   </font>\n",
    "</p>"
   ]
  },
  {
   "cell_type": "markdown",
   "id": "7cd116d3-b45d-418d-a134-5520af1c6f76",
   "metadata": {},
   "source": [
    "### Convolutional Layer"
   ]
  },
  {
   "cell_type": "markdown",
   "id": "f3ac6302-ea78-44c3-b3a9-bf8eb809de5c",
   "metadata": {},
   "source": [
    "<p style=\"text-align: justify; text-justify: inter-word;\">\n",
    "   <font size=3>\n",
    "        A convolutional layer is a type of layer in a neural network that is used to extract features from images.\n",
    "        It does this by applying a filter to the input image, which is a small matrix of numbers. The filter is moved \n",
    "        across the image, and the output of the filter is a new image that contains the features that were detected\n",
    "        by the filter.<br><br>\n",
    "        <img src=\"images/convolution.PNG\" alt=\"Drawing\" style=\"width: 600px;\"/>\n",
    "        <br>\n",
    "        Image Credit: <a href=\"https://anhreynolds.com/blogs/cnn.html\">https://anhreynolds.com/blogs/cnn.html</a>\n",
    "        <br>\n",
    "        <br>\n",
    "        Convolutional layers are important in neural networks because they allow the network to learn features in\n",
    "        images without having to explicitly define them. This is important because images can contain a lot of\n",
    "        different features, and it would be difficult for a human to define all of them. By using convolutional layers,\n",
    "        the network can learn the features that are important for the task at hand, such as object detection or\n",
    "        image classification.<br><br>\n",
    "        Here is an example of how a convolutional layer can be used to extract features from an image. Let's say we\n",
    "        have an image of a cat. We can use a convolutional layer with a filter that is designed to detect edges.\n",
    "        The filter will be a small matrix of numbers that contains the values of the edges that the filter is\n",
    "        designed to detect. When the filter is applied to the image, it will produce a new image that contains\n",
    "        the edges that were detected by the filter.<br><br>\n",
    "        The new image will contain a lot of different edges, but the most important edges will be the ones that are\n",
    "        most likely to be associated with a cat. For example, the filter might be able to detect the edges of the\n",
    "        cat's face, its eyes, and its body. By identifying these edges, the network can learn that the image \n",
    "        contains a cat.<br><br>\n",
    "        Convolutional layers are a powerful tool for extracting features from images. They are used in a wide \n",
    "        variety of neural network architectures, and they have helped to make neural networks one of the most\n",
    "        successful machine learning techniques for image processing tasks.<br><br>\n",
    "       <b>Credit</b>: Content taken from Google BARD</b>\n",
    "    </font>\n",
    "</p>\n",
    "\n",
    "<p style=\"text-justify: inter-word;\">\n",
    "   <font size=3>\n",
    "       Below resource will help to get some decent idea:\n",
    "       <ul>\n",
    "           <li>\n",
    "               <a href=\"https://www.udemy.com/course/deeplearning/learn/lecture/6761096#notes\"> Video from Udemy Course</a>\n",
    "           </li>\n",
    "           <li>\n",
    "               For deep mathematical and theory understanding do study, <br>\n",
    "               chapter 14 from <i>Hands-On Machine Learning with Scikit-Learn Keras & Tensor flow by Aurelien Geron </i><br>\n",
    "               chapter 14 from <i>Machine Learning from Pytorch and Scikit-Learn by Sebastian Raschka</i>\n",
    "           </li>\n",
    "       </ul>\n",
    "   </font>\n",
    "</p>\n",
    "\n"
   ]
  },
  {
   "cell_type": "markdown",
   "id": "3102e2cd-d317-476f-91ce-90d3d585376b",
   "metadata": {},
   "source": [
    "### Importance of ReLU in CNN"
   ]
  },
  {
   "cell_type": "markdown",
   "id": "caba7252-1d09-4f36-90c5-810de9a81207",
   "metadata": {},
   "source": [
    "<p style=\"text-align: justify; text-justify: inter-word;\">\n",
    "   <font size=3>\n",
    "        The Rectified Linear Unit (ReLU) activation function is important in convolutional neural networks\n",
    "        (CNNs) for several reasons.\n",
    "        <br>\n",
    "        <b>Non-linearity:</b> ReLU is a non-linear activation function, which means that it introduces non-linearity\n",
    "        into the CNN. This is important because CNNs are composed of a series of linear operations (convolutions\n",
    "        and pooling), and a linear model can only learn linear relationships between the input and output data.\n",
    "        Non-linearity is necessary for CNNs to learn complex relationships between the input and output data.\n",
    "        <br>\n",
    "        <b>Speed:</b> ReLU is a very efficient activation function to compute. This is important for CNNs, which can be\n",
    "        very computationally expensive to train.\n",
    "        <br>\n",
    "        <b>Stability:</b> ReLU is a stable activation function. This means that it is less likely to cause the CNN to\n",
    "        diverge during training.\n",
    "        <br>\n",
    "        In addition to these benefits, ReLU has also been shown to be effective in a variety of CNN tasks, \n",
    "        including image classification, object detection, and natural language processing.\n",
    "        <br>\n",
    "        <br>\n",
    "        <b>Credit</b>: This content is taken from Google BARD\n",
    "        <br>\n",
    "        Below are some important resouce to enhance knowledge about CNN & ReLU:\n",
    "        <br>\n",
    "        <ol>\n",
    "            <li>\n",
    "                <a href=\"https://arxiv.org/abs/1609.04112\">\n",
    "                    Understanding Convolutional Neural Networks with A Mathematical Model\n",
    "                </a>\n",
    "            </li>\n",
    "            <li>\n",
    "                <a href=\"https://arxiv.org/abs/1502.01852\">\n",
    "                    Delving Deep into Rectifiers: Surpassing Human-Level Performance on ImageNet Classification\n",
    "                </a>\n",
    "            </li>\n",
    "        </ol>\n",
    "   </font>\n",
    "</p>"
   ]
  },
  {
   "cell_type": "markdown",
   "id": "de642de8-8f44-4d8c-856b-0ae4e1871f0f",
   "metadata": {},
   "source": [
    "### Pooling"
   ]
  },
  {
   "cell_type": "markdown",
   "id": "ad21d45a-2c67-4ee5-b99e-67900742cf80",
   "metadata": {},
   "source": [
    "<p style=\"text-align: justify; text-justify: inter-word;\">\n",
    "   <font size=3>\n",
    "       <b>Pooling</b>, also known as subsampling or downsampling, is a technique commonly used in convolutional\n",
    "       neural networks (CNNs) to reduce the spatial dimensions of the input data. The purpose of pooling is to\n",
    "       progressively reduce the size of the feature maps, which helps in reducing the computational complexity\n",
    "       and controlling overfitting.<br><br>\n",
    "       The pooling operation divides the input feature map into a set of non-overlapping subregions, often\n",
    "       referred to as pooling windows or pooling kernels. For each subregion, the pooling operation computes\n",
    "       a single value that represents the information in that region. The most common types of pooling are\n",
    "       max pooling and average pooling<br><br>\n",
    "       In max pooling, the maximum value within each pooling window is selected as the representative value.\n",
    "       This operation helps capture the most salient features within each region, preserving the most dominant\n",
    "       information while discarding less relevant details. Max pooling is robust to small translations and\n",
    "       local variations in the input.<br><br>\n",
    "       On the other hand, average pooling computes the average value of each pooling window. This operation\n",
    "       can help in capturing overall spatial information and can be useful in certain scenarios where precise\n",
    "       localization of features is not necessary.<br><br>\n",
    "       However, it's worth mentioning that in recent years, some CNN architectures have started to move away\n",
    "       from using pooling layers. Instead, they rely on other techniques, such as dilated convolutions or\n",
    "       strided convolutions, to achieve dimensionality reduction while preserving more spatial information.\n",
    "       These approaches have shown promising results and are actively explored in the field of deep learning.\n",
    "   </font>\n",
    "</p>"
   ]
  },
  {
   "cell_type": "markdown",
   "id": "74325494-02a5-44f3-815b-32e060af618f",
   "metadata": {
    "tags": []
   },
   "source": [
    "<img src=\"images/pooling_layer.gif\" alt=\"pooling_layer\" style=\"width: 600px;\"/>"
   ]
  },
  {
   "cell_type": "markdown",
   "id": "6362d96d-9a2e-478a-aa3b-e535b8c137f8",
   "metadata": {},
   "source": [
    "<b>Image Credit</b>: <a href=\"https://colab.research.google.com/drive/184GwbQOhurIj67weLrkE35YPk-r9DF0M#scrollTo=66osPphE31yh\">Introduction To Pooling Layers In CNN</a>"
   ]
  },
  {
   "cell_type": "markdown",
   "id": "8e83de43-aee3-41b6-84f6-8461ef541efc",
   "metadata": {},
   "source": [
    "<p style=\"text-align: justify; text-justify: inter-word;\">\n",
    "   <font size=3>\n",
    "       Below are some important research papers and videos links to deepen the knowledge on <i>pooling</i> concept:\n",
    "       <ul>\n",
    "           <li>\n",
    "               <a href=\"https://www.ais.uni-bonn.de/papers/icann2010_maxpool.pdf\">\n",
    "                   Evaluation of Pooling Operations in Convolutional Architectures for Object Recognition\n",
    "               </a>\n",
    "           </li>\n",
    "           <li>\n",
    "               <a href=\"https://www.udemy.com/course/deeplearning/learn/lecture/6761100#overview\">\n",
    "                   Pooling video from Udemy\n",
    "               </a>\n",
    "           </li>\n",
    "       </ul>\n",
    "   </font>\n",
    "</p>"
   ]
  },
  {
   "cell_type": "markdown",
   "id": "6e9d3c80-0435-4125-ab3b-4b6d36564c2f",
   "metadata": {},
   "source": [
    "### Flattening"
   ]
  },
  {
   "cell_type": "markdown",
   "id": "5002859f-00ad-4e16-9a99-518c52d4d687",
   "metadata": {},
   "source": [
    "<p style=\"text-align: justify; text-justify: inter-word;\">\n",
    "   <font size=3>\n",
    "       flattening is a necessary step after the pooling layer in a CNN to convert the reduced spatial feature maps into a one-dimensional vector that can be fed into fully connected layers for further processing and classification\n",
    "   </font>\n",
    "</p>"
   ]
  },
  {
   "cell_type": "markdown",
   "id": "03665afa-73bb-4e3b-b2ce-8dc13be991a3",
   "metadata": {},
   "source": [
    "<img src=\"images/flattening.png\" alt=\"flattening\" style=\"width: 600px;\"/>"
   ]
  },
  {
   "cell_type": "markdown",
   "id": "8db0b771-dd46-4b3c-9f56-b386de6e20b0",
   "metadata": {},
   "source": [
    "<b>Image Credit</b>: https://www.superdatascience.com/blogs/convolutional-neural-networks-cnn-step-3-flattening"
   ]
  },
  {
   "cell_type": "markdown",
   "id": "724b4f44-175a-423b-9a74-806143d3874b",
   "metadata": {},
   "source": [
    "### Resources"
   ]
  },
  {
   "cell_type": "markdown",
   "id": "a358d63c-1acd-4b08-ac9a-c7ef39e4af1f",
   "metadata": {},
   "source": [
    "<ul>\n",
    "    <li>\n",
    "        <a href=\"https://jasoncantarella.com/downloads/CNN.pdf\">Introduction to Convolutional Neural Networks by Jianxin Wu</a>\n",
    "    </li>\n",
    "    <li>\n",
    "        <a href=\"http://vision.stanford.edu/cs598_spring07/papers/Lecun98.pdf\">\n",
    "            GradientBased Learning Applied to Document Recognition\n",
    "        </a>\n",
    "    </li>\n",
    "    <li>\n",
    "        <a href=\"https://www.google.com/search?q=the+9+deep+learning+papers+you+need+to+know+about&oq=The+9+deep+learning+papers+&aqs=chrome.1.69i57j0i512.2905j0j7&sourceid=chrome&ie=UTF-8\">\n",
    "            the 9 deep learning papers you need to know about\n",
    "        </a>\n",
    "    </li>\n",
    "</ul>"
   ]
  },
  {
   "cell_type": "code",
   "execution_count": null,
   "id": "9347aefe-e962-4030-805a-1bcf9cf5a6b5",
   "metadata": {},
   "outputs": [],
   "source": []
  }
 ],
 "metadata": {
  "kernelspec": {
   "display_name": "Python 3 (ipykernel)",
   "language": "python",
   "name": "python3"
  },
  "language_info": {
   "codemirror_mode": {
    "name": "ipython",
    "version": 3
   },
   "file_extension": ".py",
   "mimetype": "text/x-python",
   "name": "python",
   "nbconvert_exporter": "python",
   "pygments_lexer": "ipython3",
   "version": "3.11.2"
  }
 },
 "nbformat": 4,
 "nbformat_minor": 5
}
