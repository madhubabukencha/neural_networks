{
 "cells": [
  {
   "cell_type": "markdown",
   "id": "430b902c-75aa-428a-9884-e0ff3e1cbf00",
   "metadata": {
    "tags": []
   },
   "source": [
    "<p style=\"color:#153462; \n",
    "          font-weight: bold; \n",
    "          font-size: 30px; \n",
    "          font-family: Gill Sans, sans-serif; \n",
    "          text-align: center;\">\n",
    "          Commonly Used Neural Network Terminology</p>"
   ]
  },
  {
   "cell_type": "markdown",
   "id": "9996acc9-4972-4dc4-a67f-82b467afbab8",
   "metadata": {},
   "source": [
    "#### Linear and Non-Linear\n",
    "\n",
    "The neural network without any activation function in any of its layers is called a linear neural network. The neural network which has action functions like relu, sigmoid or tanh in any of its layer or even in more than one layer is called non-linear neural network."
   ]
  },
  {
   "cell_type": "markdown",
   "id": "e44904d1-72dd-4e4c-848f-f0a0dbe69c2e",
   "metadata": {},
   "source": [
    "### Epoch"
   ]
  },
  {
   "cell_type": "markdown",
   "id": "c9e6b734-81fa-450d-913a-3aed8d60f471",
   "metadata": {},
   "source": [
    "One Epoch means the neural network goes through all example once."
   ]
  }
 ],
 "metadata": {
  "kernelspec": {
   "display_name": "Python 3 (ipykernel)",
   "language": "python",
   "name": "python3"
  },
  "language_info": {
   "codemirror_mode": {
    "name": "ipython",
    "version": 3
   },
   "file_extension": ".py",
   "mimetype": "text/x-python",
   "name": "python",
   "nbconvert_exporter": "python",
   "pygments_lexer": "ipython3",
   "version": "3.11.2"
  }
 },
 "nbformat": 4,
 "nbformat_minor": 5
}
