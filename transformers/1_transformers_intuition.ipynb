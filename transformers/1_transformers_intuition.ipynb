{
 "cells": [
  {
   "cell_type": "markdown",
   "id": "c4715696-07fe-415b-a58c-184bec0a67f9",
   "metadata": {},
   "source": [
    "<p style=\"color:#153462; \n",
    "          font-weight: bold; \n",
    "          font-size: 30px; \n",
    "          font-family: Gill Sans, sans-serif; \n",
    "          text-align: center;\">\n",
    "          Transformers</p>"
   ]
  },
  {
   "cell_type": "markdown",
   "id": "2385af9e-ae6b-4893-b100-3c31ab607197",
   "metadata": {},
   "source": [
    "### <span style=\"color:#3C4048; font-weight: bold; font-size: 18px; font-family: Gill Sans, sans-serif;\">Resources</span>"
   ]
  },
  {
   "cell_type": "markdown",
   "id": "6c2c9e73-033e-4086-9f94-2337f7396909",
   "metadata": {
    "tags": []
   },
   "source": [
    "1. https://arxiv.org/pdf/1706.03762.pdf\n",
    "2. https://blogs.nvidia.com/blog/2022/03/25/what-is-a-transformer-model/\n",
    "3. https://jalammar.github.io/illustrated-transformer/\n",
    "4. https://medium.com/inside-machine-learning/what-is-a-transformer-d07dd1fbec04\n",
    "5. https://pyimagesearch.com/2022/09/05/a-deep-dive-into-transformers-with-tensorflow-and-keras-part-1/\n",
    "6. https://research.ibm.com/blog/what-are-foundation-models\n",
    "7. https://www.datacamp.com/tutorial/building-a-transformer-with-py-torch"
   ]
  },
  {
   "cell_type": "code",
   "execution_count": null,
   "id": "9e707019-5d82-4bd4-991f-ed38c1d3f442",
   "metadata": {},
   "outputs": [],
   "source": []
  }
 ],
 "metadata": {
  "kernelspec": {
   "display_name": "Python 3 (ipykernel)",
   "language": "python",
   "name": "python3"
  },
  "language_info": {
   "codemirror_mode": {
    "name": "ipython",
    "version": 3
   },
   "file_extension": ".py",
   "mimetype": "text/x-python",
   "name": "python",
   "nbconvert_exporter": "python",
   "pygments_lexer": "ipython3",
   "version": "3.11.2"
  }
 },
 "nbformat": 4,
 "nbformat_minor": 5
}
