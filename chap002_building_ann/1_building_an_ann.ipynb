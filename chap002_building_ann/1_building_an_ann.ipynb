{
 "cells": [
  {
   "cell_type": "markdown",
   "id": "8f81237c-ac4d-4e6f-8395-4dca24f987d9",
   "metadata": {},
   "source": [
    "<p style=\"color:#153462; \n",
    "          font-weight: bold; \n",
    "          font-size: 30px; \n",
    "          font-family: Gill Sans, sans-serif; \n",
    "          text-align: center;\">\n",
    "          Building an ANN</p>"
   ]
  },
  {
   "cell_type": "markdown",
   "id": "681e8652-d9ed-4ae3-9c3a-19ee93febcfe",
   "metadata": {},
   "source": [
    "### Importing Required Modules"
   ]
  },
  {
   "cell_type": "code",
   "execution_count": 1,
   "id": "0989d5bb-9960-4ea1-9850-aceece0add11",
   "metadata": {
    "tags": []
   },
   "outputs": [],
   "source": [
    "import numpy as np\n",
    "import pandas as pd\n",
    "import tensorflow as tf\n",
    "from sklearn.preprocessing import (LabelEncoder,\n",
    "                                   OneHotEncoder,\n",
    "                                   StandardScaler)\n",
    "from sklearn.compose import ColumnTransformer\n",
    "from sklearn.model_selection import train_test_split\n",
    "from sklearn.metrics import confusion_matrix, accuracy_score"
   ]
  },
  {
   "cell_type": "code",
   "execution_count": 2,
   "id": "d1e3c314-39a0-42a0-9388-641617d2086c",
   "metadata": {
    "tags": []
   },
   "outputs": [
    {
     "data": {
      "text/plain": [
       "'2.12.0'"
      ]
     },
     "execution_count": 2,
     "metadata": {},
     "output_type": "execute_result"
    }
   ],
   "source": [
    "tf.__version__"
   ]
  },
  {
   "cell_type": "markdown",
   "id": "7e09c1c0-be9f-43bb-9d6d-366e9002e9ca",
   "metadata": {},
   "source": [
    "### Data Processing"
   ]
  },
  {
   "cell_type": "code",
   "execution_count": 3,
   "id": "95204fff-ade5-4675-9322-b5810388f5b8",
   "metadata": {
    "tags": []
   },
   "outputs": [
    {
     "data": {
      "text/html": [
       "<div>\n",
       "<style scoped>\n",
       "    .dataframe tbody tr th:only-of-type {\n",
       "        vertical-align: middle;\n",
       "    }\n",
       "\n",
       "    .dataframe tbody tr th {\n",
       "        vertical-align: top;\n",
       "    }\n",
       "\n",
       "    .dataframe thead th {\n",
       "        text-align: right;\n",
       "    }\n",
       "</style>\n",
       "<table border=\"1\" class=\"dataframe\">\n",
       "  <thead>\n",
       "    <tr style=\"text-align: right;\">\n",
       "      <th></th>\n",
       "      <th>RowNumber</th>\n",
       "      <th>CustomerId</th>\n",
       "      <th>Surname</th>\n",
       "      <th>CreditScore</th>\n",
       "      <th>Geography</th>\n",
       "      <th>Gender</th>\n",
       "      <th>Age</th>\n",
       "      <th>Tenure</th>\n",
       "      <th>Balance</th>\n",
       "      <th>NumOfProducts</th>\n",
       "      <th>HasCrCard</th>\n",
       "      <th>IsActiveMember</th>\n",
       "      <th>EstimatedSalary</th>\n",
       "      <th>Exited</th>\n",
       "    </tr>\n",
       "  </thead>\n",
       "  <tbody>\n",
       "    <tr>\n",
       "      <th>0</th>\n",
       "      <td>1</td>\n",
       "      <td>15634602</td>\n",
       "      <td>Hargrave</td>\n",
       "      <td>619</td>\n",
       "      <td>France</td>\n",
       "      <td>Female</td>\n",
       "      <td>42</td>\n",
       "      <td>2</td>\n",
       "      <td>0.00</td>\n",
       "      <td>1</td>\n",
       "      <td>1</td>\n",
       "      <td>1</td>\n",
       "      <td>101348.88</td>\n",
       "      <td>1</td>\n",
       "    </tr>\n",
       "    <tr>\n",
       "      <th>1</th>\n",
       "      <td>2</td>\n",
       "      <td>15647311</td>\n",
       "      <td>Hill</td>\n",
       "      <td>608</td>\n",
       "      <td>Spain</td>\n",
       "      <td>Female</td>\n",
       "      <td>41</td>\n",
       "      <td>1</td>\n",
       "      <td>83807.86</td>\n",
       "      <td>1</td>\n",
       "      <td>0</td>\n",
       "      <td>1</td>\n",
       "      <td>112542.58</td>\n",
       "      <td>0</td>\n",
       "    </tr>\n",
       "    <tr>\n",
       "      <th>2</th>\n",
       "      <td>3</td>\n",
       "      <td>15619304</td>\n",
       "      <td>Onio</td>\n",
       "      <td>502</td>\n",
       "      <td>France</td>\n",
       "      <td>Female</td>\n",
       "      <td>42</td>\n",
       "      <td>8</td>\n",
       "      <td>159660.80</td>\n",
       "      <td>3</td>\n",
       "      <td>1</td>\n",
       "      <td>0</td>\n",
       "      <td>113931.57</td>\n",
       "      <td>1</td>\n",
       "    </tr>\n",
       "    <tr>\n",
       "      <th>3</th>\n",
       "      <td>4</td>\n",
       "      <td>15701354</td>\n",
       "      <td>Boni</td>\n",
       "      <td>699</td>\n",
       "      <td>France</td>\n",
       "      <td>Female</td>\n",
       "      <td>39</td>\n",
       "      <td>1</td>\n",
       "      <td>0.00</td>\n",
       "      <td>2</td>\n",
       "      <td>0</td>\n",
       "      <td>0</td>\n",
       "      <td>93826.63</td>\n",
       "      <td>0</td>\n",
       "    </tr>\n",
       "    <tr>\n",
       "      <th>4</th>\n",
       "      <td>5</td>\n",
       "      <td>15737888</td>\n",
       "      <td>Mitchell</td>\n",
       "      <td>850</td>\n",
       "      <td>Spain</td>\n",
       "      <td>Female</td>\n",
       "      <td>43</td>\n",
       "      <td>2</td>\n",
       "      <td>125510.82</td>\n",
       "      <td>1</td>\n",
       "      <td>1</td>\n",
       "      <td>1</td>\n",
       "      <td>79084.10</td>\n",
       "      <td>0</td>\n",
       "    </tr>\n",
       "  </tbody>\n",
       "</table>\n",
       "</div>"
      ],
      "text/plain": [
       "   RowNumber  CustomerId   Surname  CreditScore Geography  Gender  Age   \n",
       "0          1    15634602  Hargrave          619    France  Female   42  \\\n",
       "1          2    15647311      Hill          608     Spain  Female   41   \n",
       "2          3    15619304      Onio          502    France  Female   42   \n",
       "3          4    15701354      Boni          699    France  Female   39   \n",
       "4          5    15737888  Mitchell          850     Spain  Female   43   \n",
       "\n",
       "   Tenure    Balance  NumOfProducts  HasCrCard  IsActiveMember   \n",
       "0       2       0.00              1          1               1  \\\n",
       "1       1   83807.86              1          0               1   \n",
       "2       8  159660.80              3          1               0   \n",
       "3       1       0.00              2          0               0   \n",
       "4       2  125510.82              1          1               1   \n",
       "\n",
       "   EstimatedSalary  Exited  \n",
       "0        101348.88       1  \n",
       "1        112542.58       0  \n",
       "2        113931.57       1  \n",
       "3         93826.63       0  \n",
       "4         79084.10       0  "
      ]
     },
     "execution_count": 3,
     "metadata": {},
     "output_type": "execute_result"
    }
   ],
   "source": [
    "dataset = pd.read_csv(\"data/Churn_Modelling.csv\")\n",
    "dataset.head()"
   ]
  },
  {
   "cell_type": "code",
   "execution_count": 4,
   "id": "9b4dbf30-3014-4cf2-b9ee-5bc462df5054",
   "metadata": {
    "tags": []
   },
   "outputs": [],
   "source": [
    "X = dataset.loc[:, \"CreditScore\":\"EstimatedSalary\"].values\n",
    "y = dataset.iloc[:, -1].values"
   ]
  },
  {
   "cell_type": "code",
   "execution_count": 5,
   "id": "9112af5c-f4b9-4c93-83b4-6af60006f2c3",
   "metadata": {
    "tags": []
   },
   "outputs": [
    {
     "name": "stdout",
     "output_type": "stream",
     "text": [
      "[619 'France' 'Female' 42 2 0.0 1 1 1 101348.88]\n"
     ]
    }
   ],
   "source": [
    "print(X[0])"
   ]
  },
  {
   "cell_type": "code",
   "execution_count": 6,
   "id": "285b72f1-0202-40ed-be4d-8391f1ef870e",
   "metadata": {
    "tags": []
   },
   "outputs": [
    {
     "name": "stdout",
     "output_type": "stream",
     "text": [
      "[1 0 1 ... 1 1 0]\n"
     ]
    }
   ],
   "source": [
    "print(y)"
   ]
  },
  {
   "cell_type": "markdown",
   "id": "e8ba76d3-b535-449b-b648-847389ee9d2a",
   "metadata": {},
   "source": [
    "#### Encoding the data"
   ]
  },
  {
   "cell_type": "markdown",
   "id": "a64e2102-f55d-4a8d-b953-9b2c3dd6fec4",
   "metadata": {},
   "source": [
    "<p style=\"text-align: justify; text-justify: inter-word;\">\n",
    "   <font size=3>\n",
    "       <b>Label Encoding:</b>\n",
    "Label Encoding is a technique used to convert categorical variables into numerical form. It assigns a unique integer value to each category, thereby creating an ordered relationship between the values. For example, if you have three categories: \"red,\" \"green,\" and \"blue,\" label encoding may assign the values 0, 1, and 2, respectively.\n",
    "   </font>\n",
    "</p>"
   ]
  },
  {
   "cell_type": "code",
   "execution_count": 7,
   "id": "e6403ee4-70a8-4dfd-8136-b4486052c12e",
   "metadata": {},
   "outputs": [],
   "source": [
    "le = LabelEncoder()\n",
    "X[:, 2] = le.fit_transform(X[:, 2])"
   ]
  },
  {
   "cell_type": "markdown",
   "id": "44c984b8-c91c-4af6-b73b-daa8f6dac62a",
   "metadata": {
    "tags": []
   },
   "source": [
    "<p style=\"text-align: justify; text-justify: inter-word;\">\n",
    "   <font size=3>\n",
    "       <b>One-Hot Encoding</b>, on the other hand, is a technique used to convert categorical variables into a binary vector representation. It creates new binary columns for each category, where a value of 1 represents the presence of that category and 0 represents the absence. Each category is treated as a separate feature. For example, using One-Hot Encoding, the three categories \"red,\" \"green,\" and \"blue\" would be represented as [1, 0, 0], [0, 1, 0], and [0, 0, 1], respectively.\n",
    "   </font>\n",
    "</p>\n"
   ]
  },
  {
   "cell_type": "code",
   "execution_count": 8,
   "id": "bde4edaa-fa56-4ae0-bb11-b7ae9fcb56a4",
   "metadata": {
    "tags": []
   },
   "outputs": [],
   "source": [
    "# https://scikit-learn.org/stable/modules/generated/sklearn.compose.ColumnTransformer.html\n",
    "ct = ColumnTransformer(transformers=[(\"encoder\", \n",
    "                                      OneHotEncoder(), \n",
    "                                      [1] # Column number\n",
    "                                     )\n",
    "                                    ],\n",
    "                       remainder=\"passthrough\")\n",
    "X = ct.fit_transform(X)"
   ]
  },
  {
   "cell_type": "code",
   "execution_count": 9,
   "id": "4403ca2f-85e7-4e70-a51c-6ec319a982fb",
   "metadata": {
    "tags": []
   },
   "outputs": [
    {
     "name": "stdout",
     "output_type": "stream",
     "text": [
      "[[1.0 0.0 0.0 ... 1 1 101348.88]\n",
      " [0.0 0.0 1.0 ... 0 1 112542.58]\n",
      " [1.0 0.0 0.0 ... 1 0 113931.57]\n",
      " ...\n",
      " [1.0 0.0 0.0 ... 0 1 42085.58]\n",
      " [0.0 1.0 0.0 ... 1 0 92888.52]\n",
      " [1.0 0.0 0.0 ... 1 0 38190.78]]\n"
     ]
    }
   ],
   "source": [
    "print(X)"
   ]
  },
  {
   "cell_type": "code",
   "execution_count": 10,
   "id": "61a44da9-c2cb-47fa-9473-04e1bf3d8c7a",
   "metadata": {
    "tags": []
   },
   "outputs": [],
   "source": [
    "# Spliting the data into train and test\n",
    "X_train, X_test, y_train, y_test = train_test_split(X, y, test_size=0.2, random_state=0)"
   ]
  },
  {
   "cell_type": "code",
   "execution_count": 11,
   "id": "640c2bc1-7f97-4009-a3da-1e47238d3fd7",
   "metadata": {
    "tags": []
   },
   "outputs": [],
   "source": [
    "# Applying feature scaling, to bring values at same scale\n",
    "sc = StandardScaler()\n",
    "sc_X_train = sc.fit(X_train)\n",
    "X_train = sc_X_train.transform(X_train)\n",
    "X_test = sc_X_train.transform(X_test)"
   ]
  },
  {
   "cell_type": "markdown",
   "id": "4dfc890d-2e92-4b89-99e2-e682e88b0703",
   "metadata": {},
   "source": [
    "### Model Building"
   ]
  },
  {
   "cell_type": "markdown",
   "id": "f5f7643f-9bdb-44c3-acce-be2768bbf305",
   "metadata": {},
   "source": [
    "<b>NOTE</b>: In Tensorflow2.0, keras is intergrated into tensorflow. "
   ]
  },
  {
   "cell_type": "markdown",
   "id": "9d395812-f10b-4fad-b133-52130e0ac1bf",
   "metadata": {},
   "source": [
    "<p style=\"text-align: justify; text-justify: inter-word;\">\n",
    "   <font size=3>\n",
    "       The <code>tf.keras.models.Sequential()</code> class is a high-level API provided by TensorFlow for creating and defining neural network models in a sequential manner. It allows you to build models by stacking layers one after another, making it convenient for most deep learning tasks.\n",
    "   </font>\n",
    "</p>\n"
   ]
  },
  {
   "cell_type": "code",
   "execution_count": 12,
   "id": "2feec404-e17e-4cb2-a389-e4b373a4efa2",
   "metadata": {
    "tags": []
   },
   "outputs": [],
   "source": [
    "ann = tf.keras.models.Sequential()"
   ]
  },
  {
   "cell_type": "markdown",
   "id": "6a74abcb-efdf-460b-a02b-af1076201342",
   "metadata": {},
   "source": [
    "<p style=\"text-align: justify; text-justify: inter-word;\">\n",
    "   <font size=3>\n",
    "       Usaully input treated as the first layer of neural network. Input layer are automatically added at the time of\n",
    "       fitting.<br><br>\n",
    "       In a neural network, a dense layer, also known as a fully connected layer, is a type of layer where each neuron or \n",
    "       node in the layer is connected to every neuron in the previous layer and every neuron in the next layer. The\n",
    "       term \"dense\" refers to the fact that every node in the layer is connected to every node in the adjacent layers.\n",
    "   </font>\n",
    "</p>"
   ]
  },
  {
   "cell_type": "code",
   "execution_count": 13,
   "id": "608860dc-79ee-4b40-8325-24aeed39a997",
   "metadata": {
    "tags": []
   },
   "outputs": [],
   "source": [
    "ann.add(tf.keras.layers.Dense(units=6, activation=\"relu\"))"
   ]
  },
  {
   "cell_type": "markdown",
   "id": "58b8ac80-7728-4f7d-814d-4b5a105430cf",
   "metadata": {},
   "source": [
    "<p style=\"text-align: justify; text-justify: inter-word;\">\n",
    "   <font size=3>\n",
    "       Adding the second layer.\n",
    "   </font>\n",
    "</p>"
   ]
  },
  {
   "cell_type": "code",
   "execution_count": 14,
   "id": "2c41c6a2-2668-47c0-88d7-f759fef67675",
   "metadata": {
    "tags": []
   },
   "outputs": [],
   "source": [
    "ann.add(tf.keras.layers.Dense(units=6, activation=\"relu\"))"
   ]
  },
  {
   "cell_type": "markdown",
   "id": "dba4a5c5-320b-4439-bd83-ac7ba97efe1b",
   "metadata": {},
   "source": [
    "<p style=\"text-align: justify; text-justify: inter-word;\">\n",
    "   <font size=3>\n",
    "       Creating output layer. Since we have binary classes. We are using only one neuron\n",
    "       in the output layer. If you have multiple classes, then you should use number of \n",
    "       neuron which match the count of your classes. For example, if you have cat, dog,\n",
    "       cow classes then you will have 3 neurons in the output layer.\n",
    "       Usually in output layer we use <i>sigmoid</i> or <i>softmax</i> as the activation\n",
    "       function.\n",
    "   </font>\n",
    "</p>"
   ]
  },
  {
   "cell_type": "code",
   "execution_count": 15,
   "id": "f4454a99-e39e-49d6-94ea-43773c9b83b1",
   "metadata": {
    "tags": []
   },
   "outputs": [],
   "source": [
    "ann.add(tf.keras.layers.Dense(units=1, activation=\"sigmoid\"))"
   ]
  },
  {
   "cell_type": "code",
   "execution_count": 16,
   "id": "a9bf79a3-5834-4553-832a-f2913bfd2108",
   "metadata": {},
   "outputs": [],
   "source": [
    "# Compiling the ANN\n",
    "ann.compile(\n",
    "    optimizer=\"adam\",\n",
    "    loss=\"binary_crossentropy\",\n",
    "    metrics=[\"accuracy\"]\n",
    ")"
   ]
  },
  {
   "cell_type": "code",
   "execution_count": 19,
   "id": "75260deb-ec3a-4914-a360-03751da18a0d",
   "metadata": {
    "tags": []
   },
   "outputs": [
    {
     "name": "stdout",
     "output_type": "stream",
     "text": [
      "Epoch 1/25\n",
      "250/250 [==============================] - 6s 6ms/step - loss: 0.6926 - accuracy: 0.6233\n",
      "Epoch 2/25\n",
      "250/250 [==============================] - 1s 5ms/step - loss: 0.4997 - accuracy: 0.7933\n",
      "Epoch 3/25\n",
      "250/250 [==============================] - 1s 3ms/step - loss: 0.4601 - accuracy: 0.7960\n",
      "Epoch 4/25\n",
      "250/250 [==============================] - 1s 3ms/step - loss: 0.4413 - accuracy: 0.7975\n",
      "Epoch 5/25\n",
      "250/250 [==============================] - 1s 3ms/step - loss: 0.4276 - accuracy: 0.8025\n",
      "Epoch 6/25\n",
      "250/250 [==============================] - 1s 3ms/step - loss: 0.4144 - accuracy: 0.8165\n",
      "Epoch 7/25\n",
      "250/250 [==============================] - 1s 3ms/step - loss: 0.3982 - accuracy: 0.8263\n",
      "Epoch 8/25\n",
      "250/250 [==============================] - 1s 3ms/step - loss: 0.3818 - accuracy: 0.8364\n",
      "Epoch 9/25\n",
      "250/250 [==============================] - 1s 6ms/step - loss: 0.3690 - accuracy: 0.8451\n",
      "Epoch 10/25\n",
      "250/250 [==============================] - 1s 5ms/step - loss: 0.3613 - accuracy: 0.8503\n",
      "Epoch 11/25\n",
      "250/250 [==============================] - 1s 4ms/step - loss: 0.3569 - accuracy: 0.8512\n",
      "Epoch 12/25\n",
      "250/250 [==============================] - 1s 3ms/step - loss: 0.3543 - accuracy: 0.8551\n",
      "Epoch 13/25\n",
      "250/250 [==============================] - 1s 3ms/step - loss: 0.3520 - accuracy: 0.8550\n",
      "Epoch 14/25\n",
      "250/250 [==============================] - 1s 3ms/step - loss: 0.3506 - accuracy: 0.8562\n",
      "Epoch 15/25\n",
      "250/250 [==============================] - 1s 3ms/step - loss: 0.3490 - accuracy: 0.8568\n",
      "Epoch 16/25\n",
      "250/250 [==============================] - 1s 6ms/step - loss: 0.3484 - accuracy: 0.8568\n",
      "Epoch 17/25\n",
      "250/250 [==============================] - 1s 6ms/step - loss: 0.3471 - accuracy: 0.8576\n",
      "Epoch 18/25\n",
      "250/250 [==============================] - 1s 4ms/step - loss: 0.3463 - accuracy: 0.8583\n",
      "Epoch 19/25\n",
      "250/250 [==============================] - 1s 3ms/step - loss: 0.3457 - accuracy: 0.8595\n",
      "Epoch 20/25\n",
      "250/250 [==============================] - 1s 3ms/step - loss: 0.3449 - accuracy: 0.8579\n",
      "Epoch 21/25\n",
      "250/250 [==============================] - 1s 3ms/step - loss: 0.3444 - accuracy: 0.8571\n",
      "Epoch 22/25\n",
      "250/250 [==============================] - 1s 3ms/step - loss: 0.3437 - accuracy: 0.8594\n",
      "Epoch 23/25\n",
      "250/250 [==============================] - 1s 3ms/step - loss: 0.3436 - accuracy: 0.8571\n",
      "Epoch 24/25\n",
      "250/250 [==============================] - 1s 3ms/step - loss: 0.3430 - accuracy: 0.8596\n",
      "Epoch 25/25\n",
      "250/250 [==============================] - 1s 3ms/step - loss: 0.3427 - accuracy: 0.8597\n"
     ]
    },
    {
     "data": {
      "text/plain": [
       "<keras.callbacks.History at 0x201bf322510>"
      ]
     },
     "execution_count": 19,
     "metadata": {},
     "output_type": "execute_result"
    }
   ],
   "source": [
    "# Training the ANN on the training data set\n",
    "ann.fit(X_train, y_train, batch_size=32, epochs=25)"
   ]
  },
  {
   "cell_type": "code",
   "execution_count": 20,
   "id": "925c0ab8-f475-4f65-989f-b92eadf3664b",
   "metadata": {
    "tags": []
   },
   "outputs": [
    {
     "name": "stdout",
     "output_type": "stream",
     "text": [
      "Model: \"sequential\"\n",
      "_________________________________________________________________\n",
      " Layer (type)                Output Shape              Param #   \n",
      "=================================================================\n",
      " dense (Dense)               (32, 6)                   78        \n",
      "                                                                 \n",
      " dense_1 (Dense)             (32, 6)                   42        \n",
      "                                                                 \n",
      " dense_2 (Dense)             (32, 1)                   7         \n",
      "                                                                 \n",
      "=================================================================\n",
      "Total params: 127\n",
      "Trainable params: 127\n",
      "Non-trainable params: 0\n",
      "_________________________________________________________________\n"
     ]
    }
   ],
   "source": [
    "ann.summary()"
   ]
  },
  {
   "cell_type": "code",
   "execution_count": 21,
   "id": "0270379c-145d-458a-a33e-4c9a980c4cd1",
   "metadata": {
    "tags": []
   },
   "outputs": [],
   "source": [
    "sample = np.array([1.0, 0.0, 0.0, 600, 1, 40, 2, 60000, 2, 1, 1, 50000]).reshape(1, -1)"
   ]
  },
  {
   "cell_type": "code",
   "execution_count": 22,
   "id": "7102564e-1a32-494f-a369-f678a8b74586",
   "metadata": {
    "tags": []
   },
   "outputs": [
    {
     "name": "stdout",
     "output_type": "stream",
     "text": [
      "[[1.e+00 0.e+00 0.e+00 6.e+02 1.e+00 4.e+01 2.e+00 6.e+04 2.e+00 1.e+00\n",
      "  1.e+00 5.e+04]]\n"
     ]
    }
   ],
   "source": [
    "print(sample)"
   ]
  },
  {
   "cell_type": "code",
   "execution_count": 23,
   "id": "22956220-cba8-4749-bd9e-a625c560425e",
   "metadata": {
    "tags": []
   },
   "outputs": [
    {
     "data": {
      "text/plain": [
       "array([[ 0.98560362, -0.5698444 , -0.57369368, -0.52111599,  0.91601335,\n",
       "         0.10961719, -1.031415  , -0.2569057 ,  0.8095029 ,  0.64259497,\n",
       "         0.9687384 , -0.87203322]])"
      ]
     },
     "execution_count": 23,
     "metadata": {},
     "output_type": "execute_result"
    }
   ],
   "source": [
    "sample_data = sc_X_train.transform(sample)\n",
    "sample_data"
   ]
  },
  {
   "cell_type": "code",
   "execution_count": 24,
   "id": "b881c928-1237-4367-a292-98e6917c6c3a",
   "metadata": {
    "tags": []
   },
   "outputs": [
    {
     "name": "stdout",
     "output_type": "stream",
     "text": [
      "1/1 [==============================] - 0s 211ms/step\n",
      "[[0.04185354]]\n",
      "1/1 [==============================] - 0s 47ms/step\n",
      "[[False]]\n"
     ]
    }
   ],
   "source": [
    "print(ann.predict(sample_data))\n",
    "# Checking by setting some threshold limit\n",
    "print(ann.predict(sample_data) > 0.5)"
   ]
  },
  {
   "cell_type": "code",
   "execution_count": 25,
   "id": "8f754c0c-c130-468e-980e-21ef93283104",
   "metadata": {
    "tags": []
   },
   "outputs": [
    {
     "name": "stdout",
     "output_type": "stream",
     "text": [
      "63/63 [==============================] - 0s 2ms/step\n",
      "[[0 0]\n",
      " [0 1]\n",
      " [0 0]\n",
      " ...\n",
      " [0 0]\n",
      " [0 0]\n",
      " [0 0]]\n"
     ]
    }
   ],
   "source": [
    "# testing model using test data\n",
    "y_pred = ann.predict(X_test)\n",
    "y_pred = y_pred > 0.5\n",
    "print(np.concatenate((\n",
    "                      y_pred.reshape(len(y_pred), 1), \n",
    "                      y_test.reshape(len(y_test), 1)\n",
    "                     ), 1))"
   ]
  },
  {
   "cell_type": "code",
   "execution_count": 26,
   "id": "4f453cd4-ed2a-4da8-aea3-bdaf6a4134bf",
   "metadata": {
    "tags": []
   },
   "outputs": [
    {
     "name": "stdout",
     "output_type": "stream",
     "text": [
      "[[1511   84]\n",
      " [ 196  209]]\n"
     ]
    },
    {
     "data": {
      "text/plain": [
       "0.86"
      ]
     },
     "execution_count": 26,
     "metadata": {},
     "output_type": "execute_result"
    }
   ],
   "source": [
    "# Evaluation Metrices\n",
    "cm = confusion_matrix(y_test, y_pred)\n",
    "print(cm)\n",
    "accuracy_score(y_test, y_pred)"
   ]
  },
  {
   "cell_type": "code",
   "execution_count": null,
   "id": "e5a44daf-8ede-43d3-a19c-ee4a26b247cd",
   "metadata": {},
   "outputs": [],
   "source": []
  },
  {
   "cell_type": "code",
   "execution_count": null,
   "id": "3ea94c7d-98f7-49b0-85e6-ab543bf0353c",
   "metadata": {},
   "outputs": [],
   "source": []
  }
 ],
 "metadata": {
  "kernelspec": {
   "display_name": "Python 3 (ipykernel)",
   "language": "python",
   "name": "python3"
  },
  "language_info": {
   "codemirror_mode": {
    "name": "ipython",
    "version": 3
   },
   "file_extension": ".py",
   "mimetype": "text/x-python",
   "name": "python",
   "nbconvert_exporter": "python",
   "pygments_lexer": "ipython3",
   "version": "3.13.2"
  }
 },
 "nbformat": 4,
 "nbformat_minor": 5
}
