{
 "cells": [
  {
   "cell_type": "markdown",
   "id": "e1e4eb59-2924-43d2-b271-ace9d5e3ce68",
   "metadata": {},
   "source": [
    "<p style=\"color:#153462; \n",
    "          font-weight: bold; \n",
    "          font-size: 30px; \n",
    "          font-family: Gill Sans, sans-serif; \n",
    "          text-align: center;\">\n",
    "          RNN Implementation</p>"
   ]
  },
  {
   "cell_type": "markdown",
   "id": "650db8b6-849e-407c-b7ff-0911861556b3",
   "metadata": {},
   "source": [
    "<p style=\"text-align: justify; text-justify: inter-word;\">\n",
    "   <font size=3>\n",
    "       Using Recurrent Neural Network we are going to predict stock price of Google. For this entire experiment we are only\n",
    "       going to use \"Open\" price of the stock\n",
    "   </font>\n",
    "</p>"
   ]
  },
  {
   "cell_type": "markdown",
   "id": "811dbc98-a370-4ba6-84ac-803531778129",
   "metadata": {},
   "source": [
    "### <span style=\"color:#3C4048; font-weight: bold; font-size: 18px; font-family: Gill Sans, sans-serif;\">Importing Required Packages</span>"
   ]
  },
  {
   "cell_type": "code",
   "execution_count": 2,
   "id": "aa354946-45d7-4b47-9459-e3ca2b98cf3d",
   "metadata": {
    "tags": []
   },
   "outputs": [],
   "source": [
    "import pandas as pd\n",
    "import numpy as np\n",
    "import yfinance as yf\n",
    "from sklearn.preprocessing import MinMaxScaler\n",
    "from keras.models import Sequential\n",
    "from keras.layers import Dense, LSTM, Dropout\n",
    "import matplotlib.pyplot as plt"
   ]
  },
  {
   "cell_type": "markdown",
   "id": "af2bc580-27a0-4cb9-8238-14e2b52f59ff",
   "metadata": {},
   "source": [
    "### <span style=\"color:#3C4048; font-weight: bold; font-size: 18px; font-family: Gill Sans, sans-serif;\">Data Reading</span>"
   ]
  },
  {
   "cell_type": "code",
   "execution_count": 3,
   "id": "0ea28d47-d2a8-4085-bfea-574b479fa198",
   "metadata": {
    "tags": []
   },
   "outputs": [
    {
     "name": "stdout",
     "output_type": "stream",
     "text": [
      "[*********************100%%**********************]  1 of 1 completed\n"
     ]
    }
   ],
   "source": [
    "start_date = '2017-01-01'\n",
    "end_date = '2023-10-30' # Not considered latest date as needs for training\n",
    "df = yf.download('GOOG', start=start_date, end=end_date)"
   ]
  },
  {
   "cell_type": "code",
   "execution_count": 4,
   "id": "98abd071-71e5-41c7-af2e-90d23f62391c",
   "metadata": {
    "tags": []
   },
   "outputs": [
    {
     "data": {
      "text/html": [
       "<div>\n",
       "<style scoped>\n",
       "    .dataframe tbody tr th:only-of-type {\n",
       "        vertical-align: middle;\n",
       "    }\n",
       "\n",
       "    .dataframe tbody tr th {\n",
       "        vertical-align: top;\n",
       "    }\n",
       "\n",
       "    .dataframe thead th {\n",
       "        text-align: right;\n",
       "    }\n",
       "</style>\n",
       "<table border=\"1\" class=\"dataframe\">\n",
       "  <thead>\n",
       "    <tr style=\"text-align: right;\">\n",
       "      <th></th>\n",
       "      <th>Open</th>\n",
       "      <th>High</th>\n",
       "      <th>Low</th>\n",
       "      <th>Close</th>\n",
       "      <th>Adj Close</th>\n",
       "      <th>Volume</th>\n",
       "    </tr>\n",
       "    <tr>\n",
       "      <th>Date</th>\n",
       "      <th></th>\n",
       "      <th></th>\n",
       "      <th></th>\n",
       "      <th></th>\n",
       "      <th></th>\n",
       "      <th></th>\n",
       "    </tr>\n",
       "  </thead>\n",
       "  <tbody>\n",
       "    <tr>\n",
       "      <th>2017-01-03</th>\n",
       "      <td>38.940498</td>\n",
       "      <td>39.481499</td>\n",
       "      <td>38.790001</td>\n",
       "      <td>39.306999</td>\n",
       "      <td>39.306999</td>\n",
       "      <td>33146000</td>\n",
       "    </tr>\n",
       "    <tr>\n",
       "      <th>2017-01-04</th>\n",
       "      <td>39.417999</td>\n",
       "      <td>39.567001</td>\n",
       "      <td>39.158001</td>\n",
       "      <td>39.345001</td>\n",
       "      <td>39.345001</td>\n",
       "      <td>21460000</td>\n",
       "    </tr>\n",
       "    <tr>\n",
       "      <th>2017-01-05</th>\n",
       "      <td>39.304001</td>\n",
       "      <td>39.723999</td>\n",
       "      <td>39.250999</td>\n",
       "      <td>39.701000</td>\n",
       "      <td>39.701000</td>\n",
       "      <td>26704000</td>\n",
       "    </tr>\n",
       "    <tr>\n",
       "      <th>2017-01-06</th>\n",
       "      <td>39.763000</td>\n",
       "      <td>40.395000</td>\n",
       "      <td>39.610199</td>\n",
       "      <td>40.307499</td>\n",
       "      <td>40.307499</td>\n",
       "      <td>32804000</td>\n",
       "    </tr>\n",
       "    <tr>\n",
       "      <th>2017-01-09</th>\n",
       "      <td>40.320000</td>\n",
       "      <td>40.498299</td>\n",
       "      <td>40.141499</td>\n",
       "      <td>40.332500</td>\n",
       "      <td>40.332500</td>\n",
       "      <td>25492000</td>\n",
       "    </tr>\n",
       "  </tbody>\n",
       "</table>\n",
       "</div>"
      ],
      "text/plain": [
       "                 Open       High        Low      Close  Adj Close    Volume\n",
       "Date                                                                       \n",
       "2017-01-03  38.940498  39.481499  38.790001  39.306999  39.306999  33146000\n",
       "2017-01-04  39.417999  39.567001  39.158001  39.345001  39.345001  21460000\n",
       "2017-01-05  39.304001  39.723999  39.250999  39.701000  39.701000  26704000\n",
       "2017-01-06  39.763000  40.395000  39.610199  40.307499  40.307499  32804000\n",
       "2017-01-09  40.320000  40.498299  40.141499  40.332500  40.332500  25492000"
      ]
     },
     "execution_count": 4,
     "metadata": {},
     "output_type": "execute_result"
    }
   ],
   "source": [
    "df.head()"
   ]
  },
  {
   "cell_type": "code",
   "execution_count": 5,
   "id": "fe9e5a48-7777-445a-9dc3-17408b23ce59",
   "metadata": {
    "tags": []
   },
   "outputs": [
    {
     "data": {
      "text/plain": [
       "array([[ 38.94049835],\n",
       "       [ 39.41799927],\n",
       "       [ 39.30400085],\n",
       "       ...,\n",
       "       [129.77000427],\n",
       "       [124.47000122],\n",
       "       [124.02999878]])"
      ]
     },
     "execution_count": 5,
     "metadata": {},
     "output_type": "execute_result"
    }
   ],
   "source": [
    "training_set = df.iloc[:, 0:1].to_numpy() # Doing this way is important as it returns 2D array\n",
    "training_set"
   ]
  },
  {
   "cell_type": "code",
   "execution_count": 6,
   "id": "7928971f-1828-4929-910a-80cf50e22493",
   "metadata": {
    "tags": []
   },
   "outputs": [
    {
     "data": {
      "text/plain": [
       "array([[0.        ],\n",
       "       [0.00422855],\n",
       "       [0.00321903],\n",
       "       ...,\n",
       "       [0.80434906],\n",
       "       [0.75741439],\n",
       "       [0.75351791]])"
      ]
     },
     "execution_count": 6,
     "metadata": {},
     "output_type": "execute_result"
    }
   ],
   "source": [
    "# Scaling the data. It will scale values between 0 to 1\n",
    "sc = MinMaxScaler(feature_range=(0, 1))\n",
    "scaled_data_obj = sc.fit(training_set)\n",
    "training_set_scaled = scaled_data_obj.transform(training_set)\n",
    "training_set_scaled"
   ]
  },
  {
   "cell_type": "code",
   "execution_count": 8,
   "id": "78319e9d-578a-46d7-8d57-d896b4dece7a",
   "metadata": {
    "tags": []
   },
   "outputs": [],
   "source": [
    "# Just verifying\n",
    "#sc.inverse_transform(training_set_scaled)"
   ]
  },
  {
   "cell_type": "markdown",
   "id": "0f020b68-c468-442e-a42a-56965bc2a731",
   "metadata": {},
   "source": [
    "### <span style=\"color:#3C4048; font-weight: bold; font-size: 18px; font-family: Gill Sans, sans-serif;\">Creating Dataset</span>"
   ]
  },
  {
   "cell_type": "markdown",
   "id": "4e29395e-254c-49d3-b2f0-25c58ca9a71c",
   "metadata": {
    "tags": []
   },
   "source": [
    "Creating a data structure with 60 timestamp steps and with 1 ouput"
   ]
  },
  {
   "cell_type": "code",
   "execution_count": 9,
   "id": "5625f3a4-557d-45d3-9f69-892d7ace4007",
   "metadata": {
    "tags": []
   },
   "outputs": [],
   "source": [
    "# Demonstrating with simple code how it looks like\n",
    "X_demo = []\n",
    "y_demo = []\n",
    "nums = list(range(0, 8)) # 0 to 7 numbers\n",
    "for i in range(2, len(nums)):\n",
    "    X_demo.append(nums[i-2:i])\n",
    "    y_demo.append(nums[i])"
   ]
  },
  {
   "cell_type": "code",
   "execution_count": 10,
   "id": "e231089a-05b1-41bb-800c-38fd3a6fe136",
   "metadata": {
    "tags": []
   },
   "outputs": [
    {
     "data": {
      "text/plain": [
       "[[0, 1], [1, 2], [2, 3], [3, 4], [4, 5], [5, 6]]"
      ]
     },
     "execution_count": 10,
     "metadata": {},
     "output_type": "execute_result"
    }
   ],
   "source": [
    "X_demo"
   ]
  },
  {
   "cell_type": "code",
   "execution_count": 11,
   "id": "67b3ce5b-6f7d-4996-8a68-4508ff3eabce",
   "metadata": {
    "tags": []
   },
   "outputs": [
    {
     "data": {
      "text/plain": [
       "[2, 3, 4, 5, 6, 7]"
      ]
     },
     "execution_count": 11,
     "metadata": {},
     "output_type": "execute_result"
    }
   ],
   "source": [
    "y_demo"
   ]
  },
  {
   "cell_type": "code",
   "execution_count": 12,
   "id": "95efbe98-e284-48c7-b9b3-9fc073e44895",
   "metadata": {
    "tags": []
   },
   "outputs": [],
   "source": [
    "# Apply same strategy on the scaled dataset\n",
    "X_train = []\n",
    "y_train = []\n",
    "for i in range(60, len(training_set_scaled)):\n",
    "    # Taking 60 rows and selecting 0 so that it well get an array of 60 elements.\n",
    "    X_train.append(training_set_scaled[i-60:i, 0])\n",
    "    y_train.append(training_set_scaled[i])"
   ]
  },
  {
   "cell_type": "code",
   "execution_count": 13,
   "id": "dcb98bf2-699d-48f5-a090-0417f77c0c9c",
   "metadata": {
    "tags": []
   },
   "outputs": [],
   "source": [
    "X_train = np.array(X_train)\n",
    "y_train = np.array(y_train)"
   ]
  },
  {
   "cell_type": "code",
   "execution_count": 14,
   "id": "fcb42da9-b5fd-4db2-87e2-92dc3200dc9d",
   "metadata": {},
   "outputs": [
    {
     "name": "stdout",
     "output_type": "stream",
     "text": [
      "Shape of X_train: (1657, 60)\n",
      "Shape of y_train: (1657, 1)\n"
     ]
    }
   ],
   "source": [
    "print(f\"Shape of X_train: {X_train.shape}\")\n",
    "print(f\"Shape of y_train: {y_train.shape}\")"
   ]
  },
  {
   "cell_type": "code",
   "execution_count": 30,
   "id": "5cd7d74f-aad5-4d19-91de-f121c99aa77d",
   "metadata": {
    "tags": []
   },
   "outputs": [
    {
     "data": {
      "text/plain": [
       "(1657, 60)"
      ]
     },
     "execution_count": 30,
     "metadata": {},
     "output_type": "execute_result"
    }
   ],
   "source": [
    "X_train.shape"
   ]
  },
  {
   "cell_type": "code",
   "execution_count": 16,
   "id": "76b475c7-e942-4997-b3f1-b24f9b0a88fc",
   "metadata": {
    "tags": []
   },
   "outputs": [
    {
     "data": {
      "text/plain": [
       "(1657, 60, 1)"
      ]
     },
     "execution_count": 16,
     "metadata": {},
     "output_type": "execute_result"
    }
   ],
   "source": [
    "# Reshaping the trining array\n",
    "X_train=np.reshape(X_train, (X_train.shape[0], X_train.shape[1], 1))\n",
    "X_train.shape"
   ]
  },
  {
   "cell_type": "markdown",
   "id": "bdebf825-3962-408c-b802-91c2da39b5d7",
   "metadata": {
    "tags": []
   },
   "source": [
    "### <span style=\"color:#3C4048; font-weight: bold; font-size: 18px; font-family: Gill Sans, sans-serif;\">Building the RNN</span>"
   ]
  },
  {
   "cell_type": "code",
   "execution_count": 25,
   "id": "96cf8f2f-177c-475b-bb31-d4feed5db9ba",
   "metadata": {
    "tags": []
   },
   "outputs": [],
   "source": [
    "# Initializing the RNN\n",
    "regressor = Sequential()"
   ]
  },
  {
   "cell_type": "markdown",
   "id": "862f4e44-7925-4476-a50c-b5a576031d67",
   "metadata": {},
   "source": [
    "Below is the description about the parameter of <b>LSTM</b>:\n",
    "<p style=\"text-align: justify; text-justify: inter-word;\">\n",
    "   <font size=3>\n",
    "       <b>units=50:</b><br>\n",
    "       This parameter specifies the number of LSTM units (or neurons) in the layer. In this case, there are 50 LSTM units in the layer. \n",
    "       These units are responsible for capturing and learning patterns in the sequential data.\n",
    "       <br><br>\n",
    "       <b>return_sequences=True:</b><br>\n",
    "       This parameter determines whether to return the full sequence of outputs for each timestep or just the last output. When return_sequences\n",
    "       is set to True, the layer will output the full sequence, and when set to False (or omitted, as it defaults to False), only the last output\n",
    "       for each input sequence will be returned.\n",
    "       <br><br>\n",
    "       <b>input_shape=(X_train.shape[1], 1):</b><br>\n",
    "       This parameter specifies the shape of the input data that the LSTM layer will receive. In this case, the input shape is set to\n",
    "       (X_train.shape[1], 1), where X_train.shape[1] represents the number of timesteps in each input sequence, and 1 represents the number\n",
    "       of features at each timestep. The reshaping of the input data is done using np.reshape to match this input shape requirement.\n",
    "   </font>\n",
    "</p>\n"
   ]
  },
  {
   "cell_type": "code",
   "execution_count": 26,
   "id": "3c1180fb-87ac-46f2-86ba-37551c40fc1b",
   "metadata": {
    "tags": []
   },
   "outputs": [],
   "source": [
    "regressor.add(LSTM(units=50, return_sequences=True, input_shape=(X_train.shape[1], 1)))"
   ]
  },
  {
   "cell_type": "markdown",
   "id": "0a88ae80-7619-4e1a-b343-f77f643f809a",
   "metadata": {},
   "source": [
    "<p style=\"text-align: justify; text-justify: inter-word;\">\n",
    "   <font size=3>\n",
    "       The <b>Dropout</b> layer is a regularization technique used in neural networks to prevent overfitting. Overfitting occurs when a model \n",
    "       learns the training data too well, including its noise and specific patterns that may not generalize well to new, unseen data.Dropout helps\n",
    "       address this issue by randomly \"dropping out\" (i.e., setting to zero) a fraction of the input units (neurons) during training. This prevents\n",
    "       the network from relying too much on specific neurons and helps it generalize better to new data.\n",
    "   </font>\n",
    "</p>"
   ]
  },
  {
   "cell_type": "code",
   "execution_count": 27,
   "id": "7e8b78a0-39d6-47f2-9812-e1bce28bb562",
   "metadata": {
    "tags": []
   },
   "outputs": [],
   "source": [
    "regressor.add(Dropout(0.2))"
   ]
  },
  {
   "cell_type": "code",
   "execution_count": 28,
   "id": "a39d9052-0ac3-4c91-bdf9-36eb882a459a",
   "metadata": {
    "tags": []
   },
   "outputs": [],
   "source": [
    "# Adding two more layer with return_sequence is True\n",
    "regressor.add(LSTM(units=50, return_sequences=True))\n",
    "regressor.add(Dropout(0.2))\n",
    "\n",
    "regressor.add(LSTM(units=50, return_sequences=True))\n",
    "regressor.add(Dropout(0.2))"
   ]
  },
  {
   "cell_type": "code",
   "execution_count": 29,
   "id": "a073ff4d-97ea-4393-9125-f2ec509701a8",
   "metadata": {
    "tags": []
   },
   "outputs": [],
   "source": [
    "# Layer without return_sequence\n",
    "regressor.add(LSTM(units=50))\n",
    "regressor.add(Dropout(0.2))"
   ]
  },
  {
   "cell_type": "code",
   "execution_count": 30,
   "id": "5e8bd25d-39e0-4645-b0e3-d4fae474ffba",
   "metadata": {
    "tags": []
   },
   "outputs": [],
   "source": [
    "# Adding the last layer\n",
    "regressor.add(Dense(units=1))"
   ]
  },
  {
   "cell_type": "code",
   "execution_count": 31,
   "id": "19dcded0-2272-40d4-8f07-29a78f811950",
   "metadata": {},
   "outputs": [],
   "source": [
    "# Compiling the RNN\n",
    "regressor.compile(optimizer=\"adam\",\n",
    "                  loss=\"mean_squared_error\" # Since the output that we are predicting is a continous value\n",
    "                 )"
   ]
  },
  {
   "cell_type": "code",
   "execution_count": 32,
   "id": "788e47c6-b044-4665-8fdf-e305a1f7dbcc",
   "metadata": {
    "tags": []
   },
   "outputs": [
    {
     "name": "stdout",
     "output_type": "stream",
     "text": [
      "Epoch 1/100\n",
      "52/52 [==============================] - 21s 149ms/step - loss: 0.0236\n",
      "Epoch 2/100\n",
      "52/52 [==============================] - 8s 149ms/step - loss: 0.0046\n",
      "Epoch 3/100\n",
      "52/52 [==============================] - 8s 146ms/step - loss: 0.0050\n",
      "Epoch 4/100\n",
      "52/52 [==============================] - 8s 146ms/step - loss: 0.0044\n",
      "Epoch 5/100\n",
      "52/52 [==============================] - 8s 146ms/step - loss: 0.0042\n",
      "Epoch 6/100\n",
      "52/52 [==============================] - 8s 145ms/step - loss: 0.0042\n",
      "Epoch 7/100\n",
      "52/52 [==============================] - 8s 146ms/step - loss: 0.0044\n",
      "Epoch 8/100\n",
      "52/52 [==============================] - 8s 147ms/step - loss: 0.0038\n",
      "Epoch 9/100\n",
      "52/52 [==============================] - 8s 147ms/step - loss: 0.0036\n",
      "Epoch 10/100\n",
      "52/52 [==============================] - 7s 144ms/step - loss: 0.0036\n",
      "Epoch 11/100\n",
      "52/52 [==============================] - 6s 121ms/step - loss: 0.0036\n",
      "Epoch 12/100\n",
      "52/52 [==============================] - 8s 150ms/step - loss: 0.0033\n",
      "Epoch 13/100\n",
      "52/52 [==============================] - 8s 152ms/step - loss: 0.0037\n",
      "Epoch 14/100\n",
      "52/52 [==============================] - 8s 151ms/step - loss: 0.0030\n",
      "Epoch 15/100\n",
      "52/52 [==============================] - 8s 153ms/step - loss: 0.0031\n",
      "Epoch 16/100\n",
      "52/52 [==============================] - 8s 163ms/step - loss: 0.0028\n",
      "Epoch 17/100\n",
      "52/52 [==============================] - 8s 152ms/step - loss: 0.0026\n",
      "Epoch 18/100\n",
      "52/52 [==============================] - 8s 146ms/step - loss: 0.0033\n",
      "Epoch 19/100\n",
      "52/52 [==============================] - 8s 145ms/step - loss: 0.0026\n",
      "Epoch 20/100\n",
      "52/52 [==============================] - 8s 146ms/step - loss: 0.0026\n",
      "Epoch 21/100\n",
      "52/52 [==============================] - 7s 145ms/step - loss: 0.0026\n",
      "Epoch 22/100\n",
      "52/52 [==============================] - 8s 145ms/step - loss: 0.0026\n",
      "Epoch 23/100\n",
      "52/52 [==============================] - 7s 144ms/step - loss: 0.0024\n",
      "Epoch 24/100\n",
      "52/52 [==============================] - 8s 145ms/step - loss: 0.0024\n",
      "Epoch 25/100\n",
      "52/52 [==============================] - 8s 147ms/step - loss: 0.0023\n",
      "Epoch 26/100\n",
      "52/52 [==============================] - 7s 141ms/step - loss: 0.0023\n",
      "Epoch 27/100\n",
      "52/52 [==============================] - 8s 146ms/step - loss: 0.0026\n",
      "Epoch 28/100\n",
      "52/52 [==============================] - 8s 149ms/step - loss: 0.0028\n",
      "Epoch 29/100\n",
      "52/52 [==============================] - 7s 142ms/step - loss: 0.0025\n",
      "Epoch 30/100\n",
      "52/52 [==============================] - 7s 143ms/step - loss: 0.0020\n",
      "Epoch 31/100\n",
      "52/52 [==============================] - 7s 144ms/step - loss: 0.0020\n",
      "Epoch 32/100\n",
      "52/52 [==============================] - 7s 144ms/step - loss: 0.0021\n",
      "Epoch 33/100\n",
      "52/52 [==============================] - 8s 145ms/step - loss: 0.0020\n",
      "Epoch 34/100\n",
      "52/52 [==============================] - 8s 145ms/step - loss: 0.0019\n",
      "Epoch 35/100\n",
      "52/52 [==============================] - 7s 144ms/step - loss: 0.0024\n",
      "Epoch 36/100\n",
      "52/52 [==============================] - 7s 144ms/step - loss: 0.0020\n",
      "Epoch 37/100\n",
      "52/52 [==============================] - 7s 144ms/step - loss: 0.0018\n",
      "Epoch 38/100\n",
      "52/52 [==============================] - 7s 144ms/step - loss: 0.0020\n",
      "Epoch 39/100\n",
      "52/52 [==============================] - 8s 146ms/step - loss: 0.0019\n",
      "Epoch 40/100\n",
      "52/52 [==============================] - 7s 144ms/step - loss: 0.0019\n",
      "Epoch 41/100\n",
      "52/52 [==============================] - 8s 148ms/step - loss: 0.0018\n",
      "Epoch 42/100\n",
      "52/52 [==============================] - 8s 145ms/step - loss: 0.0018\n",
      "Epoch 43/100\n",
      "52/52 [==============================] - 7s 142ms/step - loss: 0.0018\n",
      "Epoch 44/100\n",
      "52/52 [==============================] - 7s 144ms/step - loss: 0.0020\n",
      "Epoch 45/100\n",
      "52/52 [==============================] - 7s 143ms/step - loss: 0.0018\n",
      "Epoch 46/100\n",
      "52/52 [==============================] - 8s 145ms/step - loss: 0.0017\n",
      "Epoch 47/100\n",
      "52/52 [==============================] - 8s 147ms/step - loss: 0.0017\n",
      "Epoch 48/100\n",
      "52/52 [==============================] - 7s 143ms/step - loss: 0.0018\n",
      "Epoch 49/100\n",
      "52/52 [==============================] - 7s 143ms/step - loss: 0.0016\n",
      "Epoch 50/100\n",
      "52/52 [==============================] - 7s 142ms/step - loss: 0.0015\n",
      "Epoch 51/100\n",
      "52/52 [==============================] - 8s 147ms/step - loss: 0.0017\n",
      "Epoch 52/100\n",
      "52/52 [==============================] - 8s 149ms/step - loss: 0.0015\n",
      "Epoch 53/100\n",
      "52/52 [==============================] - 7s 144ms/step - loss: 0.0017\n",
      "Epoch 54/100\n",
      "52/52 [==============================] - 7s 144ms/step - loss: 0.0016\n",
      "Epoch 55/100\n",
      "52/52 [==============================] - 7s 143ms/step - loss: 0.0016\n",
      "Epoch 56/100\n",
      "52/52 [==============================] - 7s 141ms/step - loss: 0.0017\n",
      "Epoch 57/100\n",
      "52/52 [==============================] - 7s 144ms/step - loss: 0.0016\n",
      "Epoch 58/100\n",
      "52/52 [==============================] - 7s 143ms/step - loss: 0.0016\n",
      "Epoch 59/100\n",
      "52/52 [==============================] - 7s 141ms/step - loss: 0.0014\n",
      "Epoch 60/100\n",
      "52/52 [==============================] - 7s 141ms/step - loss: 0.0014\n",
      "Epoch 61/100\n",
      "52/52 [==============================] - 7s 142ms/step - loss: 0.0015\n",
      "Epoch 62/100\n",
      "52/52 [==============================] - 7s 143ms/step - loss: 0.0016\n",
      "Epoch 63/100\n",
      "52/52 [==============================] - 7s 141ms/step - loss: 0.0014\n",
      "Epoch 64/100\n",
      "52/52 [==============================] - 7s 141ms/step - loss: 0.0014\n",
      "Epoch 65/100\n",
      "52/52 [==============================] - 7s 144ms/step - loss: 0.0014\n",
      "Epoch 66/100\n",
      "52/52 [==============================] - 7s 144ms/step - loss: 0.0015\n",
      "Epoch 67/100\n",
      "52/52 [==============================] - 7s 140ms/step - loss: 0.0015\n",
      "Epoch 68/100\n",
      "52/52 [==============================] - 7s 143ms/step - loss: 0.0015\n",
      "Epoch 69/100\n",
      "52/52 [==============================] - 8s 148ms/step - loss: 0.0013\n",
      "Epoch 70/100\n",
      "52/52 [==============================] - 8s 152ms/step - loss: 0.0013\n",
      "Epoch 71/100\n",
      "52/52 [==============================] - 8s 149ms/step - loss: 0.0013\n",
      "Epoch 72/100\n",
      "52/52 [==============================] - 8s 151ms/step - loss: 0.0013\n",
      "Epoch 73/100\n",
      "52/52 [==============================] - 8s 148ms/step - loss: 0.0013\n",
      "Epoch 74/100\n",
      "52/52 [==============================] - 8s 146ms/step - loss: 0.0014\n",
      "Epoch 75/100\n",
      "52/52 [==============================] - 8s 151ms/step - loss: 0.0013\n",
      "Epoch 76/100\n",
      "52/52 [==============================] - 8s 147ms/step - loss: 0.0014\n",
      "Epoch 77/100\n",
      "52/52 [==============================] - 8s 149ms/step - loss: 0.0013\n",
      "Epoch 78/100\n",
      "52/52 [==============================] - 8s 147ms/step - loss: 0.0014\n",
      "Epoch 79/100\n",
      "52/52 [==============================] - 8s 157ms/step - loss: 0.0015\n",
      "Epoch 80/100\n",
      "52/52 [==============================] - 8s 155ms/step - loss: 0.0012\n",
      "Epoch 81/100\n",
      "52/52 [==============================] - 8s 149ms/step - loss: 0.0012\n",
      "Epoch 82/100\n",
      "52/52 [==============================] - 8s 145ms/step - loss: 0.0013\n",
      "Epoch 83/100\n",
      "52/52 [==============================] - 7s 143ms/step - loss: 0.0011\n",
      "Epoch 84/100\n",
      "52/52 [==============================] - 7s 144ms/step - loss: 0.0013\n",
      "Epoch 85/100\n",
      "52/52 [==============================] - 7s 142ms/step - loss: 0.0014\n",
      "Epoch 86/100\n",
      "52/52 [==============================] - 7s 143ms/step - loss: 0.0016\n",
      "Epoch 87/100\n",
      "52/52 [==============================] - 7s 141ms/step - loss: 0.0012\n",
      "Epoch 88/100\n",
      "52/52 [==============================] - 7s 143ms/step - loss: 0.0013\n",
      "Epoch 89/100\n",
      "52/52 [==============================] - 7s 143ms/step - loss: 0.0012\n",
      "Epoch 90/100\n",
      "52/52 [==============================] - 8s 145ms/step - loss: 0.0011\n",
      "Epoch 91/100\n",
      "52/52 [==============================] - 7s 143ms/step - loss: 0.0011\n",
      "Epoch 92/100\n",
      "52/52 [==============================] - 7s 141ms/step - loss: 0.0011\n",
      "Epoch 93/100\n",
      "52/52 [==============================] - 7s 143ms/step - loss: 0.0013\n",
      "Epoch 94/100\n",
      "52/52 [==============================] - 8s 145ms/step - loss: 0.0011\n",
      "Epoch 95/100\n",
      "52/52 [==============================] - 7s 144ms/step - loss: 0.0013\n",
      "Epoch 96/100\n",
      "52/52 [==============================] - 7s 142ms/step - loss: 0.0012\n",
      "Epoch 97/100\n",
      "52/52 [==============================] - 8s 146ms/step - loss: 0.0012\n",
      "Epoch 98/100\n",
      "52/52 [==============================] - 7s 142ms/step - loss: 0.0011\n",
      "Epoch 99/100\n",
      "52/52 [==============================] - 7s 140ms/step - loss: 0.0014\n",
      "Epoch 100/100\n",
      "52/52 [==============================] - 7s 141ms/step - loss: 0.0011\n"
     ]
    },
    {
     "data": {
      "text/plain": [
       "<keras.callbacks.History at 0x1caafa9de50>"
      ]
     },
     "execution_count": 32,
     "metadata": {},
     "output_type": "execute_result"
    }
   ],
   "source": [
    "# Fitting the RNN to the trainingset\n",
    "regressor.fit(X_train, y_train, epochs=100, batch_size=32)"
   ]
  },
  {
   "cell_type": "code",
   "execution_count": 33,
   "id": "b261fa8f-1df3-433c-a197-c28e39686137",
   "metadata": {
    "tags": []
   },
   "outputs": [
    {
     "name": "stdout",
     "output_type": "stream",
     "text": [
      "[*********************100%%**********************]  1 of 1 completed\n"
     ]
    }
   ],
   "source": [
    "# Getting the stock price data for Nov 2023 on which we are going perform validation\n",
    "test_start_date = \"2023-10-31\"\n",
    "test_end_date = \"2023-11-30\"\n",
    "dataset_test = yf.download('GOOG', start=test_start_date, end=test_end_date)"
   ]
  },
  {
   "cell_type": "code",
   "execution_count": 34,
   "id": "8b0d519a-36af-4a30-9ba9-1e6be4773190",
   "metadata": {
    "tags": []
   },
   "outputs": [
    {
     "data": {
      "text/plain": [
       "(21, 6)"
      ]
     },
     "execution_count": 34,
     "metadata": {},
     "output_type": "execute_result"
    }
   ],
   "source": [
    "dataset_test.shape"
   ]
  },
  {
   "cell_type": "code",
   "execution_count": 35,
   "id": "24ab2743-d3a5-4c73-86ff-216f3c289522",
   "metadata": {
    "tags": []
   },
   "outputs": [
    {
     "data": {
      "text/plain": [
       "array([[126.26999664],\n",
       "       [125.33999634],\n",
       "       [129.55999756],\n",
       "       [129.08999634],\n",
       "       [130.22000122],\n",
       "       [131.97999573],\n",
       "       [132.36000061],\n",
       "       [133.36000061],\n",
       "       [131.52999878],\n",
       "       [133.36000061],\n",
       "       [135.6499939 ],\n",
       "       [136.63999939],\n",
       "       [136.96000671],\n",
       "       [137.82000732],\n",
       "       [135.5       ],\n",
       "       [137.94000244],\n",
       "       [139.1000061 ],\n",
       "       [139.53999329],\n",
       "       [137.57000732],\n",
       "       [137.63000488],\n",
       "       [138.98500061]])"
      ]
     },
     "execution_count": 35,
     "metadata": {},
     "output_type": "execute_result"
    }
   ],
   "source": [
    "real_stock_price = dataset_test.iloc[:, 0:1].to_numpy() # Doing this way is important as it returns 2D array\n",
    "real_stock_price"
   ]
  },
  {
   "cell_type": "code",
   "execution_count": 36,
   "id": "65bf9280-8d02-477d-9cd7-0ab2236c50a5",
   "metadata": {
    "tags": []
   },
   "outputs": [],
   "source": [
    "# Since we are considering last 60 days to predict current day data. our test dataset has dependency on training data\n",
    "# For example 2023-10-31 date has dependency on previous 60 days\n",
    "dataset_total = pd.concat((df[\"Open\"], dataset_test[\"Open\"]), axis=0)"
   ]
  },
  {
   "cell_type": "code",
   "execution_count": 37,
   "id": "ae0bbfde-6ea7-44e4-ae5f-dbc9a2676e35",
   "metadata": {
    "tags": []
   },
   "outputs": [],
   "source": [
    "# Preparing input data for test dataset, it seems considering all the dependency values from the training set\n",
    "inputs = dataset_total[len(dataset_total)-len(dataset_test)-60:].values"
   ]
  },
  {
   "cell_type": "code",
   "execution_count": 38,
   "id": "acbc5309-6289-423b-88c8-231f79b67925",
   "metadata": {
    "tags": []
   },
   "outputs": [],
   "source": [
    "inputs = inputs.reshape(-1, 1)\n",
    "inputs = scaled_data_obj.transform(inputs)"
   ]
  },
  {
   "cell_type": "code",
   "execution_count": 39,
   "id": "403dcdd0-7602-42e8-9fe8-be887f55b8e1",
   "metadata": {
    "tags": []
   },
   "outputs": [],
   "source": [
    "# Apply same strategy on the scaled dataset\n",
    "X_test = []\n",
    "for i in range(60, len(inputs)):\n",
    "    # Taking 60 rows and selecting 0 so that it  well get an array of 60 elements.\n",
    "    X_test.append(inputs[i-60:i, 0])"
   ]
  },
  {
   "cell_type": "code",
   "execution_count": 40,
   "id": "c41b75e8-e2cf-4772-ae21-f37d8ef43362",
   "metadata": {
    "tags": []
   },
   "outputs": [
    {
     "data": {
      "text/plain": [
       "(21, 60, 1)"
      ]
     },
     "execution_count": 40,
     "metadata": {},
     "output_type": "execute_result"
    }
   ],
   "source": [
    "X_test = np.array(X_test)\n",
    "X_test=np.reshape(X_test, (X_test.shape[0], X_test.shape[1], 1))\n",
    "X_test.shape"
   ]
  },
  {
   "cell_type": "code",
   "execution_count": 41,
   "id": "f63d0126-0ee6-4b26-98ff-cd22006ca2a5",
   "metadata": {
    "tags": []
   },
   "outputs": [
    {
     "name": "stdout",
     "output_type": "stream",
     "text": [
      "1/1 [==============================] - 3s 3s/step\n"
     ]
    }
   ],
   "source": [
    "pred_stock_price = regressor.predict(X_test)"
   ]
  },
  {
   "cell_type": "code",
   "execution_count": 43,
   "id": "4f520907-1bff-4c5c-8e59-878f8371336e",
   "metadata": {
    "tags": []
   },
   "outputs": [
    {
     "data": {
      "text/plain": [
       "array([[125.90678],\n",
       "       [125.56707],\n",
       "       [125.52966],\n",
       "       [127.04863],\n",
       "       [127.81814],\n",
       "       [128.3381 ],\n",
       "       [129.25015],\n",
       "       [129.98732],\n",
       "       [130.82503],\n",
       "       [130.61627],\n",
       "       [131.20724],\n",
       "       [132.76086],\n",
       "       [134.19124],\n",
       "       [135.01881],\n",
       "       [135.70612],\n",
       "       [135.0767 ],\n",
       "       [135.6217 ],\n",
       "       [136.62375],\n",
       "       [137.35089],\n",
       "       [136.78899],\n",
       "       [136.32558]], dtype=float32)"
      ]
     },
     "execution_count": 43,
     "metadata": {},
     "output_type": "execute_result"
    }
   ],
   "source": [
    "trans_pred_stock_price = scaled_data_obj.inverse_transform(pred_stock_price)\n",
    "trans_pred_stock_price"
   ]
  },
  {
   "cell_type": "markdown",
   "id": "dcba3544-7da1-466c-a585-ec8840381643",
   "metadata": {},
   "source": [
    "#### Visualizing Results"
   ]
  },
  {
   "cell_type": "code",
   "execution_count": 45,
   "id": "c5c6cfab-c491-43d1-888e-a9a98a0909d9",
   "metadata": {
    "tags": []
   },
   "outputs": [
    {
     "data": {
      "image/png": "[encoded data removed]",
      "text/plain": [
       "<Figure size 640x480 with 1 Axes>"
      ]
     },
     "metadata": {},
     "output_type": "display_data"
    }
   ],
   "source": [
    "plt.plot(real_stock_price, color=\"red\", label=\"Real Google Stock Price\")\n",
    "plt.plot(trans_pred_stock_price, color=\"blue\", label=\"Predicted Google Stock Price\")\n",
    "plt.title(\"Google Stock Prediction\")\n",
    "plt.xlabel(\"Time\")\n",
    "plt.ylabel(\"Google Stock Price\")\n",
    "plt.show()"
   ]
  },
  {
   "cell_type": "code",
   "execution_count": 46,
   "id": "b8300e0b-7819-4844-be4d-521b0f0e715d",
   "metadata": {},
   "outputs": [
    {
     "data": {
      "text/plain": [
       "(array([[126.26999664],\n",
       "        [125.33999634],\n",
       "        [129.55999756],\n",
       "        [129.08999634],\n",
       "        [130.22000122],\n",
       "        [131.97999573],\n",
       "        [132.36000061],\n",
       "        [133.36000061],\n",
       "        [131.52999878],\n",
       "        [133.36000061],\n",
       "        [135.6499939 ],\n",
       "        [136.63999939],\n",
       "        [136.96000671],\n",
       "        [137.82000732],\n",
       "        [135.5       ],\n",
       "        [137.94000244],\n",
       "        [139.1000061 ],\n",
       "        [139.53999329],\n",
       "        [137.57000732],\n",
       "        [137.63000488],\n",
       "        [138.98500061]]),\n",
       " array([[125.90678],\n",
       "        [125.56707],\n",
       "        [125.52966],\n",
       "        [127.04863],\n",
       "        [127.81814],\n",
       "        [128.3381 ],\n",
       "        [129.25015],\n",
       "        [129.98732],\n",
       "        [130.82503],\n",
       "        [130.61627],\n",
       "        [131.20724],\n",
       "        [132.76086],\n",
       "        [134.19124],\n",
       "        [135.01881],\n",
       "        [135.70612],\n",
       "        [135.0767 ],\n",
       "        [135.6217 ],\n",
       "        [136.62375],\n",
       "        [137.35089],\n",
       "        [136.78899],\n",
       "        [136.32558]], dtype=float32))"
      ]
     },
     "execution_count": 46,
     "metadata": {},
     "output_type": "execute_result"
    }
   ],
   "source": [
    "(real_stock_price, trans_pred_stock_price)"
   ]
  },
  {
   "cell_type": "code",
   "execution_count": null,
   "id": "8e924826-59ef-4492-b704-2e1897919143",
   "metadata": {},
   "outputs": [],
   "source": []
  },
  {
   "cell_type": "code",
   "execution_count": null,
   "id": "d7870b4a-7114-4022-9e5f-4fec1502b974",
   "metadata": {},
   "outputs": [],
   "source": [
    "\n"
   ]
  }
 ],
 "metadata": {
  "kernelspec": {
   "display_name": "Python 3 (ipykernel)",
   "language": "python",
   "name": "python3"
  },
  "language_info": {
   "codemirror_mode": {
    "name": "ipython",
    "version": 3
   },
   "file_extension": ".py",
   "mimetype": "text/x-python",
   "name": "python",
   "nbconvert_exporter": "python",
   "pygments_lexer": "ipython3",
   "version": "3.11.2"
  }
 },
 "nbformat": 4,
 "nbformat_minor": 5
}
