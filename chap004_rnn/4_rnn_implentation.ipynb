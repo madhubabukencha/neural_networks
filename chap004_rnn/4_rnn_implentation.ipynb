{
 "cells": [
  {
   "cell_type": "markdown",
   "id": "e1e4eb59-2924-43d2-b271-ace9d5e3ce68",
   "metadata": {},
   "source": [
    "<p style=\"color:#153462; \n",
    "          font-weight: bold; \n",
    "          font-size: 30px; \n",
    "          font-family: Gill Sans, sans-serif; \n",
    "          text-align: center;\">\n",
    "          RNN Implementation</p>"
   ]
  },
  {
   "cell_type": "markdown",
   "id": "650db8b6-849e-407c-b7ff-0911861556b3",
   "metadata": {},
   "source": [
    "<p style=\"text-align: justify; text-justify: inter-word;\">\n",
    "   <font size=3>\n",
    "       Using Recurrent Neural Network we are going to predict stock price of Google\n",
    "   </font>\n",
    "</p>"
   ]
  },
  {
   "cell_type": "markdown",
   "id": "811dbc98-a370-4ba6-84ac-803531778129",
   "metadata": {},
   "source": [
    "### <span style=\"color:#3C4048; font-weight: bold; font-size: 18px; font-family: Gill Sans, sans-serif;\">Importing Required Packages</span>"
   ]
  },
  {
   "cell_type": "code",
   "execution_count": 1,
   "id": "aa354946-45d7-4b47-9459-e3ca2b98cf3d",
   "metadata": {
    "tags": []
   },
   "outputs": [],
   "source": [
    "import pandas as pd\n",
    "import numpy as np\n",
    "import yfinance as yf\n",
    "from sklearn.preprocessing import MinMaxScaler\n",
    "from keras.models import Sequential\n",
    "from keras.layers import Dense, LSTM, Dropout"
   ]
  },
  {
   "cell_type": "markdown",
   "id": "af2bc580-27a0-4cb9-8238-14e2b52f59ff",
   "metadata": {},
   "source": [
    "### <span style=\"color:#3C4048; font-weight: bold; font-size: 18px; font-family: Gill Sans, sans-serif;\">Data Reading</span>"
   ]
  },
  {
   "cell_type": "code",
   "execution_count": 2,
   "id": "0ea28d47-d2a8-4085-bfea-574b479fa198",
   "metadata": {
    "tags": []
   },
   "outputs": [
    {
     "name": "stdout",
     "output_type": "stream",
     "text": [
      "[*********************100%%**********************]  1 of 1 completed\n"
     ]
    }
   ],
   "source": [
    "start_date = '2017-01-01'\n",
    "end_date = '2022-12-31'\n",
    "df = yf.download('GOOG', start=start_date, end=end_date)"
   ]
  },
  {
   "cell_type": "code",
   "execution_count": 3,
   "id": "98abd071-71e5-41c7-af2e-90d23f62391c",
   "metadata": {
    "tags": []
   },
   "outputs": [
    {
     "data": {
      "text/html": [
       "<div>\n",
       "<style scoped>\n",
       "    .dataframe tbody tr th:only-of-type {\n",
       "        vertical-align: middle;\n",
       "    }\n",
       "\n",
       "    .dataframe tbody tr th {\n",
       "        vertical-align: top;\n",
       "    }\n",
       "\n",
       "    .dataframe thead th {\n",
       "        text-align: right;\n",
       "    }\n",
       "</style>\n",
       "<table border=\"1\" class=\"dataframe\">\n",
       "  <thead>\n",
       "    <tr style=\"text-align: right;\">\n",
       "      <th></th>\n",
       "      <th>Open</th>\n",
       "      <th>High</th>\n",
       "      <th>Low</th>\n",
       "      <th>Close</th>\n",
       "      <th>Adj Close</th>\n",
       "      <th>Volume</th>\n",
       "    </tr>\n",
       "    <tr>\n",
       "      <th>Date</th>\n",
       "      <th></th>\n",
       "      <th></th>\n",
       "      <th></th>\n",
       "      <th></th>\n",
       "      <th></th>\n",
       "      <th></th>\n",
       "    </tr>\n",
       "  </thead>\n",
       "  <tbody>\n",
       "    <tr>\n",
       "      <th>2017-01-03</th>\n",
       "      <td>38.940498</td>\n",
       "      <td>39.481499</td>\n",
       "      <td>38.790001</td>\n",
       "      <td>39.306999</td>\n",
       "      <td>39.306999</td>\n",
       "      <td>33146000</td>\n",
       "    </tr>\n",
       "    <tr>\n",
       "      <th>2017-01-04</th>\n",
       "      <td>39.417999</td>\n",
       "      <td>39.567001</td>\n",
       "      <td>39.158001</td>\n",
       "      <td>39.345001</td>\n",
       "      <td>39.345001</td>\n",
       "      <td>21460000</td>\n",
       "    </tr>\n",
       "    <tr>\n",
       "      <th>2017-01-05</th>\n",
       "      <td>39.304001</td>\n",
       "      <td>39.723999</td>\n",
       "      <td>39.250999</td>\n",
       "      <td>39.701000</td>\n",
       "      <td>39.701000</td>\n",
       "      <td>26704000</td>\n",
       "    </tr>\n",
       "    <tr>\n",
       "      <th>2017-01-06</th>\n",
       "      <td>39.763000</td>\n",
       "      <td>40.395000</td>\n",
       "      <td>39.610199</td>\n",
       "      <td>40.307499</td>\n",
       "      <td>40.307499</td>\n",
       "      <td>32804000</td>\n",
       "    </tr>\n",
       "    <tr>\n",
       "      <th>2017-01-09</th>\n",
       "      <td>40.320000</td>\n",
       "      <td>40.498299</td>\n",
       "      <td>40.141499</td>\n",
       "      <td>40.332500</td>\n",
       "      <td>40.332500</td>\n",
       "      <td>25492000</td>\n",
       "    </tr>\n",
       "  </tbody>\n",
       "</table>\n",
       "</div>"
      ],
      "text/plain": [
       "                 Open       High        Low      Close  Adj Close    Volume\n",
       "Date                                                                       \n",
       "2017-01-03  38.940498  39.481499  38.790001  39.306999  39.306999  33146000\n",
       "2017-01-04  39.417999  39.567001  39.158001  39.345001  39.345001  21460000\n",
       "2017-01-05  39.304001  39.723999  39.250999  39.701000  39.701000  26704000\n",
       "2017-01-06  39.763000  40.395000  39.610199  40.307499  40.307499  32804000\n",
       "2017-01-09  40.320000  40.498299  40.141499  40.332500  40.332500  25492000"
      ]
     },
     "execution_count": 3,
     "metadata": {},
     "output_type": "execute_result"
    }
   ],
   "source": [
    "df.head()"
   ]
  },
  {
   "cell_type": "code",
   "execution_count": 4,
   "id": "fe9e5a48-7777-445a-9dc3-17408b23ce59",
   "metadata": {
    "tags": []
   },
   "outputs": [
    {
     "data": {
      "text/plain": [
       "array([[38.94049835],\n",
       "       [39.41799927],\n",
       "       [39.30400085],\n",
       "       ...,\n",
       "       [87.5       ],\n",
       "       [87.02999878],\n",
       "       [87.36499786]])"
      ]
     },
     "execution_count": 4,
     "metadata": {},
     "output_type": "execute_result"
    }
   ],
   "source": [
    "training_set = df.iloc[:, 0:1].to_numpy() # Doing this way is important as it returns 2D array\n",
    "training_set"
   ]
  },
  {
   "cell_type": "code",
   "execution_count": 5,
   "id": "7928971f-1828-4929-910a-80cf50e22493",
   "metadata": {
    "tags": []
   },
   "outputs": [
    {
     "data": {
      "text/plain": [
       "array([[0.        ],\n",
       "       [0.00422855],\n",
       "       [0.00321903],\n",
       "       ...,\n",
       "       [0.43002314],\n",
       "       [0.425861  ],\n",
       "       [0.42882762]])"
      ]
     },
     "execution_count": 5,
     "metadata": {},
     "output_type": "execute_result"
    }
   ],
   "source": [
    "# Scaling the data. It will scale values between 0 to 1\n",
    "sc = MinMaxScaler(feature_range=(0, 1))\n",
    "training_set_scaled = sc.fit_transform(training_set)\n",
    "training_set_scaled"
   ]
  },
  {
   "cell_type": "markdown",
   "id": "0f020b68-c468-442e-a42a-56965bc2a731",
   "metadata": {},
   "source": [
    "### <span style=\"color:#3C4048; font-weight: bold; font-size: 18px; font-family: Gill Sans, sans-serif;\">Creating Dataset</span>"
   ]
  },
  {
   "cell_type": "markdown",
   "id": "4e29395e-254c-49d3-b2f0-25c58ca9a71c",
   "metadata": {
    "tags": []
   },
   "source": [
    "Creating a data structure with 60 timestamp steps and with 1 ouput"
   ]
  },
  {
   "cell_type": "code",
   "execution_count": 6,
   "id": "5625f3a4-557d-45d3-9f69-892d7ace4007",
   "metadata": {
    "tags": []
   },
   "outputs": [],
   "source": [
    "# Demonstrating with simple code how it looks like\n",
    "X_demo = []\n",
    "y_demo = []\n",
    "nums = list(range(0, 8)) # 0 to 7 numbers\n",
    "for i in range(2, len(nums)):\n",
    "    X_demo.append(nums[i-2:i])\n",
    "    y_demo.append(nums[i])"
   ]
  },
  {
   "cell_type": "code",
   "execution_count": 7,
   "id": "e231089a-05b1-41bb-800c-38fd3a6fe136",
   "metadata": {
    "tags": []
   },
   "outputs": [
    {
     "data": {
      "text/plain": [
       "[[0, 1], [1, 2], [2, 3], [3, 4], [4, 5], [5, 6]]"
      ]
     },
     "execution_count": 7,
     "metadata": {},
     "output_type": "execute_result"
    }
   ],
   "source": [
    "X_demo"
   ]
  },
  {
   "cell_type": "code",
   "execution_count": 8,
   "id": "67b3ce5b-6f7d-4996-8a68-4508ff3eabce",
   "metadata": {
    "tags": []
   },
   "outputs": [
    {
     "data": {
      "text/plain": [
       "[2, 3, 4, 5, 6, 7]"
      ]
     },
     "execution_count": 8,
     "metadata": {},
     "output_type": "execute_result"
    }
   ],
   "source": [
    "y_demo"
   ]
  },
  {
   "cell_type": "code",
   "execution_count": 9,
   "id": "95efbe98-e284-48c7-b9b3-9fc073e44895",
   "metadata": {
    "tags": []
   },
   "outputs": [],
   "source": [
    "# Apply same strategy on the scaled dataset\n",
    "X_train = []\n",
    "y_train = []\n",
    "for i in range(60, len(training_set_scaled)):\n",
    "    # Taking 60 rows and selecting 0 column so that it well get an array of 60 elements.\n",
    "    X_train.append(training_set_scaled[i-60:i, 0])\n",
    "    y_train.append(i)"
   ]
  },
  {
   "cell_type": "code",
   "execution_count": 10,
   "id": "dcb98bf2-699d-48f5-a090-0417f77c0c9c",
   "metadata": {
    "tags": []
   },
   "outputs": [],
   "source": [
    "X_train = np.array(X_train)\n",
    "y_train = np.array(y_train)"
   ]
  },
  {
   "cell_type": "code",
   "execution_count": 11,
   "id": "fcb42da9-b5fd-4db2-87e2-92dc3200dc9d",
   "metadata": {},
   "outputs": [
    {
     "name": "stdout",
     "output_type": "stream",
     "text": [
      "Shape of X_train: (1450, 60)\n",
      "Shape of y_train: (1450,)\n"
     ]
    }
   ],
   "source": [
    "print(f\"Shape of X_train: {X_train.shape}\")\n",
    "print(f\"Shape of y_train: {y_train.shape}\")"
   ]
  },
  {
   "cell_type": "code",
   "execution_count": 12,
   "id": "5cd7d74f-aad5-4d19-91de-f121c99aa77d",
   "metadata": {
    "tags": []
   },
   "outputs": [
    {
     "data": {
      "text/plain": [
       "(1450, 60)"
      ]
     },
     "execution_count": 12,
     "metadata": {},
     "output_type": "execute_result"
    }
   ],
   "source": [
    "X_train.shape"
   ]
  },
  {
   "cell_type": "code",
   "execution_count": 13,
   "id": "76b475c7-e942-4997-b3f1-b24f9b0a88fc",
   "metadata": {
    "tags": []
   },
   "outputs": [
    {
     "data": {
      "text/plain": [
       "(1450, 60, 1)"
      ]
     },
     "execution_count": 13,
     "metadata": {},
     "output_type": "execute_result"
    }
   ],
   "source": [
    "# Reshaping the trining array\n",
    "X_train=np.reshape(X_train, (X_train.shape[0], X_train.shape[1], 1))\n",
    "X_train.shape"
   ]
  },
  {
   "cell_type": "markdown",
   "id": "bdebf825-3962-408c-b802-91c2da39b5d7",
   "metadata": {
    "tags": []
   },
   "source": [
    "### <span style=\"color:#3C4048; font-weight: bold; font-size: 18px; font-family: Gill Sans, sans-serif;\">Building the RNN</span>"
   ]
  },
  {
   "cell_type": "code",
   "execution_count": 14,
   "id": "96cf8f2f-177c-475b-bb31-d4feed5db9ba",
   "metadata": {
    "tags": []
   },
   "outputs": [],
   "source": [
    "# Initializing the RNN\n",
    "regressor = Sequential()"
   ]
  },
  {
   "cell_type": "markdown",
   "id": "862f4e44-7925-4476-a50c-b5a576031d67",
   "metadata": {},
   "source": [
    "Below is the description about the parameter of <b>LSTM</b>:\n",
    "<p style=\"text-align: justify; text-justify: inter-word;\">\n",
    "   <font size=3>\n",
    "       <b>units=50:</b><br>\n",
    "       This parameter specifies the number of LSTM units (or neurons) in the layer. In this case, there are 50 LSTM units in the layer. \n",
    "       These units are responsible for capturing and learning patterns in the sequential data.\n",
    "       <br><br>\n",
    "       <b>return_sequences=True:</b><br>\n",
    "       This parameter determines whether to return the full sequence of outputs for each timestep or just the last output. When return_sequences\n",
    "       is set to True, the layer will output the full sequence, and when set to False (or omitted, as it defaults to False), only the last output\n",
    "       for each input sequence will be returned.\n",
    "       <br><br>\n",
    "       <b>input_shape=(X_train.shape[1], 1):</b><br>\n",
    "       This parameter specifies the shape of the input data that the LSTM layer will receive. In this case, the input shape is set to\n",
    "       (X_train.shape[1], 1), where X_train.shape[1] represents the number of timesteps in each input sequence, and 1 represents the number\n",
    "       of features at each timestep. The reshaping of the input data is done using np.reshape to match this input shape requirement.\n",
    "   </font>\n",
    "</p>\n"
   ]
  },
  {
   "cell_type": "code",
   "execution_count": 15,
   "id": "3c1180fb-87ac-46f2-86ba-37551c40fc1b",
   "metadata": {
    "tags": []
   },
   "outputs": [],
   "source": [
    "regressor.add(LSTM(units=50, return_sequences=True, input_shape=(X_train.shape[1], 1)))"
   ]
  },
  {
   "cell_type": "markdown",
   "id": "0a88ae80-7619-4e1a-b343-f77f643f809a",
   "metadata": {},
   "source": [
    "<p style=\"text-align: justify; text-justify: inter-word;\">\n",
    "   <font size=3>\n",
    "       The <b>Dropout</b> layer is a regularization technique used in neural networks to prevent overfitting. Overfitting occurs when a model \n",
    "       learns the training data too well, including its noise and specific patterns that may not generalize well to new, unseen data.Dropout helps\n",
    "       address this issue by randomly \"dropping out\" (i.e., setting to zero) a fraction of the input units (neurons) during training. This prevents\n",
    "       the network from relying too much on specific neurons and helps it generalize better to new data.\n",
    "   </font>\n",
    "</p>"
   ]
  },
  {
   "cell_type": "code",
   "execution_count": 16,
   "id": "7e8b78a0-39d6-47f2-9812-e1bce28bb562",
   "metadata": {
    "tags": []
   },
   "outputs": [],
   "source": [
    "regressor.add(Dropout(0.2))"
   ]
  },
  {
   "cell_type": "code",
   "execution_count": 17,
   "id": "a39d9052-0ac3-4c91-bdf9-36eb882a459a",
   "metadata": {
    "tags": []
   },
   "outputs": [],
   "source": [
    "# Adding two more layer with return_sequence is True\n",
    "regressor.add(LSTM(units=50, return_sequences=True))\n",
    "regressor.add(Dropout(0.2))\n",
    "\n",
    "regressor.add(LSTM(units=50, return_sequences=True))\n",
    "regressor.add(Dropout(0.2))"
   ]
  },
  {
   "cell_type": "code",
   "execution_count": 18,
   "id": "a073ff4d-97ea-4393-9125-f2ec509701a8",
   "metadata": {
    "tags": []
   },
   "outputs": [],
   "source": [
    "# Layer without return_sequence\n",
    "regressor.add(LSTM(units=50))\n",
    "regressor.add(Dropout(0.2))"
   ]
  },
  {
   "cell_type": "code",
   "execution_count": 19,
   "id": "5e8bd25d-39e0-4645-b0e3-d4fae474ffba",
   "metadata": {
    "tags": []
   },
   "outputs": [],
   "source": [
    "# Adding the last layer\n",
    "regressor.add(Dense(units=1))"
   ]
  },
  {
   "cell_type": "code",
   "execution_count": null,
   "id": "19dcded0-2272-40d4-8f07-29a78f811950",
   "metadata": {},
   "outputs": [],
   "source": []
  }
 ],
 "metadata": {
  "kernelspec": {
   "display_name": "Python 3 (ipykernel)",
   "language": "python",
   "name": "python3"
  },
  "language_info": {
   "codemirror_mode": {
    "name": "ipython",
    "version": 3
   },
   "file_extension": ".py",
   "mimetype": "text/x-python",
   "name": "python",
   "nbconvert_exporter": "python",
   "pygments_lexer": "ipython3",
   "version": "3.11.2"
  }
 },
 "nbformat": 4,
 "nbformat_minor": 5
}
