{
 "cells": [
  {
   "cell_type": "markdown",
   "id": "3df6e8ec-a595-4918-8b9b-ac5f1c730117",
   "metadata": {},
   "source": [
    "<p style=\"color:#153462; \n",
    "          font-weight: bold; \n",
    "          font-size: 30px; \n",
    "          font-family: Gill Sans, sans-serif; \n",
    "          text-align: center;\">\n",
    "          Recurrent Neural Networks(RNNs)</p>"
   ]
  },
  {
   "cell_type": "markdown",
   "id": "a55321a3-09bc-4667-82fa-8e3fdf3c51d4",
   "metadata": {},
   "source": [
    "<p style=\"text-align: justify; text-justify: inter-word;\">\n",
    "   <font size=3>\n",
    "       Recurrent Neural Networks(RNNs) primarily used to work with <i>Sequential Data</i>. So, before understanding\n",
    "       what is an RNN means we first need to be aware of what is <i>Sequential Data</i> is.\n",
    "   </font>\n",
    "</p>"
   ]
  },
  {
   "cell_type": "markdown",
   "id": "c1997cfe-ef45-4651-a7a7-4c30af5eee08",
   "metadata": {},
   "source": [
    "### <span style=\"color:#3C4048; font-weight: bold; font-size: 18px; font-family: Gill Sans, sans-serif;\">Sequential Data</span>"
   ]
  },
  {
   "cell_type": "markdown",
   "id": "eb2b9403-7ae0-46ea-ad50-b23ecef905d2",
   "metadata": {},
   "source": [
    "<p style=\"text-align: justify; text-justify: inter-word;\">\n",
    "   <font size=3>\n",
    "       &nbsp;&nbsp;&nbsp;&nbsp;The elements in a sequence appear in a certain order and dependent of each other. In typical supervised \n",
    "       machine learning algorithms the input features are independent to each other and identically distributed which\n",
    "       means that the training examples are mutually independent and have same underlying distribution. Since features\n",
    "       are independent we can fed them to the model in any order. If we take iris dataset as an example, each flower\n",
    "       has been measured independently, and the measurements of one flower do not influence the measurement of another\n",
    "       flower.\n",
    "       <br><br>\n",
    "       &nbsp;&nbsp;&nbsp;&nbsp;In <i>sequence data</i>, order is matters. If we take stock market data as an \n",
    "       example, it would make sense to consider the previous stock prices in a date-sorted order to derive\n",
    "       trends rather than utilize these training examples in a randomized order.\n",
    "       <br><br>\n",
    "       &nbsp;&nbsp;&nbsp;&nbsp;Don't confuse between Time Series and Sequence Data.<i>Time Series</i> data\n",
    "       is a type of <i>sequence data</i> where time dimention associated with it. For example stock price\n",
    "       data, weather records etc.., But all sequence data is not a time time series data. For example,\n",
    "       text sequence data or DNA data where time is not the dimention here.\n",
    "   </font>\n",
    "</p>"
   ]
  },
  {
   "cell_type": "markdown",
   "id": "ebf83ad3-d3e2-4aae-b931-d76b506cbe9a",
   "metadata": {},
   "source": [
    "### <span style=\"color:#3C4048; font-weight: bold; font-size: 18px; font-family: Gill Sans, sans-serif;\">Recurrent Neural Networks</span>"
   ]
  },
  {
   "cell_type": "markdown",
   "id": "f2a1f1ab-da39-4afa-b4fd-67518bdd767e",
   "metadata": {},
   "source": [
    "<p style=\"text-align: justify; text-justify: inter-word;\">\n",
    "   <font size=3>\n",
    "       RNN's are designed for modeling sequences and are capable of remembering past information and processing\n",
    "       new events accordingly, which is a clear advantage when working with sequence data. Sequence modeling\n",
    "       technics used for solving various problems like Text Translation, image captioning and text generation.\n",
    "       We have different sequence modeling tasks to solve these problems.<br>\n",
    "       <img src=\"images/different_sequence_models.png\" alt=\"different_sequence_models\" style=\"width: 600px;\"/>\n",
    "   </font>\n",
    "</p>"
   ]
  },
  {
   "cell_type": "markdown",
   "id": "f5816315-b5b3-478c-a231-301c2e96aafa",
   "metadata": {},
   "source": [
    "<p style=\"text-align: justify; text-justify: inter-word;\">\n",
    "   <font size=3>\n",
    "       <b>Many-to-One</b>:<br>\n",
    "       The input data is a sequence, but the output is a fixed size vector or scalar but not a sequence. If we\n",
    "       consider sentiment analysis, the input is text-based(for example movie review) and the output is a class \n",
    "       label(for example user liked the movie or not).\n",
    "       <br>\n",
    "       <b>One-to-Many</b>:<br>\n",
    "       The input data is in standard format and not a sequence, but the output is a sequence. Example use case of this is,\n",
    "       image captioning- the input is an image and the output is an English Phrase Summarizating the content of that\n",
    "       image.\n",
    "       <br>\n",
    "       <b>Many-to-Many</b>:<br>\n",
    "       Both input and output arrays are sequences.  It is further divided into the following two subcategories.<br>\n",
    "       <i>Equal Size</i>: In this case, the input and output layer size is exactly the same. <br>\n",
    "       <i>Unequal Size</i>: In this case, inputs and outputs have different numbers of units. Its application can \n",
    "       be found in Machine Translation. <br>\n",
    "       Examples are:<br>\n",
    "       First one is Sequence input and sequence ouput(eg. Machine Translation: an RNN reads a sentence in English and then\n",
    "       ouputs a sentence in French). second one is, synced sequence input and ouput(eg. video classification where we\n",
    "       to lable each frame of video)\n",
    "       <br>\n",
    "       <br>\n",
    "       <img src=\"images/real_world_example.png\" alt=\"nn_rnn\" style=\"width: 600px;\"/><br>\n",
    "        Above is the real world example from MIT lecture.\n",
    "       <br>\n",
    "       <br>\n",
    "       So how do these things work? At the core, RNNs have a deceptively simple API: They accept an input\n",
    "       vector <code>x</code> and give you an output vector <code>y</code>. However, crucially this output\n",
    "       vector’s contents are influenced not only by the input you just fed in, but also on the entire history\n",
    "       of inputs you’ve fed in in the past.\n",
    "       <br>\n",
    "       <img src=\"images/nn_rnn.png\" alt=\"nn_rnn\" style=\"width: 400px;\"/><br>\n",
    "       Above show the difference in dataflow between standard feedforward NN and an RNN\n",
    "       <br>\n",
    "       <br>\n",
    "       <img src=\"images/rrn_unfolded.png\" alt=\"nn_rnn\" style=\"width: 400px;\"/><br>\n",
    "       Above image shows unfolded RNN architecture with multi hidden layers<br>\n",
    "       picture credits: <a href=\"https://github.com/rasbt/machine-learning-book/tree/main/ch15/figures\">rasbt</a>       \n",
    "   </font>\n",
    "</p>\n"
   ]
  },
  {
   "cell_type": "code",
   "execution_count": null,
   "id": "9588e93b-5a7b-47f7-9f2c-903ad008f2fa",
   "metadata": {},
   "outputs": [],
   "source": []
  },
  {
   "cell_type": "code",
   "execution_count": null,
   "id": "40f9af69-02de-487e-b027-b40e675b0493",
   "metadata": {},
   "outputs": [],
   "source": []
  },
  {
   "cell_type": "code",
   "execution_count": null,
   "id": "ba9c798a-3695-48e4-b6bd-1f46ffd6d8d3",
   "metadata": {},
   "outputs": [],
   "source": []
  },
  {
   "cell_type": "code",
   "execution_count": null,
   "id": "36e06e71-f5ef-41c8-832b-c33dae853a99",
   "metadata": {},
   "outputs": [],
   "source": []
  },
  {
   "cell_type": "markdown",
   "id": "173813ed-9054-4f65-b60e-e1c570276d35",
   "metadata": {},
   "source": [
    "### Resources"
   ]
  },
  {
   "cell_type": "markdown",
   "id": "30223827-bee7-4959-882e-609db4fdae14",
   "metadata": {},
   "source": [
    "<ul>\n",
    "    <li>\n",
    "        <a href=\"https://www.v7labs.com/blog/recurrent-neural-networks-guide\">\n",
    "            The Complete Guide to Recurrent Neural Networks from V7 labs\n",
    "        </a>\n",
    "    </li>\n",
    "</ul>"
   ]
  },
  {
   "cell_type": "code",
   "execution_count": null,
   "id": "80df2e1f-f396-4490-91f5-e71e099d26b6",
   "metadata": {},
   "outputs": [],
   "source": []
  }
 ],
 "metadata": {
  "kernelspec": {
   "display_name": "Python 3 (ipykernel)",
   "language": "python",
   "name": "python3"
  },
  "language_info": {
   "codemirror_mode": {
    "name": "ipython",
    "version": 3
   },
   "file_extension": ".py",
   "mimetype": "text/x-python",
   "name": "python",
   "nbconvert_exporter": "python",
   "pygments_lexer": "ipython3",
   "version": "3.11.2"
  }
 },
 "nbformat": 4,
 "nbformat_minor": 5
}
