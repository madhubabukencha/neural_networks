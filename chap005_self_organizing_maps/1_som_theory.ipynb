{
 "cells": [
  {
   "cell_type": "markdown",
   "id": "c65eae5c-329b-43a1-845e-c0e4ba060975",
   "metadata": {
    "tags": []
   },
   "source": [
    "<p style=\"color:#153462; \n",
    "          font-weight: bold; \n",
    "          font-size: 30px; \n",
    "          font-family: Gill Sans, sans-serif; \n",
    "          text-align: center;\">\n",
    "          Self Organizing Maps</p>"
   ]
  },
  {
   "cell_type": "markdown",
   "id": "37a0198b-9983-468f-8dd4-816f976bde39",
   "metadata": {
    "tags": []
   },
   "source": [
    "<p style=\"text-align: justify; text-justify: inter-word;\">\n",
    "   <font size=3>\n",
    "       Self Organizing Map (SOM) also know as kohonen maps belongs to the unsupervized area of neural networks. SOM's are invented in 1980's by the professor Teuvo Kohonen. They are primarily used to produce a low-dimensional (typically one or two-dimensional) representation of a higher-dimensional data. SOM also represents clustering concept by grouping similar data together. Therefore it can be said that SOM <b>reduces data dimensions and displays similarities among data</b>.\n",
    "       <br><br>\n",
    "       One of the most interesting aspects of SOMs is that they learn to classify data without supervision. In supervised training techniques such as backpropagation where the training data consists of vector pairs (an input vector and a target vector). With this approach an input vector is presented to the network (typically a multilayer feedforward network) and the output is compared with the target vector. If they differ, the weights of the network are altered slightly to reduce the error in the output. This is repeated many times and with many sets of vector pairs until the network gives the desired output. Training a SOM however, requires no target vector. A SOM learns to classify the training data without any external supervision whatsoever.\n",
    "       <br><br>\n",
    "       The beauty of SOMs is that it preserves the topological relationship of the training dataset (or the input). Implying that the underlying properties of the input data are not affected even after the continuous change in the shape or the size of the figure. SOMs help to reveal correlations that are not easily identified.\n",
    "   </font>\n",
    "</p>"
   ]
  },
  {
   "cell_type": "markdown",
   "id": "3fbe0084-c43f-4176-bf35-7d59a1bafaa2",
   "metadata": {},
   "source": [
    "### <span style=\"color:#3C4048; font-weight: bold; font-size: 18px; font-family: Gill Sans, sans-serif;\">SOMs Architecture</span>"
   ]
  },
  {
   "cell_type": "markdown",
   "id": "8ee736c2-7b49-49cf-9ceb-5b3b5511d631",
   "metadata": {
    "tags": []
   },
   "source": [
    "<center><img src=\"images\\2d-nodes-lattice.jpg\" alt=\"2d-nodes-lattice\" style=\"width: 300px;\"/></center>"
   ]
  },
  {
   "cell_type": "markdown",
   "id": "148fbb57-644d-4b9e-85d6-da97b1a96747",
   "metadata": {},
   "source": [
    "<p style=\"text-align: justify; text-justify: inter-word;\">\n",
    "   <font size=3>\n",
    "       The above image shows the 2-Dimentional SOM. The network is created from a 2D lattice of 'nodes'(showing in red), each of which is fully connected to the input layer. Here a very small Kohonen network of 4 X 4 nodes connected to the input layer (shown in green) representing a two dimensional vector (NOTE: Each column in the dataset represents a single dimension. Lets say if we have 5 rows then it would 5-dimentional).\n",
    "       <br><br>\n",
    "       Each node has a specific topological position (an x, y coordinate in the lattice) and contains a vector of weights of the same dimension as the input vectors. That is to say, if the training data consists of vectors, X,  of n dimensions $(X_1, X_2, X_3 ... X_n)$ then each node will contain a corresponding weight vector W, of n dimensions $(W_1, W_2, W_3 ... W_n)$\n",
    "       <br><br>\n",
    "       The lines connecting the nodes in above image are only there to represent adjacency and do not signify a connection as normally indicated when discussing a neural network. There are no lateral connections (let say a connection among nodes in the hidden layer) between nodes within the lattice.\n",
    "   </font>\n",
    "</p>"
   ]
  },
  {
   "cell_type": "markdown",
   "id": "0ac2b878-03db-4299-bb66-cb9d7e46665a",
   "metadata": {},
   "source": [
    "### <span style=\"color:#3C4048; font-weight: bold; font-size: 18px; font-family: Gill Sans, sans-serif;\">How SOM's works?</span>"
   ]
  },
  {
   "cell_type": "markdown",
   "id": "86e332cc-f9ee-48a1-aa3e-0318c70f3163",
   "metadata": {},
   "source": [
    "<p style=\"text-align: justify; text-justify: inter-word;\">\n",
    "   <font size=3>\n",
    "       A SOM does not need a target output to be specified unlike many other types of network. Instead, where the node weights match the input vector, that area of the lattice is selectively optimized to more closely resemble the data for the class the input vector is a member of. From an initial distribution of random weights, and over many iterations, the SOM eventually settles into a map of stable zones. Each zone is effectively a feature classifier, so you can think of the graphical output as a type of feature map of the input space. If you take another look at the trained network shown in  figure 1, the blocks of similar colour represent  the individual zones. Any new, previously unseen input vectors presented to the network will stimulate nodes in the zone with similar weight vectors. <br><br>\n",
    "Training occurs in several steps and over many iterations:\n",
    "<ul>\n",
    "    <li><b>Step-1</b>: We start with a dataset composed of n_feature independent variables</li>\n",
    "    <li>\n",
    "        <b>Step-2</b>: We create a grid composed of nodes. Each node having weight vector\n",
    "        of n_feature elements\n",
    "    </li>\n",
    "    <li>\n",
    "        <b>Step-3</b>: Randomly initialize the values of weight vectors to small number close\n",
    "        to zero (but not zero)\n",
    "    </li>\n",
    "    <li><b>Step-4</b>: Select one random observation point from the dataset</li>\n",
    "    <li>\n",
    "        <b>Step-5</b>: Compute the Euclidean distance from this point to the different\n",
    "          neurons in the network \n",
    "    </li>\n",
    "    <li>\n",
    "        <b>Step-6</b>: Select the neuron that has the minimum distance to the point. This neuron\n",
    "        is called winning Node also known as <b>Best Matching Unit (BMU).</b>\n",
    "    </li>\n",
    "    <li><b>Step-7</b>: Update the weights of the winning node to move it closer to the point</li>\n",
    "    <li>\n",
    "        <b>Step-8</b>: Using a Gaussian neighbourhood function of mean the winning node, also\n",
    "        update the weight of the winning node neighbours to move them closer to the point. <b>The\n",
    "        neighbourhood radius is the sigma in the Gaussian function</b>\n",
    "    </li>\n",
    "    <li>\n",
    "        <b>Step-9</b>: Repeat Steps 1 to 5 and update weights after each observation or after a batch\n",
    "        of observations until the network converges to the point where neighbourhood stop decreasing.\n",
    "    </li>\n",
    "</ul>\n",
    "   </font>\n",
    "</p>"
   ]
  },
  {
   "cell_type": "markdown",
   "id": "094f49a8-3361-44ef-83d5-5a0bddf97cf1",
   "metadata": {},
   "source": [
    " <span style=\"color:#3C4048; font-weight: bold; font-size: 18px; font-family: Gill Sans, sans-serif;\">Calculating the Best Matching Unit</span>"
   ]
  },
  {
   "cell_type": "markdown",
   "id": "f407039d-a74b-48a7-aad6-13cdafccaf6c",
   "metadata": {},
   "source": [
    "<center><img src=\"images\\best-matching-unit.jpg\" alt=\"best-matching-unit\" style=\"width: 300px;\"/></center>"
   ]
  },
  {
   "cell_type": "markdown",
   "id": "fbdf923d-e636-49d7-8c25-1e4e762a792e",
   "metadata": {},
   "source": [
    "<p style=\"text-align: justify; text-justify: inter-word;\">\n",
    "   <font size=3>\n",
    "       To determine the best matching unit, one method is to iterate through all the nodes and\n",
    "       calculate the Euclidean distance between each node's weight vector and the current input\n",
    "       vector. The node with a weight vector closest to the input vector is tagged as the BMU.\n",
    "       <br><br>\n",
    "       The Euclidean distance is given as: $Dist = \\sqrt{\\sum_{i=0}^{i=n} (X_i - W_i)^2}$\n",
    "       <br><br>\n",
    "       <img src=\"images\\som-calculation.png\" alt=\"som-calculation\" style=\"width: 600px;\"/>\n",
    "       <br>\n",
    "       From the above image we can say that Node 2 is the Best Matching Unit(BMU). As an example,\n",
    "       to calculate the distance at Node 2, lets assume in our dataset first rows has data like (1, 0, 0)\n",
    "       and we assume (0.1, 0.4, 0.5) are arbitrary weights at Node 2:<br>\n",
    "       distance $= sqrt( (1 - 0.1)^2 + (0 - 0.4)^2+ (0 - 0.5)^2)$<br>\n",
    "         $= sqrt( (0.9)^2 + (-0.4)^2+ (-0.5)^2 )$<br>\n",
    "         $= sqrt( 0.81 + 0.16+ 0.25 )$<br>\n",
    "         $= sqrt(1.22)$<br>\n",
    "       distance  = 1.106\n",
    "   </font>\n",
    "</p>"
   ]
  },
  {
   "cell_type": "markdown",
   "id": "d79af37c-3711-483f-852c-6c01e6196273",
   "metadata": {},
   "source": [
    "For remaining methematical calculation and explanation read:  http://www.ai-junkie.com/ann/som/som1.html"
   ]
  },
  {
   "cell_type": "markdown",
   "id": "a35753ba-5325-4f63-9144-e77a4a032db6",
   "metadata": {},
   "source": [
    "### <span style=\"color:#3C4048; font-weight: bold; font-size: 18px; font-family: Gill Sans, sans-serif;\">Simple Implementation</span>"
   ]
  },
  {
   "cell_type": "code",
   "execution_count": 12,
   "id": "29a66d01-e63e-4604-9623-d0427029165e",
   "metadata": {
    "tags": []
   },
   "outputs": [],
   "source": [
    "import numpy as np\n",
    "import matplotlib.pyplot as plt\n",
    "from minisom import MiniSom"
   ]
  },
  {
   "cell_type": "code",
   "execution_count": 13,
   "id": "8448cb92-37bc-4a4f-9a7e-42686f011362",
   "metadata": {
    "tags": []
   },
   "outputs": [],
   "source": [
    "# Generate some sample data (e.g., random points in 3D space)\n",
    "data = np.random.rand(100, 3)"
   ]
  },
  {
   "cell_type": "code",
   "execution_count": 14,
   "id": "3e2c63ae-d815-4cee-9084-ab7b8c753f02",
   "metadata": {
    "tags": []
   },
   "outputs": [
    {
     "data": {
      "text/plain": [
       "array([[0.16208676, 0.06887485, 0.75304531],\n",
       "       [0.40746381, 0.98228222, 0.26883871],\n",
       "       [0.78787349, 0.73786412, 0.7532621 ],\n",
       "       [0.2452071 , 0.13087466, 0.67716974],\n",
       "       [0.7671554 , 0.46266933, 0.19116634]])"
      ]
     },
     "execution_count": 14,
     "metadata": {},
     "output_type": "execute_result"
    }
   ],
   "source": [
    "# Top 5 rows of data\n",
    "data[0:5]"
   ]
  },
  {
   "cell_type": "code",
   "execution_count": 15,
   "id": "d3765285-b7ff-4e99-9ad6-b37a22e3fd77",
   "metadata": {
    "tags": []
   },
   "outputs": [],
   "source": [
    "# Initialize the SOM\n",
    "som = MiniSom(x=10, y=10,  # This is the grid size which represents num of nodes (10 * 10 = 100)\n",
    "              input_len=3, # The dimensionality of the input data. This should match the number of features in your dataset.  \n",
    "              sigma=1.0,  # The radius of the neighborhood function, which determines the extent of the influence a node has on its neighbors. A larger sigma means a broader area of influence.\n",
    "              learning_rate=0.5 # The initial learning rate for the training process. It controls how much the weights are adjusted during each training step.\n",
    "             )"
   ]
  },
  {
   "cell_type": "code",
   "execution_count": 16,
   "id": "e0293548-e8c4-4471-86bb-edd6c315da65",
   "metadata": {
    "tags": []
   },
   "outputs": [
    {
     "data": {
      "text/plain": [
       "(10, 10, 3)"
      ]
     },
     "execution_count": 16,
     "metadata": {},
     "output_type": "execute_result"
    }
   ],
   "source": [
    "# Initialize the weights\n",
    "som.random_weights_init(data)\n",
    "som.get_weights().shape"
   ]
  },
  {
   "cell_type": "code",
   "execution_count": 23,
   "id": "94e1932d-e0bc-426c-9992-ee41fd5c1141",
   "metadata": {
    "tags": []
   },
   "outputs": [
    {
     "data": {
      "text/plain": [
       "array([[[0.1341635 , 0.61761938, 0.21456652],\n",
       "        [0.3192536 , 0.45810306, 0.20345246],\n",
       "        [0.53523188, 0.39790991, 0.2838988 ],\n",
       "        [0.70641171, 0.37402797, 0.46320382],\n",
       "        [0.62862935, 0.48439254, 0.53778691],\n",
       "        [0.4582882 , 0.71008366, 0.47902105],\n",
       "        [0.22849967, 0.60324478, 0.66220644],\n",
       "        [0.13678623, 0.20539837, 0.77253352],\n",
       "        [0.53620309, 0.35133191, 0.6055494 ],\n",
       "        [0.95877436, 0.51722897, 0.71467822]],\n",
       "\n",
       "       [[0.26018516, 0.67580344, 0.14986803],\n",
       "        [0.38523623, 0.64905615, 0.23267039],\n",
       "        [0.67355056, 0.54496497, 0.54374024],\n",
       "        [0.79186829, 0.33289764, 0.48312852],\n",
       "        [0.84547699, 0.29184539, 0.69545478],\n",
       "        [0.47305383, 0.49120159, 0.62993189],\n",
       "        [0.16155556, 0.36101439, 0.83277447],\n",
       "        [0.06181327, 0.24385193, 0.8303771 ],\n",
       "        [0.13170979, 0.38946685, 0.55699442],\n",
       "        [0.56814857, 0.39141688, 0.37834019]],\n",
       "\n",
       "       [[0.51861552, 0.48881227, 0.29382485],\n",
       "        [0.70351651, 0.54071754, 0.53936056],\n",
       "        [0.67987834, 0.49017835, 0.6525557 ],\n",
       "        [0.69880629, 0.49718634, 0.63619757],\n",
       "        [0.87189023, 0.44575822, 0.77134595],\n",
       "        [0.79389546, 0.41853366, 0.69806113],\n",
       "        [0.24132932, 0.40786931, 0.51355674],\n",
       "        [0.1033018 , 0.40298571, 0.59604596],\n",
       "        [0.32188533, 0.2145385 , 0.63172936],\n",
       "        [0.64346688, 0.42452624, 0.40971852]],\n",
       "\n",
       "       [[0.71848389, 0.36817004, 0.34067719],\n",
       "        [0.76864555, 0.21869668, 0.60284793],\n",
       "        [0.85726909, 0.21395242, 0.87244943],\n",
       "        [0.89427443, 0.51626422, 0.86864375],\n",
       "        [0.86228751, 0.75269505, 0.72543371],\n",
       "        [0.88544923, 0.8436402 , 0.46247088],\n",
       "        [0.42217635, 0.44808457, 0.61879791],\n",
       "        [0.48094647, 0.61845123, 0.55481169],\n",
       "        [0.38534208, 0.65803394, 0.60175709],\n",
       "        [0.60377602, 0.91420095, 0.67057247]],\n",
       "\n",
       "       [[0.7046666 , 0.36891775, 0.50926618],\n",
       "        [0.5484924 , 0.12035285, 0.48181619],\n",
       "        [0.67037408, 0.19932591, 0.61410829],\n",
       "        [0.65935101, 0.43560912, 0.64991916],\n",
       "        [0.40166944, 0.7222754 , 0.70629386],\n",
       "        [0.49978835, 0.43243219, 0.5793762 ],\n",
       "        [0.8654951 , 0.60575533, 0.48099892],\n",
       "        [0.45426376, 0.62958877, 0.20547022],\n",
       "        [0.67932768, 0.45577789, 0.61199949],\n",
       "        [0.5198791 , 0.7334192 , 0.83692395]],\n",
       "\n",
       "       [[0.6160985 , 0.62585112, 0.35022353],\n",
       "        [0.54832357, 0.51849798, 0.44510057],\n",
       "        [0.56434661, 0.5625451 , 0.58643496],\n",
       "        [0.57530962, 0.59203937, 0.85352651],\n",
       "        [0.47306758, 0.72950251, 0.68560992],\n",
       "        [0.56429315, 0.378692  , 0.47709924],\n",
       "        [0.88934783, 0.43605911, 0.28348744],\n",
       "        [0.906304  , 0.6345993 , 0.39995464],\n",
       "        [0.63155973, 0.63916391, 0.53739128],\n",
       "        [0.65288728, 0.47810393, 0.5984342 ]],\n",
       "\n",
       "       [[0.3337687 , 0.68531059, 0.40284194],\n",
       "        [0.3136704 , 0.43144599, 0.49949914],\n",
       "        [0.51264503, 0.64981968, 0.91623533],\n",
       "        [0.46687497, 0.30299804, 0.90780043],\n",
       "        [0.73665709, 0.42623717, 0.45239667],\n",
       "        [0.61727148, 0.54266966, 0.10525244],\n",
       "        [0.74020848, 0.49658197, 0.18328591],\n",
       "        [0.67630979, 0.50449025, 0.3760602 ],\n",
       "        [0.36852708, 0.29602758, 0.45548344],\n",
       "        [0.57930049, 0.39241103, 0.71428083]],\n",
       "\n",
       "       [[0.34798901, 0.4392937 , 0.46572686],\n",
       "        [0.30192342, 0.31070668, 0.66207506],\n",
       "        [0.6163505 , 0.44567462, 0.61682205],\n",
       "        [0.57315537, 0.19747414, 0.72041624],\n",
       "        [0.59850137, 0.47841436, 0.71818347],\n",
       "        [0.56753921, 0.55667116, 0.54672002],\n",
       "        [0.5435077 , 0.27770457, 0.10839449],\n",
       "        [0.3646523 , 0.30691794, 0.33870194],\n",
       "        [0.12247256, 0.20689672, 0.28537066],\n",
       "        [0.25379117, 0.445659  , 0.44039651]],\n",
       "\n",
       "       [[0.45086166, 0.8110853 , 0.86590278],\n",
       "        [0.5789357 , 0.92593602, 0.43476634],\n",
       "        [0.70513319, 0.79706768, 0.496324  ],\n",
       "        [0.2642668 , 0.52713297, 0.42847941],\n",
       "        [0.19906415, 0.09198995, 0.86145407],\n",
       "        [0.73578419, 0.34606794, 0.67480722],\n",
       "        [0.48394199, 0.51283457, 0.18040261],\n",
       "        [0.50687818, 0.55594857, 0.37613736],\n",
       "        [0.30609371, 0.50241358, 0.43003406],\n",
       "        [0.23961938, 0.51078288, 0.52479529]],\n",
       "\n",
       "       [[0.39347153, 0.76023916, 0.19364073],\n",
       "        [0.30520882, 0.9362382 , 0.20898192],\n",
       "        [0.52288291, 0.79547736, 0.25066267],\n",
       "        [0.78201132, 0.67655907, 0.35143037],\n",
       "        [0.29878954, 0.32539125, 0.74416713],\n",
       "        [0.79320828, 0.09149555, 0.36442609],\n",
       "        [0.8774442 , 0.19551781, 0.13666522],\n",
       "        [0.42800558, 0.80127724, 0.39889167],\n",
       "        [0.2313109 , 0.93998875, 0.43807899],\n",
       "        [0.62027647, 0.78479741, 0.68313603]]])"
      ]
     },
     "execution_count": 23,
     "metadata": {},
     "output_type": "execute_result"
    }
   ],
   "source": [
    "som.get_weights()"
   ]
  },
  {
   "cell_type": "code",
   "execution_count": 20,
   "id": "f50c52ca-9d0e-46d5-a1dc-a57704ff919d",
   "metadata": {
    "tags": []
   },
   "outputs": [],
   "source": [
    "# Train the SOM\n",
    "som.train_random(data, num_iteration=100)"
   ]
  },
  {
   "cell_type": "code",
   "execution_count": 24,
   "id": "63537259-1f12-4147-886a-1452eb5131b6",
   "metadata": {
    "tags": []
   },
   "outputs": [
    {
     "data": {
      "text/plain": [
       "array([[[0.1341635 , 0.61761938, 0.21456652],\n",
       "        [0.3192536 , 0.45810306, 0.20345246],\n",
       "        [0.53523188, 0.39790991, 0.2838988 ],\n",
       "        [0.70641171, 0.37402797, 0.46320382],\n",
       "        [0.62862935, 0.48439254, 0.53778691],\n",
       "        [0.4582882 , 0.71008366, 0.47902105],\n",
       "        [0.22849967, 0.60324478, 0.66220644],\n",
       "        [0.13678623, 0.20539837, 0.77253352],\n",
       "        [0.53620309, 0.35133191, 0.6055494 ],\n",
       "        [0.95877436, 0.51722897, 0.71467822]],\n",
       "\n",
       "       [[0.26018516, 0.67580344, 0.14986803],\n",
       "        [0.38523623, 0.64905615, 0.23267039],\n",
       "        [0.67355056, 0.54496497, 0.54374024],\n",
       "        [0.79186829, 0.33289764, 0.48312852],\n",
       "        [0.84547699, 0.29184539, 0.69545478],\n",
       "        [0.47305383, 0.49120159, 0.62993189],\n",
       "        [0.16155556, 0.36101439, 0.83277447],\n",
       "        [0.06181327, 0.24385193, 0.8303771 ],\n",
       "        [0.13170979, 0.38946685, 0.55699442],\n",
       "        [0.56814857, 0.39141688, 0.37834019]],\n",
       "\n",
       "       [[0.51861552, 0.48881227, 0.29382485],\n",
       "        [0.70351651, 0.54071754, 0.53936056],\n",
       "        [0.67987834, 0.49017835, 0.6525557 ],\n",
       "        [0.69880629, 0.49718634, 0.63619757],\n",
       "        [0.87189023, 0.44575822, 0.77134595],\n",
       "        [0.79389546, 0.41853366, 0.69806113],\n",
       "        [0.24132932, 0.40786931, 0.51355674],\n",
       "        [0.1033018 , 0.40298571, 0.59604596],\n",
       "        [0.32188533, 0.2145385 , 0.63172936],\n",
       "        [0.64346688, 0.42452624, 0.40971852]],\n",
       "\n",
       "       [[0.71848389, 0.36817004, 0.34067719],\n",
       "        [0.76864555, 0.21869668, 0.60284793],\n",
       "        [0.85726909, 0.21395242, 0.87244943],\n",
       "        [0.89427443, 0.51626422, 0.86864375],\n",
       "        [0.86228751, 0.75269505, 0.72543371],\n",
       "        [0.88544923, 0.8436402 , 0.46247088],\n",
       "        [0.42217635, 0.44808457, 0.61879791],\n",
       "        [0.48094647, 0.61845123, 0.55481169],\n",
       "        [0.38534208, 0.65803394, 0.60175709],\n",
       "        [0.60377602, 0.91420095, 0.67057247]],\n",
       "\n",
       "       [[0.7046666 , 0.36891775, 0.50926618],\n",
       "        [0.5484924 , 0.12035285, 0.48181619],\n",
       "        [0.67037408, 0.19932591, 0.61410829],\n",
       "        [0.65935101, 0.43560912, 0.64991916],\n",
       "        [0.40166944, 0.7222754 , 0.70629386],\n",
       "        [0.49978835, 0.43243219, 0.5793762 ],\n",
       "        [0.8654951 , 0.60575533, 0.48099892],\n",
       "        [0.45426376, 0.62958877, 0.20547022],\n",
       "        [0.67932768, 0.45577789, 0.61199949],\n",
       "        [0.5198791 , 0.7334192 , 0.83692395]],\n",
       "\n",
       "       [[0.6160985 , 0.62585112, 0.35022353],\n",
       "        [0.54832357, 0.51849798, 0.44510057],\n",
       "        [0.56434661, 0.5625451 , 0.58643496],\n",
       "        [0.57530962, 0.59203937, 0.85352651],\n",
       "        [0.47306758, 0.72950251, 0.68560992],\n",
       "        [0.56429315, 0.378692  , 0.47709924],\n",
       "        [0.88934783, 0.43605911, 0.28348744],\n",
       "        [0.906304  , 0.6345993 , 0.39995464],\n",
       "        [0.63155973, 0.63916391, 0.53739128],\n",
       "        [0.65288728, 0.47810393, 0.5984342 ]],\n",
       "\n",
       "       [[0.3337687 , 0.68531059, 0.40284194],\n",
       "        [0.3136704 , 0.43144599, 0.49949914],\n",
       "        [0.51264503, 0.64981968, 0.91623533],\n",
       "        [0.46687497, 0.30299804, 0.90780043],\n",
       "        [0.73665709, 0.42623717, 0.45239667],\n",
       "        [0.61727148, 0.54266966, 0.10525244],\n",
       "        [0.74020848, 0.49658197, 0.18328591],\n",
       "        [0.67630979, 0.50449025, 0.3760602 ],\n",
       "        [0.36852708, 0.29602758, 0.45548344],\n",
       "        [0.57930049, 0.39241103, 0.71428083]],\n",
       "\n",
       "       [[0.34798901, 0.4392937 , 0.46572686],\n",
       "        [0.30192342, 0.31070668, 0.66207506],\n",
       "        [0.6163505 , 0.44567462, 0.61682205],\n",
       "        [0.57315537, 0.19747414, 0.72041624],\n",
       "        [0.59850137, 0.47841436, 0.71818347],\n",
       "        [0.56753921, 0.55667116, 0.54672002],\n",
       "        [0.5435077 , 0.27770457, 0.10839449],\n",
       "        [0.3646523 , 0.30691794, 0.33870194],\n",
       "        [0.12247256, 0.20689672, 0.28537066],\n",
       "        [0.25379117, 0.445659  , 0.44039651]],\n",
       "\n",
       "       [[0.45086166, 0.8110853 , 0.86590278],\n",
       "        [0.5789357 , 0.92593602, 0.43476634],\n",
       "        [0.70513319, 0.79706768, 0.496324  ],\n",
       "        [0.2642668 , 0.52713297, 0.42847941],\n",
       "        [0.19906415, 0.09198995, 0.86145407],\n",
       "        [0.73578419, 0.34606794, 0.67480722],\n",
       "        [0.48394199, 0.51283457, 0.18040261],\n",
       "        [0.50687818, 0.55594857, 0.37613736],\n",
       "        [0.30609371, 0.50241358, 0.43003406],\n",
       "        [0.23961938, 0.51078288, 0.52479529]],\n",
       "\n",
       "       [[0.39347153, 0.76023916, 0.19364073],\n",
       "        [0.30520882, 0.9362382 , 0.20898192],\n",
       "        [0.52288291, 0.79547736, 0.25066267],\n",
       "        [0.78201132, 0.67655907, 0.35143037],\n",
       "        [0.29878954, 0.32539125, 0.74416713],\n",
       "        [0.79320828, 0.09149555, 0.36442609],\n",
       "        [0.8774442 , 0.19551781, 0.13666522],\n",
       "        [0.42800558, 0.80127724, 0.39889167],\n",
       "        [0.2313109 , 0.93998875, 0.43807899],\n",
       "        [0.62027647, 0.78479741, 0.68313603]]])"
      ]
     },
     "execution_count": 24,
     "metadata": {},
     "output_type": "execute_result"
    }
   ],
   "source": [
    "som.get_weights()"
   ]
  },
  {
   "cell_type": "code",
   "execution_count": 25,
   "id": "a1a3115a-50d2-4441-8d4c-a263d788f539",
   "metadata": {
    "tags": []
   },
   "outputs": [
    {
     "data": {
      "text/plain": [
       "<Figure size 1000x1000 with 0 Axes>"
      ]
     },
     "execution_count": 25,
     "metadata": {},
     "output_type": "execute_result"
    },
    {
     "data": {
      "text/plain": [
       "<Figure size 1000x1000 with 0 Axes>"
      ]
     },
     "metadata": {},
     "output_type": "display_data"
    }
   ],
   "source": [
    "# Plotting the result\n",
    "plt.figure(figsize=(10, 10))"
   ]
  },
  {
   "cell_type": "code",
   "execution_count": 11,
   "id": "5b7e9130-4a68-41a0-a3d9-8066380e6be0",
   "metadata": {
    "tags": []
   },
   "outputs": [
    {
     "data": {
      "image/png": "[encoded data removed]",
      "text/plain": [
       "<Figure size 640x480 with 1 Axes>"
      ]
     },
     "metadata": {},
     "output_type": "display_data"
    }
   ],
   "source": [
    "# Plot the SOM's weight vectors\n",
    "weights = som.get_weights()\n",
    "for i in range(weights.shape[0]):\n",
    "    for j in range(weights.shape[1]):\n",
    "        plt.scatter(weights[i, j, 0], weights[i, j, 1], marker='o', color='r', s=50)\n",
    "\n",
    "# Plot the original data\n",
    "plt.scatter(data[:, 0], data[:, 1], marker='x', color='b', s=50)\n",
    "\n",
    "plt.title(\"Self-Organizing Map\")\n",
    "plt.xlabel(\"Dimension 1\")\n",
    "plt.ylabel(\"Dimension 2\")\n",
    "plt.show()"
   ]
  },
  {
   "cell_type": "markdown",
   "id": "1555731b-24d5-4e39-bb49-ff5e907b2f50",
   "metadata": {},
   "source": [
    "### <span style=\"color:#3C4048; font-weight: bold; font-size: 18px; font-family: Gill Sans, sans-serif;\">Useful Resources</span>"
   ]
  },
  {
   "cell_type": "markdown",
   "id": "40026db8-403e-46be-8982-b71d86b0e32a",
   "metadata": {
    "tags": []
   },
   "source": [
    "<strong> Videos </strong><br>\n",
    "https://www.udemy.com/course/deeplearning/learn/lecture/6905316#overview<br>\n",
    "https://www.udemy.com/course/deeplearning/learn/lecture/6905318#overview<br>\n",
    "\n",
    "<strong>Articals</strong><br>\n",
    "-> https://www.superdatascience.com/blogs/self-organizing-maps-soms-how-do-self-organizing-maps-learn-part-1<br>\n",
    "-> https://www.analyticsvidhya.com/blog/2021/09/beginners-guide-to-anomaly-detection-using-self-organizing-maps/ <br>\n",
    "-> https://sci2s.ugr.es/keel/pdf/algorithm/articulo/1990-Kohonen-PIEEE.pdf <br>\n",
    "-> https://sites.pitt.edu/~is2470pb/Spring05/FinalProjects/Group1a/tutorial/som.html<br>\n",
    "-> https://www.latentview.com/blog/self-organizing-maps/<br>"
   ]
  },
  {
   "cell_type": "code",
   "execution_count": null,
   "id": "5e773742-4d73-4362-8107-be5b5afa1a9e",
   "metadata": {},
   "outputs": [],
   "source": []
  }
 ],
 "metadata": {
  "kernelspec": {
   "display_name": "Python 3 (ipykernel)",
   "language": "python",
   "name": "python3"
  },
  "language_info": {
   "codemirror_mode": {
    "name": "ipython",
    "version": 3
   },
   "file_extension": ".py",
   "mimetype": "text/x-python",
   "name": "python",
   "nbconvert_exporter": "python",
   "pygments_lexer": "ipython3",
   "version": "3.11.2"
  }
 },
 "nbformat": 4,
 "nbformat_minor": 5
}
