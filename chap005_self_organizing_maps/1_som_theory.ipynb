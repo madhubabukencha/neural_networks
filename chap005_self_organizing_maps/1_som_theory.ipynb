{
 "cells": [
  {
   "cell_type": "markdown",
   "id": "c65eae5c-329b-43a1-845e-c0e4ba060975",
   "metadata": {
    "tags": []
   },
   "source": [
    "<p style=\"color:#153462; \n",
    "          font-weight: bold; \n",
    "          font-size: 30px; \n",
    "          font-family: Gill Sans, sans-serif; \n",
    "          text-align: center;\">\n",
    "          Self Organizing Maps</p>"
   ]
  },
  {
   "cell_type": "markdown",
   "id": "37a0198b-9983-468f-8dd4-816f976bde39",
   "metadata": {
    "tags": []
   },
   "source": [
    "<p style=\"text-align: justify; text-justify: inter-word;\">\n",
    "   <font size=3>\n",
    "       Self Organizing Map (SOM) also know as kohonen maps belongs to the unsupervized area of neural networks. SOM's are invented in 1980's by the professor Teuvo Kohonen. <b>They are primarily used to produce a low-dimensional (typically one or two-dimensional) representation of a higher-dimensional data</b>. SOM also represents clustering concept by grouping similar data together. Therefore it can be said that SOM <b>reduces data dimensions and displays similarities among data</b>.\n",
    "       <br><br>\n",
    "       One of the most interesting aspects of SOMs is that they learn to classify data without supervision. In supervised training techniques such as backpropagation where the training data consists of vector pairs (an input vector and a target vector). With this approach an input vector is presented to the network (typically a multilayer feedforward network) and the output is compared with the target vector. If they differ, the weights of the network are altered slightly to reduce the error in the output. This is repeated many times and with many sets of vector pairs until the network gives the desired output. Training a SOM however, requires no target vector. A SOM learns to classify the training data without any external supervision whatsoever.\n",
    "       <br><br>\n",
    "       The beauty of SOMs is that it preserves the topological relationship of the training dataset (or the input). Implying that the underlying properties of the input data are not affected even after the continuous change in the shape or the size of the figure. SOMs help to reveal correlations that are not easily identified.\n",
    "   </font>\n",
    "</p>"
   ]
  },
  {
   "cell_type": "markdown",
   "id": "3fbe0084-c43f-4176-bf35-7d59a1bafaa2",
   "metadata": {},
   "source": [
    "### <span style=\"color:#3C4048; font-weight: bold; font-size: 18px; font-family: Gill Sans, sans-serif;\">SOMs Architecture</span>"
   ]
  },
  {
   "cell_type": "markdown",
   "id": "8ee736c2-7b49-49cf-9ceb-5b3b5511d631",
   "metadata": {
    "tags": []
   },
   "source": [
    "<center><img src=\"images\\2d-nodes-lattice.jpg\" alt=\"2d-nodes-lattice\" style=\"width: 300px;\"/></center>"
   ]
  },
  {
   "cell_type": "markdown",
   "id": "148fbb57-644d-4b9e-85d6-da97b1a96747",
   "metadata": {},
   "source": [
    "<p style=\"text-align: justify; text-justify: inter-word;\">\n",
    "   <font size=3>\n",
    "       The above image shows the 2-Dimentional SOM. The network is created from a 2D lattice of 'nodes'(showing in red), each of which is fully connected to the input layer. Here a very small Kohonen network of 4 X 4 nodes connected to the input layer (shown in green) representing a two dimensional vector (NOTE: Each column in the dataset represents a single dimension. Lets say if we have 5 columns in the dataset then it would be 5-dimentional).\n",
    "       <br><br>\n",
    "       Each node has a specific topological position (an x, y coordinate in the lattice) and contains a vector of weights of the same dimension as the input vectors. That is to say, if the training data consists of vectors, X,  of n dimensions $(X_1, X_2, X_3 ... X_n)$ then each node will contain a corresponding weight vector W, of n dimensions $(W_1, W_2, W_3 ... W_n)$\n",
    "       <br><br>\n",
    "       The lines connecting the nodes in above image are only there to represent adjacency and do not signify a connection as normally indicated when discussing a neural network. There are no lateral connections (let say a connection among nodes in the hidden layer) between nodes within the lattice.\n",
    "   </font>\n",
    "</p>"
   ]
  },
  {
   "cell_type": "markdown",
   "id": "0ac2b878-03db-4299-bb66-cb9d7e46665a",
   "metadata": {},
   "source": [
    "### <span style=\"color:#3C4048; font-weight: bold; font-size: 18px; font-family: Gill Sans, sans-serif;\">How SOM's works?</span>"
   ]
  },
  {
   "cell_type": "markdown",
   "id": "86e332cc-f9ee-48a1-aa3e-0318c70f3163",
   "metadata": {},
   "source": [
    "<p style=\"text-align: justify; text-justify: inter-word;\">\n",
    "   <font size=3>\n",
    "       A SOM does not need a target output to be specified unlike many other types of network. Instead, where the node weights match the input vector, that area of the lattice is selectively optimized to more closely resemble the data for the class the input vector is a member of. From an initial distribution of random weights, and over many iterations, the SOM eventually settles into a map of stable zones. Each zone is effectively a feature classifier, so you can think of the graphical output as a type of feature map of the input space<br><br>\n",
    "Training occurs in several steps and over many iterations:\n",
    "<ul>\n",
    "    <li><b>Step-1</b>: We start with a dataset composed of n_feature independent variables</li>\n",
    "    <li>\n",
    "        <b>Step-2</b>: We create a grid composed of nodes. Each node having weight vector\n",
    "        of n_feature elements\n",
    "    </li>\n",
    "    <li>\n",
    "        <b>Step-3</b>: Randomly initialize the values of weight vectors to small number close\n",
    "        to zero (but not zero)\n",
    "    </li>\n",
    "    <li><b>Step-4</b>: Select one random observation point from the dataset</li>\n",
    "    <li>\n",
    "        <b>Step-5</b>: Compute the Euclidean distance from this point to the different\n",
    "          neurons in the network \n",
    "    </li>\n",
    "    <li>\n",
    "        <b>Step-6</b>: Select the neuron that has the minimum distance to the point. This neuron\n",
    "        is called winning Node also known as <b>Best Matching Unit (BMU).</b>\n",
    "    </li>\n",
    "    <li><b>Step-7</b>: Update the weights of the winning node to move it closer to the point</li>\n",
    "    <li>\n",
    "        <b>Step-8</b>: Using a Gaussian neighbourhood function of mean the winning node, also\n",
    "        update the weight of the winning node neighbours to move them closer to the point. <b>The\n",
    "        neighbourhood radius is the sigma in the Gaussian function</b>\n",
    "    </li>\n",
    "    <li>\n",
    "        <b>Step-9</b>: Repeat Steps 1 to 5 and update weights after each observation or after a batch\n",
    "        of observations until the network converges to the point where neighbourhood stop decreasing.\n",
    "    </li>\n",
    "</ul>\n",
    "   </font>\n",
    "</p>"
   ]
  },
  {
   "cell_type": "markdown",
   "id": "094f49a8-3361-44ef-83d5-5a0bddf97cf1",
   "metadata": {},
   "source": [
    " <span style=\"color:#3C4048; font-weight: bold; font-size: 18px; font-family: Gill Sans, sans-serif;\">Calculating the Best Matching Unit</span>"
   ]
  },
  {
   "cell_type": "markdown",
   "id": "f407039d-a74b-48a7-aad6-13cdafccaf6c",
   "metadata": {},
   "source": [
    "<center><img src=\"images\\best-matching-unit.jpg\" alt=\"best-matching-unit\" style=\"width: 300px;\"/></center>"
   ]
  },
  {
   "cell_type": "markdown",
   "id": "fbdf923d-e636-49d7-8c25-1e4e762a792e",
   "metadata": {},
   "source": [
    "<p style=\"text-align: justify; text-justify: inter-word;\">\n",
    "   <font size=3>\n",
    "       To determine the best matching unit, one method is to iterate through all the nodes and\n",
    "       calculate the Euclidean distance between each node's weight vector and the current input\n",
    "       vector. The node with a weight vector closest to the input vector is tagged as the BMU.\n",
    "       <br><br>\n",
    "       The Euclidean distance is given as: $Dist = \\sqrt{\\sum_{i=0}^{i=n} (X_i - W_i)^2}$\n",
    "       <br><br>\n",
    "       <img src=\"images\\som-calculation.png\" alt=\"som-calculation\" style=\"width: 600px;\"/>\n",
    "       <br>\n",
    "       From the above image we can say that Node 2 is the Best Matching Unit(BMU). As an example,\n",
    "       to calculate the distance at Node 2, lets assume in our dataset first rows has data like (1, 0, 0)\n",
    "       and we assume (0.1, 0.4, 0.5) are arbitrary weights at Node 2:<br>\n",
    "       distance $= sqrt( (1 - 0.1)^2 + (0 - 0.4)^2+ (0 - 0.5)^2)$<br>\n",
    "         $= sqrt( (0.9)^2 + (-0.4)^2+ (-0.5)^2 )$<br>\n",
    "         $= sqrt( 0.81 + 0.16+ 0.25 )$<br>\n",
    "         $= sqrt(1.22)$<br>\n",
    "       distance  = 1.106\n",
    "   </font>\n",
    "</p>"
   ]
  },
  {
   "cell_type": "markdown",
   "id": "d79af37c-3711-483f-852c-6c01e6196273",
   "metadata": {},
   "source": [
    "For remaining methematical calculation and explanation read:  http://www.ai-junkie.com/ann/som/som1.html"
   ]
  },
  {
   "cell_type": "markdown",
   "id": "a35753ba-5325-4f63-9144-e77a4a032db6",
   "metadata": {},
   "source": [
    "### <span style=\"color:#3C4048; font-weight: bold; font-size: 18px; font-family: Gill Sans, sans-serif;\">Simple Implementation</span>"
   ]
  },
  {
   "cell_type": "code",
   "execution_count": 1,
   "id": "29a66d01-e63e-4604-9623-d0427029165e",
   "metadata": {
    "tags": []
   },
   "outputs": [],
   "source": [
    "import numpy as np\n",
    "import matplotlib.pyplot as plt\n",
    "from minisom import MiniSom"
   ]
  },
  {
   "cell_type": "code",
   "execution_count": 2,
   "id": "8448cb92-37bc-4a4f-9a7e-42686f011362",
   "metadata": {
    "tags": []
   },
   "outputs": [],
   "source": [
    "# Generate some sample data (e.g., random points in 3D space)\n",
    "data = np.random.rand(100, 3)"
   ]
  },
  {
   "cell_type": "code",
   "execution_count": 3,
   "id": "3e2c63ae-d815-4cee-9084-ab7b8c753f02",
   "metadata": {
    "tags": []
   },
   "outputs": [
    {
     "data": {
      "text/plain": [
       "array([[0.96578129, 0.6255595 , 0.38749612],\n",
       "       [0.50492223, 0.67219253, 0.92269567],\n",
       "       [0.35083762, 0.7786306 , 0.50851716],\n",
       "       [0.50397074, 0.512314  , 0.58931914],\n",
       "       [0.25485535, 0.27005173, 0.31315141]])"
      ]
     },
     "execution_count": 3,
     "metadata": {},
     "output_type": "execute_result"
    }
   ],
   "source": [
    "# Top 5 rows of data\n",
    "data[0:5]"
   ]
  },
  {
   "cell_type": "code",
   "execution_count": 4,
   "id": "d3765285-b7ff-4e99-9ad6-b37a22e3fd77",
   "metadata": {
    "tags": []
   },
   "outputs": [],
   "source": [
    "# Initialize the SOM\n",
    "som = MiniSom(x=10, y=10,  # This is the grid size which represents num of nodes (10 * 10 = 100)\n",
    "              input_len=3, # The dimensionality of the input data. This should match the number of features in your dataset.  \n",
    "              sigma=1.0,  # The radius of the neighborhood function, which determines the extent of the influence a node has on its neighbors. A larger sigma means a broader area of influence.\n",
    "              learning_rate=0.5 # The initial learning rate for the training process. It controls how much the weights are adjusted during each training step.\n",
    "             )"
   ]
  },
  {
   "cell_type": "code",
   "execution_count": 5,
   "id": "e0293548-e8c4-4471-86bb-edd6c315da65",
   "metadata": {
    "tags": []
   },
   "outputs": [
    {
     "data": {
      "text/plain": [
       "(10, 10, 3)"
      ]
     },
     "execution_count": 5,
     "metadata": {},
     "output_type": "execute_result"
    }
   ],
   "source": [
    "# Initialize the weights\n",
    "som.random_weights_init(data)\n",
    "som.get_weights().shape"
   ]
  },
  {
   "cell_type": "code",
   "execution_count": 8,
   "id": "94e1932d-e0bc-426c-9992-ee41fd5c1141",
   "metadata": {
    "tags": []
   },
   "outputs": [
    {
     "data": {
      "text/plain": [
       "array([[[0.52007715, 0.36653495, 0.56706434],\n",
       "        [0.81286172, 0.92504861, 0.15537451],\n",
       "        [0.84438338, 0.31154886, 0.33601755],\n",
       "        [0.64831392, 0.34958928, 0.85104632],\n",
       "        [0.55281674, 0.20606859, 0.42202667],\n",
       "        [0.83039039, 0.53897716, 0.27480535],\n",
       "        [0.83039039, 0.53897716, 0.27480535],\n",
       "        [0.38112336, 0.29890187, 0.43552703],\n",
       "        [0.85316426, 0.2061366 , 0.87319425],\n",
       "        [0.15535338, 0.19513668, 0.9493907 ]],\n",
       "\n",
       "       [[0.09405305, 0.22623324, 0.24049856],\n",
       "        [0.59472415, 0.63150965, 0.06505449],\n",
       "        [0.79420598, 0.21030489, 0.24874656],\n",
       "        [0.4851474 , 0.05085719, 0.69227649],\n",
       "        [0.6233417 , 0.62052318, 0.08651031],\n",
       "        [0.55281674, 0.20606859, 0.42202667],\n",
       "        [0.62176396, 0.14218482, 0.41026572],\n",
       "        [0.7968079 , 0.50168932, 0.80377831],\n",
       "        [0.4312951 , 0.86998411, 0.32768518],\n",
       "        [0.21571903, 0.1362868 , 0.3534832 ]],\n",
       "\n",
       "       [[0.88516321, 0.72029161, 0.90866144],\n",
       "        [0.72365334, 0.47454721, 0.32858844],\n",
       "        [0.80586445, 0.95618391, 0.15454187],\n",
       "        [0.84438338, 0.31154886, 0.33601755],\n",
       "        [0.59472415, 0.63150965, 0.06505449],\n",
       "        [0.66127122, 0.72639757, 0.79651254],\n",
       "        [0.4312951 , 0.86998411, 0.32768518],\n",
       "        [0.99837053, 0.60905946, 0.86279374],\n",
       "        [0.13435535, 0.4536102 , 0.5613262 ],\n",
       "        [0.66127122, 0.72639757, 0.79651254]],\n",
       "\n",
       "       [[0.21571903, 0.1362868 , 0.3534832 ],\n",
       "        [0.30159418, 0.09110659, 0.12552351],\n",
       "        [0.56729507, 0.37114488, 0.79776055],\n",
       "        [0.54583939, 0.30049779, 0.4114975 ],\n",
       "        [0.92313654, 0.28045424, 0.40231838],\n",
       "        [0.50492223, 0.67219253, 0.92269567],\n",
       "        [0.26310522, 0.04079345, 0.99385239],\n",
       "        [0.50657829, 0.89094314, 0.40710668],\n",
       "        [0.56789318, 0.83260757, 0.32918815],\n",
       "        [0.61320269, 0.01942261, 0.11703477]],\n",
       "\n",
       "       [[0.26310522, 0.04079345, 0.99385239],\n",
       "        [0.07662113, 0.09841609, 0.18870756],\n",
       "        [0.46348541, 0.55171262, 0.29453745],\n",
       "        [0.35933067, 0.79046962, 0.39773391],\n",
       "        [0.55281674, 0.20606859, 0.42202667],\n",
       "        [0.07662113, 0.09841609, 0.18870756],\n",
       "        [0.50657829, 0.89094314, 0.40710668],\n",
       "        [0.23009212, 0.26808372, 0.60539007],\n",
       "        [0.30159418, 0.09110659, 0.12552351],\n",
       "        [0.09156643, 0.7623301 , 0.28301209]],\n",
       "\n",
       "       [[0.89470855, 0.42461852, 0.95542661],\n",
       "        [0.4851474 , 0.05085719, 0.69227649],\n",
       "        [0.9692082 , 0.32189928, 0.32359338],\n",
       "        [0.72365334, 0.47454721, 0.32858844],\n",
       "        [0.34462794, 0.07978584, 0.36742844],\n",
       "        [0.72365334, 0.47454721, 0.32858844],\n",
       "        [0.05085413, 0.57376382, 0.52548938],\n",
       "        [0.84438338, 0.31154886, 0.33601755],\n",
       "        [0.21571903, 0.1362868 , 0.3534832 ],\n",
       "        [0.62176396, 0.14218482, 0.41026572]],\n",
       "\n",
       "       [[0.7968079 , 0.50168932, 0.80377831],\n",
       "        [0.83039039, 0.53897716, 0.27480535],\n",
       "        [0.62176396, 0.14218482, 0.41026572],\n",
       "        [0.61320269, 0.01942261, 0.11703477],\n",
       "        [0.49387883, 0.43261506, 0.90731857],\n",
       "        [0.56729507, 0.37114488, 0.79776055],\n",
       "        [0.28694347, 0.78731577, 0.02351346],\n",
       "        [0.55358123, 0.69976121, 0.63872083],\n",
       "        [0.20893929, 0.90175114, 0.82877257],\n",
       "        [0.81195027, 0.90131478, 0.16149263]],\n",
       "\n",
       "       [[0.23862697, 0.37637259, 0.34800108],\n",
       "        [0.81286172, 0.92504861, 0.15537451],\n",
       "        [0.67697498, 0.36308958, 0.52349869],\n",
       "        [0.5022527 , 0.50058245, 0.45869043],\n",
       "        [0.89470855, 0.42461852, 0.95542661],\n",
       "        [0.73947643, 0.63330093, 0.78918076],\n",
       "        [0.54583939, 0.30049779, 0.4114975 ],\n",
       "        [0.59472415, 0.63150965, 0.06505449],\n",
       "        [0.89470855, 0.42461852, 0.95542661],\n",
       "        [0.56301882, 0.8789313 , 0.24221886]],\n",
       "\n",
       "       [[0.60789663, 0.49691083, 0.85635387],\n",
       "        [0.26310522, 0.04079345, 0.99385239],\n",
       "        [0.79420598, 0.21030489, 0.24874656],\n",
       "        [0.05085413, 0.57376382, 0.52548938],\n",
       "        [0.23840778, 0.69161888, 0.82899725],\n",
       "        [0.72365334, 0.47454721, 0.32858844],\n",
       "        [0.62176396, 0.14218482, 0.41026572],\n",
       "        [0.1097372 , 0.5063792 , 0.89792803],\n",
       "        [0.23862697, 0.37637259, 0.34800108],\n",
       "        [0.99837053, 0.60905946, 0.86279374]],\n",
       "\n",
       "       [[0.73947643, 0.63330093, 0.78918076],\n",
       "        [0.66127122, 0.72639757, 0.79651254],\n",
       "        [0.28694347, 0.78731577, 0.02351346],\n",
       "        [0.83039039, 0.53897716, 0.27480535],\n",
       "        [0.15535338, 0.19513668, 0.9493907 ],\n",
       "        [0.37452164, 0.92066852, 0.89450823],\n",
       "        [0.07662113, 0.09841609, 0.18870756],\n",
       "        [0.72229105, 0.18557751, 0.34140663],\n",
       "        [0.47068216, 0.59603091, 0.48019961],\n",
       "        [0.72229105, 0.18557751, 0.34140663]]])"
      ]
     },
     "execution_count": 8,
     "metadata": {},
     "output_type": "execute_result"
    }
   ],
   "source": [
    "# The som.get_weight function in a Self-Organizing Map (SOM) is used to\n",
    "# retrieve the weights associated with a particular neuron or a group of\n",
    "# neurons in the map.\n",
    "# In our case each neuron has 3 unique weights\n",
    "som.get_weights()"
   ]
  },
  {
   "cell_type": "code",
   "execution_count": 9,
   "id": "d5c8bc5c-ac03-4fb9-b4c5-2c23c6e110b4",
   "metadata": {
    "tags": []
   },
   "outputs": [
    {
     "data": {
      "text/plain": [
       "array([0.52007715, 0.36653495, 0.56706434])"
      ]
     },
     "execution_count": 9,
     "metadata": {},
     "output_type": "execute_result"
    }
   ],
   "source": [
    "# Get the weights of the first neuron (index 0)\n",
    "weights_of_first_neuron = som.get_weights()[0, 0, :]\n",
    "weights_of_first_neuron"
   ]
  },
  {
   "cell_type": "code",
   "execution_count": 10,
   "id": "41047d6d-b00b-4296-a901-0a43761b1609",
   "metadata": {
    "tags": []
   },
   "outputs": [
    {
     "data": {
      "text/plain": [
       "array([0.89470855, 0.42461852, 0.95542661])"
      ]
     },
     "execution_count": 10,
     "metadata": {},
     "output_type": "execute_result"
    }
   ],
   "source": [
    "# Get the weights of the 79th neuron (index 78)\n",
    "weights_of_79th_neuron = som.get_weights()[7, 8, :]\n",
    "weights_of_79th_neuron"
   ]
  },
  {
   "cell_type": "code",
   "execution_count": 11,
   "id": "f50c52ca-9d0e-46d5-a1dc-a57704ff919d",
   "metadata": {
    "tags": []
   },
   "outputs": [],
   "source": [
    "# Train the SOM\n",
    "som.train_random(data, num_iteration=100)"
   ]
  },
  {
   "cell_type": "code",
   "execution_count": 12,
   "id": "a1a3115a-50d2-4441-8d4c-a263d788f539",
   "metadata": {
    "tags": []
   },
   "outputs": [
    {
     "data": {
      "text/plain": [
       "<Figure size 1000x1000 with 0 Axes>"
      ]
     },
     "execution_count": 12,
     "metadata": {},
     "output_type": "execute_result"
    },
    {
     "data": {
      "text/plain": [
       "<Figure size 1000x1000 with 0 Axes>"
      ]
     },
     "metadata": {},
     "output_type": "display_data"
    }
   ],
   "source": [
    "# Plotting the result\n",
    "plt.figure(figsize=(10, 10))"
   ]
  },
  {
   "cell_type": "code",
   "execution_count": 13,
   "id": "5b7e9130-4a68-41a0-a3d9-8066380e6be0",
   "metadata": {
    "tags": []
   },
   "outputs": [
    {
     "data": {
      "image/png": "[encoded data removed]",
      "text/plain": [
       "<Figure size 640x480 with 1 Axes>"
      ]
     },
     "metadata": {},
     "output_type": "display_data"
    }
   ],
   "source": [
    "# Plot the SOM's weight vectors\n",
    "weights = som.get_weights()\n",
    "for i in range(weights.shape[0]):\n",
    "    for j in range(weights.shape[1]):\n",
    "        plt.scatter(weights[i, j, 0], weights[i, j, 1], marker='o', color='r', s=50)\n",
    "\n",
    "# Plot the original data\n",
    "plt.scatter(data[:, 0], data[:, 1], marker='x', color='b', s=50)\n",
    "\n",
    "plt.title(\"Self-Organizing Map\")\n",
    "plt.xlabel(\"Dimension 1\")\n",
    "plt.ylabel(\"Dimension 2\")\n",
    "plt.show()"
   ]
  },
  {
   "cell_type": "markdown",
   "id": "1555731b-24d5-4e39-bb49-ff5e907b2f50",
   "metadata": {},
   "source": [
    "### <span style=\"color:#3C4048; font-weight: bold; font-size: 18px; font-family: Gill Sans, sans-serif;\">Useful Resources</span>"
   ]
  },
  {
   "cell_type": "markdown",
   "id": "40026db8-403e-46be-8982-b71d86b0e32a",
   "metadata": {
    "tags": []
   },
   "source": [
    "<strong> Videos </strong><br>\n",
    "https://www.udemy.com/course/deeplearning/learn/lecture/6905316#overview<br>\n",
    "https://www.udemy.com/course/deeplearning/learn/lecture/6905318#overview<br>\n",
    "\n",
    "<strong>Articals</strong><br>\n",
    "-> https://www.superdatascience.com/blogs/self-organizing-maps-soms-how-do-self-organizing-maps-learn-part-1<br>\n",
    "-> https://www.analyticsvidhya.com/blog/2021/09/beginners-guide-to-anomaly-detection-using-self-organizing-maps/ <br>\n",
    "-> https://sci2s.ugr.es/keel/pdf/algorithm/articulo/1990-Kohonen-PIEEE.pdf <br>\n",
    "-> https://sites.pitt.edu/~is2470pb/Spring05/FinalProjects/Group1a/tutorial/som.html<br>\n",
    "-> https://www.latentview.com/blog/self-organizing-maps/<br>"
   ]
  },
  {
   "cell_type": "code",
   "execution_count": null,
   "id": "5e773742-4d73-4362-8107-be5b5afa1a9e",
   "metadata": {},
   "outputs": [],
   "source": []
  }
 ],
 "metadata": {
  "kernelspec": {
   "display_name": "Python 3 (ipykernel)",
   "language": "python",
   "name": "python3"
  },
  "language_info": {
   "codemirror_mode": {
    "name": "ipython",
    "version": 3
   },
   "file_extension": ".py",
   "mimetype": "text/x-python",
   "name": "python",
   "nbconvert_exporter": "python",
   "pygments_lexer": "ipython3",
   "version": "3.13.2"
  }
 },
 "nbformat": 4,
 "nbformat_minor": 5
}
