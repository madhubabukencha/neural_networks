{
 "cells": [
  {
   "cell_type": "markdown",
   "id": "c65eae5c-329b-43a1-845e-c0e4ba060975",
   "metadata": {
    "tags": []
   },
   "source": [
    "<p style=\"color:#153462; \n",
    "          font-weight: bold; \n",
    "          font-size: 30px; \n",
    "          font-family: Gill Sans, sans-serif; \n",
    "          text-align: center;\">\n",
    "          Self Organizing Maps</p>"
   ]
  },
  {
   "cell_type": "markdown",
   "id": "37a0198b-9983-468f-8dd4-816f976bde39",
   "metadata": {
    "tags": []
   },
   "source": [
    "<p style=\"text-align: justify; text-justify: inter-word;\">\n",
    "   <font size=3>\n",
    "       Self Organizing Map (SOM) also know as kohonen maps belongs to the unsupervized area of neural networks. SOM's are invented in 1980's by the professor Teuvo Kohonen. They are primarily used to produce a low-dimensional (typically one or two-dimensional) representation of a higher-dimensional data. SOM also represents clustering concept by grouping similar data together. Therefore it can be said that SOM <b>reduces data dimensions and displays similarities among data</b>.\n",
    "       <br><br>\n",
    "       One of the most interesting aspects of SOMs is that they learn to classify data without supervision. In supervised training techniques such as backpropagation where the training data consists of vector pairs (an input vector and a target vector). With this approach an input vector is presented to the network (typically a multilayer feedforward network) and the output is compared with the target vector. If they differ, the weights of the network are altered slightly to reduce the error in the output. This is repeated many times and with many sets of vector pairs until the network gives the desired output. Training a SOM however, requires no target vector. A SOM learns to classify the training data without any external supervision whatsoever.\n",
    "       <br><br>\n",
    "       The beauty of SOMs is that it preserves the topological relationship of the training dataset (or the input). Implying that the underlying properties of the input data are not affected even after the continuous change in the shape or the size of the figure. SOMs help to reveal correlations that are not easily identified.\n",
    "   </font>\n",
    "</p>"
   ]
  },
  {
   "cell_type": "markdown",
   "id": "3fbe0084-c43f-4176-bf35-7d59a1bafaa2",
   "metadata": {},
   "source": [
    "### <span style=\"color:#3C4048; font-weight: bold; font-size: 18px; font-family: Gill Sans, sans-serif;\">SOMs Architecture</span>"
   ]
  },
  {
   "cell_type": "markdown",
   "id": "8ee736c2-7b49-49cf-9ceb-5b3b5511d631",
   "metadata": {
    "tags": []
   },
   "source": [
    "<center><img src=\"images\\2d-nodes-lattice.jpg\" alt=\"2d-nodes-lattice\" style=\"width: 300px;\"/></center>"
   ]
  },
  {
   "cell_type": "markdown",
   "id": "148fbb57-644d-4b9e-85d6-da97b1a96747",
   "metadata": {},
   "source": [
    "<p style=\"text-align: justify; text-justify: inter-word;\">\n",
    "   <font size=3>\n",
    "       The above image shows the 2-Dimentional SOM. The network is created from a 2D lattice of 'nodes'(showing in red), each of which is fully connected to the input layer. Here a very small Kohonen network of 4 X 4 nodes connected to the input layer (shown in green) representing a two dimensional vector (NOTE: Each column in the dataset represents a single dimension. Lets say if we have 5 columns in the dataset then it would be 5-dimentional).\n",
    "       <br><br>\n",
    "       Each node has a specific topological position (an x, y coordinate in the lattice) and contains a vector of weights of the same dimension as the input vectors. That is to say, if the training data consists of vectors, X,  of n dimensions $(X_1, X_2, X_3 ... X_n)$ then each node will contain a corresponding weight vector W, of n dimensions $(W_1, W_2, W_3 ... W_n)$\n",
    "       <br><br>\n",
    "       The lines connecting the nodes in above image are only there to represent adjacency and do not signify a connection as normally indicated when discussing a neural network. There are no lateral connections (let say a connection among nodes in the hidden layer) between nodes within the lattice.\n",
    "   </font>\n",
    "</p>"
   ]
  },
  {
   "cell_type": "markdown",
   "id": "0ac2b878-03db-4299-bb66-cb9d7e46665a",
   "metadata": {},
   "source": [
    "### <span style=\"color:#3C4048; font-weight: bold; font-size: 18px; font-family: Gill Sans, sans-serif;\">How SOM's works?</span>"
   ]
  },
  {
   "cell_type": "markdown",
   "id": "86e332cc-f9ee-48a1-aa3e-0318c70f3163",
   "metadata": {},
   "source": [
    "<p style=\"text-align: justify; text-justify: inter-word;\">\n",
    "   <font size=3>\n",
    "       A SOM does not need a target output to be specified unlike many other types of network. Instead, where the node weights match the input vector, that area of the lattice is selectively optimized to more closely resemble the data for the class the input vector is a member of. From an initial distribution of random weights, and over many iterations, the SOM eventually settles into a map of stable zones. Each zone is effectively a feature classifier, so you can think of the graphical output as a type of feature map of the input space<br><br>\n",
    "Training occurs in several steps and over many iterations:\n",
    "<ul>\n",
    "    <li><b>Step-1</b>: We start with a dataset composed of n_feature independent variables</li>\n",
    "    <li>\n",
    "        <b>Step-2</b>: We create a grid composed of nodes. Each node having weight vector\n",
    "        of n_feature elements\n",
    "    </li>\n",
    "    <li>\n",
    "        <b>Step-3</b>: Randomly initialize the values of weight vectors to small number close\n",
    "        to zero (but not zero)\n",
    "    </li>\n",
    "    <li><b>Step-4</b>: Select one random observation point from the dataset</li>\n",
    "    <li>\n",
    "        <b>Step-5</b>: Compute the Euclidean distance from this point to the different\n",
    "          neurons in the network \n",
    "    </li>\n",
    "    <li>\n",
    "        <b>Step-6</b>: Select the neuron that has the minimum distance to the point. This neuron\n",
    "        is called winning Node also known as <b>Best Matching Unit (BMU).</b>\n",
    "    </li>\n",
    "    <li><b>Step-7</b>: Update the weights of the winning node to move it closer to the point</li>\n",
    "    <li>\n",
    "        <b>Step-8</b>: Using a Gaussian neighbourhood function of mean the winning node, also\n",
    "        update the weight of the winning node neighbours to move them closer to the point. <b>The\n",
    "        neighbourhood radius is the sigma in the Gaussian function</b>\n",
    "    </li>\n",
    "    <li>\n",
    "        <b>Step-9</b>: Repeat Steps 1 to 5 and update weights after each observation or after a batch\n",
    "        of observations until the network converges to the point where neighbourhood stop decreasing.\n",
    "    </li>\n",
    "</ul>\n",
    "   </font>\n",
    "</p>"
   ]
  },
  {
   "cell_type": "markdown",
   "id": "094f49a8-3361-44ef-83d5-5a0bddf97cf1",
   "metadata": {},
   "source": [
    " <span style=\"color:#3C4048; font-weight: bold; font-size: 18px; font-family: Gill Sans, sans-serif;\">Calculating the Best Matching Unit</span>"
   ]
  },
  {
   "cell_type": "markdown",
   "id": "f407039d-a74b-48a7-aad6-13cdafccaf6c",
   "metadata": {},
   "source": [
    "<center><img src=\"images\\best-matching-unit.jpg\" alt=\"best-matching-unit\" style=\"width: 300px;\"/></center>"
   ]
  },
  {
   "cell_type": "markdown",
   "id": "fbdf923d-e636-49d7-8c25-1e4e762a792e",
   "metadata": {},
   "source": [
    "<p style=\"text-align: justify; text-justify: inter-word;\">\n",
    "   <font size=3>\n",
    "       To determine the best matching unit, one method is to iterate through all the nodes and\n",
    "       calculate the Euclidean distance between each node's weight vector and the current input\n",
    "       vector. The node with a weight vector closest to the input vector is tagged as the BMU.\n",
    "       <br><br>\n",
    "       The Euclidean distance is given as: $Dist = \\sqrt{\\sum_{i=0}^{i=n} (X_i - W_i)^2}$\n",
    "       <br><br>\n",
    "       <img src=\"images\\som-calculation.png\" alt=\"som-calculation\" style=\"width: 600px;\"/>\n",
    "       <br>\n",
    "       From the above image we can say that Node 2 is the Best Matching Unit(BMU). As an example,\n",
    "       to calculate the distance at Node 2, lets assume in our dataset first rows has data like (1, 0, 0)\n",
    "       and we assume (0.1, 0.4, 0.5) are arbitrary weights at Node 2:<br>\n",
    "       distance $= sqrt( (1 - 0.1)^2 + (0 - 0.4)^2+ (0 - 0.5)^2)$<br>\n",
    "         $= sqrt( (0.9)^2 + (-0.4)^2+ (-0.5)^2 )$<br>\n",
    "         $= sqrt( 0.81 + 0.16+ 0.25 )$<br>\n",
    "         $= sqrt(1.22)$<br>\n",
    "       distance  = 1.106\n",
    "   </font>\n",
    "</p>"
   ]
  },
  {
   "cell_type": "markdown",
   "id": "d79af37c-3711-483f-852c-6c01e6196273",
   "metadata": {},
   "source": [
    "For remaining methematical calculation and explanation read:  http://www.ai-junkie.com/ann/som/som1.html"
   ]
  },
  {
   "cell_type": "markdown",
   "id": "a35753ba-5325-4f63-9144-e77a4a032db6",
   "metadata": {},
   "source": [
    "### <span style=\"color:#3C4048; font-weight: bold; font-size: 18px; font-family: Gill Sans, sans-serif;\">Simple Implementation</span>"
   ]
  },
  {
   "cell_type": "code",
   "execution_count": 1,
   "id": "29a66d01-e63e-4604-9623-d0427029165e",
   "metadata": {
    "tags": []
   },
   "outputs": [],
   "source": [
    "import numpy as np\n",
    "import matplotlib.pyplot as plt\n",
    "from minisom import MiniSom"
   ]
  },
  {
   "cell_type": "code",
   "execution_count": 2,
   "id": "8448cb92-37bc-4a4f-9a7e-42686f011362",
   "metadata": {
    "tags": []
   },
   "outputs": [],
   "source": [
    "# Generate some sample data (e.g., random points in 3D space)\n",
    "data = np.random.rand(100, 3)"
   ]
  },
  {
   "cell_type": "code",
   "execution_count": 3,
   "id": "3e2c63ae-d815-4cee-9084-ab7b8c753f02",
   "metadata": {
    "tags": []
   },
   "outputs": [
    {
     "data": {
      "text/plain": [
       "array([[0.72214342, 0.73831654, 0.70321334],\n",
       "       [0.63175699, 0.21024636, 0.71638224],\n",
       "       [0.06811862, 0.24485187, 0.78954156],\n",
       "       [0.79873969, 0.86955099, 0.20111424],\n",
       "       [0.04672885, 0.16901587, 0.91835833]])"
      ]
     },
     "execution_count": 3,
     "metadata": {},
     "output_type": "execute_result"
    }
   ],
   "source": [
    "# Top 5 rows of data\n",
    "data[0:5]"
   ]
  },
  {
   "cell_type": "code",
   "execution_count": 4,
   "id": "d3765285-b7ff-4e99-9ad6-b37a22e3fd77",
   "metadata": {
    "tags": []
   },
   "outputs": [],
   "source": [
    "# Initialize the SOM\n",
    "som = MiniSom(x=10, y=10,  # This is the grid size which represents num of nodes (10 * 10 = 100)\n",
    "              input_len=3, # The dimensionality of the input data. This should match the number of features in your dataset.  \n",
    "              sigma=1.0,  # The radius of the neighborhood function, which determines the extent of the influence a node has on its neighbors. A larger sigma means a broader area of influence.\n",
    "              learning_rate=0.5 # The initial learning rate for the training process. It controls how much the weights are adjusted during each training step.\n",
    "             )"
   ]
  },
  {
   "cell_type": "code",
   "execution_count": 5,
   "id": "e0293548-e8c4-4471-86bb-edd6c315da65",
   "metadata": {
    "tags": []
   },
   "outputs": [
    {
     "data": {
      "text/plain": [
       "(10, 10, 3)"
      ]
     },
     "execution_count": 5,
     "metadata": {},
     "output_type": "execute_result"
    }
   ],
   "source": [
    "# Initialize the weights\n",
    "som.random_weights_init(data)\n",
    "som.get_weights().shape"
   ]
  },
  {
   "cell_type": "code",
   "execution_count": 14,
   "id": "94e1932d-e0bc-426c-9992-ee41fd5c1141",
   "metadata": {
    "tags": []
   },
   "outputs": [
    {
     "data": {
      "text/plain": [
       "array([[[0.5748518 , 0.85872064, 0.55325824],\n",
       "        [0.17086221, 0.46566053, 0.1161301 ],\n",
       "        [0.28085643, 0.47789051, 0.56712849],\n",
       "        [0.07652702, 0.48840342, 0.58204432],\n",
       "        [0.47071389, 0.6758134 , 0.57782488],\n",
       "        [0.39720565, 0.94981091, 0.13808717],\n",
       "        [0.83658428, 0.77770247, 0.46403434],\n",
       "        [0.5296838 , 0.86569008, 0.21289639],\n",
       "        [0.54820635, 0.57586241, 0.58245069],\n",
       "        [0.24194967, 0.12956085, 0.88248216]],\n",
       "\n",
       "       [[0.92457882, 0.83426837, 0.83959342],\n",
       "        [0.61968239, 0.57395338, 0.51964319],\n",
       "        [0.29278305, 0.24606013, 0.5700439 ],\n",
       "        [0.36657061, 0.59862244, 0.50295618],\n",
       "        [0.36410126, 0.40279341, 0.69590645],\n",
       "        [0.19804163, 0.39615469, 0.37228612],\n",
       "        [0.42276424, 0.50658196, 0.28852334],\n",
       "        [0.6746265 , 0.44930321, 0.44258326],\n",
       "        [0.77888734, 0.3205714 , 0.5139654 ],\n",
       "        [0.79167181, 0.71183311, 0.32713076]],\n",
       "\n",
       "       [[0.39446048, 0.45829199, 0.37816983],\n",
       "        [0.52000644, 0.26088983, 0.47194993],\n",
       "        [0.20358488, 0.34998258, 0.26440974],\n",
       "        [0.62602846, 0.38209949, 0.2375128 ],\n",
       "        [0.75518822, 0.48043009, 0.15338624],\n",
       "        [0.76611921, 0.58891034, 0.58962906],\n",
       "        [0.81950412, 0.8715246 , 0.55794824],\n",
       "        [0.48163023, 0.74899937, 0.60956338],\n",
       "        [0.306109  , 0.67325677, 0.45201594],\n",
       "        [0.41887375, 0.44146219, 0.41147437]],\n",
       "\n",
       "       [[0.08201726, 0.65947432, 0.4743804 ],\n",
       "        [0.142176  , 0.13595615, 0.91969001],\n",
       "        [0.60001026, 0.61281703, 0.37917263],\n",
       "        [0.5992016 , 0.60084504, 0.47559445],\n",
       "        [0.64567413, 0.31948813, 0.58346395],\n",
       "        [0.87381798, 0.26438238, 0.53373313],\n",
       "        [0.72008302, 0.40076112, 0.43365644],\n",
       "        [0.2992151 , 0.63441278, 0.4399979 ],\n",
       "        [0.40376542, 0.3784477 , 0.71567929],\n",
       "        [0.4407761 , 0.12335554, 0.76508009]],\n",
       "\n",
       "       [[0.62905403, 0.49389194, 0.73956119],\n",
       "        [0.19103508, 0.31850076, 0.44550104],\n",
       "        [0.50803246, 0.36141568, 0.6917737 ],\n",
       "        [0.48919392, 0.18693801, 0.31516062],\n",
       "        [0.79718577, 0.2132386 , 0.38413531],\n",
       "        [0.73607798, 0.52363561, 0.58973034],\n",
       "        [0.8516264 , 0.20824112, 0.22551445],\n",
       "        [0.69248988, 0.61560021, 0.41692396],\n",
       "        [0.07059902, 0.24937534, 0.11411589],\n",
       "        [0.0664057 , 0.68990378, 0.31736104]],\n",
       "\n",
       "       [[0.70907501, 0.71848493, 0.69706052],\n",
       "        [0.6438384 , 0.2338038 , 0.30635696],\n",
       "        [0.69788382, 0.27960266, 0.37568345],\n",
       "        [0.28312423, 0.35919835, 0.39307636],\n",
       "        [0.66181883, 0.46308716, 0.573649  ],\n",
       "        [0.35475126, 0.68465652, 0.40908413],\n",
       "        [0.38959732, 0.27561251, 0.26700357],\n",
       "        [0.42906188, 0.39485124, 0.08129514],\n",
       "        [0.34994404, 0.26363756, 0.73640388],\n",
       "        [0.46844882, 0.62558871, 0.53661191]],\n",
       "\n",
       "       [[0.58636179, 0.66056188, 0.45025986],\n",
       "        [0.39938232, 0.49085672, 0.81037033],\n",
       "        [0.39263867, 0.54369483, 0.69405186],\n",
       "        [0.28991316, 0.79305187, 0.84859899],\n",
       "        [0.24211543, 0.53883724, 0.45100079],\n",
       "        [0.3639789 , 0.8335002 , 0.45284245],\n",
       "        [0.76501781, 0.89196884, 0.34740809],\n",
       "        [0.44003375, 0.6070229 , 0.59981589],\n",
       "        [0.51869146, 0.5815332 , 0.68689638],\n",
       "        [0.13057766, 0.93740548, 0.77796067]],\n",
       "\n",
       "       [[0.59705694, 0.09115083, 0.1111525 ],\n",
       "        [0.62576807, 0.44645982, 0.43026551],\n",
       "        [0.71320374, 0.57228879, 0.34701831],\n",
       "        [0.16684097, 0.78940128, 0.55305707],\n",
       "        [0.21526367, 0.71291421, 0.49108657],\n",
       "        [0.20080743, 0.6785609 , 0.37846079],\n",
       "        [0.24559093, 0.67569758, 0.17745076],\n",
       "        [0.16242269, 0.55332005, 0.46868312],\n",
       "        [0.39270561, 0.36379922, 0.72615451],\n",
       "        [0.61143039, 0.85828576, 0.78402358]],\n",
       "\n",
       "       [[0.20122185, 0.11934383, 0.08773321],\n",
       "        [0.38717729, 0.43731057, 0.33539414],\n",
       "        [0.0845612 , 0.14513682, 0.16139395],\n",
       "        [0.31451909, 0.38818815, 0.89655428],\n",
       "        [0.38065765, 0.50817516, 0.43402739],\n",
       "        [0.48511461, 0.42738531, 0.61629372],\n",
       "        [0.10525234, 0.38599893, 0.62927894],\n",
       "        [0.21294281, 0.32713373, 0.83540129],\n",
       "        [0.46265137, 0.29902582, 0.91404069],\n",
       "        [0.74294187, 0.14051041, 0.81168006]],\n",
       "\n",
       "       [[0.41406212, 0.36996608, 0.55519839],\n",
       "        [0.48652211, 0.65754878, 0.19208359],\n",
       "        [0.65036032, 0.43376451, 0.6294334 ],\n",
       "        [0.66626426, 0.49196854, 0.69094647],\n",
       "        [0.36379596, 0.41844187, 0.27022231],\n",
       "        [0.44288423, 0.38591084, 0.65660639],\n",
       "        [0.10787032, 0.43005874, 0.28146797],\n",
       "        [0.46998211, 0.46003032, 0.78754126],\n",
       "        [0.69559626, 0.5595011 , 0.53376608],\n",
       "        [0.31633861, 0.13481572, 0.30397081]]])"
      ]
     },
     "execution_count": 14,
     "metadata": {},
     "output_type": "execute_result"
    }
   ],
   "source": [
    "# The som.get_weight function in a Self-Organizing Map (SOM) is used to\n",
    "# retrieve the weights associated with a particular neuron or a group of\n",
    "# neurons in the map.\n",
    "# In our case each neuron has 3 unique weights\n",
    "som.get_weights()"
   ]
  },
  {
   "cell_type": "code",
   "execution_count": 8,
   "id": "d5c8bc5c-ac03-4fb9-b4c5-2c23c6e110b4",
   "metadata": {
    "tags": []
   },
   "outputs": [
    {
     "data": {
      "text/plain": [
       "array([0.5748518 , 0.85872064, 0.55325824])"
      ]
     },
     "execution_count": 8,
     "metadata": {},
     "output_type": "execute_result"
    }
   ],
   "source": [
    "# Get the weights of the first neuron (index 0)\n",
    "weights_of_first_neuron = som.get_weights()[0, 0, :]\n",
    "weights_of_first_neuron"
   ]
  },
  {
   "cell_type": "code",
   "execution_count": 10,
   "id": "41047d6d-b00b-4296-a901-0a43761b1609",
   "metadata": {
    "tags": []
   },
   "outputs": [
    {
     "data": {
      "text/plain": [
       "array([0.39270561, 0.36379922, 0.72615451])"
      ]
     },
     "execution_count": 10,
     "metadata": {},
     "output_type": "execute_result"
    }
   ],
   "source": [
    "# Get the weights of the 79th neuron (index 78)\n",
    "weights_of_79th_neuron = som.get_weights()[7, 8, :]\n",
    "weights_of_79th_neuron"
   ]
  },
  {
   "cell_type": "code",
   "execution_count": 7,
   "id": "f50c52ca-9d0e-46d5-a1dc-a57704ff919d",
   "metadata": {
    "tags": []
   },
   "outputs": [],
   "source": [
    "# Train the SOM\n",
    "som.train_random(data, num_iteration=100)"
   ]
  },
  {
   "cell_type": "code",
   "execution_count": 11,
   "id": "a1a3115a-50d2-4441-8d4c-a263d788f539",
   "metadata": {
    "tags": []
   },
   "outputs": [
    {
     "data": {
      "text/plain": [
       "<Figure size 1000x1000 with 0 Axes>"
      ]
     },
     "execution_count": 11,
     "metadata": {},
     "output_type": "execute_result"
    },
    {
     "data": {
      "text/plain": [
       "<Figure size 1000x1000 with 0 Axes>"
      ]
     },
     "metadata": {},
     "output_type": "display_data"
    }
   ],
   "source": [
    "# Plotting the result\n",
    "plt.figure(figsize=(10, 10))"
   ]
  },
  {
   "cell_type": "code",
   "execution_count": 12,
   "id": "5b7e9130-4a68-41a0-a3d9-8066380e6be0",
   "metadata": {
    "tags": []
   },
   "outputs": [
    {
     "data": {
      "image/png": "[encoded data removed]",
      "text/plain": [
       "<Figure size 640x480 with 1 Axes>"
      ]
     },
     "metadata": {},
     "output_type": "display_data"
    }
   ],
   "source": [
    "# Plot the SOM's weight vectors\n",
    "weights = som.get_weights()\n",
    "for i in range(weights.shape[0]):\n",
    "    for j in range(weights.shape[1]):\n",
    "        plt.scatter(weights[i, j, 0], weights[i, j, 1], marker='o', color='r', s=50)\n",
    "\n",
    "# Plot the original data\n",
    "plt.scatter(data[:, 0], data[:, 1], marker='x', color='b', s=50)\n",
    "\n",
    "plt.title(\"Self-Organizing Map\")\n",
    "plt.xlabel(\"Dimension 1\")\n",
    "plt.ylabel(\"Dimension 2\")\n",
    "plt.show()"
   ]
  },
  {
   "cell_type": "markdown",
   "id": "1555731b-24d5-4e39-bb49-ff5e907b2f50",
   "metadata": {},
   "source": [
    "### <span style=\"color:#3C4048; font-weight: bold; font-size: 18px; font-family: Gill Sans, sans-serif;\">Useful Resources</span>"
   ]
  },
  {
   "cell_type": "markdown",
   "id": "40026db8-403e-46be-8982-b71d86b0e32a",
   "metadata": {
    "tags": []
   },
   "source": [
    "<strong> Videos </strong><br>\n",
    "https://www.udemy.com/course/deeplearning/learn/lecture/6905316#overview<br>\n",
    "https://www.udemy.com/course/deeplearning/learn/lecture/6905318#overview<br>\n",
    "\n",
    "<strong>Articals</strong><br>\n",
    "-> https://www.superdatascience.com/blogs/self-organizing-maps-soms-how-do-self-organizing-maps-learn-part-1<br>\n",
    "-> https://www.analyticsvidhya.com/blog/2021/09/beginners-guide-to-anomaly-detection-using-self-organizing-maps/ <br>\n",
    "-> https://sci2s.ugr.es/keel/pdf/algorithm/articulo/1990-Kohonen-PIEEE.pdf <br>\n",
    "-> https://sites.pitt.edu/~is2470pb/Spring05/FinalProjects/Group1a/tutorial/som.html<br>\n",
    "-> https://www.latentview.com/blog/self-organizing-maps/<br>"
   ]
  },
  {
   "cell_type": "code",
   "execution_count": null,
   "id": "5e773742-4d73-4362-8107-be5b5afa1a9e",
   "metadata": {},
   "outputs": [],
   "source": []
  }
 ],
 "metadata": {
  "kernelspec": {
   "display_name": "Python 3 (ipykernel)",
   "language": "python",
   "name": "python3"
  },
  "language_info": {
   "codemirror_mode": {
    "name": "ipython",
    "version": 3
   },
   "file_extension": ".py",
   "mimetype": "text/x-python",
   "name": "python",
   "nbconvert_exporter": "python",
   "pygments_lexer": "ipython3",
   "version": "3.11.2"
  }
 },
 "nbformat": 4,
 "nbformat_minor": 5
}
