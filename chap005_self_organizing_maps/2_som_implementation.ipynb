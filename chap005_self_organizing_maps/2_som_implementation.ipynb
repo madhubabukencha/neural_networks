{
 "cells": [
  {
   "cell_type": "markdown",
   "id": "2edc9a61-9e86-4f0e-a9c9-a9e854350849",
   "metadata": {
    "tags": []
   },
   "source": [
    "<p style=\"color:#153462; \n",
    "          font-weight: bold; \n",
    "          font-size: 30px; \n",
    "          font-family: Gill Sans, sans-serif; \n",
    "          text-align: center;\">\n",
    "          SOM Implementation</p>"
   ]
  },
  {
   "cell_type": "markdown",
   "id": "4012c112-6436-4f62-9f07-64ee8798a4ab",
   "metadata": {
    "tags": []
   },
   "source": [
    "### <span style=\"color:#3C4048; font-weight: bold; font-size: 18px; font-family: Gill Sans, sans-serif;\">About Dataset</span>"
   ]
  },
  {
   "cell_type": "markdown",
   "id": "5111c7e5-31ff-4e0d-ba92-4a63c79c6058",
   "metadata": {},
   "source": [
    "<p style=\"text-align: justify; text-justify: inter-word;\">\n",
    "   <font size=3>\n",
    "       <b>Dataset</b>: <a href=\"https://archive.ics.uci.edu/dataset/143/statlog+australian+credit+approval\">Australian Credit Approval</a>\n",
    "   </font>\n",
    "</p>"
   ]
  },
  {
   "cell_type": "markdown",
   "id": "e348ff11-11ef-4d60-8600-c0f159496f0e",
   "metadata": {},
   "source": [
    "<p style=\"text-align: justify; text-justify: inter-word;\">\n",
    "   <font size=3>\n",
    "       This file concerns credit card applications.  All attribute names and values have been changed to meaningless\n",
    "       symbols to protect confidentiality of the data.\n",
    "       This dataset is interesting because there is a good mix of attributes -- continuous, nominal with small numbers\n",
    "       of values, and nominal with larger numbers of values.  There are also a few missing values.\n",
    "   </font>\n",
    "</p>\n",
    "\n"
   ]
  },
  {
   "cell_type": "markdown",
   "id": "2ae47a2e-bc5f-4767-9a64-787b08791881",
   "metadata": {},
   "source": [
    "### <span style=\"color:#3C4048; font-weight: bold; font-size: 18px; font-family: Gill Sans, sans-serif;\">Goal of the Experiment</span>"
   ]
  },
  {
   "cell_type": "markdown",
   "id": "abea7416-7f23-425c-874a-9d0adeccbb2d",
   "metadata": {},
   "source": [
    "<p style=\"text-align: justify; text-justify: inter-word;\">\n",
    "   <font size=3>\n",
    "       Predicting group of customer who are fradulent. \n",
    "   </font>\n",
    "</p>"
   ]
  },
  {
   "cell_type": "markdown",
   "id": "7bf5e227-8895-430c-9fc0-63ef18ea409c",
   "metadata": {},
   "source": [
    "### <span style=\"color:#3C4048; font-weight: bold; font-size: 18px; font-family: Gill Sans, sans-serif;\">Required Packages</span>"
   ]
  },
  {
   "cell_type": "code",
   "execution_count": 1,
   "id": "0f702740-bc08-4924-b88a-413c8ff3cd18",
   "metadata": {
    "tags": []
   },
   "outputs": [],
   "source": [
    "import numpy as np\n",
    "import matplotlib.pyplot as plt\n",
    "import pandas as pd\n",
    "from sklearn.preprocessing import MinMaxScaler"
   ]
  },
  {
   "cell_type": "markdown",
   "id": "56a2d11f-3687-4acf-9a7b-0f49d14e020c",
   "metadata": {},
   "source": [
    "### <span style=\"color:#3C4048; font-weight: bold; font-size: 18px; font-family: Gill Sans, sans-serif;\">Load Dataset</span>"
   ]
  },
  {
   "cell_type": "code",
   "execution_count": 2,
   "id": "76ecc764-c5c4-445c-91a5-6c2334ac238a",
   "metadata": {
    "tags": []
   },
   "outputs": [],
   "source": [
    "dataset = pd.read_csv(\"dataset/Credit_Card_Applications.csv\")"
   ]
  },
  {
   "cell_type": "code",
   "execution_count": 3,
   "id": "33c1bc87-9cc6-41db-8cdd-c3d54f969750",
   "metadata": {
    "tags": []
   },
   "outputs": [
    {
     "data": {
      "text/html": [
       "<div>\n",
       "<style scoped>\n",
       "    .dataframe tbody tr th:only-of-type {\n",
       "        vertical-align: middle;\n",
       "    }\n",
       "\n",
       "    .dataframe tbody tr th {\n",
       "        vertical-align: top;\n",
       "    }\n",
       "\n",
       "    .dataframe thead th {\n",
       "        text-align: right;\n",
       "    }\n",
       "</style>\n",
       "<table border=\"1\" class=\"dataframe\">\n",
       "  <thead>\n",
       "    <tr style=\"text-align: right;\">\n",
       "      <th></th>\n",
       "      <th>CustomerID</th>\n",
       "      <th>A1</th>\n",
       "      <th>A2</th>\n",
       "      <th>A3</th>\n",
       "      <th>A4</th>\n",
       "      <th>A5</th>\n",
       "      <th>A6</th>\n",
       "      <th>A7</th>\n",
       "      <th>A8</th>\n",
       "      <th>A9</th>\n",
       "      <th>A10</th>\n",
       "      <th>A11</th>\n",
       "      <th>A12</th>\n",
       "      <th>A13</th>\n",
       "      <th>A14</th>\n",
       "      <th>Class</th>\n",
       "    </tr>\n",
       "  </thead>\n",
       "  <tbody>\n",
       "    <tr>\n",
       "      <th>0</th>\n",
       "      <td>15776156</td>\n",
       "      <td>1</td>\n",
       "      <td>22.08</td>\n",
       "      <td>11.46</td>\n",
       "      <td>2</td>\n",
       "      <td>4</td>\n",
       "      <td>4</td>\n",
       "      <td>1.585</td>\n",
       "      <td>0</td>\n",
       "      <td>0</td>\n",
       "      <td>0</td>\n",
       "      <td>1</td>\n",
       "      <td>2</td>\n",
       "      <td>100</td>\n",
       "      <td>1213</td>\n",
       "      <td>0</td>\n",
       "    </tr>\n",
       "    <tr>\n",
       "      <th>1</th>\n",
       "      <td>15739548</td>\n",
       "      <td>0</td>\n",
       "      <td>22.67</td>\n",
       "      <td>7.00</td>\n",
       "      <td>2</td>\n",
       "      <td>8</td>\n",
       "      <td>4</td>\n",
       "      <td>0.165</td>\n",
       "      <td>0</td>\n",
       "      <td>0</td>\n",
       "      <td>0</td>\n",
       "      <td>0</td>\n",
       "      <td>2</td>\n",
       "      <td>160</td>\n",
       "      <td>1</td>\n",
       "      <td>0</td>\n",
       "    </tr>\n",
       "    <tr>\n",
       "      <th>2</th>\n",
       "      <td>15662854</td>\n",
       "      <td>0</td>\n",
       "      <td>29.58</td>\n",
       "      <td>1.75</td>\n",
       "      <td>1</td>\n",
       "      <td>4</td>\n",
       "      <td>4</td>\n",
       "      <td>1.250</td>\n",
       "      <td>0</td>\n",
       "      <td>0</td>\n",
       "      <td>0</td>\n",
       "      <td>1</td>\n",
       "      <td>2</td>\n",
       "      <td>280</td>\n",
       "      <td>1</td>\n",
       "      <td>0</td>\n",
       "    </tr>\n",
       "    <tr>\n",
       "      <th>3</th>\n",
       "      <td>15687688</td>\n",
       "      <td>0</td>\n",
       "      <td>21.67</td>\n",
       "      <td>11.50</td>\n",
       "      <td>1</td>\n",
       "      <td>5</td>\n",
       "      <td>3</td>\n",
       "      <td>0.000</td>\n",
       "      <td>1</td>\n",
       "      <td>1</td>\n",
       "      <td>11</td>\n",
       "      <td>1</td>\n",
       "      <td>2</td>\n",
       "      <td>0</td>\n",
       "      <td>1</td>\n",
       "      <td>1</td>\n",
       "    </tr>\n",
       "    <tr>\n",
       "      <th>4</th>\n",
       "      <td>15715750</td>\n",
       "      <td>1</td>\n",
       "      <td>20.17</td>\n",
       "      <td>8.17</td>\n",
       "      <td>2</td>\n",
       "      <td>6</td>\n",
       "      <td>4</td>\n",
       "      <td>1.960</td>\n",
       "      <td>1</td>\n",
       "      <td>1</td>\n",
       "      <td>14</td>\n",
       "      <td>0</td>\n",
       "      <td>2</td>\n",
       "      <td>60</td>\n",
       "      <td>159</td>\n",
       "      <td>1</td>\n",
       "    </tr>\n",
       "  </tbody>\n",
       "</table>\n",
       "</div>"
      ],
      "text/plain": [
       "   CustomerID  A1     A2     A3  A4  A5  A6     A7  A8  A9  A10  A11  A12  \\\n",
       "0    15776156   1  22.08  11.46   2   4   4  1.585   0   0    0    1    2   \n",
       "1    15739548   0  22.67   7.00   2   8   4  0.165   0   0    0    0    2   \n",
       "2    15662854   0  29.58   1.75   1   4   4  1.250   0   0    0    1    2   \n",
       "3    15687688   0  21.67  11.50   1   5   3  0.000   1   1   11    1    2   \n",
       "4    15715750   1  20.17   8.17   2   6   4  1.960   1   1   14    0    2   \n",
       "\n",
       "   A13   A14  Class  \n",
       "0  100  1213      0  \n",
       "1  160     1      0  \n",
       "2  280     1      0  \n",
       "3    0     1      1  \n",
       "4   60   159      1  "
      ]
     },
     "execution_count": 3,
     "metadata": {},
     "output_type": "execute_result"
    }
   ],
   "source": [
    "dataset.head()"
   ]
  },
  {
   "cell_type": "markdown",
   "id": "ecb3295c-f8e7-4a5c-8732-061824aca880",
   "metadata": {},
   "source": [
    "<p style=\"text-align: justify; text-justify: inter-word;\">\n",
    "   <font size=3>\n",
    "       <b>Class 0</b>: It represents, application is rejected <br>\n",
    "       <b>Class 1</b>: It represents, application is accepted\n",
    "   </font>\n",
    "</p>"
   ]
  },
  {
   "cell_type": "code",
   "execution_count": 4,
   "id": "2fda9265-7fae-4f4c-8cb0-2c0b97725081",
   "metadata": {
    "tags": []
   },
   "outputs": [
    {
     "name": "stdout",
     "output_type": "stream",
     "text": [
      "<class 'pandas.core.frame.DataFrame'>\n",
      "RangeIndex: 690 entries, 0 to 689\n",
      "Data columns (total 16 columns):\n",
      " #   Column      Non-Null Count  Dtype  \n",
      "---  ------      --------------  -----  \n",
      " 0   CustomerID  690 non-null    int64  \n",
      " 1   A1          690 non-null    int64  \n",
      " 2   A2          690 non-null    float64\n",
      " 3   A3          690 non-null    float64\n",
      " 4   A4          690 non-null    int64  \n",
      " 5   A5          690 non-null    int64  \n",
      " 6   A6          690 non-null    int64  \n",
      " 7   A7          690 non-null    float64\n",
      " 8   A8          690 non-null    int64  \n",
      " 9   A9          690 non-null    int64  \n",
      " 10  A10         690 non-null    int64  \n",
      " 11  A11         690 non-null    int64  \n",
      " 12  A12         690 non-null    int64  \n",
      " 13  A13         690 non-null    int64  \n",
      " 14  A14         690 non-null    int64  \n",
      " 15  Class       690 non-null    int64  \n",
      "dtypes: float64(3), int64(13)\n",
      "memory usage: 86.4 KB\n"
     ]
    }
   ],
   "source": [
    "dataset.info()"
   ]
  },
  {
   "cell_type": "code",
   "execution_count": 5,
   "id": "9eaee98b-2387-4baf-a356-2c9bd86706d3",
   "metadata": {
    "tags": []
   },
   "outputs": [],
   "source": [
    "# The values attribute returns the data in array format\n",
    "X = dataset.iloc[:, :-1].values\n",
    "y = dataset.iloc[:, -1].values  # We don't required them because it we are going to solve this problem in unsupervised way."
   ]
  },
  {
   "cell_type": "markdown",
   "id": "f9b7a61d-0089-442f-8e8d-20be8c13e25b",
   "metadata": {
    "tags": []
   },
   "source": [
    "### <span style=\"color:#3C4048; font-weight: bold; font-size: 18px; font-family: Gill Sans, sans-serif;\">Feature Scaling</span>"
   ]
  },
  {
   "cell_type": "code",
   "execution_count": 8,
   "id": "59cbb7f6-3055-4f3b-b07c-4ee4e859f8d7",
   "metadata": {
    "tags": []
   },
   "outputs": [
    {
     "data": {
      "text/plain": [
       "array([[8.42681467e-01, 1.00000000e+00, 1.25263158e-01, ...,\n",
       "        5.00000000e-01, 5.00000000e-02, 1.21200000e-02],\n",
       "       [6.96090562e-01, 0.00000000e+00, 1.34135338e-01, ...,\n",
       "        5.00000000e-01, 8.00000000e-02, 0.00000000e+00],\n",
       "       [3.88981656e-01, 0.00000000e+00, 2.38045113e-01, ...,\n",
       "        5.00000000e-01, 1.40000000e-01, 0.00000000e+00],\n",
       "       ...,\n",
       "       [4.39420332e-01, 0.00000000e+00, 7.63909774e-02, ...,\n",
       "        5.00000000e-01, 5.00000000e-02, 0.00000000e+00],\n",
       "       [8.44034934e-01, 0.00000000e+00, 2.05563910e-01, ...,\n",
       "        5.00000000e-01, 6.00000000e-02, 1.10000000e-04],\n",
       "       [1.06907888e-01, 1.00000000e+00, 4.09774436e-01, ...,\n",
       "        0.00000000e+00, 2.80000000e-01, 0.00000000e+00]])"
      ]
     },
     "execution_count": 8,
     "metadata": {},
     "output_type": "execute_result"
    }
   ],
   "source": [
    "sc = MinMaxScaler(feature_range=(0, 1))\n",
    "X = sc.fit_transform(X)\n",
    "X"
   ]
  },
  {
   "cell_type": "code",
   "execution_count": 9,
   "id": "d06b1711-0024-4156-8bac-5156e6a913ab",
   "metadata": {},
   "outputs": [
    {
     "data": {
      "text/plain": [
       "(690, 15)"
      ]
     },
     "execution_count": 9,
     "metadata": {},
     "output_type": "execute_result"
    }
   ],
   "source": [
    "X.shape"
   ]
  },
  {
   "cell_type": "code",
   "execution_count": null,
   "id": "9e7688ff-fd64-45f1-9042-490ac8aa38e9",
   "metadata": {},
   "outputs": [],
   "source": []
  }
 ],
 "metadata": {
  "kernelspec": {
   "display_name": "Python 3 (ipykernel)",
   "language": "python",
   "name": "python3"
  },
  "language_info": {
   "codemirror_mode": {
    "name": "ipython",
    "version": 3
   },
   "file_extension": ".py",
   "mimetype": "text/x-python",
   "name": "python",
   "nbconvert_exporter": "python",
   "pygments_lexer": "ipython3",
   "version": "3.11.2"
  }
 },
 "nbformat": 4,
 "nbformat_minor": 5
}
