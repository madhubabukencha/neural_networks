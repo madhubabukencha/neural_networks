{
 "cells": [
  {
   "cell_type": "markdown",
   "id": "2edc9a61-9e86-4f0e-a9c9-a9e854350849",
   "metadata": {
    "tags": []
   },
   "source": [
    "<p style=\"color:#153462; \n",
    "          font-weight: bold; \n",
    "          font-size: 30px; \n",
    "          font-family: Gill Sans, sans-serif; \n",
    "          text-align: center;\">\n",
    "          SOM Implementation</p>"
   ]
  },
  {
   "cell_type": "markdown",
   "id": "4012c112-6436-4f62-9f07-64ee8798a4ab",
   "metadata": {
    "tags": []
   },
   "source": [
    "### <span style=\"color:#3C4048; font-weight: bold; font-size: 18px; font-family: Gill Sans, sans-serif;\">About Dataset</span>"
   ]
  },
  {
   "cell_type": "markdown",
   "id": "5111c7e5-31ff-4e0d-ba92-4a63c79c6058",
   "metadata": {},
   "source": [
    "<p style=\"text-align: justify; text-justify: inter-word;\">\n",
    "   <font size=3>\n",
    "       <b>Dataset</b>: <a href=\"https://archive.ics.uci.edu/dataset/143/statlog+australian+credit+approval\">Australian Credit Approval</a>\n",
    "   </font>\n",
    "</p>"
   ]
  },
  {
   "cell_type": "markdown",
   "id": "e348ff11-11ef-4d60-8600-c0f159496f0e",
   "metadata": {},
   "source": [
    "<p style=\"text-align: justify; text-justify: inter-word;\">\n",
    "   <font size=3>\n",
    "       This file contains credit card applications.  All attribute names and values have been changed to meaningless\n",
    "       symbols to protect confidentiality of the data.\n",
    "       This dataset is interesting because there is a good mix of attributes -- continuous, nominal with small numbers\n",
    "       of values, and nominal(refers to categorical data that doesn't have a numerical order.) with larger numbers of values.  There are also a few missing values.\n",
    "   </font>\n",
    "</p>\n",
    "\n"
   ]
  },
  {
   "cell_type": "markdown",
   "id": "2ae47a2e-bc5f-4767-9a64-787b08791881",
   "metadata": {},
   "source": [
    "### <span style=\"color:#3C4048; font-weight: bold; font-size: 18px; font-family: Gill Sans, sans-serif;\">Goal of the Experiment</span>"
   ]
  },
  {
   "cell_type": "markdown",
   "id": "abea7416-7f23-425c-874a-9d0adeccbb2d",
   "metadata": {},
   "source": [
    "<p style=\"text-align: justify; text-justify: inter-word;\">\n",
    "   <font size=3>\n",
    "       Predicting group of customer who are fradulent. we are going to solve this problem in an unsupervised way.\n",
    "   </font>\n",
    "</p>"
   ]
  },
  {
   "cell_type": "markdown",
   "id": "7bf5e227-8895-430c-9fc0-63ef18ea409c",
   "metadata": {
    "tags": []
   },
   "source": [
    "### <span style=\"color:#3C4048; font-weight: bold; font-size: 18px; font-family: Gill Sans, sans-serif;\">Required Packages</span>"
   ]
  },
  {
   "cell_type": "code",
   "execution_count": 1,
   "id": "0f702740-bc08-4924-b88a-413c8ff3cd18",
   "metadata": {
    "tags": []
   },
   "outputs": [],
   "source": [
    "import numpy as np\n",
    "import matplotlib.pyplot as plt\n",
    "import pandas as pd\n",
    "from sklearn.preprocessing import MinMaxScaler\n",
    "from minisom import MiniSom"
   ]
  },
  {
   "cell_type": "markdown",
   "id": "56a2d11f-3687-4acf-9a7b-0f49d14e020c",
   "metadata": {},
   "source": [
    "### <span style=\"color:#3C4048; font-weight: bold; font-size: 18px; font-family: Gill Sans, sans-serif;\">Load Dataset</span>"
   ]
  },
  {
   "cell_type": "code",
   "execution_count": 2,
   "id": "76ecc764-c5c4-445c-91a5-6c2334ac238a",
   "metadata": {
    "tags": []
   },
   "outputs": [],
   "source": [
    "dataset = pd.read_csv(\"dataset/Credit_Card_Applications.csv\")"
   ]
  },
  {
   "cell_type": "code",
   "execution_count": 3,
   "id": "33c1bc87-9cc6-41db-8cdd-c3d54f969750",
   "metadata": {
    "tags": []
   },
   "outputs": [
    {
     "data": {
      "text/html": [
       "<div>\n",
       "<style scoped>\n",
       "    .dataframe tbody tr th:only-of-type {\n",
       "        vertical-align: middle;\n",
       "    }\n",
       "\n",
       "    .dataframe tbody tr th {\n",
       "        vertical-align: top;\n",
       "    }\n",
       "\n",
       "    .dataframe thead th {\n",
       "        text-align: right;\n",
       "    }\n",
       "</style>\n",
       "<table border=\"1\" class=\"dataframe\">\n",
       "  <thead>\n",
       "    <tr style=\"text-align: right;\">\n",
       "      <th></th>\n",
       "      <th>CustomerID</th>\n",
       "      <th>A1</th>\n",
       "      <th>A2</th>\n",
       "      <th>A3</th>\n",
       "      <th>A4</th>\n",
       "      <th>A5</th>\n",
       "      <th>A6</th>\n",
       "      <th>A7</th>\n",
       "      <th>A8</th>\n",
       "      <th>A9</th>\n",
       "      <th>A10</th>\n",
       "      <th>A11</th>\n",
       "      <th>A12</th>\n",
       "      <th>A13</th>\n",
       "      <th>A14</th>\n",
       "      <th>Class</th>\n",
       "    </tr>\n",
       "  </thead>\n",
       "  <tbody>\n",
       "    <tr>\n",
       "      <th>0</th>\n",
       "      <td>15776156</td>\n",
       "      <td>1</td>\n",
       "      <td>22.08</td>\n",
       "      <td>11.46</td>\n",
       "      <td>2</td>\n",
       "      <td>4</td>\n",
       "      <td>4</td>\n",
       "      <td>1.585</td>\n",
       "      <td>0</td>\n",
       "      <td>0</td>\n",
       "      <td>0</td>\n",
       "      <td>1</td>\n",
       "      <td>2</td>\n",
       "      <td>100</td>\n",
       "      <td>1213</td>\n",
       "      <td>0</td>\n",
       "    </tr>\n",
       "    <tr>\n",
       "      <th>1</th>\n",
       "      <td>15739548</td>\n",
       "      <td>0</td>\n",
       "      <td>22.67</td>\n",
       "      <td>7.00</td>\n",
       "      <td>2</td>\n",
       "      <td>8</td>\n",
       "      <td>4</td>\n",
       "      <td>0.165</td>\n",
       "      <td>0</td>\n",
       "      <td>0</td>\n",
       "      <td>0</td>\n",
       "      <td>0</td>\n",
       "      <td>2</td>\n",
       "      <td>160</td>\n",
       "      <td>1</td>\n",
       "      <td>0</td>\n",
       "    </tr>\n",
       "    <tr>\n",
       "      <th>2</th>\n",
       "      <td>15662854</td>\n",
       "      <td>0</td>\n",
       "      <td>29.58</td>\n",
       "      <td>1.75</td>\n",
       "      <td>1</td>\n",
       "      <td>4</td>\n",
       "      <td>4</td>\n",
       "      <td>1.250</td>\n",
       "      <td>0</td>\n",
       "      <td>0</td>\n",
       "      <td>0</td>\n",
       "      <td>1</td>\n",
       "      <td>2</td>\n",
       "      <td>280</td>\n",
       "      <td>1</td>\n",
       "      <td>0</td>\n",
       "    </tr>\n",
       "    <tr>\n",
       "      <th>3</th>\n",
       "      <td>15687688</td>\n",
       "      <td>0</td>\n",
       "      <td>21.67</td>\n",
       "      <td>11.50</td>\n",
       "      <td>1</td>\n",
       "      <td>5</td>\n",
       "      <td>3</td>\n",
       "      <td>0.000</td>\n",
       "      <td>1</td>\n",
       "      <td>1</td>\n",
       "      <td>11</td>\n",
       "      <td>1</td>\n",
       "      <td>2</td>\n",
       "      <td>0</td>\n",
       "      <td>1</td>\n",
       "      <td>1</td>\n",
       "    </tr>\n",
       "    <tr>\n",
       "      <th>4</th>\n",
       "      <td>15715750</td>\n",
       "      <td>1</td>\n",
       "      <td>20.17</td>\n",
       "      <td>8.17</td>\n",
       "      <td>2</td>\n",
       "      <td>6</td>\n",
       "      <td>4</td>\n",
       "      <td>1.960</td>\n",
       "      <td>1</td>\n",
       "      <td>1</td>\n",
       "      <td>14</td>\n",
       "      <td>0</td>\n",
       "      <td>2</td>\n",
       "      <td>60</td>\n",
       "      <td>159</td>\n",
       "      <td>1</td>\n",
       "    </tr>\n",
       "  </tbody>\n",
       "</table>\n",
       "</div>"
      ],
      "text/plain": [
       "   CustomerID  A1     A2     A3  A4  A5  A6     A7  A8  A9  A10  A11  A12  \\\n",
       "0    15776156   1  22.08  11.46   2   4   4  1.585   0   0    0    1    2   \n",
       "1    15739548   0  22.67   7.00   2   8   4  0.165   0   0    0    0    2   \n",
       "2    15662854   0  29.58   1.75   1   4   4  1.250   0   0    0    1    2   \n",
       "3    15687688   0  21.67  11.50   1   5   3  0.000   1   1   11    1    2   \n",
       "4    15715750   1  20.17   8.17   2   6   4  1.960   1   1   14    0    2   \n",
       "\n",
       "   A13   A14  Class  \n",
       "0  100  1213      0  \n",
       "1  160     1      0  \n",
       "2  280     1      0  \n",
       "3    0     1      1  \n",
       "4   60   159      1  "
      ]
     },
     "execution_count": 3,
     "metadata": {},
     "output_type": "execute_result"
    }
   ],
   "source": [
    "dataset.head()"
   ]
  },
  {
   "cell_type": "markdown",
   "id": "ecb3295c-f8e7-4a5c-8732-061824aca880",
   "metadata": {},
   "source": [
    "<p style=\"text-align: justify; text-justify: inter-word;\">\n",
    "   <font size=3>\n",
    "       <b>Class 0</b>: It represents, no fraud <br>\n",
    "       <b>Class 1</b>: It represents, fraud\n",
    "   </font>\n",
    "</p>"
   ]
  },
  {
   "cell_type": "code",
   "execution_count": 4,
   "id": "2fda9265-7fae-4f4c-8cb0-2c0b97725081",
   "metadata": {
    "tags": []
   },
   "outputs": [
    {
     "name": "stdout",
     "output_type": "stream",
     "text": [
      "<class 'pandas.core.frame.DataFrame'>\n",
      "RangeIndex: 690 entries, 0 to 689\n",
      "Data columns (total 16 columns):\n",
      " #   Column      Non-Null Count  Dtype  \n",
      "---  ------      --------------  -----  \n",
      " 0   CustomerID  690 non-null    int64  \n",
      " 1   A1          690 non-null    int64  \n",
      " 2   A2          690 non-null    float64\n",
      " 3   A3          690 non-null    float64\n",
      " 4   A4          690 non-null    int64  \n",
      " 5   A5          690 non-null    int64  \n",
      " 6   A6          690 non-null    int64  \n",
      " 7   A7          690 non-null    float64\n",
      " 8   A8          690 non-null    int64  \n",
      " 9   A9          690 non-null    int64  \n",
      " 10  A10         690 non-null    int64  \n",
      " 11  A11         690 non-null    int64  \n",
      " 12  A12         690 non-null    int64  \n",
      " 13  A13         690 non-null    int64  \n",
      " 14  A14         690 non-null    int64  \n",
      " 15  Class       690 non-null    int64  \n",
      "dtypes: float64(3), int64(13)\n",
      "memory usage: 86.4 KB\n"
     ]
    }
   ],
   "source": [
    "dataset.info()"
   ]
  },
  {
   "cell_type": "code",
   "execution_count": 5,
   "id": "9eaee98b-2387-4baf-a356-2c9bd86706d3",
   "metadata": {
    "tags": []
   },
   "outputs": [],
   "source": [
    "# The values attribute returns the data in array format\n",
    "X = dataset.iloc[:, :-1].values\n",
    "y = dataset.iloc[:, -1].values  # We don't required them because it we are going to solve this problem in unsupervised way."
   ]
  },
  {
   "cell_type": "markdown",
   "id": "f9b7a61d-0089-442f-8e8d-20be8c13e25b",
   "metadata": {
    "tags": []
   },
   "source": [
    "### <span style=\"color:#3C4048; font-weight: bold; font-size: 18px; font-family: Gill Sans, sans-serif;\">Feature Scaling</span>"
   ]
  },
  {
   "cell_type": "code",
   "execution_count": 6,
   "id": "59cbb7f6-3055-4f3b-b07c-4ee4e859f8d7",
   "metadata": {
    "tags": []
   },
   "outputs": [
    {
     "data": {
      "text/plain": [
       "array([[8.42681467e-01, 1.00000000e+00, 1.25263158e-01, ...,\n",
       "        5.00000000e-01, 5.00000000e-02, 1.21200000e-02],\n",
       "       [6.96090562e-01, 0.00000000e+00, 1.34135338e-01, ...,\n",
       "        5.00000000e-01, 8.00000000e-02, 0.00000000e+00],\n",
       "       [3.88981656e-01, 0.00000000e+00, 2.38045113e-01, ...,\n",
       "        5.00000000e-01, 1.40000000e-01, 0.00000000e+00],\n",
       "       ...,\n",
       "       [4.39420332e-01, 0.00000000e+00, 7.63909774e-02, ...,\n",
       "        5.00000000e-01, 5.00000000e-02, 0.00000000e+00],\n",
       "       [8.44034934e-01, 0.00000000e+00, 2.05563910e-01, ...,\n",
       "        5.00000000e-01, 6.00000000e-02, 1.10000000e-04],\n",
       "       [1.06907888e-01, 1.00000000e+00, 4.09774436e-01, ...,\n",
       "        0.00000000e+00, 2.80000000e-01, 0.00000000e+00]], shape=(690, 15))"
      ]
     },
     "execution_count": 6,
     "metadata": {},
     "output_type": "execute_result"
    }
   ],
   "source": [
    "sc = MinMaxScaler(feature_range=(0, 1))\n",
    "X = sc.fit_transform(X)\n",
    "X"
   ]
  },
  {
   "cell_type": "code",
   "execution_count": 7,
   "id": "d06b1711-0024-4156-8bac-5156e6a913ab",
   "metadata": {},
   "outputs": [
    {
     "name": "stdout",
     "output_type": "stream",
     "text": [
      "Dataset shape with labels:  (690, 16)\n",
      "Transformed dataset shape without labels: (690, 15)\n"
     ]
    }
   ],
   "source": [
    "print(f\"Dataset shape with labels: \", dataset.shape)\n",
    "print(f\"Transformed dataset shape without labels:\", X.shape)"
   ]
  },
  {
   "cell_type": "markdown",
   "id": "4ac73286-d6e5-4812-83e6-0217945a5252",
   "metadata": {},
   "source": [
    "### <span style=\"color:#3C4048; font-weight: bold; font-size: 18px; font-family: Gill Sans, sans-serif;\">Training the SOM</span>"
   ]
  },
  {
   "cell_type": "code",
   "execution_count": 8,
   "id": "a52a57bd-dcae-4677-83bb-df1244879353",
   "metadata": {
    "tags": []
   },
   "outputs": [],
   "source": [
    "# Initialize the SOM\n",
    "som = MiniSom(x=10, y=10,       # This is the grid size which represents num of nodes (10 * 10 = 100)\n",
    "              input_len=15,     # The dimensionality of the input data. This should match the number of features in your dataset.  \n",
    "              sigma=1.0,        # The radius of the neighborhood function, which determines the extent of the influence a node has on its neighbors. A larger sigma means a broader area of influence.\n",
    "              learning_rate=0.5 # The initial learning rate for the training process. It controls how much the weights are adjusted during each training step.\n",
    "             )"
   ]
  },
  {
   "cell_type": "code",
   "execution_count": 9,
   "id": "f64c7221-d7c4-4f1d-995d-3c5fd374e0e8",
   "metadata": {
    "tags": []
   },
   "outputs": [],
   "source": [
    "som.random_weights_init(X)"
   ]
  },
  {
   "cell_type": "code",
   "execution_count": 10,
   "id": "8efcb2f6-3ee9-4f82-9345-4449f184fdfa",
   "metadata": {
    "tags": []
   },
   "outputs": [
    {
     "data": {
      "text/plain": [
       "array([0.48842545, 0.        , 0.11909774, 0.41071429, 0.        ,\n",
       "       0.30769231, 0.25      , 0.        , 1.        , 1.        ,\n",
       "       0.1641791 , 1.        , 0.5       , 0.        , 0.        ])"
      ]
     },
     "execution_count": 10,
     "metadata": {},
     "output_type": "execute_result"
    }
   ],
   "source": [
    "# Get the weights of the first neuron (index 0)\n",
    "weights_of_first_neuron = som.get_weights()[0, 0, :]\n",
    "weights_of_first_neuron"
   ]
  },
  {
   "cell_type": "code",
   "execution_count": 11,
   "id": "0a65c0b0-f8ca-4112-8749-b93b2f790141",
   "metadata": {
    "tags": []
   },
   "outputs": [
    {
     "data": {
      "text/plain": [
       "array([0.5597748 , 1.        , 0.18676692, 0.00892857, 0.5       ,\n",
       "       0.15384615, 0.5       , 0.        , 1.        , 0.        ,\n",
       "       0.        , 1.        , 0.5       , 0.        , 0.        ])"
      ]
     },
     "execution_count": 11,
     "metadata": {},
     "output_type": "execute_result"
    }
   ],
   "source": [
    "# Get the weights of the 79th neuron (index 78)\n",
    "weights_of_79th_neuron = som.get_weights()[7, 8, :]\n",
    "weights_of_79th_neuron"
   ]
  },
  {
   "cell_type": "code",
   "execution_count": 12,
   "id": "63ae17e4-6449-49f5-8e49-ff8ad88f5ff2",
   "metadata": {
    "tags": []
   },
   "outputs": [
    {
     "name": "stdout",
     "output_type": "stream",
     "text": [
      " [ 100 / 100 ] 100% - 0:00:00 left \n",
      " quantization error: 0.5270458226222051\n"
     ]
    }
   ],
   "source": [
    "som.train_random(data=X, num_iteration=100, verbose=True)"
   ]
  },
  {
   "cell_type": "markdown",
   "id": "4a165493-7a86-4991-ac96-f6e912727a0c",
   "metadata": {},
   "source": [
    "### <span style=\"color:#3C4048; font-weight: bold; font-size: 18px; font-family: Gill Sans, sans-serif;\">Data Visualization</span>"
   ]
  },
  {
   "cell_type": "markdown",
   "id": "55b3c7a2-a171-4cf4-96b8-9e2b68e6bb74",
   "metadata": {},
   "source": [
    "<p style=\"text-align: justify; text-justify: inter-word; font-size: 15px;\">\n",
    "    We are going to plot all the winning nodes in the two dimentional grid graph. In this graph we are\n",
    "    primarily going to depicts Mean Interneuron Distance(MID). In simple terms, MID is the mean of\n",
    "    distances of winning node with its surrounding nodes. The higher MID of the node, it more away\n",
    "    from its surrounding nodes. Therefore the <b>higher MID</b> node probably an outlier.<br>\n",
    "    <strong>Note</strong>: More details can be found in appendix(<a href=\"#Mean-Interneuron-Distance\">Mean Interneuron Distance</a>) section of this notebook\n",
    "</p>"
   ]
  },
  {
   "cell_type": "code",
   "execution_count": 19,
   "id": "518e1c0c-aaf7-4952-809d-1d50555ff383",
   "metadata": {
    "tags": []
   },
   "outputs": [],
   "source": [
    "from pylab import bone, pcolor, colorbar, plot, show"
   ]
  },
  {
   "cell_type": "code",
   "execution_count": 22,
   "id": "71c1117f-8cdd-4114-9bdb-ef531f652a57",
   "metadata": {
    "tags": []
   },
   "outputs": [
    {
     "name": "stdout",
     "output_type": "stream",
     "text": [
      "Size of Map array: 10\n",
      "[[0.26533641 0.37388772 0.38368049 0.40006919 0.44078056 0.50684323\n",
      "  0.5841541  0.44028584 0.4266336  0.29943153]\n",
      " [0.47004513 0.71824714 0.62325392 0.5138725  0.67945424 0.82066296\n",
      "  0.72457795 0.6940933  0.82437551 0.4584893 ]\n",
      " [0.53264687 0.86957881 0.68625129 0.65249502 0.62725574 0.57589539\n",
      "  0.63286048 0.72560365 0.63304349 0.38004664]\n",
      " [0.46113292 0.72458627 0.77045755 0.69661039 0.80354796 0.62465209\n",
      "  0.70590536 0.54788105 0.61612521 0.46524704]\n",
      " [0.37589469 0.62340558 0.80052801 0.65640413 0.66796273 0.68841793\n",
      "  0.62800578 0.63977596 0.67954825 0.46621708]\n",
      " [0.53096479 0.51506493 0.71668287 0.71365834 0.69244802 0.74471156\n",
      "  0.75430661 0.9042381  0.87180112 0.51709734]\n",
      " [0.32162768 0.75533941 0.54164132 0.65437636 0.68963475 0.60187128\n",
      "  0.83073348 0.78307045 1.         0.51324182]\n",
      " [0.37331359 0.52873436 0.5836966  0.55977837 0.46282978 0.64445952\n",
      "  0.7259113  0.82681654 0.77501477 0.58390033]\n",
      " [0.42746049 0.60862025 0.62190689 0.61429194 0.63309016 0.5592297\n",
      "  0.62575083 0.76657624 0.80236408 0.56287538]\n",
      " [0.2477586  0.49334402 0.36798503 0.3469052  0.33585649 0.43542372\n",
      "  0.42445396 0.39101392 0.53147186 0.33200489]]\n"
     ]
    }
   ],
   "source": [
    "# This method gives the MID of each winning node\n",
    "distance_map_array = som.distance_map()\n",
    "print(F\"Size of Map array: {len(distance_map_array)}\")\n",
    "print(distance_map_array)"
   ]
  },
  {
   "cell_type": "code",
   "execution_count": 27,
   "id": "7c1d6bce-b965-4a5c-a7f5-ca4fed4c1710",
   "metadata": {
    "tags": []
   },
   "outputs": [
    {
     "name": "stdout",
     "output_type": "stream",
     "text": [
      "Customer data: [0.84268147 1.         0.12526316 0.40928571 0.5        0.23076923\n",
      " 0.375      0.05561404 0.         0.         0.         1.\n",
      " 0.5        0.05       0.01212   ]\n",
      "Winning node: (np.int64(5), np.int64(8))\n",
      "Customer data: [0.69609056 0.         0.13413534 0.25       0.5        0.53846154\n",
      " 0.375      0.00578947 0.         0.         0.         0.\n",
      " 0.5        0.08       0.        ]\n",
      "Winning node: (np.int64(6), np.int64(1))\n"
     ]
    },
    {
     "data": {
      "image/png": "[encoded data removed]",
      "text/plain": [
       "<Figure size 640x480 with 2 Axes>"
      ]
     },
     "metadata": {},
     "output_type": "display_data"
    }
   ],
   "source": [
    "# NOTE:\n",
    "# The graph might look different each time you run it's because\n",
    "# random weights that you initialize will be different each time.\n",
    "bone()\n",
    "\n",
    "# You will get a 10 X 10 graph because our array shape is 10 X 10.\n",
    "# If you are not clear about the pcolor function, read the appendix section of this notebook\n",
    "pcolor(som.distance_map())\n",
    "\n",
    "# In the generated graph white color nodes(grid) are having highest MID and dark-blue(grid) has lowest MID\n",
    "# The white color nodes are potential outliers and possible representations of fraudulent customers\n",
    "colorbar()\n",
    "\n",
    "# Now we will check each winning node approved credit loan or not. For this, we are going to use\n",
    "# output label\n",
    "markers = [\"o\", \"s\"]\n",
    "color = [\"r\", \"g\"]\n",
    "\n",
    "count = 1\n",
    "for index, customer_data in enumerate(X):\n",
    "    winning_node = som.winner(customer_data)\n",
    "    if count <= 2:\n",
    "        print(f\"Customer data: {customer_data}\")\n",
    "        print(f\"Winning node: {winning_node}\")\n",
    "        count += 1\n",
    "    plot(\n",
    "        winning_node[0] + 0.5,  # Represent X co-ordinate and 0.5 to move marker in the center of grid\n",
    "        winning_node[1] + 0.5,  # Represent Y co-ordinate and 0.5 to move marker in the center of grid\n",
    "        markers[y[index]],   # If Y is 0, not a fraud and it repesented with \"o\", For fraudelent it is 1 and \"s\"\n",
    "        markeredgecolor=color[y[index]],\n",
    "        markerfacecolor=\"None\",  # Some color filled inside markers if you remove this one\n",
    "        markersize=10,\n",
    "        markeredgewidth=2\n",
    "    )"
   ]
  },
  {
   "cell_type": "markdown",
   "id": "63732c45-069a-49d7-b168-7d7e022ef1e4",
   "metadata": {},
   "source": [
    "### <span style=\"color:#3C4048; font-weight: bold; font-size: 18px; font-family: Gill Sans, sans-serif;\">Finding the frauds</span>"
   ]
  },
  {
   "cell_type": "markdown",
   "id": "a85fe6a2-597a-47af-b215-69b187cdd7bf",
   "metadata": {},
   "source": [
    "<p style=\"text-align: justify; text-justify: inter-word;\">\n",
    "    In the above Graph, the wight grids represents potential outliers or fraudulent customers. We are going to use\n",
    "    <code>som.win_map(data)</code> method to get customers associated with these white grids by looking at graph and grabing\n",
    "    co-ordinates.\n",
    "</p>"
   ]
  },
  {
   "cell_type": "code",
   "execution_count": 29,
   "id": "4fd3a66c-dc9a-4d83-ab30-b1a0644128d0",
   "metadata": {
    "tags": []
   },
   "outputs": [
    {
     "data": {
      "text/plain": [
       "[array([0.68839822, 1.        , 0.03639098, 0.00142857, 0.5       ,\n",
       "        0.53846154, 0.375     , 0.00140351, 0.        , 0.        ,\n",
       "        0.        , 0.        , 0.5       , 0.        , 0.        ]),\n",
       " array([0.57560395, 1.        , 0.2356391 , 0.04464286, 0.5       ,\n",
       "        0.61538462, 0.375     , 0.06140351, 0.        , 0.        ,\n",
       "        0.        , 0.        , 0.5       , 0.1       , 0.        ]),\n",
       " array([7.46509216e-01, 1.00000000e+00, 3.42105263e-01, 1.51785714e-01,\n",
       "        5.00000000e-01, 7.69230769e-01, 3.75000000e-01, 1.22807018e-01,\n",
       "        0.00000000e+00, 0.00000000e+00, 0.00000000e+00, 0.00000000e+00,\n",
       "        5.00000000e-01, 2.27000000e-01, 5.00000000e-04]),\n",
       " array([0.80564132, 1.        , 0.24180451, 0.125     , 0.5       ,\n",
       "        0.53846154, 0.375     , 0.00578947, 0.        , 0.        ,\n",
       "        0.        , 0.        , 0.5       , 0.108     , 0.        ]),\n",
       " array([3.59389578e-01, 1.00000000e+00, 1.12781955e-01, 5.35714286e-02,\n",
       "        5.00000000e-01, 6.15384615e-01, 3.75000000e-01, 5.26315789e-02,\n",
       "        0.00000000e+00, 0.00000000e+00, 0.00000000e+00, 0.00000000e+00,\n",
       "        5.00000000e-01, 7.50000000e-02, 8.00000000e-05]),\n",
       " array([0.53080339, 1.        , 0.2281203 , 0.01339286, 0.5       ,\n",
       "        0.53846154, 0.375     , 0.01017544, 0.        , 0.        ,\n",
       "        0.        , 0.        , 0.5       , 0.11      , 0.0014    ]),\n",
       " array([3.38763219e-01, 1.00000000e+00, 3.57142857e-01, 2.98214286e-02,\n",
       "        5.00000000e-01, 6.92307692e-01, 3.75000000e-01, 1.40350877e-03,\n",
       "        0.00000000e+00, 0.00000000e+00, 0.00000000e+00, 0.00000000e+00,\n",
       "        5.00000000e-01, 6.00000000e-02, 5.00000000e-05]),\n",
       " array([9.33736170e-01, 1.00000000e+00, 3.05714286e-01, 8.92857143e-02,\n",
       "        5.00000000e-01, 5.38461538e-01, 3.75000000e-01, 3.50877193e-02,\n",
       "        0.00000000e+00, 0.00000000e+00, 0.00000000e+00, 0.00000000e+00,\n",
       "        5.00000000e-01, 2.30000000e-01, 1.60000000e-04]),\n",
       " array([0.66940564, 1.        , 0.06270677, 0.00732143, 0.5       ,\n",
       "        0.38461538, 0.375     , 0.00140351, 0.        , 0.        ,\n",
       "        0.        , 0.        , 0.5       , 0.14      , 0.0075    ]),\n",
       " array([0.56430371, 1.        , 0.09398496, 0.25      , 0.5       ,\n",
       "        0.53846154, 0.375     , 0.01754386, 0.        , 0.        ,\n",
       "        0.        , 0.        , 0.5       , 0.        , 0.        ]),\n",
       " array([0.66055204, 1.        , 0.29954887, 0.04464286, 0.5       ,\n",
       "        0.61538462, 0.375     , 0.04087719, 0.        , 0.        ,\n",
       "        0.        , 0.        , 0.5       , 0.06      , 0.        ]),\n",
       " array([0.99167097, 1.        , 0.2593985 , 0.07446429, 0.5       ,\n",
       "        0.53846154, 0.375     , 0.00298246, 0.        , 0.        ,\n",
       "        0.        , 0.        , 0.5       , 0.15      , 0.        ]),\n",
       " array([8.56039947e-01, 1.00000000e+00, 7.63909774e-02, 0.00000000e+00,\n",
       "        5.00000000e-01, 7.69230769e-01, 3.75000000e-01, 2.33333333e-02,\n",
       "        0.00000000e+00, 0.00000000e+00, 0.00000000e+00, 0.00000000e+00,\n",
       "        5.00000000e-01, 8.00000000e-02, 1.00000000e-05]),\n",
       " array([0.70709849, 1.        , 0.17293233, 0.03571429, 0.5       ,\n",
       "        0.38461538, 0.375     , 0.01754386, 0.        , 0.        ,\n",
       "        0.        , 0.        , 0.5       , 0.1       , 0.        ]),\n",
       " array([5.39925279e-01, 1.00000000e+00, 1.81654135e-01, 4.58392857e-01,\n",
       "        5.00000000e-01, 9.23076923e-01, 3.75000000e-01, 1.75438596e-02,\n",
       "        0.00000000e+00, 0.00000000e+00, 0.00000000e+00, 0.00000000e+00,\n",
       "        5.00000000e-01, 0.00000000e+00, 2.00000000e-05]),\n",
       " array([0.56592546, 1.        , 0.09518797, 0.00892857, 0.5       ,\n",
       "        0.76923077, 0.375     , 0.00438596, 0.        , 0.        ,\n",
       "        0.        , 0.        , 0.5       , 0.1       , 0.        ]),\n",
       " array([3.19774636e-01, 1.00000000e+00, 1.00300752e-01, 3.87500000e-02,\n",
       "        5.00000000e-01, 7.69230769e-01, 3.75000000e-01, 5.26315789e-02,\n",
       "        0.00000000e+00, 0.00000000e+00, 0.00000000e+00, 0.00000000e+00,\n",
       "        5.00000000e-01, 5.40000000e-02, 7.00000000e-05]),\n",
       " array([0.85242403, 1.        , 0.10030075, 0.        , 0.5       ,\n",
       "        0.53846154, 0.375     , 0.        , 0.        , 0.        ,\n",
       "        0.        , 0.        , 1.        , 0.092     , 0.        ]),\n",
       " array([6.55362413e-01, 1.00000000e+00, 6.64661654e-02, 3.66071429e-01,\n",
       "        5.00000000e-01, 5.38461538e-01, 8.75000000e-01, 3.80701754e-02,\n",
       "        0.00000000e+00, 0.00000000e+00, 0.00000000e+00, 0.00000000e+00,\n",
       "        5.00000000e-01, 1.60000000e-01, 1.30000000e-04]),\n",
       " array([0.67876378, 1.        , 0.13789474, 0.00607143, 0.5       ,\n",
       "        0.46153846, 0.375     , 0.00298246, 0.        , 0.        ,\n",
       "        0.        , 0.        , 0.        , 0.        , 0.        ]),\n",
       " array([0.86643922, 1.        , 0.31578947, 0.08928571, 0.5       ,\n",
       "        0.92307692, 0.5       , 0.01754386, 0.        , 0.        ,\n",
       "        0.        , 0.        , 0.5       , 0.174     , 0.        ]),\n",
       " array([0.45275078, 1.        , 0.11774436, 0.02821429, 0.        ,\n",
       "        0.92307692, 0.375     , 0.02333333, 0.        , 0.        ,\n",
       "        0.        , 0.        , 0.5       , 0.08      , 0.        ]),\n",
       " array([0.54585571, 1.        , 0.16285714, 0.04464286, 0.5       ,\n",
       "        0.53846154, 0.375     , 0.00877193, 0.        , 0.        ,\n",
       "        0.        , 0.        , 0.5       , 0.055     , 0.        ]),\n",
       " array([0.70443961, 1.        , 0.18676692, 0.02982143, 0.5       ,\n",
       "        0.92307692, 0.375     , 0.04087719, 0.        , 0.        ,\n",
       "        0.        , 0.        , 0.5       , 0.05      , 0.        ]),\n",
       " array([0.4027686 , 1.        , 0.15293233, 0.02375   , 0.5       ,\n",
       "        0.53846154, 0.375     , 0.00578947, 0.        , 0.        ,\n",
       "        0.        , 0.        , 0.5       , 0.05      , 0.        ]),\n",
       " array([8.17950659e-01, 1.00000000e+00, 1.04060150e-01, 1.48214286e-02,\n",
       "        5.00000000e-01, 5.38461538e-01, 3.75000000e-01, 4.38596491e-03,\n",
       "        0.00000000e+00, 0.00000000e+00, 0.00000000e+00, 0.00000000e+00,\n",
       "        5.00000000e-01, 0.00000000e+00, 4.40000000e-04])]"
      ]
     },
     "execution_count": 29,
     "metadata": {},
     "output_type": "execute_result"
    }
   ],
   "source": [
    "mappings = som.win_map(X)\n",
    "# Example: Bring customers associated with co-ordinate (9, 1)\n",
    "mappings[(9,7)]"
   ]
  },
  {
   "cell_type": "code",
   "execution_count": 33,
   "id": "821ce645-2941-4ee6-9588-954c8085f475",
   "metadata": {
    "tags": []
   },
   "outputs": [],
   "source": [
    "# In the above graph, I can see (1, 1), (5, 7) and (7, 3) are fradulent. These\n",
    "# might change if you run entire notebook\n",
    "frauds = np.concatenate((mappings[(9, 7)],mappings[(7, 2)]), axis=0)"
   ]
  },
  {
   "cell_type": "code",
   "execution_count": 34,
   "id": "ab846ade-a701-4804-a1ed-3b875f139553",
   "metadata": {
    "tags": []
   },
   "outputs": [
    {
     "data": {
      "text/plain": [
       "array([[1.5737627e+07, 1.0000000e+00, 1.6170000e+01, 4.0000000e-02,\n",
       "        2.0000000e+00, 8.0000000e+00, 4.0000000e+00, 4.0000000e-02,\n",
       "        0.0000000e+00, 0.0000000e+00, 0.0000000e+00, 0.0000000e+00,\n",
       "        2.0000000e+00, 0.0000000e+00, 1.0000000e+00],\n",
       "       [1.5709459e+07, 1.0000000e+00, 2.9420000e+01, 1.2500000e+00,\n",
       "        2.0000000e+00, 9.0000000e+00, 4.0000000e+00, 1.7500000e+00,\n",
       "        0.0000000e+00, 0.0000000e+00, 0.0000000e+00, 0.0000000e+00,\n",
       "        2.0000000e+00, 2.0000000e+02, 1.0000000e+00],\n",
       "       [1.5752139e+07, 1.0000000e+00, 3.6500000e+01, 4.2500000e+00,\n",
       "        2.0000000e+00, 1.1000000e+01, 4.0000000e+00, 3.5000000e+00,\n",
       "        0.0000000e+00, 0.0000000e+00, 0.0000000e+00, 0.0000000e+00,\n",
       "        2.0000000e+00, 4.5400000e+02, 5.1000000e+01],\n",
       "       [1.5766906e+07, 1.0000000e+00, 2.9830000e+01, 3.5000000e+00,\n",
       "        2.0000000e+00, 8.0000000e+00, 4.0000000e+00, 1.6500000e-01,\n",
       "        0.0000000e+00, 0.0000000e+00, 0.0000000e+00, 0.0000000e+00,\n",
       "        2.0000000e+00, 2.1600000e+02, 1.0000000e+00],\n",
       "       [1.5655464e+07, 1.0000000e+00, 2.1250000e+01, 1.5000000e+00,\n",
       "        2.0000000e+00, 9.0000000e+00, 4.0000000e+00, 1.5000000e+00,\n",
       "        0.0000000e+00, 0.0000000e+00, 0.0000000e+00, 0.0000000e+00,\n",
       "        2.0000000e+00, 1.5000000e+02, 9.0000000e+00],\n",
       "       [1.5698271e+07, 1.0000000e+00, 2.8920000e+01, 3.7500000e-01,\n",
       "        2.0000000e+00, 8.0000000e+00, 4.0000000e+00, 2.9000000e-01,\n",
       "        0.0000000e+00, 0.0000000e+00, 0.0000000e+00, 0.0000000e+00,\n",
       "        2.0000000e+00, 2.2000000e+02, 1.4100000e+02],\n",
       "       [1.5650313e+07, 1.0000000e+00, 3.7500000e+01, 8.3500000e-01,\n",
       "        2.0000000e+00, 1.0000000e+01, 4.0000000e+00, 4.0000000e-02,\n",
       "        0.0000000e+00, 0.0000000e+00, 0.0000000e+00, 0.0000000e+00,\n",
       "        2.0000000e+00, 1.2000000e+02, 6.0000000e+00],\n",
       "       [1.5798895e+07, 1.0000000e+00, 3.4080000e+01, 2.5000000e+00,\n",
       "        2.0000000e+00, 8.0000000e+00, 4.0000000e+00, 1.0000000e+00,\n",
       "        0.0000000e+00, 0.0000000e+00, 0.0000000e+00, 0.0000000e+00,\n",
       "        2.0000000e+00, 4.6000000e+02, 1.7000000e+01],\n",
       "       [1.5732884e+07, 1.0000000e+00, 1.7920000e+01, 2.0500000e-01,\n",
       "        2.0000000e+00, 6.0000000e+00, 4.0000000e+00, 4.0000000e-02,\n",
       "        0.0000000e+00, 0.0000000e+00, 0.0000000e+00, 0.0000000e+00,\n",
       "        2.0000000e+00, 2.8000000e+02, 7.5100000e+02],\n",
       "       [1.5706637e+07, 1.0000000e+00, 2.0000000e+01, 7.0000000e+00,\n",
       "        2.0000000e+00, 8.0000000e+00, 4.0000000e+00, 5.0000000e-01,\n",
       "        0.0000000e+00, 0.0000000e+00, 0.0000000e+00, 0.0000000e+00,\n",
       "        2.0000000e+00, 0.0000000e+00, 1.0000000e+00],\n",
       "       [1.5730673e+07, 1.0000000e+00, 3.3670000e+01, 1.2500000e+00,\n",
       "        2.0000000e+00, 9.0000000e+00, 4.0000000e+00, 1.1650000e+00,\n",
       "        0.0000000e+00, 0.0000000e+00, 0.0000000e+00, 0.0000000e+00,\n",
       "        2.0000000e+00, 1.2000000e+02, 1.0000000e+00],\n",
       "       [1.5813363e+07, 1.0000000e+00, 3.1000000e+01, 2.0850000e+00,\n",
       "        2.0000000e+00, 8.0000000e+00, 4.0000000e+00, 8.5000000e-02,\n",
       "        0.0000000e+00, 0.0000000e+00, 0.0000000e+00, 0.0000000e+00,\n",
       "        2.0000000e+00, 3.0000000e+02, 1.0000000e+00],\n",
       "       [1.5779492e+07, 1.0000000e+00, 1.8830000e+01, 0.0000000e+00,\n",
       "        2.0000000e+00, 1.1000000e+01, 4.0000000e+00, 6.6500000e-01,\n",
       "        0.0000000e+00, 0.0000000e+00, 0.0000000e+00, 0.0000000e+00,\n",
       "        2.0000000e+00, 1.6000000e+02, 2.0000000e+00],\n",
       "       [1.5742297e+07, 1.0000000e+00, 2.5250000e+01, 1.0000000e+00,\n",
       "        2.0000000e+00, 6.0000000e+00, 4.0000000e+00, 5.0000000e-01,\n",
       "        0.0000000e+00, 0.0000000e+00, 0.0000000e+00, 0.0000000e+00,\n",
       "        2.0000000e+00, 2.0000000e+02, 1.0000000e+00],\n",
       "       [1.5700549e+07, 1.0000000e+00, 2.5830000e+01, 1.2835000e+01,\n",
       "        2.0000000e+00, 1.3000000e+01, 4.0000000e+00, 5.0000000e-01,\n",
       "        0.0000000e+00, 0.0000000e+00, 0.0000000e+00, 0.0000000e+00,\n",
       "        2.0000000e+00, 0.0000000e+00, 3.0000000e+00],\n",
       "       [1.5707042e+07, 1.0000000e+00, 2.0080000e+01, 2.5000000e-01,\n",
       "        2.0000000e+00, 1.1000000e+01, 4.0000000e+00, 1.2500000e-01,\n",
       "        0.0000000e+00, 0.0000000e+00, 0.0000000e+00, 0.0000000e+00,\n",
       "        2.0000000e+00, 2.0000000e+02, 1.0000000e+00],\n",
       "       [1.5645571e+07, 1.0000000e+00, 2.0420000e+01, 1.0850000e+00,\n",
       "        2.0000000e+00, 1.1000000e+01, 4.0000000e+00, 1.5000000e+00,\n",
       "        0.0000000e+00, 0.0000000e+00, 0.0000000e+00, 0.0000000e+00,\n",
       "        2.0000000e+00, 1.0800000e+02, 8.0000000e+00],\n",
       "       [1.5778589e+07, 1.0000000e+00, 2.0420000e+01, 0.0000000e+00,\n",
       "        2.0000000e+00, 8.0000000e+00, 4.0000000e+00, 0.0000000e+00,\n",
       "        0.0000000e+00, 0.0000000e+00, 0.0000000e+00, 0.0000000e+00,\n",
       "        3.0000000e+00, 1.8400000e+02, 1.0000000e+00],\n",
       "       [1.5729377e+07, 1.0000000e+00, 1.8170000e+01, 1.0250000e+01,\n",
       "        2.0000000e+00, 8.0000000e+00, 8.0000000e+00, 1.0850000e+00,\n",
       "        0.0000000e+00, 0.0000000e+00, 0.0000000e+00, 0.0000000e+00,\n",
       "        2.0000000e+00, 3.2000000e+02, 1.4000000e+01],\n",
       "       [1.5735221e+07, 1.0000000e+00, 2.2920000e+01, 1.7000000e-01,\n",
       "        2.0000000e+00, 7.0000000e+00, 4.0000000e+00, 8.5000000e-02,\n",
       "        0.0000000e+00, 0.0000000e+00, 0.0000000e+00, 0.0000000e+00,\n",
       "        1.0000000e+00, 0.0000000e+00, 1.0000000e+00],\n",
       "       [1.5782089e+07, 1.0000000e+00, 3.4750000e+01, 2.5000000e+00,\n",
       "        2.0000000e+00, 1.3000000e+01, 5.0000000e+00, 5.0000000e-01,\n",
       "        0.0000000e+00, 0.0000000e+00, 0.0000000e+00, 0.0000000e+00,\n",
       "        2.0000000e+00, 3.4800000e+02, 1.0000000e+00],\n",
       "       [1.5678779e+07, 1.0000000e+00, 2.1580000e+01, 7.9000000e-01,\n",
       "        1.0000000e+00, 1.3000000e+01, 4.0000000e+00, 6.6500000e-01,\n",
       "        0.0000000e+00, 0.0000000e+00, 0.0000000e+00, 0.0000000e+00,\n",
       "        2.0000000e+00, 1.6000000e+02, 1.0000000e+00],\n",
       "       [1.5702030e+07, 1.0000000e+00, 2.4580000e+01, 1.2500000e+00,\n",
       "        2.0000000e+00, 8.0000000e+00, 4.0000000e+00, 2.5000000e-01,\n",
       "        0.0000000e+00, 0.0000000e+00, 0.0000000e+00, 0.0000000e+00,\n",
       "        2.0000000e+00, 1.1000000e+02, 1.0000000e+00],\n",
       "       [1.5741633e+07, 1.0000000e+00, 2.6170000e+01, 8.3500000e-01,\n",
       "        2.0000000e+00, 1.3000000e+01, 4.0000000e+00, 1.1650000e+00,\n",
       "        0.0000000e+00, 0.0000000e+00, 0.0000000e+00, 0.0000000e+00,\n",
       "        2.0000000e+00, 1.0000000e+02, 1.0000000e+00],\n",
       "       [1.5666297e+07, 1.0000000e+00, 2.3920000e+01, 6.6500000e-01,\n",
       "        2.0000000e+00, 8.0000000e+00, 4.0000000e+00, 1.6500000e-01,\n",
       "        0.0000000e+00, 0.0000000e+00, 0.0000000e+00, 0.0000000e+00,\n",
       "        2.0000000e+00, 1.0000000e+02, 1.0000000e+00],\n",
       "       [1.5769980e+07, 1.0000000e+00, 2.0670000e+01, 4.1500000e-01,\n",
       "        2.0000000e+00, 8.0000000e+00, 4.0000000e+00, 1.2500000e-01,\n",
       "        0.0000000e+00, 0.0000000e+00, 0.0000000e+00, 0.0000000e+00,\n",
       "        2.0000000e+00, 0.0000000e+00, 4.5000000e+01],\n",
       "       [1.5761158e+07, 0.0000000e+00, 1.6500000e+01, 1.2500000e+00,\n",
       "        2.0000000e+00, 1.1000000e+01, 4.0000000e+00, 2.5000000e-01,\n",
       "        0.0000000e+00, 1.0000000e+00, 1.0000000e+00, 0.0000000e+00,\n",
       "        2.0000000e+00, 1.0800000e+02, 9.9000000e+01]])"
      ]
     },
     "execution_count": 34,
     "metadata": {},
     "output_type": "execute_result"
    }
   ],
   "source": [
    "# Since our values are transformed, we should apply inverse\n",
    "frauds = sc.inverse_transform(frauds)\n",
    "frauds"
   ]
  },
  {
   "cell_type": "code",
   "execution_count": 35,
   "id": "53674ee5-70c9-4577-b626-07323b24d1fd",
   "metadata": {
    "tags": []
   },
   "outputs": [
    {
     "data": {
      "text/plain": [
       "np.float64(15737627.0)"
      ]
     },
     "execution_count": 35,
     "metadata": {},
     "output_type": "execute_result"
    }
   ],
   "source": [
    "frauds[0][0]"
   ]
  },
  {
   "cell_type": "code",
   "execution_count": 37,
   "id": "8447de32-3d70-4209-b5bc-8bc8425b83b1",
   "metadata": {
    "tags": []
   },
   "outputs": [
    {
     "data": {
      "text/html": [
       "<div>\n",
       "<style scoped>\n",
       "    .dataframe tbody tr th:only-of-type {\n",
       "        vertical-align: middle;\n",
       "    }\n",
       "\n",
       "    .dataframe tbody tr th {\n",
       "        vertical-align: top;\n",
       "    }\n",
       "\n",
       "    .dataframe thead th {\n",
       "        text-align: right;\n",
       "    }\n",
       "</style>\n",
       "<table border=\"1\" class=\"dataframe\">\n",
       "  <thead>\n",
       "    <tr style=\"text-align: right;\">\n",
       "      <th></th>\n",
       "      <th>CustomerID</th>\n",
       "      <th>A1</th>\n",
       "      <th>A2</th>\n",
       "      <th>A3</th>\n",
       "      <th>A4</th>\n",
       "      <th>A5</th>\n",
       "      <th>A6</th>\n",
       "      <th>A7</th>\n",
       "      <th>A8</th>\n",
       "      <th>A9</th>\n",
       "      <th>A10</th>\n",
       "      <th>A11</th>\n",
       "      <th>A12</th>\n",
       "      <th>A13</th>\n",
       "      <th>A14</th>\n",
       "      <th>Class</th>\n",
       "    </tr>\n",
       "  </thead>\n",
       "  <tbody>\n",
       "    <tr>\n",
       "      <th>47</th>\n",
       "      <td>15737627</td>\n",
       "      <td>1</td>\n",
       "      <td>16.17</td>\n",
       "      <td>0.04</td>\n",
       "      <td>2</td>\n",
       "      <td>8</td>\n",
       "      <td>4</td>\n",
       "      <td>0.04</td>\n",
       "      <td>0</td>\n",
       "      <td>0</td>\n",
       "      <td>0</td>\n",
       "      <td>0</td>\n",
       "      <td>2</td>\n",
       "      <td>0</td>\n",
       "      <td>1</td>\n",
       "      <td>1</td>\n",
       "    </tr>\n",
       "  </tbody>\n",
       "</table>\n",
       "</div>"
      ],
      "text/plain": [
       "    CustomerID  A1     A2    A3  A4  A5  A6    A7  A8  A9  A10  A11  A12  A13  \\\n",
       "47    15737627   1  16.17  0.04   2   8   4  0.04   0   0    0    0    2    0   \n",
       "\n",
       "    A14  Class  \n",
       "47    1      1  "
      ]
     },
     "execution_count": 37,
     "metadata": {},
     "output_type": "execute_result"
    }
   ],
   "source": [
    "# he/she might be one the fradulent but accepted\n",
    "dataset[dataset[\"CustomerID\"] == 15737627.0]"
   ]
  },
  {
   "cell_type": "markdown",
   "id": "811cef34-1f3e-4cc8-8d6f-6df13663fef0",
   "metadata": {
    "tags": []
   },
   "source": [
    "### <span style=\"color:#3C4048; font-weight: bold; font-size: 18px; font-family: Gill Sans, sans-serif;\">Appendix</span>"
   ]
  },
  {
   "cell_type": "markdown",
   "id": "c09a8477-93ca-4149-8957-3e47b94312b5",
   "metadata": {},
   "source": [
    "##### <span style=\"color:#3C4048; font-weight: bold; font-size: 18px; font-family: Gill Sans, sans-serif;\">Mean Interneuron Distance</span>"
   ]
  },
  {
   "cell_type": "markdown",
   "id": "ade3dcc7-99e0-4e0f-b646-6e74ff62d2e1",
   "metadata": {},
   "source": [
    "In Self-Organizing Maps (SOMs), **MID** stands for **Mean Interneuron Distance**.\n",
    "\n",
    "**Here's a breakdown of what it means:**\n",
    "\n",
    "* **Interneuron Distance:** This refers to the distance between a winning neuron (also known as the Best Matching Unit or BMU) and its neighboring neurons on the SOM grid.\n",
    "* **Mean:** The average of these interneuron distances within a specified neighborhood around the winning neuron.\n",
    "\n",
    "**Essentially, MID provides a measure of how evenly distributed the neurons are around a particular winning neuron.** A higher MID value indicates that neighboring neurons are more spread out, while a lower MID value suggests that they are more clustered together.\n",
    "\n",
    "**Why is MID important?**\n",
    "\n",
    "* **Visualization:** MID can be used to visualize the distribution of neurons on the SOM grid. High MID values might indicate regions of the map with fewer neurons, while low MID values might suggest areas with a higher density of neurons.\n",
    "* **Analysis:** MID can be used to analyze the topology of the SOM and identify patterns or structures in the data. For example, a high MID value in a specific region might suggest that the data in that region is more diverse or less clustered.\n",
    "\n",
    "**In summary, MID is a valuable metric for understanding the structure and organization of a SOM and can be used to gain insights into the underlying patterns and relationships within the data.**\n"
   ]
  },
  {
   "cell_type": "markdown",
   "id": "48e3fe5b-5800-4ac9-9118-8e272805df0d",
   "metadata": {},
   "source": [
    "##### <span style=\"color:#3C4048; font-weight: bold; font-size: 18px; font-family: Gill Sans, sans-serif;\">Simple color bar demo</span>"
   ]
  },
  {
   "cell_type": "code",
   "execution_count": 14,
   "id": "14fa8be6-f980-4e6d-9a41-bcabf6cd8a07",
   "metadata": {
    "tags": []
   },
   "outputs": [],
   "source": [
    "import numpy as np"
   ]
  },
  {
   "cell_type": "code",
   "execution_count": 15,
   "id": "8d723f42-0aea-406d-95c9-2bb44b726b7b",
   "metadata": {
    "tags": []
   },
   "outputs": [
    {
     "data": {
      "text/plain": [
       "array([[2, 1, 3, 6],\n",
       "       [7, 3, 4, 5],\n",
       "       [2, 1, 3, 6]])"
      ]
     },
     "execution_count": 15,
     "metadata": {},
     "output_type": "execute_result"
    }
   ],
   "source": [
    "random_ints = np.array([[2, 1, 3, 6],[7,3,4,5], [2, 1, 3, 6]])\n",
    "random_ints"
   ]
  },
  {
   "cell_type": "code",
   "execution_count": 18,
   "id": "524b5943-7575-44f2-bf5f-2a2eb54980b1",
   "metadata": {
    "tags": []
   },
   "outputs": [
    {
     "data": {
      "text/plain": [
       "Text(0, 0.5, 'Y-Rows')"
      ]
     },
     "execution_count": 18,
     "metadata": {},
     "output_type": "execute_result"
    },
    {
     "data": {
      "image/png": "[encoded data removed]",
      "text/plain": [
       "<Figure size 640x480 with 1 Axes>"
      ]
     },
     "metadata": {},
     "output_type": "display_data"
    }
   ],
   "source": [
    "# Assign a color to each value, if you observe first and third rows has same\n",
    "# color since I have used the same values.\n",
    "plt.pcolor(random_ints, cmap='rainbow_r', edgecolors='black')\n",
    "# It looks like the X-axis represents columns in the array and the Y-axis represents rows\n",
    "plt.xlabel('X-Columns')\n",
    "plt.ylabel('Y-Rows')"
   ]
  },
  {
   "cell_type": "code",
   "execution_count": null,
   "id": "68f1f321-9577-44b2-81c0-569bd49005ed",
   "metadata": {},
   "outputs": [],
   "source": []
  }
 ],
 "metadata": {
  "kernelspec": {
   "display_name": "Python 3 (ipykernel)",
   "language": "python",
   "name": "python3"
  },
  "language_info": {
   "codemirror_mode": {
    "name": "ipython",
    "version": 3
   },
   "file_extension": ".py",
   "mimetype": "text/x-python",
   "name": "python",
   "nbconvert_exporter": "python",
   "pygments_lexer": "ipython3",
   "version": "3.13.2"
  }
 },
 "nbformat": 4,
 "nbformat_minor": 5
}
