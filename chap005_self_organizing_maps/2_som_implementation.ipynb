{
 "cells": [
  {
   "cell_type": "markdown",
   "id": "2edc9a61-9e86-4f0e-a9c9-a9e854350849",
   "metadata": {
    "tags": []
   },
   "source": [
    "<p style=\"color:#153462; \n",
    "          font-weight: bold; \n",
    "          font-size: 30px; \n",
    "          font-family: Gill Sans, sans-serif; \n",
    "          text-align: center;\">\n",
    "          SOM Implementation</p>"
   ]
  },
  {
   "cell_type": "markdown",
   "id": "4012c112-6436-4f62-9f07-64ee8798a4ab",
   "metadata": {
    "tags": []
   },
   "source": [
    "### <span style=\"color:#3C4048; font-weight: bold; font-size: 18px; font-family: Gill Sans, sans-serif;\">About Dataset</span>"
   ]
  },
  {
   "cell_type": "markdown",
   "id": "5111c7e5-31ff-4e0d-ba92-4a63c79c6058",
   "metadata": {},
   "source": [
    "<p style=\"text-align: justify; text-justify: inter-word;\">\n",
    "   <font size=3>\n",
    "       <b>Dataset</b>: <a href=\"https://archive.ics.uci.edu/dataset/143/statlog+australian+credit+approval\">Australian Credit Approval</a>\n",
    "   </font>\n",
    "</p>"
   ]
  },
  {
   "cell_type": "markdown",
   "id": "e348ff11-11ef-4d60-8600-c0f159496f0e",
   "metadata": {},
   "source": [
    "<p style=\"text-align: justify; text-justify: inter-word;\">\n",
    "   <font size=3>\n",
    "       This file contains credit card applications.  All attribute names and values have been changed to meaningless\n",
    "       symbols to protect confidentiality of the data.\n",
    "       This dataset is interesting because there is a good mix of attributes -- continuous, nominal with small numbers\n",
    "       of values, and nominal(refers to categorical data that doesn't have a numerical order.) with larger numbers of values.  There are also a few missing values.\n",
    "   </font>\n",
    "</p>\n",
    "\n"
   ]
  },
  {
   "cell_type": "markdown",
   "id": "2ae47a2e-bc5f-4767-9a64-787b08791881",
   "metadata": {},
   "source": [
    "### <span style=\"color:#3C4048; font-weight: bold; font-size: 18px; font-family: Gill Sans, sans-serif;\">Goal of the Experiment</span>"
   ]
  },
  {
   "cell_type": "markdown",
   "id": "abea7416-7f23-425c-874a-9d0adeccbb2d",
   "metadata": {},
   "source": [
    "<p style=\"text-align: justify; text-justify: inter-word;\">\n",
    "   <font size=3>\n",
    "       Predicting group of customer who are fradulent. we are going to solve this problem in an unsupervised way.\n",
    "   </font>\n",
    "</p>"
   ]
  },
  {
   "cell_type": "markdown",
   "id": "7bf5e227-8895-430c-9fc0-63ef18ea409c",
   "metadata": {
    "tags": []
   },
   "source": [
    "### <span style=\"color:#3C4048; font-weight: bold; font-size: 18px; font-family: Gill Sans, sans-serif;\">Required Packages</span>"
   ]
  },
  {
   "cell_type": "code",
   "execution_count": 1,
   "id": "0f702740-bc08-4924-b88a-413c8ff3cd18",
   "metadata": {
    "tags": []
   },
   "outputs": [],
   "source": [
    "import numpy as np\n",
    "import matplotlib.pyplot as plt\n",
    "import pandas as pd\n",
    "from sklearn.preprocessing import MinMaxScaler\n",
    "from minisom import MiniSom"
   ]
  },
  {
   "cell_type": "markdown",
   "id": "56a2d11f-3687-4acf-9a7b-0f49d14e020c",
   "metadata": {},
   "source": [
    "### <span style=\"color:#3C4048; font-weight: bold; font-size: 18px; font-family: Gill Sans, sans-serif;\">Load Dataset</span>"
   ]
  },
  {
   "cell_type": "code",
   "execution_count": 2,
   "id": "76ecc764-c5c4-445c-91a5-6c2334ac238a",
   "metadata": {
    "tags": []
   },
   "outputs": [],
   "source": [
    "dataset = pd.read_csv(\"dataset/Credit_Card_Applications.csv\")"
   ]
  },
  {
   "cell_type": "code",
   "execution_count": 3,
   "id": "33c1bc87-9cc6-41db-8cdd-c3d54f969750",
   "metadata": {
    "tags": []
   },
   "outputs": [
    {
     "data": {
      "text/html": [
       "<div>\n",
       "<style scoped>\n",
       "    .dataframe tbody tr th:only-of-type {\n",
       "        vertical-align: middle;\n",
       "    }\n",
       "\n",
       "    .dataframe tbody tr th {\n",
       "        vertical-align: top;\n",
       "    }\n",
       "\n",
       "    .dataframe thead th {\n",
       "        text-align: right;\n",
       "    }\n",
       "</style>\n",
       "<table border=\"1\" class=\"dataframe\">\n",
       "  <thead>\n",
       "    <tr style=\"text-align: right;\">\n",
       "      <th></th>\n",
       "      <th>CustomerID</th>\n",
       "      <th>A1</th>\n",
       "      <th>A2</th>\n",
       "      <th>A3</th>\n",
       "      <th>A4</th>\n",
       "      <th>A5</th>\n",
       "      <th>A6</th>\n",
       "      <th>A7</th>\n",
       "      <th>A8</th>\n",
       "      <th>A9</th>\n",
       "      <th>A10</th>\n",
       "      <th>A11</th>\n",
       "      <th>A12</th>\n",
       "      <th>A13</th>\n",
       "      <th>A14</th>\n",
       "      <th>Class</th>\n",
       "    </tr>\n",
       "  </thead>\n",
       "  <tbody>\n",
       "    <tr>\n",
       "      <th>0</th>\n",
       "      <td>15776156</td>\n",
       "      <td>1</td>\n",
       "      <td>22.08</td>\n",
       "      <td>11.46</td>\n",
       "      <td>2</td>\n",
       "      <td>4</td>\n",
       "      <td>4</td>\n",
       "      <td>1.585</td>\n",
       "      <td>0</td>\n",
       "      <td>0</td>\n",
       "      <td>0</td>\n",
       "      <td>1</td>\n",
       "      <td>2</td>\n",
       "      <td>100</td>\n",
       "      <td>1213</td>\n",
       "      <td>0</td>\n",
       "    </tr>\n",
       "    <tr>\n",
       "      <th>1</th>\n",
       "      <td>15739548</td>\n",
       "      <td>0</td>\n",
       "      <td>22.67</td>\n",
       "      <td>7.00</td>\n",
       "      <td>2</td>\n",
       "      <td>8</td>\n",
       "      <td>4</td>\n",
       "      <td>0.165</td>\n",
       "      <td>0</td>\n",
       "      <td>0</td>\n",
       "      <td>0</td>\n",
       "      <td>0</td>\n",
       "      <td>2</td>\n",
       "      <td>160</td>\n",
       "      <td>1</td>\n",
       "      <td>0</td>\n",
       "    </tr>\n",
       "    <tr>\n",
       "      <th>2</th>\n",
       "      <td>15662854</td>\n",
       "      <td>0</td>\n",
       "      <td>29.58</td>\n",
       "      <td>1.75</td>\n",
       "      <td>1</td>\n",
       "      <td>4</td>\n",
       "      <td>4</td>\n",
       "      <td>1.250</td>\n",
       "      <td>0</td>\n",
       "      <td>0</td>\n",
       "      <td>0</td>\n",
       "      <td>1</td>\n",
       "      <td>2</td>\n",
       "      <td>280</td>\n",
       "      <td>1</td>\n",
       "      <td>0</td>\n",
       "    </tr>\n",
       "    <tr>\n",
       "      <th>3</th>\n",
       "      <td>15687688</td>\n",
       "      <td>0</td>\n",
       "      <td>21.67</td>\n",
       "      <td>11.50</td>\n",
       "      <td>1</td>\n",
       "      <td>5</td>\n",
       "      <td>3</td>\n",
       "      <td>0.000</td>\n",
       "      <td>1</td>\n",
       "      <td>1</td>\n",
       "      <td>11</td>\n",
       "      <td>1</td>\n",
       "      <td>2</td>\n",
       "      <td>0</td>\n",
       "      <td>1</td>\n",
       "      <td>1</td>\n",
       "    </tr>\n",
       "    <tr>\n",
       "      <th>4</th>\n",
       "      <td>15715750</td>\n",
       "      <td>1</td>\n",
       "      <td>20.17</td>\n",
       "      <td>8.17</td>\n",
       "      <td>2</td>\n",
       "      <td>6</td>\n",
       "      <td>4</td>\n",
       "      <td>1.960</td>\n",
       "      <td>1</td>\n",
       "      <td>1</td>\n",
       "      <td>14</td>\n",
       "      <td>0</td>\n",
       "      <td>2</td>\n",
       "      <td>60</td>\n",
       "      <td>159</td>\n",
       "      <td>1</td>\n",
       "    </tr>\n",
       "  </tbody>\n",
       "</table>\n",
       "</div>"
      ],
      "text/plain": [
       "   CustomerID  A1     A2     A3  A4  A5  A6     A7  A8  A9  A10  A11  A12  \\\n",
       "0    15776156   1  22.08  11.46   2   4   4  1.585   0   0    0    1    2   \n",
       "1    15739548   0  22.67   7.00   2   8   4  0.165   0   0    0    0    2   \n",
       "2    15662854   0  29.58   1.75   1   4   4  1.250   0   0    0    1    2   \n",
       "3    15687688   0  21.67  11.50   1   5   3  0.000   1   1   11    1    2   \n",
       "4    15715750   1  20.17   8.17   2   6   4  1.960   1   1   14    0    2   \n",
       "\n",
       "   A13   A14  Class  \n",
       "0  100  1213      0  \n",
       "1  160     1      0  \n",
       "2  280     1      0  \n",
       "3    0     1      1  \n",
       "4   60   159      1  "
      ]
     },
     "execution_count": 3,
     "metadata": {},
     "output_type": "execute_result"
    }
   ],
   "source": [
    "dataset.head()"
   ]
  },
  {
   "cell_type": "markdown",
   "id": "ecb3295c-f8e7-4a5c-8732-061824aca880",
   "metadata": {},
   "source": [
    "<p style=\"text-align: justify; text-justify: inter-word;\">\n",
    "   <font size=3>\n",
    "       <b>Class 0</b>: It represents, application is rejected <br>\n",
    "       <b>Class 1</b>: It represents, application is accepted\n",
    "   </font>\n",
    "</p>"
   ]
  },
  {
   "cell_type": "code",
   "execution_count": 4,
   "id": "2fda9265-7fae-4f4c-8cb0-2c0b97725081",
   "metadata": {
    "tags": []
   },
   "outputs": [
    {
     "name": "stdout",
     "output_type": "stream",
     "text": [
      "<class 'pandas.core.frame.DataFrame'>\n",
      "RangeIndex: 690 entries, 0 to 689\n",
      "Data columns (total 16 columns):\n",
      " #   Column      Non-Null Count  Dtype  \n",
      "---  ------      --------------  -----  \n",
      " 0   CustomerID  690 non-null    int64  \n",
      " 1   A1          690 non-null    int64  \n",
      " 2   A2          690 non-null    float64\n",
      " 3   A3          690 non-null    float64\n",
      " 4   A4          690 non-null    int64  \n",
      " 5   A5          690 non-null    int64  \n",
      " 6   A6          690 non-null    int64  \n",
      " 7   A7          690 non-null    float64\n",
      " 8   A8          690 non-null    int64  \n",
      " 9   A9          690 non-null    int64  \n",
      " 10  A10         690 non-null    int64  \n",
      " 11  A11         690 non-null    int64  \n",
      " 12  A12         690 non-null    int64  \n",
      " 13  A13         690 non-null    int64  \n",
      " 14  A14         690 non-null    int64  \n",
      " 15  Class       690 non-null    int64  \n",
      "dtypes: float64(3), int64(13)\n",
      "memory usage: 86.4 KB\n"
     ]
    }
   ],
   "source": [
    "dataset.info()"
   ]
  },
  {
   "cell_type": "code",
   "execution_count": 5,
   "id": "9eaee98b-2387-4baf-a356-2c9bd86706d3",
   "metadata": {
    "tags": []
   },
   "outputs": [],
   "source": [
    "# The values attribute returns the data in array format\n",
    "X = dataset.iloc[:, :-1].values\n",
    "y = dataset.iloc[:, -1].values  # We don't required them because it we are going to solve this problem in unsupervised way."
   ]
  },
  {
   "cell_type": "markdown",
   "id": "f9b7a61d-0089-442f-8e8d-20be8c13e25b",
   "metadata": {
    "tags": []
   },
   "source": [
    "### <span style=\"color:#3C4048; font-weight: bold; font-size: 18px; font-family: Gill Sans, sans-serif;\">Feature Scaling</span>"
   ]
  },
  {
   "cell_type": "code",
   "execution_count": 6,
   "id": "59cbb7f6-3055-4f3b-b07c-4ee4e859f8d7",
   "metadata": {
    "tags": []
   },
   "outputs": [
    {
     "data": {
      "text/plain": [
       "array([[8.42681467e-01, 1.00000000e+00, 1.25263158e-01, ...,\n",
       "        5.00000000e-01, 5.00000000e-02, 1.21200000e-02],\n",
       "       [6.96090562e-01, 0.00000000e+00, 1.34135338e-01, ...,\n",
       "        5.00000000e-01, 8.00000000e-02, 0.00000000e+00],\n",
       "       [3.88981656e-01, 0.00000000e+00, 2.38045113e-01, ...,\n",
       "        5.00000000e-01, 1.40000000e-01, 0.00000000e+00],\n",
       "       ...,\n",
       "       [4.39420332e-01, 0.00000000e+00, 7.63909774e-02, ...,\n",
       "        5.00000000e-01, 5.00000000e-02, 0.00000000e+00],\n",
       "       [8.44034934e-01, 0.00000000e+00, 2.05563910e-01, ...,\n",
       "        5.00000000e-01, 6.00000000e-02, 1.10000000e-04],\n",
       "       [1.06907888e-01, 1.00000000e+00, 4.09774436e-01, ...,\n",
       "        0.00000000e+00, 2.80000000e-01, 0.00000000e+00]])"
      ]
     },
     "execution_count": 6,
     "metadata": {},
     "output_type": "execute_result"
    }
   ],
   "source": [
    "sc = MinMaxScaler(feature_range=(0, 1))\n",
    "X = sc.fit_transform(X)\n",
    "X"
   ]
  },
  {
   "cell_type": "code",
   "execution_count": 7,
   "id": "d06b1711-0024-4156-8bac-5156e6a913ab",
   "metadata": {},
   "outputs": [
    {
     "name": "stdout",
     "output_type": "stream",
     "text": [
      "Dataset shape with labels:  (690, 16)\n",
      "Transformed dataset shape without labels: (690, 15)\n"
     ]
    }
   ],
   "source": [
    "print(f\"Dataset shape with labels: \", dataset.shape)\n",
    "print(f\"Transformed dataset shape without labels:\", X.shape)"
   ]
  },
  {
   "cell_type": "markdown",
   "id": "4ac73286-d6e5-4812-83e6-0217945a5252",
   "metadata": {},
   "source": [
    "### <span style=\"color:#3C4048; font-weight: bold; font-size: 18px; font-family: Gill Sans, sans-serif;\">Training the SOM</span>"
   ]
  },
  {
   "cell_type": "code",
   "execution_count": 8,
   "id": "a52a57bd-dcae-4677-83bb-df1244879353",
   "metadata": {
    "tags": []
   },
   "outputs": [],
   "source": [
    "# Initialize the SOM\n",
    "som = MiniSom(x=10, y=10,       # This is the grid size which represents num of nodes (10 * 10 = 100)\n",
    "              input_len=15,     # The dimensionality of the input data. This should match the number of features in your dataset.  \n",
    "              sigma=1.0,        # The radius of the neighborhood function, which determines the extent of the influence a node has on its neighbors. A larger sigma means a broader area of influence.\n",
    "              learning_rate=0.5 # The initial learning rate for the training process. It controls how much the weights are adjusted during each training step.\n",
    "             )"
   ]
  },
  {
   "cell_type": "code",
   "execution_count": 9,
   "id": "f64c7221-d7c4-4f1d-995d-3c5fd374e0e8",
   "metadata": {
    "tags": []
   },
   "outputs": [],
   "source": [
    "som.random_weights_init(X)"
   ]
  },
  {
   "cell_type": "code",
   "execution_count": 10,
   "id": "8efcb2f6-3ee9-4f82-9345-4449f184fdfa",
   "metadata": {
    "tags": []
   },
   "outputs": [
    {
     "data": {
      "text/plain": [
       "array([0.10346416, 1.        , 0.32210526, 0.08928571, 0.5       ,\n",
       "       0.23076923, 0.375     , 0.15789474, 1.        , 1.        ,\n",
       "       0.10447761, 0.        , 0.5       , 0.075     , 0.0127    ])"
      ]
     },
     "execution_count": 10,
     "metadata": {},
     "output_type": "execute_result"
    }
   ],
   "source": [
    "# Get the weights of the first neuron (index 0)\n",
    "weights_of_first_neuron = som.get_weights()[0, 0, :]\n",
    "weights_of_first_neuron"
   ]
  },
  {
   "cell_type": "code",
   "execution_count": 11,
   "id": "0a65c0b0-f8ca-4112-8749-b93b2f790141",
   "metadata": {
    "tags": []
   },
   "outputs": [
    {
     "data": {
      "text/plain": [
       "array([5.31808480e-01, 0.00000000e+00, 9.02255639e-02, 2.67857143e-02,\n",
       "       5.00000000e-01, 5.38461538e-01, 3.75000000e-01, 2.78947368e-02,\n",
       "       1.00000000e+00, 1.00000000e+00, 7.46268657e-02, 1.00000000e+00,\n",
       "       5.00000000e-01, 7.00000000e-02, 5.00000000e-05])"
      ]
     },
     "execution_count": 11,
     "metadata": {},
     "output_type": "execute_result"
    }
   ],
   "source": [
    "# Get the weights of the 79th neuron (index 78)\n",
    "weights_of_79th_neuron = som.get_weights()[7, 8, :]\n",
    "weights_of_79th_neuron"
   ]
  },
  {
   "cell_type": "code",
   "execution_count": 12,
   "id": "63ae17e4-6449-49f5-8e49-ff8ad88f5ff2",
   "metadata": {
    "tags": []
   },
   "outputs": [
    {
     "name": "stdout",
     "output_type": "stream",
     "text": [
      " [ 100 / 100 ] 100% - 0:00:00 left \n",
      " quantization error: 0.515296396046355\n"
     ]
    }
   ],
   "source": [
    "som.train_random(data=X, num_iteration=100, verbose=True)"
   ]
  },
  {
   "cell_type": "markdown",
   "id": "4a165493-7a86-4991-ac96-f6e912727a0c",
   "metadata": {},
   "source": [
    "### <span style=\"color:#3C4048; font-weight: bold; font-size: 18px; font-family: Gill Sans, sans-serif;\">Data Visualization</span>"
   ]
  },
  {
   "cell_type": "markdown",
   "id": "55b3c7a2-a171-4cf4-96b8-9e2b68e6bb74",
   "metadata": {},
   "source": [
    "<p style=\"text-align: justify; text-justify: inter-word; font-size: 15px; text-indent: 50px;\">\n",
    "    We are going to plot all the winning nodes in the two dimentional grid graph. In this graph we are\n",
    "    primarily going to depicts Mean Interneuron Distance(MID). In simple terms, MID is the mean of\n",
    "    distances of winning node with its surrounding nodes. The higher MID of the node, it more away\n",
    "    from its surrounding nodes. Therefore the higher MID node probably an outlier.<br>\n",
    "    <strong>Note</strong>: More details can be found in appendix(<a href=\"#Mean-Interneuron-Distance\">Mean Interneuron Distance</a>) section of this notebook\n",
    "</p>"
   ]
  },
  {
   "cell_type": "code",
   "execution_count": 13,
   "id": "518e1c0c-aaf7-4952-809d-1d50555ff383",
   "metadata": {
    "tags": []
   },
   "outputs": [],
   "source": [
    "from pylab import bone, pcolor, colorbar, plot, show"
   ]
  },
  {
   "cell_type": "code",
   "execution_count": 14,
   "id": "71c1117f-8cdd-4114-9bdb-ef531f652a57",
   "metadata": {
    "tags": []
   },
   "outputs": [
    {
     "data": {
      "text/plain": [
       "array([[0.26056396, 0.52363857, 0.36378908, 0.45437835, 0.61637554,\n",
       "        0.47641185, 0.47826257, 0.36274658, 0.25995437, 0.1890149 ],\n",
       "       [0.46877539, 0.74544403, 0.73662557, 0.6444952 , 0.68072968,\n",
       "        0.70211442, 0.5618627 , 0.50260453, 0.40237983, 0.25593936],\n",
       "       [0.46915919, 0.75020078, 0.71179179, 0.6830938 , 0.65997585,\n",
       "        0.62806637, 0.59311552, 0.44272929, 0.48530074, 0.3239207 ],\n",
       "       [0.45719526, 0.77978143, 0.78764684, 0.69562332, 0.67528966,\n",
       "        0.73439759, 0.76299724, 0.6942991 , 0.74887729, 0.37621518],\n",
       "       [0.71740393, 0.78299315, 0.73982413, 1.        , 0.63832697,\n",
       "        0.80642403, 0.83927927, 0.769938  , 0.75996198, 0.45404222],\n",
       "       [0.47944303, 0.94422848, 0.88801446, 0.57501976, 0.67861198,\n",
       "        0.65296652, 0.74302616, 0.64391983, 0.77691515, 0.45816943],\n",
       "       [0.51675342, 0.61436526, 0.74536849, 0.62532817, 0.55848656,\n",
       "        0.62999698, 0.50407089, 0.56875996, 0.53900533, 0.44559712],\n",
       "       [0.38611672, 0.74630117, 0.52423577, 0.54130529, 0.49907408,\n",
       "        0.48514125, 0.54771368, 0.59823818, 0.50700443, 0.38674885],\n",
       "       [0.50458204, 0.59684213, 0.58163837, 0.40685488, 0.53976441,\n",
       "        0.40579704, 0.57477978, 0.51749823, 0.58240191, 0.33377478],\n",
       "       [0.25072983, 0.39763363, 0.4082046 , 0.32026919, 0.27635083,\n",
       "        0.32616623, 0.43589004, 0.42307984, 0.34890572, 0.1757847 ]])"
      ]
     },
     "execution_count": 14,
     "metadata": {},
     "output_type": "execute_result"
    }
   ],
   "source": [
    "# This method give MID of each winning node\n",
    "som.distance_map()"
   ]
  },
  {
   "cell_type": "code",
   "execution_count": 35,
   "id": "7c1d6bce-b965-4a5c-a7f5-ca4fed4c1710",
   "metadata": {
    "tags": []
   },
   "outputs": [
    {
     "data": {
      "image/png": "[encoded data removed]",
      "text/plain": [
       "<Figure size 640x480 with 2 Axes>"
      ]
     },
     "metadata": {},
     "output_type": "display_data"
    }
   ],
   "source": [
    "bone()\n",
    "\n",
    "# We will get 10 X 10 graph because our array shape is 10 X 10,\n",
    "# if you are not clear watch appendix section of this notebook\n",
    "pcolor(som.distance_map())\n",
    "\n",
    "# In the generated graph white color nodes are having highest MID and dark blue has lowest MID\n",
    "# The white color nodes potentially outlier and possible repesent fradulent customers\n",
    "colorbar()\n",
    "\n",
    "# Now we will check each winning node approved credit load or not. For this we are going to use\n",
    "# output label\n",
    "markers = [\"o\", \"s\"]\n",
    "color = [\"r\", \"g\"]\n",
    "\n",
    "for index, customer_data in enumerate(X):\n",
    "    winning_node = som.winner(customer_data)\n",
    "    plot(\n",
    "        winning_node[0] + 0.5,  # Represent X co-ordinate and 0.5 to move marker in the center of grid\n",
    "        winning_node[1] + 0.5,  # Represent Y co-ordinate and 0.5 to move marker in the center of grid\n",
    "        markers[y[index]],  # Y is 0 not approved and it repesented with \"o\", For approved it is 1 and \"s\"\n",
    "        markeredgecolor=color[y[index]],\n",
    "        markerfacecolor=\"None\",  # Some color filled inside markers if you remove this one\n",
    "        markersize=10,\n",
    "        markeredgewidth=2\n",
    "    )"
   ]
  },
  {
   "cell_type": "markdown",
   "id": "811cef34-1f3e-4cc8-8d6f-6df13663fef0",
   "metadata": {},
   "source": [
    "### <span style=\"color:#3C4048; font-weight: bold; font-size: 18px; font-family: Gill Sans, sans-serif;\">Appendix</span>"
   ]
  },
  {
   "cell_type": "markdown",
   "id": "c09a8477-93ca-4149-8957-3e47b94312b5",
   "metadata": {},
   "source": [
    "##### <span style=\"color:#3C4048; font-weight: bold; font-size: 18px; font-family: Gill Sans, sans-serif;\">Mean Interneuron Distance</span>"
   ]
  },
  {
   "cell_type": "markdown",
   "id": "ade3dcc7-99e0-4e0f-b646-6e74ff62d2e1",
   "metadata": {},
   "source": [
    "In Self-Organizing Maps (SOMs), **MID** stands for **Mean Interneuron Distance**.\n",
    "\n",
    "**Here's a breakdown of what it means:**\n",
    "\n",
    "* **Interneuron Distance:** This refers to the distance between a winning neuron (also known as the Best Matching Unit or BMU) and its neighboring neurons on the SOM grid.\n",
    "* **Mean:** The average of these interneuron distances within a specified neighborhood around the winning neuron.\n",
    "\n",
    "**Essentially, MID provides a measure of how evenly distributed the neurons are around a particular winning neuron.** A higher MID value indicates that neighboring neurons are more spread out, while a lower MID value suggests that they are more clustered together.\n",
    "\n",
    "**Why is MID important?**\n",
    "\n",
    "* **Visualization:** MID can be used to visualize the distribution of neurons on the SOM grid. High MID values might indicate regions of the map with fewer neurons, while low MID values might suggest areas with a higher density of neurons.\n",
    "* **Analysis:** MID can be used to analyze the topology of the SOM and identify patterns or structures in the data. For example, a high MID value in a specific region might suggest that the data in that region is more diverse or less clustered.\n",
    "\n",
    "**In summary, MID is a valuable metric for understanding the structure and organization of a SOM and can be used to gain insights into the underlying patterns and relationships within the data.**\n"
   ]
  },
  {
   "cell_type": "markdown",
   "id": "48e3fe5b-5800-4ac9-9118-8e272805df0d",
   "metadata": {},
   "source": [
    "##### <span style=\"color:#3C4048; font-weight: bold; font-size: 18px; font-family: Gill Sans, sans-serif;\">Simpe color bar demo</span>"
   ]
  },
  {
   "cell_type": "code",
   "execution_count": 16,
   "id": "14fa8be6-f980-4e6d-9a41-bcabf6cd8a07",
   "metadata": {
    "tags": []
   },
   "outputs": [],
   "source": [
    "import numpy as np"
   ]
  },
  {
   "cell_type": "code",
   "execution_count": 17,
   "id": "8d723f42-0aea-406d-95c9-2bb44b726b7b",
   "metadata": {
    "tags": []
   },
   "outputs": [
    {
     "data": {
      "text/plain": [
       "array([[2, 1, 3, 6],\n",
       "       [7, 3, 4, 5],\n",
       "       [2, 1, 3, 6]])"
      ]
     },
     "execution_count": 17,
     "metadata": {},
     "output_type": "execute_result"
    }
   ],
   "source": [
    "random_ints = np.array([[2, 1, 3, 6],[7,3,4,5], [2, 1, 3, 6]])\n",
    "random_ints"
   ]
  },
  {
   "cell_type": "code",
   "execution_count": 18,
   "id": "524b5943-7575-44f2-bf5f-2a2eb54980b1",
   "metadata": {
    "tags": []
   },
   "outputs": [
    {
     "data": {
      "text/plain": [
       "Text(0, 0.5, 'Y-Rows')"
      ]
     },
     "execution_count": 18,
     "metadata": {},
     "output_type": "execute_result"
    },
    {
     "data": {
      "image/png": "[encoded data removed]",
      "text/plain": [
       "<Figure size 640x480 with 1 Axes>"
      ]
     },
     "metadata": {},
     "output_type": "display_data"
    }
   ],
   "source": [
    "# Assign a color to each value, if you observe carefully first and third rows has same\n",
    "# color since I have used same values.\n",
    "plt.pcolor(random_ints, cmap='rainbow_r', edgecolors='black')\n",
    "# It looks like X-axis representing columns in the array and Y-axis representing rows\n",
    "plt.xlabel('X-Columns')\n",
    "plt.ylabel('Y-Rows')"
   ]
  },
  {
   "cell_type": "code",
   "execution_count": null,
   "id": "68f1f321-9577-44b2-81c0-569bd49005ed",
   "metadata": {},
   "outputs": [],
   "source": []
  }
 ],
 "metadata": {
  "kernelspec": {
   "display_name": "Python 3 (ipykernel)",
   "language": "python",
   "name": "python3"
  },
  "language_info": {
   "codemirror_mode": {
    "name": "ipython",
    "version": 3
   },
   "file_extension": ".py",
   "mimetype": "text/x-python",
   "name": "python",
   "nbconvert_exporter": "python",
   "pygments_lexer": "ipython3",
   "version": "3.11.2"
  }
 },
 "nbformat": 4,
 "nbformat_minor": 5
}
