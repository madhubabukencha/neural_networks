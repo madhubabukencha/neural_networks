{
 "cells": [
  {
   "cell_type": "markdown",
   "id": "2edc9a61-9e86-4f0e-a9c9-a9e854350849",
   "metadata": {
    "tags": []
   },
   "source": [
    "<p style=\"color:#153462; \n",
    "          font-weight: bold; \n",
    "          font-size: 30px; \n",
    "          font-family: Gill Sans, sans-serif; \n",
    "          text-align: center;\">\n",
    "          SOM Implementation</p>"
   ]
  },
  {
   "cell_type": "markdown",
   "id": "4012c112-6436-4f62-9f07-64ee8798a4ab",
   "metadata": {
    "tags": []
   },
   "source": [
    "### <span style=\"color:#3C4048; font-weight: bold; font-size: 18px; font-family: Gill Sans, sans-serif;\">About Dataset</span>"
   ]
  },
  {
   "cell_type": "markdown",
   "id": "5111c7e5-31ff-4e0d-ba92-4a63c79c6058",
   "metadata": {},
   "source": [
    "<p style=\"text-align: justify; text-justify: inter-word;\">\n",
    "   <font size=3>\n",
    "       <b>Dataset</b>: <a href=\"https://archive.ics.uci.edu/dataset/143/statlog+australian+credit+approval\">Australian Credit Approval</a>\n",
    "   </font>\n",
    "</p>"
   ]
  },
  {
   "cell_type": "markdown",
   "id": "e348ff11-11ef-4d60-8600-c0f159496f0e",
   "metadata": {},
   "source": [
    "<p style=\"text-align: justify; text-justify: inter-word;\">\n",
    "   <font size=3>\n",
    "       This file contains credit card applications.  All attribute names and values have been changed to meaningless\n",
    "       symbols to protect confidentiality of the data.\n",
    "       This dataset is interesting because there is a good mix of attributes -- continuous, nominal with small numbers\n",
    "       of values, and nominal(refers to categorical data that doesn't have a numerical order.) with larger numbers of values.  There are also a few missing values.\n",
    "   </font>\n",
    "</p>\n",
    "\n"
   ]
  },
  {
   "cell_type": "markdown",
   "id": "2ae47a2e-bc5f-4767-9a64-787b08791881",
   "metadata": {},
   "source": [
    "### <span style=\"color:#3C4048; font-weight: bold; font-size: 18px; font-family: Gill Sans, sans-serif;\">Goal of the Experiment</span>"
   ]
  },
  {
   "cell_type": "markdown",
   "id": "abea7416-7f23-425c-874a-9d0adeccbb2d",
   "metadata": {},
   "source": [
    "<p style=\"text-align: justify; text-justify: inter-word;\">\n",
    "   <font size=3>\n",
    "       Predicting group of customer who are fradulent. we are going to solve this problem in an unsupervised way.\n",
    "   </font>\n",
    "</p>"
   ]
  },
  {
   "cell_type": "markdown",
   "id": "7bf5e227-8895-430c-9fc0-63ef18ea409c",
   "metadata": {
    "tags": []
   },
   "source": [
    "### <span style=\"color:#3C4048; font-weight: bold; font-size: 18px; font-family: Gill Sans, sans-serif;\">Required Packages</span>"
   ]
  },
  {
   "cell_type": "code",
   "execution_count": 1,
   "id": "0f702740-bc08-4924-b88a-413c8ff3cd18",
   "metadata": {
    "tags": []
   },
   "outputs": [],
   "source": [
    "import numpy as np\n",
    "import matplotlib.pyplot as plt\n",
    "import pandas as pd\n",
    "from sklearn.preprocessing import MinMaxScaler\n",
    "from minisom import MiniSom"
   ]
  },
  {
   "cell_type": "markdown",
   "id": "56a2d11f-3687-4acf-9a7b-0f49d14e020c",
   "metadata": {},
   "source": [
    "### <span style=\"color:#3C4048; font-weight: bold; font-size: 18px; font-family: Gill Sans, sans-serif;\">Load Dataset</span>"
   ]
  },
  {
   "cell_type": "code",
   "execution_count": 2,
   "id": "76ecc764-c5c4-445c-91a5-6c2334ac238a",
   "metadata": {
    "tags": []
   },
   "outputs": [],
   "source": [
    "dataset = pd.read_csv(\"dataset/Credit_Card_Applications.csv\")"
   ]
  },
  {
   "cell_type": "code",
   "execution_count": 3,
   "id": "33c1bc87-9cc6-41db-8cdd-c3d54f969750",
   "metadata": {
    "tags": []
   },
   "outputs": [
    {
     "data": {
      "text/html": [
       "<div>\n",
       "<style scoped>\n",
       "    .dataframe tbody tr th:only-of-type {\n",
       "        vertical-align: middle;\n",
       "    }\n",
       "\n",
       "    .dataframe tbody tr th {\n",
       "        vertical-align: top;\n",
       "    }\n",
       "\n",
       "    .dataframe thead th {\n",
       "        text-align: right;\n",
       "    }\n",
       "</style>\n",
       "<table border=\"1\" class=\"dataframe\">\n",
       "  <thead>\n",
       "    <tr style=\"text-align: right;\">\n",
       "      <th></th>\n",
       "      <th>CustomerID</th>\n",
       "      <th>A1</th>\n",
       "      <th>A2</th>\n",
       "      <th>A3</th>\n",
       "      <th>A4</th>\n",
       "      <th>A5</th>\n",
       "      <th>A6</th>\n",
       "      <th>A7</th>\n",
       "      <th>A8</th>\n",
       "      <th>A9</th>\n",
       "      <th>A10</th>\n",
       "      <th>A11</th>\n",
       "      <th>A12</th>\n",
       "      <th>A13</th>\n",
       "      <th>A14</th>\n",
       "      <th>Class</th>\n",
       "    </tr>\n",
       "  </thead>\n",
       "  <tbody>\n",
       "    <tr>\n",
       "      <th>0</th>\n",
       "      <td>15776156</td>\n",
       "      <td>1</td>\n",
       "      <td>22.08</td>\n",
       "      <td>11.46</td>\n",
       "      <td>2</td>\n",
       "      <td>4</td>\n",
       "      <td>4</td>\n",
       "      <td>1.585</td>\n",
       "      <td>0</td>\n",
       "      <td>0</td>\n",
       "      <td>0</td>\n",
       "      <td>1</td>\n",
       "      <td>2</td>\n",
       "      <td>100</td>\n",
       "      <td>1213</td>\n",
       "      <td>0</td>\n",
       "    </tr>\n",
       "    <tr>\n",
       "      <th>1</th>\n",
       "      <td>15739548</td>\n",
       "      <td>0</td>\n",
       "      <td>22.67</td>\n",
       "      <td>7.00</td>\n",
       "      <td>2</td>\n",
       "      <td>8</td>\n",
       "      <td>4</td>\n",
       "      <td>0.165</td>\n",
       "      <td>0</td>\n",
       "      <td>0</td>\n",
       "      <td>0</td>\n",
       "      <td>0</td>\n",
       "      <td>2</td>\n",
       "      <td>160</td>\n",
       "      <td>1</td>\n",
       "      <td>0</td>\n",
       "    </tr>\n",
       "    <tr>\n",
       "      <th>2</th>\n",
       "      <td>15662854</td>\n",
       "      <td>0</td>\n",
       "      <td>29.58</td>\n",
       "      <td>1.75</td>\n",
       "      <td>1</td>\n",
       "      <td>4</td>\n",
       "      <td>4</td>\n",
       "      <td>1.250</td>\n",
       "      <td>0</td>\n",
       "      <td>0</td>\n",
       "      <td>0</td>\n",
       "      <td>1</td>\n",
       "      <td>2</td>\n",
       "      <td>280</td>\n",
       "      <td>1</td>\n",
       "      <td>0</td>\n",
       "    </tr>\n",
       "    <tr>\n",
       "      <th>3</th>\n",
       "      <td>15687688</td>\n",
       "      <td>0</td>\n",
       "      <td>21.67</td>\n",
       "      <td>11.50</td>\n",
       "      <td>1</td>\n",
       "      <td>5</td>\n",
       "      <td>3</td>\n",
       "      <td>0.000</td>\n",
       "      <td>1</td>\n",
       "      <td>1</td>\n",
       "      <td>11</td>\n",
       "      <td>1</td>\n",
       "      <td>2</td>\n",
       "      <td>0</td>\n",
       "      <td>1</td>\n",
       "      <td>1</td>\n",
       "    </tr>\n",
       "    <tr>\n",
       "      <th>4</th>\n",
       "      <td>15715750</td>\n",
       "      <td>1</td>\n",
       "      <td>20.17</td>\n",
       "      <td>8.17</td>\n",
       "      <td>2</td>\n",
       "      <td>6</td>\n",
       "      <td>4</td>\n",
       "      <td>1.960</td>\n",
       "      <td>1</td>\n",
       "      <td>1</td>\n",
       "      <td>14</td>\n",
       "      <td>0</td>\n",
       "      <td>2</td>\n",
       "      <td>60</td>\n",
       "      <td>159</td>\n",
       "      <td>1</td>\n",
       "    </tr>\n",
       "  </tbody>\n",
       "</table>\n",
       "</div>"
      ],
      "text/plain": [
       "   CustomerID  A1     A2     A3  A4  A5  A6     A7  A8  A9  A10  A11  A12  \\\n",
       "0    15776156   1  22.08  11.46   2   4   4  1.585   0   0    0    1    2   \n",
       "1    15739548   0  22.67   7.00   2   8   4  0.165   0   0    0    0    2   \n",
       "2    15662854   0  29.58   1.75   1   4   4  1.250   0   0    0    1    2   \n",
       "3    15687688   0  21.67  11.50   1   5   3  0.000   1   1   11    1    2   \n",
       "4    15715750   1  20.17   8.17   2   6   4  1.960   1   1   14    0    2   \n",
       "\n",
       "   A13   A14  Class  \n",
       "0  100  1213      0  \n",
       "1  160     1      0  \n",
       "2  280     1      0  \n",
       "3    0     1      1  \n",
       "4   60   159      1  "
      ]
     },
     "execution_count": 3,
     "metadata": {},
     "output_type": "execute_result"
    }
   ],
   "source": [
    "dataset.head()"
   ]
  },
  {
   "cell_type": "markdown",
   "id": "ecb3295c-f8e7-4a5c-8732-061824aca880",
   "metadata": {},
   "source": [
    "<p style=\"text-align: justify; text-justify: inter-word;\">\n",
    "   <font size=3>\n",
    "       <b>Class 0</b>: It represents, application is rejected <br>\n",
    "       <b>Class 1</b>: It represents, application is accepted\n",
    "   </font>\n",
    "</p>"
   ]
  },
  {
   "cell_type": "code",
   "execution_count": 4,
   "id": "2fda9265-7fae-4f4c-8cb0-2c0b97725081",
   "metadata": {
    "tags": []
   },
   "outputs": [
    {
     "name": "stdout",
     "output_type": "stream",
     "text": [
      "<class 'pandas.core.frame.DataFrame'>\n",
      "RangeIndex: 690 entries, 0 to 689\n",
      "Data columns (total 16 columns):\n",
      " #   Column      Non-Null Count  Dtype  \n",
      "---  ------      --------------  -----  \n",
      " 0   CustomerID  690 non-null    int64  \n",
      " 1   A1          690 non-null    int64  \n",
      " 2   A2          690 non-null    float64\n",
      " 3   A3          690 non-null    float64\n",
      " 4   A4          690 non-null    int64  \n",
      " 5   A5          690 non-null    int64  \n",
      " 6   A6          690 non-null    int64  \n",
      " 7   A7          690 non-null    float64\n",
      " 8   A8          690 non-null    int64  \n",
      " 9   A9          690 non-null    int64  \n",
      " 10  A10         690 non-null    int64  \n",
      " 11  A11         690 non-null    int64  \n",
      " 12  A12         690 non-null    int64  \n",
      " 13  A13         690 non-null    int64  \n",
      " 14  A14         690 non-null    int64  \n",
      " 15  Class       690 non-null    int64  \n",
      "dtypes: float64(3), int64(13)\n",
      "memory usage: 86.4 KB\n"
     ]
    }
   ],
   "source": [
    "dataset.info()"
   ]
  },
  {
   "cell_type": "code",
   "execution_count": 5,
   "id": "9eaee98b-2387-4baf-a356-2c9bd86706d3",
   "metadata": {
    "tags": []
   },
   "outputs": [],
   "source": [
    "# The values attribute returns the data in array format\n",
    "X = dataset.iloc[:, :-1].values\n",
    "y = dataset.iloc[:, -1].values  # We don't required them because it we are going to solve this problem in unsupervised way."
   ]
  },
  {
   "cell_type": "markdown",
   "id": "f9b7a61d-0089-442f-8e8d-20be8c13e25b",
   "metadata": {
    "tags": []
   },
   "source": [
    "### <span style=\"color:#3C4048; font-weight: bold; font-size: 18px; font-family: Gill Sans, sans-serif;\">Feature Scaling</span>"
   ]
  },
  {
   "cell_type": "code",
   "execution_count": 6,
   "id": "59cbb7f6-3055-4f3b-b07c-4ee4e859f8d7",
   "metadata": {
    "tags": []
   },
   "outputs": [
    {
     "data": {
      "text/plain": [
       "array([[8.42681467e-01, 1.00000000e+00, 1.25263158e-01, ...,\n",
       "        5.00000000e-01, 5.00000000e-02, 1.21200000e-02],\n",
       "       [6.96090562e-01, 0.00000000e+00, 1.34135338e-01, ...,\n",
       "        5.00000000e-01, 8.00000000e-02, 0.00000000e+00],\n",
       "       [3.88981656e-01, 0.00000000e+00, 2.38045113e-01, ...,\n",
       "        5.00000000e-01, 1.40000000e-01, 0.00000000e+00],\n",
       "       ...,\n",
       "       [4.39420332e-01, 0.00000000e+00, 7.63909774e-02, ...,\n",
       "        5.00000000e-01, 5.00000000e-02, 0.00000000e+00],\n",
       "       [8.44034934e-01, 0.00000000e+00, 2.05563910e-01, ...,\n",
       "        5.00000000e-01, 6.00000000e-02, 1.10000000e-04],\n",
       "       [1.06907888e-01, 1.00000000e+00, 4.09774436e-01, ...,\n",
       "        0.00000000e+00, 2.80000000e-01, 0.00000000e+00]])"
      ]
     },
     "execution_count": 6,
     "metadata": {},
     "output_type": "execute_result"
    }
   ],
   "source": [
    "sc = MinMaxScaler(feature_range=(0, 1))\n",
    "X = sc.fit_transform(X)\n",
    "X"
   ]
  },
  {
   "cell_type": "code",
   "execution_count": 7,
   "id": "d06b1711-0024-4156-8bac-5156e6a913ab",
   "metadata": {},
   "outputs": [
    {
     "name": "stdout",
     "output_type": "stream",
     "text": [
      "Dataset shape with labels:  (690, 16)\n",
      "Transformed dataset shape without labels: (690, 15)\n"
     ]
    }
   ],
   "source": [
    "print(f\"Dataset shape with labels: \", dataset.shape)\n",
    "print(f\"Transformed dataset shape without labels:\", X.shape)"
   ]
  },
  {
   "cell_type": "markdown",
   "id": "4ac73286-d6e5-4812-83e6-0217945a5252",
   "metadata": {},
   "source": [
    "### <span style=\"color:#3C4048; font-weight: bold; font-size: 18px; font-family: Gill Sans, sans-serif;\">Training the SOM</span>"
   ]
  },
  {
   "cell_type": "code",
   "execution_count": 8,
   "id": "a52a57bd-dcae-4677-83bb-df1244879353",
   "metadata": {
    "tags": []
   },
   "outputs": [],
   "source": [
    "# Initialize the SOM\n",
    "som = MiniSom(x=10, y=10,       # This is the grid size which represents num of nodes (10 * 10 = 100)\n",
    "              input_len=15,     # The dimensionality of the input data. This should match the number of features in your dataset.  \n",
    "              sigma=1.0,        # The radius of the neighborhood function, which determines the extent of the influence a node has on its neighbors. A larger sigma means a broader area of influence.\n",
    "              learning_rate=0.5 # The initial learning rate for the training process. It controls how much the weights are adjusted during each training step.\n",
    "              \n",
    "             )"
   ]
  },
  {
   "cell_type": "code",
   "execution_count": 9,
   "id": "f64c7221-d7c4-4f1d-995d-3c5fd374e0e8",
   "metadata": {
    "tags": []
   },
   "outputs": [],
   "source": [
    "som.random_weights_init(X)"
   ]
  },
  {
   "cell_type": "code",
   "execution_count": 10,
   "id": "8efcb2f6-3ee9-4f82-9345-4449f184fdfa",
   "metadata": {
    "tags": []
   },
   "outputs": [
    {
     "data": {
      "text/plain": [
       "array([0.89857005, 1.        , 0.05639098, 0.78571429, 1.        ,\n",
       "       0.        , 0.75      , 0.        , 0.        , 0.        ,\n",
       "       0.        , 1.        , 1.        , 0.225     , 1.        ])"
      ]
     },
     "execution_count": 10,
     "metadata": {},
     "output_type": "execute_result"
    }
   ],
   "source": [
    "# Get the weights of the first neuron (index 0)\n",
    "weights_of_first_neuron = som.get_weights()[0, 0, :]\n",
    "weights_of_first_neuron"
   ]
  },
  {
   "cell_type": "code",
   "execution_count": 11,
   "id": "0a65c0b0-f8ca-4112-8749-b93b2f790141",
   "metadata": {
    "tags": []
   },
   "outputs": [
    {
     "data": {
      "text/plain": [
       "array([0.28336317, 1.        , 0.40345865, 0.17857143, 0.5       ,\n",
       "       0.53846154, 0.375     , 0.1754386 , 1.        , 1.        ,\n",
       "       0.10447761, 0.        , 0.5       , 0.        , 0.03065   ])"
      ]
     },
     "execution_count": 11,
     "metadata": {},
     "output_type": "execute_result"
    }
   ],
   "source": [
    "# Get the weights of the 79th neuron (index 78)\n",
    "weights_of_79th_neuron = som.get_weights()[7, 8, :]\n",
    "weights_of_79th_neuron"
   ]
  },
  {
   "cell_type": "code",
   "execution_count": 12,
   "id": "63ae17e4-6449-49f5-8e49-ff8ad88f5ff2",
   "metadata": {
    "tags": []
   },
   "outputs": [
    {
     "name": "stdout",
     "output_type": "stream",
     "text": [
      " [ 100 / 100 ] 100% - 0:00:00 left \n",
      " quantization error: 0.50943633440062\n"
     ]
    }
   ],
   "source": [
    "som.train_random(data=X, num_iteration=100, verbose=True)"
   ]
  },
  {
   "cell_type": "markdown",
   "id": "4a165493-7a86-4991-ac96-f6e912727a0c",
   "metadata": {},
   "source": [
    "### <span style=\"color:#3C4048; font-weight: bold; font-size: 18px; font-family: Gill Sans, sans-serif;\">Data Visualization</span>"
   ]
  },
  {
   "cell_type": "markdown",
   "id": "55b3c7a2-a171-4cf4-96b8-9e2b68e6bb74",
   "metadata": {},
   "source": [
    "<p style=\"text-align: justify; text-justify: inter-word; font-size: 15px; text-indent: 50px;\">\n",
    "    We are going to plot all the winning nodes in the two dimentional grid graph. In this graph we are\n",
    "    primarily going to depicts Mean Interneuron Distance(MID). In simple terms, MID is the mean of\n",
    "    distances of winning node with its surrounding nodes. The higher MID of the node, it more away\n",
    "    from its surrounding nodes. Therefore the <b>higher MID</b> node probably an outlier.<br>\n",
    "    <strong>Note</strong>: More details can be found in appendix(<a href=\"#Mean-Interneuron-Distance\">Mean Interneuron Distance</a>) section of this notebook\n",
    "</p>"
   ]
  },
  {
   "cell_type": "code",
   "execution_count": 13,
   "id": "518e1c0c-aaf7-4952-809d-1d50555ff383",
   "metadata": {
    "tags": []
   },
   "outputs": [],
   "source": [
    "from pylab import bone, pcolor, colorbar, plot, show"
   ]
  },
  {
   "cell_type": "code",
   "execution_count": 14,
   "id": "71c1117f-8cdd-4114-9bdb-ef531f652a57",
   "metadata": {
    "tags": []
   },
   "outputs": [
    {
     "data": {
      "text/plain": [
       "array([[0.53886392, 0.6544343 , 0.43938525, 0.5211427 , 0.55889623,\n",
       "        0.50577913, 0.57617447, 0.63471734, 0.55360271, 0.36735106],\n",
       "       [0.64595511, 1.        , 0.83526986, 0.70115173, 0.62549875,\n",
       "        0.83330631, 0.8824619 , 0.88672181, 0.88815103, 0.47110026],\n",
       "       [0.48327941, 0.90845053, 0.78098481, 0.58542582, 0.68920633,\n",
       "        0.68482827, 0.82733187, 0.91783959, 0.74752369, 0.5307949 ],\n",
       "       [0.48317246, 0.74855329, 0.6618974 , 0.75844256, 0.51619713,\n",
       "        0.64587943, 0.75430206, 0.87289643, 0.87207244, 0.40272528],\n",
       "       [0.49782146, 0.81199955, 0.6681669 , 0.68483335, 0.59307425,\n",
       "        0.55224939, 0.56746486, 0.85232149, 0.83002623, 0.47894909],\n",
       "       [0.41892471, 0.58906069, 0.65394904, 0.55720922, 0.61820777,\n",
       "        0.51038203, 0.67071178, 0.62160934, 0.59985183, 0.43062948],\n",
       "       [0.40106838, 0.47798832, 0.55403129, 0.71510564, 0.53217612,\n",
       "        0.8599191 , 0.63159152, 0.58409462, 0.66075175, 0.34835882],\n",
       "       [0.33757181, 0.66545134, 0.54085691, 0.55125686, 0.65634477,\n",
       "        0.71460772, 0.72061022, 0.71071115, 0.64664244, 0.45604792],\n",
       "       [0.46351534, 0.65353494, 0.50876241, 0.51434543, 0.46383195,\n",
       "        0.64506174, 0.60153314, 0.51515486, 0.74571338, 0.43539813],\n",
       "       [0.29726646, 0.45800163, 0.34073189, 0.29592766, 0.30945786,\n",
       "        0.33852103, 0.3586152 , 0.37833972, 0.34787272, 0.24636867]])"
      ]
     },
     "execution_count": 14,
     "metadata": {},
     "output_type": "execute_result"
    }
   ],
   "source": [
    "# This method give MID of each winning node\n",
    "som.distance_map()"
   ]
  },
  {
   "cell_type": "code",
   "execution_count": 19,
   "id": "7c1d6bce-b965-4a5c-a7f5-ca4fed4c1710",
   "metadata": {
    "tags": []
   },
   "outputs": [
    {
     "data": {
      "image/png": "[encoded data removed]",
      "text/plain": [
       "<Figure size 640x480 with 2 Axes>"
      ]
     },
     "metadata": {},
     "output_type": "display_data"
    }
   ],
   "source": [
    "# NOTE:\n",
    "# The graph might look different each time that you run 'entire notebook', it's because\n",
    "# random weights the we initize will be different each time.\n",
    "bone()\n",
    "\n",
    "# We will get 10 X 10 graph because our array shape is 10 X 10,\n",
    "# if you are not clear read appendix section of this notebook\n",
    "pcolor(som.distance_map())\n",
    "\n",
    "# In the generated graph white color nodes(grid) are having highest MID and dark-blue(grid) has lowest MID\n",
    "# The white color nodes potentially outlier and possible repesent fradulent customers\n",
    "colorbar()\n",
    "\n",
    "# Now we will check each winning node approved credit load or not. For this we are going to use\n",
    "# output label\n",
    "markers = [\"o\", \"s\"]\n",
    "color = [\"r\", \"g\"]\n",
    "\n",
    "for index, customer_data in enumerate(X):\n",
    "    winning_node = som.winner(customer_data)\n",
    "    plot(\n",
    "        winning_node[0] + 0.5,  # Represent X co-ordinate and 0.5 to move marker in the center of grid\n",
    "        winning_node[1] + 0.5,  # Represent Y co-ordinate and 0.5 to move marker in the center of grid\n",
    "        markers[y[index]],  # Y is 0 not approved and it repesented with \"o\", For approved it is 1 and \"s\"\n",
    "        markeredgecolor=color[y[index]],\n",
    "        markerfacecolor=\"None\",  # Some color filled inside markers if you remove this one\n",
    "        markersize=10,\n",
    "        markeredgewidth=2\n",
    "    )"
   ]
  },
  {
   "cell_type": "markdown",
   "id": "63732c45-069a-49d7-b168-7d7e022ef1e4",
   "metadata": {},
   "source": [
    "### <span style=\"color:#3C4048; font-weight: bold; font-size: 18px; font-family: Gill Sans, sans-serif;\">Finding the frauds</span>"
   ]
  },
  {
   "cell_type": "markdown",
   "id": "a85fe6a2-597a-47af-b215-69b187cdd7bf",
   "metadata": {},
   "source": [
    "<p style=\"text-align: justify; text-justify: inter-word;\">\n",
    "    In the above Graph, the wight grids represents potential outliers or fraudulent customers. We are going to use\n",
    "    <code>som.win_map(data)</code> method to get customers associated with these white grids by looking at graph and grabing\n",
    "    co-ordinates.\n",
    "</p>"
   ]
  },
  {
   "cell_type": "code",
   "execution_count": 22,
   "id": "4fd3a66c-dc9a-4d83-ab30-b1a0644128d0",
   "metadata": {
    "tags": []
   },
   "outputs": [
    {
     "data": {
      "text/plain": [
       "[array([0.84268147, 1.        , 0.12526316, 0.40928571, 0.5       ,\n",
       "        0.23076923, 0.375     , 0.05561404, 0.        , 0.        ,\n",
       "        0.        , 1.        , 0.5       , 0.05      , 0.01212   ]),\n",
       " array([0.72114172, 1.        , 0.15533835, 0.32142857, 0.5       ,\n",
       "        0.38461538, 0.375     , 0.00877193, 0.        , 0.        ,\n",
       "        0.        , 1.        , 0.5       , 0.        , 0.        ]),\n",
       " array([0.98014648, 1.        , 0.30706767, 0.09821429, 0.5       ,\n",
       "        0.15384615, 0.5       , 0.0877193 , 0.        , 0.        ,\n",
       "        0.        , 1.        , 0.5       , 0.116     , 0.002     ]),\n",
       " array([0.89100585, 1.        , 0.09398496, 0.39446429, 0.5       ,\n",
       "        0.53846154, 0.375     , 0.07017544, 0.        , 0.        ,\n",
       "        0.        , 1.        , 0.5       , 0.068     , 0.        ]),\n",
       " array([0.88702153, 1.        , 0.12150376, 0.055     , 0.5       ,\n",
       "        0.23076923, 0.375     , 0.00298246, 0.        , 0.        ,\n",
       "        0.        , 1.        , 0.5       , 0.178     , 0.        ]),\n",
       " array([0.59042402, 1.        , 0.20556391, 0.44642857, 0.5       ,\n",
       "        0.38461538, 0.5       , 0.00877193, 0.        , 0.        ,\n",
       "        0.        , 1.        , 0.5       , 0.36      , 0.        ]),\n",
       " array([0.67920025, 1.        , 0.19428571, 0.52089286, 0.5       ,\n",
       "        0.15384615, 0.5       , 0.        , 0.        , 0.        ,\n",
       "        0.        , 1.        , 0.5       , 0.089     , 0.        ]),\n",
       " array([0.77188873, 1.        , 0.19804511, 0.08035714, 0.5       ,\n",
       "        0.15384615, 0.5       , 0.01754386, 0.        , 0.        ,\n",
       "        0.        , 1.        , 0.5       , 0.32      , 0.04      ]),\n",
       " array([9.23797396e-01, 1.00000000e+00, 1.47819549e-01, 6.39285714e-02,\n",
       "        5.00000000e-01, 5.38461538e-01, 3.75000000e-01, 1.89473684e-02,\n",
       "        0.00000000e+00, 0.00000000e+00, 0.00000000e+00, 1.00000000e+00,\n",
       "        5.00000000e-01, 6.80000000e-02, 1.00000000e-05]),\n",
       " array([0.84574479, 1.        , 0.18917293, 0.46428571, 0.5       ,\n",
       "        0.69230769, 0.125     , 0.        , 0.        , 0.        ,\n",
       "        0.        , 1.        , 0.5       , 0.07      , 0.0111    ])]"
      ]
     },
     "execution_count": 22,
     "metadata": {},
     "output_type": "execute_result"
    }
   ],
   "source": [
    "mappings = som.win_map(X)\n",
    "# Example: Bring customers associated with co-ordinate (9, 1)\n",
    "mappings[(9,1)]"
   ]
  },
  {
   "cell_type": "code",
   "execution_count": 39,
   "id": "821ce645-2941-4ee6-9588-954c8085f475",
   "metadata": {
    "tags": []
   },
   "outputs": [],
   "source": [
    "# In the above graph, I can see (1, 1), (5, 7) and (7, 3) are fradulent. These\n",
    "# might change if you run entire notebook\n",
    "frauds = np.concatenate((mappings[(1, 1)], mappings[(5, 6)], mappings[(7, 2)]), axis=0)"
   ]
  },
  {
   "cell_type": "code",
   "execution_count": 40,
   "id": "ab846ade-a701-4804-a1ed-3b875f139553",
   "metadata": {
    "tags": []
   },
   "outputs": [
    {
     "data": {
      "text/plain": [
       "array([[1.5780088e+07, 1.0000000e+00, 3.4500000e+01, 4.0400000e+00,\n",
       "        1.0000000e+00, 3.0000000e+00, 5.0000000e+00, 8.5000000e+00,\n",
       "        1.0000000e+00, 1.0000000e+00, 7.0000000e+00, 1.0000000e+00,\n",
       "        2.0000000e+00, 1.9500000e+02, 1.0000000e+00],\n",
       "       [1.5774262e+07, 1.0000000e+00, 2.9250000e+01, 1.4790000e+01,\n",
       "        2.0000000e+00, 6.0000000e+00, 4.0000000e+00, 5.0400000e+00,\n",
       "        1.0000000e+00, 1.0000000e+00, 5.0000000e+00, 1.0000000e+00,\n",
       "        2.0000000e+00, 1.6800000e+02, 1.0000000e+00],\n",
       "       [1.5750921e+07, 1.0000000e+00, 4.9500000e+01, 7.5850000e+00,\n",
       "        2.0000000e+00, 3.0000000e+00, 5.0000000e+00, 7.5850000e+00,\n",
       "        1.0000000e+00, 1.0000000e+00, 1.5000000e+01, 1.0000000e+00,\n",
       "        2.0000000e+00, 0.0000000e+00, 5.0010000e+03],\n",
       "       [1.5728010e+07, 1.0000000e+00, 6.0080000e+01, 1.4500000e+01,\n",
       "        2.0000000e+00, 1.0000000e+00, 1.0000000e+00, 1.8000000e+01,\n",
       "        1.0000000e+00, 1.0000000e+00, 1.5000000e+01, 1.0000000e+00,\n",
       "        2.0000000e+00, 0.0000000e+00, 1.0010000e+03],\n",
       "       [1.5689268e+07, 1.0000000e+00, 5.4580000e+01, 9.4150000e+00,\n",
       "        2.0000000e+00, 1.0000000e+00, 1.0000000e+00, 1.4415000e+01,\n",
       "        1.0000000e+00, 1.0000000e+00, 1.1000000e+01, 1.0000000e+00,\n",
       "        2.0000000e+00, 3.0000000e+01, 3.0100000e+02],\n",
       "       [1.5744423e+07, 1.0000000e+00, 5.7830000e+01, 7.0400000e+00,\n",
       "        2.0000000e+00, 7.0000000e+00, 4.0000000e+00, 1.4000000e+01,\n",
       "        1.0000000e+00, 1.0000000e+00, 6.0000000e+00, 1.0000000e+00,\n",
       "        2.0000000e+00, 3.6000000e+02, 1.3330000e+03],\n",
       "       [1.5706394e+07, 1.0000000e+00, 5.6580000e+01, 1.8500000e+01,\n",
       "        2.0000000e+00, 2.0000000e+00, 5.0000000e+00, 1.5000000e+01,\n",
       "        1.0000000e+00, 1.0000000e+00, 1.7000000e+01, 1.0000000e+00,\n",
       "        2.0000000e+00, 0.0000000e+00, 1.0000000e+00],\n",
       "       [1.5663942e+07, 1.0000000e+00, 2.7830000e+01, 1.0000000e+00,\n",
       "        1.0000000e+00, 2.0000000e+00, 8.0000000e+00, 3.0000000e+00,\n",
       "        0.0000000e+00, 0.0000000e+00, 0.0000000e+00, 0.0000000e+00,\n",
       "        2.0000000e+00, 1.7600000e+02, 5.3800000e+02],\n",
       "       [1.5596797e+07, 1.0000000e+00, 2.8170000e+01, 1.2500000e-01,\n",
       "        1.0000000e+00, 4.0000000e+00, 4.0000000e+00, 8.5000000e-02,\n",
       "        0.0000000e+00, 0.0000000e+00, 0.0000000e+00, 0.0000000e+00,\n",
       "        2.0000000e+00, 2.1600000e+02, 2.1010000e+03],\n",
       "       [1.5600975e+07, 1.0000000e+00, 2.2170000e+01, 5.8500000e-01,\n",
       "        1.0000000e+00, 1.0000000e+00, 1.0000000e+00, 0.0000000e+00,\n",
       "        0.0000000e+00, 0.0000000e+00, 0.0000000e+00, 0.0000000e+00,\n",
       "        2.0000000e+00, 1.0000000e+02, 1.0000000e+00],\n",
       "       [1.5688210e+07, 1.0000000e+00, 3.8250000e+01, 1.0125000e+01,\n",
       "        1.0000000e+00, 4.0000000e+00, 4.0000000e+00, 1.2500000e-01,\n",
       "        0.0000000e+00, 0.0000000e+00, 0.0000000e+00, 0.0000000e+00,\n",
       "        2.0000000e+00, 1.6000000e+02, 1.0000000e+00],\n",
       "       [1.5704509e+07, 1.0000000e+00, 2.4580000e+01, 1.3500000e+01,\n",
       "        1.0000000e+00, 1.0000000e+00, 1.0000000e+00, 0.0000000e+00,\n",
       "        0.0000000e+00, 0.0000000e+00, 0.0000000e+00, 0.0000000e+00,\n",
       "        2.0000000e+00, 1.8400000e+02, 1.0000000e+00],\n",
       "       [1.5592914e+07, 1.0000000e+00, 2.0750000e+01, 5.0850000e+00,\n",
       "        1.0000000e+00, 5.0000000e+00, 4.0000000e+00, 2.9000000e-01,\n",
       "        0.0000000e+00, 0.0000000e+00, 0.0000000e+00, 0.0000000e+00,\n",
       "        2.0000000e+00, 1.4000000e+02, 1.8500000e+02],\n",
       "       [1.5623668e+07, 1.0000000e+00, 5.1830000e+01, 3.0000000e+00,\n",
       "        1.0000000e+00, 1.0000000e+00, 1.0000000e+00, 1.5000000e+00,\n",
       "        0.0000000e+00, 0.0000000e+00, 0.0000000e+00, 0.0000000e+00,\n",
       "        2.0000000e+00, 1.8000000e+02, 5.0000000e+00],\n",
       "       [1.5688059e+07, 1.0000000e+00, 3.2420000e+01, 2.1650000e+00,\n",
       "        1.0000000e+00, 4.0000000e+00, 1.0000000e+00, 0.0000000e+00,\n",
       "        0.0000000e+00, 0.0000000e+00, 0.0000000e+00, 0.0000000e+00,\n",
       "        2.0000000e+00, 1.2000000e+02, 1.0000000e+00],\n",
       "       [1.5646521e+07, 1.0000000e+00, 2.9830000e+01, 1.2500000e+00,\n",
       "        1.0000000e+00, 4.0000000e+00, 4.0000000e+00, 2.5000000e-01,\n",
       "        0.0000000e+00, 0.0000000e+00, 0.0000000e+00, 0.0000000e+00,\n",
       "        2.0000000e+00, 2.2400000e+02, 1.0000000e+00],\n",
       "       [1.5599152e+07, 1.0000000e+00, 1.6920000e+01, 3.3500000e-01,\n",
       "        1.0000000e+00, 4.0000000e+00, 4.0000000e+00, 2.9000000e-01,\n",
       "        0.0000000e+00, 0.0000000e+00, 0.0000000e+00, 0.0000000e+00,\n",
       "        1.0000000e+00, 2.0000000e+02, 1.0000000e+00],\n",
       "       [1.5660263e+07, 1.0000000e+00, 5.1830000e+01, 2.0400000e+00,\n",
       "        1.0000000e+00, 1.0000000e+00, 1.0000000e+00, 1.5000000e+00,\n",
       "        0.0000000e+00, 0.0000000e+00, 0.0000000e+00, 0.0000000e+00,\n",
       "        2.0000000e+00, 1.2000000e+02, 2.0000000e+00],\n",
       "       [1.5652289e+07, 1.0000000e+00, 1.8080000e+01, 6.7500000e+00,\n",
       "        1.0000000e+00, 7.0000000e+00, 4.0000000e+00, 4.0000000e-02,\n",
       "        0.0000000e+00, 0.0000000e+00, 0.0000000e+00, 0.0000000e+00,\n",
       "        2.0000000e+00, 1.4000000e+02, 1.0000000e+00],\n",
       "       [1.5643574e+07, 1.0000000e+00, 2.1170000e+01, 8.7500000e-01,\n",
       "        1.0000000e+00, 8.0000000e+00, 8.0000000e+00, 2.5000000e-01,\n",
       "        0.0000000e+00, 0.0000000e+00, 0.0000000e+00, 0.0000000e+00,\n",
       "        2.0000000e+00, 2.8000000e+02, 2.0500000e+02],\n",
       "       [1.5615670e+07, 1.0000000e+00, 3.6420000e+01, 7.5000000e-01,\n",
       "        1.0000000e+00, 2.0000000e+00, 4.0000000e+00, 5.8500000e-01,\n",
       "        0.0000000e+00, 0.0000000e+00, 0.0000000e+00, 0.0000000e+00,\n",
       "        2.0000000e+00, 2.4000000e+02, 4.0000000e+00],\n",
       "       [1.5654625e+07, 0.0000000e+00, 5.3330000e+01, 1.6500000e-01,\n",
       "        2.0000000e+00, 1.0000000e+00, 1.0000000e+00, 0.0000000e+00,\n",
       "        0.0000000e+00, 0.0000000e+00, 0.0000000e+00, 1.0000000e+00,\n",
       "        1.0000000e+00, 6.2000000e+01, 2.8000000e+01],\n",
       "       [1.5802869e+07, 0.0000000e+00, 3.0250000e+01, 5.5000000e+00,\n",
       "        2.0000000e+00, 4.0000000e+00, 4.0000000e+00, 5.5000000e+00,\n",
       "        0.0000000e+00, 0.0000000e+00, 0.0000000e+00, 1.0000000e+00,\n",
       "        1.0000000e+00, 1.0000000e+02, 1.0000000e+00]])"
      ]
     },
     "execution_count": 40,
     "metadata": {},
     "output_type": "execute_result"
    }
   ],
   "source": [
    "# Since our values are transformed, we should apply inverse\n",
    "frauds = sc.inverse_transform(frauds)\n",
    "frauds"
   ]
  },
  {
   "cell_type": "code",
   "execution_count": 42,
   "id": "53674ee5-70c9-4577-b626-07323b24d1fd",
   "metadata": {
    "tags": []
   },
   "outputs": [
    {
     "data": {
      "text/plain": [
       "15780088.0"
      ]
     },
     "execution_count": 42,
     "metadata": {},
     "output_type": "execute_result"
    }
   ],
   "source": [
    "frauds[0][0]"
   ]
  },
  {
   "cell_type": "code",
   "execution_count": 46,
   "id": "8447de32-3d70-4209-b5bc-8bc8425b83b1",
   "metadata": {
    "tags": []
   },
   "outputs": [
    {
     "data": {
      "text/html": [
       "<div>\n",
       "<style scoped>\n",
       "    .dataframe tbody tr th:only-of-type {\n",
       "        vertical-align: middle;\n",
       "    }\n",
       "\n",
       "    .dataframe tbody tr th {\n",
       "        vertical-align: top;\n",
       "    }\n",
       "\n",
       "    .dataframe thead th {\n",
       "        text-align: right;\n",
       "    }\n",
       "</style>\n",
       "<table border=\"1\" class=\"dataframe\">\n",
       "  <thead>\n",
       "    <tr style=\"text-align: right;\">\n",
       "      <th></th>\n",
       "      <th>CustomerID</th>\n",
       "      <th>A1</th>\n",
       "      <th>A2</th>\n",
       "      <th>A3</th>\n",
       "      <th>A4</th>\n",
       "      <th>A5</th>\n",
       "      <th>A6</th>\n",
       "      <th>A7</th>\n",
       "      <th>A8</th>\n",
       "      <th>A9</th>\n",
       "      <th>A10</th>\n",
       "      <th>A11</th>\n",
       "      <th>A12</th>\n",
       "      <th>A13</th>\n",
       "      <th>A14</th>\n",
       "      <th>Class</th>\n",
       "    </tr>\n",
       "  </thead>\n",
       "  <tbody>\n",
       "    <tr>\n",
       "      <th>163</th>\n",
       "      <td>15780088</td>\n",
       "      <td>1</td>\n",
       "      <td>34.5</td>\n",
       "      <td>4.04</td>\n",
       "      <td>1</td>\n",
       "      <td>3</td>\n",
       "      <td>5</td>\n",
       "      <td>8.5</td>\n",
       "      <td>1</td>\n",
       "      <td>1</td>\n",
       "      <td>7</td>\n",
       "      <td>1</td>\n",
       "      <td>2</td>\n",
       "      <td>195</td>\n",
       "      <td>1</td>\n",
       "      <td>1</td>\n",
       "    </tr>\n",
       "  </tbody>\n",
       "</table>\n",
       "</div>"
      ],
      "text/plain": [
       "     CustomerID  A1    A2    A3  A4  A5  A6   A7  A8  A9  A10  A11  A12  A13  \\\n",
       "163    15780088   1  34.5  4.04   1   3   5  8.5   1   1    7    1    2  195   \n",
       "\n",
       "     A14  Class  \n",
       "163    1      1  "
      ]
     },
     "execution_count": 46,
     "metadata": {},
     "output_type": "execute_result"
    }
   ],
   "source": [
    "# he/she might be one the fradulent but accepted\n",
    "dataset[dataset[\"CustomerID\"] == 15780088.0]"
   ]
  },
  {
   "cell_type": "markdown",
   "id": "811cef34-1f3e-4cc8-8d6f-6df13663fef0",
   "metadata": {
    "tags": []
   },
   "source": [
    "### <span style=\"color:#3C4048; font-weight: bold; font-size: 18px; font-family: Gill Sans, sans-serif;\">Appendix</span>"
   ]
  },
  {
   "cell_type": "markdown",
   "id": "c09a8477-93ca-4149-8957-3e47b94312b5",
   "metadata": {},
   "source": [
    "##### <span style=\"color:#3C4048; font-weight: bold; font-size: 18px; font-family: Gill Sans, sans-serif;\">Mean Interneuron Distance</span>"
   ]
  },
  {
   "cell_type": "markdown",
   "id": "ade3dcc7-99e0-4e0f-b646-6e74ff62d2e1",
   "metadata": {},
   "source": [
    "In Self-Organizing Maps (SOMs), **MID** stands for **Mean Interneuron Distance**.\n",
    "\n",
    "**Here's a breakdown of what it means:**\n",
    "\n",
    "* **Interneuron Distance:** This refers to the distance between a winning neuron (also known as the Best Matching Unit or BMU) and its neighboring neurons on the SOM grid.\n",
    "* **Mean:** The average of these interneuron distances within a specified neighborhood around the winning neuron.\n",
    "\n",
    "**Essentially, MID provides a measure of how evenly distributed the neurons are around a particular winning neuron.** A higher MID value indicates that neighboring neurons are more spread out, while a lower MID value suggests that they are more clustered together.\n",
    "\n",
    "**Why is MID important?**\n",
    "\n",
    "* **Visualization:** MID can be used to visualize the distribution of neurons on the SOM grid. High MID values might indicate regions of the map with fewer neurons, while low MID values might suggest areas with a higher density of neurons.\n",
    "* **Analysis:** MID can be used to analyze the topology of the SOM and identify patterns or structures in the data. For example, a high MID value in a specific region might suggest that the data in that region is more diverse or less clustered.\n",
    "\n",
    "**In summary, MID is a valuable metric for understanding the structure and organization of a SOM and can be used to gain insights into the underlying patterns and relationships within the data.**\n"
   ]
  },
  {
   "cell_type": "markdown",
   "id": "48e3fe5b-5800-4ac9-9118-8e272805df0d",
   "metadata": {},
   "source": [
    "##### <span style=\"color:#3C4048; font-weight: bold; font-size: 18px; font-family: Gill Sans, sans-serif;\">Simpe color bar demo</span>"
   ]
  },
  {
   "cell_type": "code",
   "execution_count": 16,
   "id": "14fa8be6-f980-4e6d-9a41-bcabf6cd8a07",
   "metadata": {
    "tags": []
   },
   "outputs": [],
   "source": [
    "import numpy as np"
   ]
  },
  {
   "cell_type": "code",
   "execution_count": 17,
   "id": "8d723f42-0aea-406d-95c9-2bb44b726b7b",
   "metadata": {
    "tags": []
   },
   "outputs": [
    {
     "data": {
      "text/plain": [
       "array([[2, 1, 3, 6],\n",
       "       [7, 3, 4, 5],\n",
       "       [2, 1, 3, 6]])"
      ]
     },
     "execution_count": 17,
     "metadata": {},
     "output_type": "execute_result"
    }
   ],
   "source": [
    "random_ints = np.array([[2, 1, 3, 6],[7,3,4,5], [2, 1, 3, 6]])\n",
    "random_ints"
   ]
  },
  {
   "cell_type": "code",
   "execution_count": 18,
   "id": "524b5943-7575-44f2-bf5f-2a2eb54980b1",
   "metadata": {
    "tags": []
   },
   "outputs": [
    {
     "data": {
      "text/plain": [
       "Text(0, 0.5, 'Y-Rows')"
      ]
     },
     "execution_count": 18,
     "metadata": {},
     "output_type": "execute_result"
    },
    {
     "data": {
      "image/png": "[encoded data removed]",
      "text/plain": [
       "<Figure size 640x480 with 1 Axes>"
      ]
     },
     "metadata": {},
     "output_type": "display_data"
    }
   ],
   "source": [
    "# Assign a color to each value, if you observe carefully first and third rows has same\n",
    "# color since I have used same values.\n",
    "plt.pcolor(random_ints, cmap='rainbow_r', edgecolors='black')\n",
    "# It looks like X-axis representing columns in the array and Y-axis representing rows\n",
    "plt.xlabel('X-Columns')\n",
    "plt.ylabel('Y-Rows')"
   ]
  },
  {
   "cell_type": "code",
   "execution_count": null,
   "id": "68f1f321-9577-44b2-81c0-569bd49005ed",
   "metadata": {},
   "outputs": [],
   "source": []
  }
 ],
 "metadata": {
  "kernelspec": {
   "display_name": "Python 3 (ipykernel)",
   "language": "python",
   "name": "python3"
  },
  "language_info": {
   "codemirror_mode": {
    "name": "ipython",
    "version": 3
   },
   "file_extension": ".py",
   "mimetype": "text/x-python",
   "name": "python",
   "nbconvert_exporter": "python",
   "pygments_lexer": "ipython3",
   "version": "3.11.2"
  }
 },
 "nbformat": 4,
 "nbformat_minor": 5
}
