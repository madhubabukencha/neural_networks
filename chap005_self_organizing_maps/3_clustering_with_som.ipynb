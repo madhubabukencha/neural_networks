{
 "cells": [
  {
   "cell_type": "markdown",
   "id": "1c5455c7-52f9-489f-ba9b-eda7e5410e25",
   "metadata": {},
   "source": [
    "<p style=\"color:#153462; \n",
    "          font-weight: bold; \n",
    "          font-size: 30px; \n",
    "          font-family: monospace; \n",
    "          text-align: center;\">\n",
    "          Clustering with SOM</p>"
   ]
  },
  {
   "cell_type": "markdown",
   "id": "cb52d0ba-2d33-407f-8974-44332ac9d675",
   "metadata": {},
   "source": [
    "<p style=\"text-align: justify; text-justify: inter-word; font-family: monospace;\">\n",
    "   <font size=4>\n",
    "       We'll use the MiniSom library to implement a SOM for clustering iris dataset, which is a classic dataset in machine learning.\n",
    "   </font>\n",
    "</p>"
   ]
  },
  {
   "cell_type": "markdown",
   "id": "bcb204b4-3b82-4747-9feb-43e107943a54",
   "metadata": {},
   "source": [
    "### <span style=\"color:#12372A; font-weight: bold; font-family: monospace\">Required Packages</span>"
   ]
  },
  {
   "cell_type": "code",
   "execution_count": 34,
   "id": "a646a901-2d1f-4092-8df6-e5d0fe43d96c",
   "metadata": {
    "tags": []
   },
   "outputs": [],
   "source": [
    "import numpy as np\n",
    "import pandas as pd\n",
    "from sklearn import datasets\n",
    "from sklearn.preprocessing import MinMaxScaler\n",
    "from minisom import MiniSom\n",
    "import matplotlib.pyplot as plt\n",
    "from collections import defaultdict"
   ]
  },
  {
   "cell_type": "markdown",
   "id": "6702ee02-4937-4ee9-817c-d019bea4e7c8",
   "metadata": {},
   "source": [
    "### <span style=\"color:#12372A; font-weight: bold; font-family: monospace\">Load and Prepare Data</span>"
   ]
  },
  {
   "cell_type": "code",
   "execution_count": 3,
   "id": "71ca82fe-e451-4fed-94d2-42b413e1baf3",
   "metadata": {
    "tags": []
   },
   "outputs": [],
   "source": [
    "iris = datasets.load_iris()\n",
    "data = iris.data\n",
    "target = iris.target"
   ]
  },
  {
   "cell_type": "code",
   "execution_count": 4,
   "id": "87d93a76-2a96-4c8b-ac10-526218a7846e",
   "metadata": {
    "tags": []
   },
   "outputs": [],
   "source": [
    "# Normalize the data\n",
    "scaler = MinMaxScaler()\n",
    "data = scaler.fit_transform(data)"
   ]
  },
  {
   "cell_type": "code",
   "execution_count": 5,
   "id": "41d4d75a-bf48-49e1-b3f8-a01b1bd735ef",
   "metadata": {
    "tags": []
   },
   "outputs": [
    {
     "data": {
      "text/html": [
       "<div>\n",
       "<style scoped>\n",
       "    .dataframe tbody tr th:only-of-type {\n",
       "        vertical-align: middle;\n",
       "    }\n",
       "\n",
       "    .dataframe tbody tr th {\n",
       "        vertical-align: top;\n",
       "    }\n",
       "\n",
       "    .dataframe thead th {\n",
       "        text-align: right;\n",
       "    }\n",
       "</style>\n",
       "<table border=\"1\" class=\"dataframe\">\n",
       "  <thead>\n",
       "    <tr style=\"text-align: right;\">\n",
       "      <th></th>\n",
       "      <th>sepal length (cm)</th>\n",
       "      <th>sepal width (cm)</th>\n",
       "      <th>petal length (cm)</th>\n",
       "      <th>petal width (cm)</th>\n",
       "      <th>target</th>\n",
       "    </tr>\n",
       "  </thead>\n",
       "  <tbody>\n",
       "    <tr>\n",
       "      <th>100</th>\n",
       "      <td>0.555556</td>\n",
       "      <td>0.541667</td>\n",
       "      <td>0.847458</td>\n",
       "      <td>1.000000</td>\n",
       "      <td>2</td>\n",
       "    </tr>\n",
       "    <tr>\n",
       "      <th>17</th>\n",
       "      <td>0.222222</td>\n",
       "      <td>0.625000</td>\n",
       "      <td>0.067797</td>\n",
       "      <td>0.083333</td>\n",
       "      <td>0</td>\n",
       "    </tr>\n",
       "    <tr>\n",
       "      <th>127</th>\n",
       "      <td>0.500000</td>\n",
       "      <td>0.416667</td>\n",
       "      <td>0.661017</td>\n",
       "      <td>0.708333</td>\n",
       "      <td>2</td>\n",
       "    </tr>\n",
       "    <tr>\n",
       "      <th>94</th>\n",
       "      <td>0.361111</td>\n",
       "      <td>0.291667</td>\n",
       "      <td>0.542373</td>\n",
       "      <td>0.500000</td>\n",
       "      <td>1</td>\n",
       "    </tr>\n",
       "    <tr>\n",
       "      <th>88</th>\n",
       "      <td>0.361111</td>\n",
       "      <td>0.416667</td>\n",
       "      <td>0.525424</td>\n",
       "      <td>0.500000</td>\n",
       "      <td>1</td>\n",
       "    </tr>\n",
       "  </tbody>\n",
       "</table>\n",
       "</div>"
      ],
      "text/plain": [
       "     sepal length (cm)  sepal width (cm)  petal length (cm)  petal width (cm)  \\\n",
       "100           0.555556          0.541667           0.847458          1.000000   \n",
       "17            0.222222          0.625000           0.067797          0.083333   \n",
       "127           0.500000          0.416667           0.661017          0.708333   \n",
       "94            0.361111          0.291667           0.542373          0.500000   \n",
       "88            0.361111          0.416667           0.525424          0.500000   \n",
       "\n",
       "     target  \n",
       "100       2  \n",
       "17        0  \n",
       "127       2  \n",
       "94        1  \n",
       "88        1  "
      ]
     },
     "execution_count": 5,
     "metadata": {},
     "output_type": "execute_result"
    }
   ],
   "source": [
    "df = pd.DataFrame(data, columns=iris.feature_names)\n",
    "df['target'] = target\n",
    "df.sample(5)"
   ]
  },
  {
   "cell_type": "markdown",
   "id": "e57eaa7d-8a3d-437f-9773-46b7c99a25a4",
   "metadata": {},
   "source": [
    "### <span style=\"color:#12372A; font-weight: bold; font-family: monospace\">Train the Model</span>"
   ]
  },
  {
   "cell_type": "code",
   "execution_count": 10,
   "id": "24148897-4f4c-4427-8f15-6a296ea859f8",
   "metadata": {},
   "outputs": [],
   "source": [
    "# Initialize and train SOM\n",
    "som = MiniSom(x=10, y=10, input_len=4, sigma=1.0, learning_rate=0.5)"
   ]
  },
  {
   "cell_type": "code",
   "execution_count": 20,
   "id": "0e9416dc-09a6-418f-a3bb-f33e199ebf95",
   "metadata": {
    "tags": []
   },
   "outputs": [],
   "source": [
    "som.random_weights_init(data)"
   ]
  },
  {
   "cell_type": "code",
   "execution_count": 21,
   "id": "d448c2fb-5c55-4fa5-bef0-af219fe7a43f",
   "metadata": {
    "tags": []
   },
   "outputs": [
    {
     "data": {
      "text/plain": [
       "array([[1.        , 0.75      , 0.91525424, 0.79166667],\n",
       "       [0.41666667, 0.83333333, 0.03389831, 0.04166667],\n",
       "       [0.5       , 0.33333333, 0.62711864, 0.45833333],\n",
       "       [0.22222222, 0.20833333, 0.33898305, 0.41666667],\n",
       "       [0.75      , 0.5       , 0.62711864, 0.54166667],\n",
       "       [0.91666667, 0.41666667, 0.94915254, 0.83333333],\n",
       "       [0.22222222, 0.625     , 0.06779661, 0.08333333],\n",
       "       [0.55555556, 0.20833333, 0.66101695, 0.58333333],\n",
       "       [0.38888889, 0.25      , 0.42372881, 0.375     ],\n",
       "       [0.22222222, 0.625     , 0.06779661, 0.08333333]])"
      ]
     },
     "execution_count": 21,
     "metadata": {},
     "output_type": "execute_result"
    }
   ],
   "source": [
    "som.get_weights()[0]"
   ]
  },
  {
   "cell_type": "code",
   "execution_count": 22,
   "id": "813f537b-ba9a-4f9c-b3e4-cb1df8f7df41",
   "metadata": {
    "tags": []
   },
   "outputs": [],
   "source": [
    "som.train_random(data, 100)"
   ]
  },
  {
   "cell_type": "code",
   "execution_count": 23,
   "id": "2a706354-99e2-4a6d-9c40-57f44f587fec",
   "metadata": {
    "tags": []
   },
   "outputs": [
    {
     "data": {
      "text/plain": [
       "array([[0.76574003, 0.76468826, 0.63626232, 0.55705725],\n",
       "       [0.35786014, 0.85263985, 0.07273973, 0.072028  ],\n",
       "       [0.35710385, 0.4264501 , 0.39827478, 0.32763051],\n",
       "       [0.23076231, 0.20087297, 0.37273494, 0.40127822],\n",
       "       [0.55024124, 0.37829246, 0.54895721, 0.49131912],\n",
       "       [0.82412645, 0.39657065, 0.87028226, 0.76806761],\n",
       "       [0.26929575, 0.58323767, 0.14036312, 0.14195683],\n",
       "       [0.55729429, 0.23238597, 0.64257048, 0.56357092],\n",
       "       [0.42261775, 0.27391736, 0.46054694, 0.41441292],\n",
       "       [0.25748833, 0.59054131, 0.10244074, 0.11878312]])"
      ]
     },
     "execution_count": 23,
     "metadata": {},
     "output_type": "execute_result"
    }
   ],
   "source": [
    "som.get_weights()[0]"
   ]
  },
  {
   "cell_type": "code",
   "execution_count": 26,
   "id": "b7f0779d-4dd6-4ddc-baa3-50af1d79d7d3",
   "metadata": {
    "tags": []
   },
   "outputs": [
    {
     "data": {
      "text/plain": [
       "(7, 3)"
      ]
     },
     "execution_count": 26,
     "metadata": {},
     "output_type": "execute_result"
    }
   ],
   "source": [
    "# som.winner will return the co-ordinates\n",
    "som.winner(data[0])"
   ]
  },
  {
   "cell_type": "markdown",
   "id": "bb4b146d-d3e5-41aa-b5c5-0865b08bf61b",
   "metadata": {},
   "source": [
    "### <span style=\"color:#12372A; font-weight: bold; font-family: monospace\">Storing Cluster Assignments</span>"
   ]
  },
  {
   "cell_type": "code",
   "execution_count": 35,
   "id": "debac473-1870-489b-9ded-cbf2e4d17569",
   "metadata": {
    "tags": []
   },
   "outputs": [
    {
     "data": {
      "text/plain": [
       "defaultdict(list, {})"
      ]
     },
     "execution_count": 35,
     "metadata": {},
     "output_type": "execute_result"
    }
   ],
   "source": [
    "# Create a dictionary to hold the cluster assignments\n",
    "bmu_to_cluster = defaultdict(list)\n",
    "bmu_to_cluster"
   ]
  },
  {
   "cell_type": "code",
   "execution_count": 36,
   "id": "0b5ca0ea-8ce5-45bc-8606-aa5c149540ca",
   "metadata": {
    "tags": []
   },
   "outputs": [
    {
     "data": {
      "text/plain": [
       "defaultdict(list,\n",
       "            {(7, 3): [0, 0, 0, 0, 0, 0],\n",
       "             (4, 4): [0, 0, 0, 0, 0, 0, 0],\n",
       "             (6, 2): [0, 0, 0, 0, 0, 0],\n",
       "             (7, 2): [0, 0, 0],\n",
       "             (0, 1): [0, 0, 0, 0, 0, 0, 0],\n",
       "             (7, 4): [0, 0, 0, 0],\n",
       "             (8, 2): [0, 0, 0, 0, 0],\n",
       "             (9, 2): [0, 0],\n",
       "             (1, 0): [0, 0],\n",
       "             (4, 8): [0],\n",
       "             (2, 1): [0, 0, 0],\n",
       "             (0, 9): [0],\n",
       "             (7, 5): [0, 0],\n",
       "             (4, 9): [0],\n",
       "             (2, 6): [1, 1, 1],\n",
       "             (6, 9): [1],\n",
       "             (8, 0): [1, 1],\n",
       "             (7, 0): [1, 2, 2, 2],\n",
       "             (8, 9): [1],\n",
       "             (2, 9): [1, 1],\n",
       "             (0, 3): [1, 1, 1],\n",
       "             (1, 7): [1],\n",
       "             (4, 6): [1],\n",
       "             (6, 8): [1],\n",
       "             (9, 5): [1],\n",
       "             (4, 0): [1, 1],\n",
       "             (9, 4): [1, 1, 1],\n",
       "             (5, 2): [1],\n",
       "             (5, 9): [1, 1],\n",
       "             (4, 5): [1],\n",
       "             (9, 7): [1],\n",
       "             (9, 8): [1, 2],\n",
       "             (7, 7): [1, 1, 1],\n",
       "             (4, 3): [1],\n",
       "             (3, 3): [1],\n",
       "             (0, 7): [1],\n",
       "             (1, 4): [1],\n",
       "             (0, 4): [1, 1],\n",
       "             (3, 0): [1],\n",
       "             (1, 8): [1, 2, 2, 2],\n",
       "             (0, 8): [1, 1],\n",
       "             (8, 7): [1, 2],\n",
       "             (5, 4): [1],\n",
       "             (3, 8): [1, 1, 1],\n",
       "             (2, 3): [1, 1],\n",
       "             (1, 5): [1, 1],\n",
       "             (3, 9): [2, 2, 2, 2, 2, 2],\n",
       "             (5, 3): [2, 2, 2, 2, 2, 2, 2, 2],\n",
       "             (9, 9): [2, 2, 2],\n",
       "             (3, 6): [2],\n",
       "             (9, 6): [2, 2, 2, 2, 2, 2, 2, 2, 2, 2],\n",
       "             (0, 5): [2, 2, 2, 2],\n",
       "             (3, 4): [2],\n",
       "             (7, 8): [2],\n",
       "             (3, 7): [2, 2, 2, 2],\n",
       "             (2, 5): [2, 2],\n",
       "             (5, 1): [2],\n",
       "             (1, 9): [2]})"
      ]
     },
     "execution_count": 36,
     "metadata": {},
     "output_type": "execute_result"
    }
   ],
   "source": [
    "# Map each data point to its BMU and store the target label\n",
    "for i, x in enumerate(data):\n",
    "    bmu = som.winner(x)\n",
    "    bmu_to_cluster[bmu].append(target[i])\n",
    "bmu_to_cluster"
   ]
  },
  {
   "cell_type": "code",
   "execution_count": 38,
   "id": "83ce39f5-d2d0-48ea-836e-a238c98d2f0c",
   "metadata": {
    "tags": []
   },
   "outputs": [
    {
     "data": {
      "text/plain": [
       "{(7, 3): 0,\n",
       " (4, 4): 0,\n",
       " (6, 2): 0,\n",
       " (7, 2): 0,\n",
       " (0, 1): 0,\n",
       " (7, 4): 0,\n",
       " (8, 2): 0,\n",
       " (9, 2): 0,\n",
       " (1, 0): 0,\n",
       " (4, 8): 0,\n",
       " (2, 1): 0,\n",
       " (0, 9): 0,\n",
       " (7, 5): 0,\n",
       " (4, 9): 0,\n",
       " (2, 6): 1,\n",
       " (6, 9): 1,\n",
       " (8, 0): 1,\n",
       " (7, 0): 2,\n",
       " (8, 9): 1,\n",
       " (2, 9): 1,\n",
       " (0, 3): 1,\n",
       " (1, 7): 1,\n",
       " (4, 6): 1,\n",
       " (6, 8): 1,\n",
       " (9, 5): 1,\n",
       " (4, 0): 1,\n",
       " (9, 4): 1,\n",
       " (5, 2): 1,\n",
       " (5, 9): 1,\n",
       " (4, 5): 1,\n",
       " (9, 7): 1,\n",
       " (9, 8): 1,\n",
       " (7, 7): 1,\n",
       " (4, 3): 1,\n",
       " (3, 3): 1,\n",
       " (0, 7): 1,\n",
       " (1, 4): 1,\n",
       " (0, 4): 1,\n",
       " (3, 0): 1,\n",
       " (1, 8): 2,\n",
       " (0, 8): 1,\n",
       " (8, 7): 1,\n",
       " (5, 4): 1,\n",
       " (3, 8): 1,\n",
       " (2, 3): 1,\n",
       " (1, 5): 1,\n",
       " (3, 9): 2,\n",
       " (5, 3): 2,\n",
       " (9, 9): 2,\n",
       " (3, 6): 2,\n",
       " (9, 6): 2,\n",
       " (0, 5): 2,\n",
       " (3, 4): 2,\n",
       " (7, 8): 2,\n",
       " (3, 7): 2,\n",
       " (2, 5): 2,\n",
       " (5, 1): 2,\n",
       " (1, 9): 2}"
      ]
     },
     "execution_count": 38,
     "metadata": {},
     "output_type": "execute_result"
    }
   ],
   "source": [
    "# Assign cluster labels based on the majority class in each BMU\n",
    "bmu_cluster_labels = {}\n",
    "for bmu, labels in bmu_to_cluster.items():\n",
    "    bmu_cluster_labels[bmu] = np.bincount(labels).argmax()\n",
    "bmu_cluster_labels"
   ]
  },
  {
   "cell_type": "code",
   "execution_count": 41,
   "id": "9928c157-df65-40e0-8ad6-384ff2b513f1",
   "metadata": {
    "tags": []
   },
   "outputs": [
    {
     "data": {
      "image/png": "[encoded data removed]",
      "text/plain": [
       "<Figure size 1000x1000 with 1 Axes>"
      ]
     },
     "metadata": {},
     "output_type": "display_data"
    }
   ],
   "source": [
    "# Plot the results with cluster labels\n",
    "plt.figure(figsize=(10, 10))\n",
    "plt.grid(True)\n",
    "for i, x in enumerate(data):\n",
    "    w = som.winner(x)\n",
    "    plt.text(w[0] + 0.5, w[1] + 0.5, # This is the position on the map\n",
    "                                     # Adding 0.5 anchor the text in the center of the cell\n",
    "             str(bmu_cluster_labels[w]), # This is the string on the map to show\n",
    "             color=plt.cm.rainbow(target[i] / 2 / 3), # target[i] / 2 / 3 scales the class label (which is 0, 1, or 2) to a value between 0 and 1. This is done by dividing by 2 and then by 3\n",
    "             fontdict={'weight': 'bold', 'size': 11})\n",
    "\n",
    "# [xmin, xmax, ymin, ymax]: This specifies the lower and upper limits for the x-axis and y-axis, respectively.\n",
    "plt.axis([0, som.get_weights().shape[0], 0, som.get_weights().shape[1]])\n",
    "plt.title('Self-Organizing Map for Iris Dataset with Cluster Labels')\n",
    "plt.show()"
   ]
  },
  {
   "cell_type": "markdown",
   "id": "75d93406-78b2-4cea-b67f-26c5ba4cdc9b",
   "metadata": {},
   "source": [
    "### <span style=\"color:#12372A; font-weight: bold; font-family: monospace\">Inferencing</span>"
   ]
  },
  {
   "cell_type": "code",
   "execution_count": 49,
   "id": "6aa19c1b-062e-4d22-b8e7-017c6c4bd4ec",
   "metadata": {
    "tags": []
   },
   "outputs": [
    {
     "name": "stdout",
     "output_type": "stream",
     "text": [
      "Cluster for the new data [0.22222222 0.625      0.06779661 0.04166667]: 0\n"
     ]
    }
   ],
   "source": [
    "# Function to find the cluster for a given input\n",
    "def find_cluster(som, input_data):\n",
    "    norm_input = scaler.transform([input_data])\n",
    "    winner = som.winner(norm_input[0])\n",
    "    cluster_label = bmu_cluster_labels[winner]\n",
    "    return cluster_label\n",
    "\n",
    "# Example inference with new data\n",
    "new_data = np.array(data[0])\n",
    "cluster = find_cluster(som, new_data)\n",
    "print(f\"Cluster for the new data {new_data}: {cluster}\")"
   ]
  },
  {
   "cell_type": "code",
   "execution_count": 48,
   "id": "a8e699d3-7f06-496a-8863-3b820601313a",
   "metadata": {
    "tags": []
   },
   "outputs": [
    {
     "data": {
      "text/plain": [
       "(array([0.22222222, 0.625     , 0.06779661, 0.04166667]), 0)"
      ]
     },
     "execution_count": 48,
     "metadata": {},
     "output_type": "execute_result"
    }
   ],
   "source": [
    "# Verifying it\n",
    "data[0], target[0]"
   ]
  },
  {
   "cell_type": "code",
   "execution_count": null,
   "id": "ca296e2a-f78d-4318-80c8-86c8aa463a27",
   "metadata": {},
   "outputs": [],
   "source": []
  }
 ],
 "metadata": {
  "kernelspec": {
   "display_name": "Python 3 (ipykernel)",
   "language": "python",
   "name": "python3"
  },
  "language_info": {
   "codemirror_mode": {
    "name": "ipython",
    "version": 3
   },
   "file_extension": ".py",
   "mimetype": "text/x-python",
   "name": "python",
   "nbconvert_exporter": "python",
   "pygments_lexer": "ipython3",
   "version": "3.11.2"
  }
 },
 "nbformat": 4,
 "nbformat_minor": 5
}
