{
 "cells": [
  {
   "cell_type": "markdown",
   "id": "61bf6015-d010-42cf-a3c1-1d80ef7c433d",
   "metadata": {},
   "source": [
    "### <span style=\"color:#3C4048; font-weight: bold; font-size: 18px; font-family: Gill Sans, sans-serif;\">About Dataset</span>"
   ]
  },
  {
   "cell_type": "markdown",
   "id": "c12aa96d-b906-40fa-bce7-f68ec0501279",
   "metadata": {},
   "source": [
    "<p style=\"text-align: justify; text-justify: inter-word;\">\n",
    "   <font size=3>\n",
    "       <b>Dataset</b>: <a href=\"https://archive.ics.uci.edu/dataset/143/statlog+australian+credit+approval\">Australian Credit Approval</a>\n",
    "   </font>\n",
    "</p>"
   ]
  },
  {
   "cell_type": "markdown",
   "id": "deb5d33e-74a9-45ac-aa5f-00088fac9349",
   "metadata": {},
   "source": [
    "<p style=\"text-align: justify; text-justify: inter-word;\">\n",
    "   <font size=3>\n",
    "       This file contains credit card applications.  All attribute names and values have been changed to meaningless\n",
    "       symbols to protect confidentiality of the data.\n",
    "       This dataset is interesting because there is a good mix of attributes -- continuous, nominal with small numbers\n",
    "       of values, and nominal(refers to categorical data that doesn't have a numerical order.) with larger numbers of values.  There are also a few missing values.\n",
    "   </font>\n",
    "</p>"
   ]
  },
  {
   "cell_type": "markdown",
   "id": "badb9ca0-1b03-47d9-85a4-4218818e5be0",
   "metadata": {},
   "source": [
    "### <span style=\"color:#3C4048; font-weight: bold; font-size: 18px; font-family: Gill Sans, sans-serif;\">Goal of the Experiment</span>"
   ]
  },
  {
   "cell_type": "markdown",
   "id": "218abd0a-fe05-4d2c-a1f0-943b5b41e2d7",
   "metadata": {},
   "source": [
    "<p style=\"text-align: justify; text-justify: inter-word;\">\n",
    "   <font size=3>\n",
    "       Predicting group of customer who are fradulent. we are going to solve this problem in an unsupervised way.\n",
    "   </font>\n",
    "</p>"
   ]
  },
  {
   "cell_type": "markdown",
   "id": "ec2c0f53-165f-4591-8a53-88576801f147",
   "metadata": {},
   "source": [
    "### <span style=\"color:#3C4048; font-weight: bold; font-size: 18px; font-family: Gill Sans, sans-serif;\">Required Packages</span>"
   ]
  },
  {
   "cell_type": "code",
   "execution_count": 1,
   "id": "2f69fb96-d23e-42b1-afca-37d30af1a55b",
   "metadata": {
    "tags": []
   },
   "outputs": [],
   "source": [
    "import numpy as np\n",
    "import matplotlib.pyplot as plt\n",
    "import pandas as pd\n",
    "from sklearn.preprocessing import MinMaxScaler\n",
    "from minisom import MiniSom"
   ]
  },
  {
   "cell_type": "markdown",
   "id": "7148a6c2-aa96-460c-bd1c-c6bd3f67a772",
   "metadata": {},
   "source": [
    "### <span style=\"color:#3C4048; font-weight: bold; font-size: 18px; font-family: Gill Sans, sans-serif;\">Load Dataset</span>"
   ]
  },
  {
   "cell_type": "code",
   "execution_count": 2,
   "id": "ec6ff6de-5e5f-46f8-8f37-ae6995fe5bb5",
   "metadata": {
    "tags": []
   },
   "outputs": [],
   "source": [
    "dataset = pd.read_csv(\"dataset/Credit_Card_Applications.csv\")"
   ]
  },
  {
   "cell_type": "code",
   "execution_count": 3,
   "id": "76b1b46d-9e05-430c-881b-b4825ac89703",
   "metadata": {
    "tags": []
   },
   "outputs": [
    {
     "data": {
      "text/html": [
       "<div>\n",
       "<style scoped>\n",
       "    .dataframe tbody tr th:only-of-type {\n",
       "        vertical-align: middle;\n",
       "    }\n",
       "\n",
       "    .dataframe tbody tr th {\n",
       "        vertical-align: top;\n",
       "    }\n",
       "\n",
       "    .dataframe thead th {\n",
       "        text-align: right;\n",
       "    }\n",
       "</style>\n",
       "<table border=\"1\" class=\"dataframe\">\n",
       "  <thead>\n",
       "    <tr style=\"text-align: right;\">\n",
       "      <th></th>\n",
       "      <th>CustomerID</th>\n",
       "      <th>A1</th>\n",
       "      <th>A2</th>\n",
       "      <th>A3</th>\n",
       "      <th>A4</th>\n",
       "      <th>A5</th>\n",
       "      <th>A6</th>\n",
       "      <th>A7</th>\n",
       "      <th>A8</th>\n",
       "      <th>A9</th>\n",
       "      <th>A10</th>\n",
       "      <th>A11</th>\n",
       "      <th>A12</th>\n",
       "      <th>A13</th>\n",
       "      <th>A14</th>\n",
       "      <th>Class</th>\n",
       "    </tr>\n",
       "  </thead>\n",
       "  <tbody>\n",
       "    <tr>\n",
       "      <th>0</th>\n",
       "      <td>15776156</td>\n",
       "      <td>1</td>\n",
       "      <td>22.08</td>\n",
       "      <td>11.46</td>\n",
       "      <td>2</td>\n",
       "      <td>4</td>\n",
       "      <td>4</td>\n",
       "      <td>1.585</td>\n",
       "      <td>0</td>\n",
       "      <td>0</td>\n",
       "      <td>0</td>\n",
       "      <td>1</td>\n",
       "      <td>2</td>\n",
       "      <td>100</td>\n",
       "      <td>1213</td>\n",
       "      <td>0</td>\n",
       "    </tr>\n",
       "    <tr>\n",
       "      <th>1</th>\n",
       "      <td>15739548</td>\n",
       "      <td>0</td>\n",
       "      <td>22.67</td>\n",
       "      <td>7.00</td>\n",
       "      <td>2</td>\n",
       "      <td>8</td>\n",
       "      <td>4</td>\n",
       "      <td>0.165</td>\n",
       "      <td>0</td>\n",
       "      <td>0</td>\n",
       "      <td>0</td>\n",
       "      <td>0</td>\n",
       "      <td>2</td>\n",
       "      <td>160</td>\n",
       "      <td>1</td>\n",
       "      <td>0</td>\n",
       "    </tr>\n",
       "    <tr>\n",
       "      <th>2</th>\n",
       "      <td>15662854</td>\n",
       "      <td>0</td>\n",
       "      <td>29.58</td>\n",
       "      <td>1.75</td>\n",
       "      <td>1</td>\n",
       "      <td>4</td>\n",
       "      <td>4</td>\n",
       "      <td>1.250</td>\n",
       "      <td>0</td>\n",
       "      <td>0</td>\n",
       "      <td>0</td>\n",
       "      <td>1</td>\n",
       "      <td>2</td>\n",
       "      <td>280</td>\n",
       "      <td>1</td>\n",
       "      <td>0</td>\n",
       "    </tr>\n",
       "    <tr>\n",
       "      <th>3</th>\n",
       "      <td>15687688</td>\n",
       "      <td>0</td>\n",
       "      <td>21.67</td>\n",
       "      <td>11.50</td>\n",
       "      <td>1</td>\n",
       "      <td>5</td>\n",
       "      <td>3</td>\n",
       "      <td>0.000</td>\n",
       "      <td>1</td>\n",
       "      <td>1</td>\n",
       "      <td>11</td>\n",
       "      <td>1</td>\n",
       "      <td>2</td>\n",
       "      <td>0</td>\n",
       "      <td>1</td>\n",
       "      <td>1</td>\n",
       "    </tr>\n",
       "    <tr>\n",
       "      <th>4</th>\n",
       "      <td>15715750</td>\n",
       "      <td>1</td>\n",
       "      <td>20.17</td>\n",
       "      <td>8.17</td>\n",
       "      <td>2</td>\n",
       "      <td>6</td>\n",
       "      <td>4</td>\n",
       "      <td>1.960</td>\n",
       "      <td>1</td>\n",
       "      <td>1</td>\n",
       "      <td>14</td>\n",
       "      <td>0</td>\n",
       "      <td>2</td>\n",
       "      <td>60</td>\n",
       "      <td>159</td>\n",
       "      <td>1</td>\n",
       "    </tr>\n",
       "  </tbody>\n",
       "</table>\n",
       "</div>"
      ],
      "text/plain": [
       "   CustomerID  A1     A2     A3  A4  A5  A6     A7  A8  A9  A10  A11  A12  \\\n",
       "0    15776156   1  22.08  11.46   2   4   4  1.585   0   0    0    1    2   \n",
       "1    15739548   0  22.67   7.00   2   8   4  0.165   0   0    0    0    2   \n",
       "2    15662854   0  29.58   1.75   1   4   4  1.250   0   0    0    1    2   \n",
       "3    15687688   0  21.67  11.50   1   5   3  0.000   1   1   11    1    2   \n",
       "4    15715750   1  20.17   8.17   2   6   4  1.960   1   1   14    0    2   \n",
       "\n",
       "   A13   A14  Class  \n",
       "0  100  1213      0  \n",
       "1  160     1      0  \n",
       "2  280     1      0  \n",
       "3    0     1      1  \n",
       "4   60   159      1  "
      ]
     },
     "execution_count": 3,
     "metadata": {},
     "output_type": "execute_result"
    }
   ],
   "source": [
    "dataset.head()"
   ]
  },
  {
   "cell_type": "markdown",
   "id": "f9711447-78c2-41b2-b651-5915aaf11206",
   "metadata": {},
   "source": [
    "<p style=\"text-align: justify; text-justify: inter-word;\">\n",
    "   <font size=3>\n",
    "       <b>Class 0</b>: It represents, application is rejected <br>\n",
    "       <b>Class 1</b>: It represents, application is accepted\n",
    "   </font>\n",
    "</p>"
   ]
  },
  {
   "cell_type": "code",
   "execution_count": 4,
   "id": "b07a2289-285b-4edb-b327-291956574235",
   "metadata": {
    "tags": []
   },
   "outputs": [],
   "source": [
    "# The values attribute returns the data in array format\n",
    "X = dataset.iloc[:, :-1].values\n",
    "y = dataset.iloc[:, -1].values"
   ]
  },
  {
   "cell_type": "markdown",
   "id": "528374f4-834b-4f8e-a3d2-e2105add1cd4",
   "metadata": {},
   "source": [
    "### <span style=\"color:#3C4048; font-weight: bold; font-size: 18px; font-family: Gill Sans, sans-serif;\">Feature Scaling</span>"
   ]
  },
  {
   "cell_type": "code",
   "execution_count": 5,
   "id": "aedcbd2b-bfa3-4d2c-a2f8-7618a683fd2f",
   "metadata": {
    "tags": []
   },
   "outputs": [
    {
     "data": {
      "text/plain": [
       "array([[8.42681467e-01, 1.00000000e+00, 1.25263158e-01, ...,\n",
       "        5.00000000e-01, 5.00000000e-02, 1.21200000e-02],\n",
       "       [6.96090562e-01, 0.00000000e+00, 1.34135338e-01, ...,\n",
       "        5.00000000e-01, 8.00000000e-02, 0.00000000e+00],\n",
       "       [3.88981656e-01, 0.00000000e+00, 2.38045113e-01, ...,\n",
       "        5.00000000e-01, 1.40000000e-01, 0.00000000e+00],\n",
       "       ...,\n",
       "       [4.39420332e-01, 0.00000000e+00, 7.63909774e-02, ...,\n",
       "        5.00000000e-01, 5.00000000e-02, 0.00000000e+00],\n",
       "       [8.44034934e-01, 0.00000000e+00, 2.05563910e-01, ...,\n",
       "        5.00000000e-01, 6.00000000e-02, 1.10000000e-04],\n",
       "       [1.06907888e-01, 1.00000000e+00, 4.09774436e-01, ...,\n",
       "        0.00000000e+00, 2.80000000e-01, 0.00000000e+00]])"
      ]
     },
     "execution_count": 5,
     "metadata": {},
     "output_type": "execute_result"
    }
   ],
   "source": [
    "sc = MinMaxScaler(feature_range=(0, 1))\n",
    "X = sc.fit_transform(X)\n",
    "X"
   ]
  },
  {
   "cell_type": "code",
   "execution_count": 6,
   "id": "b5c00403-4d33-42c7-87da-9282105b0d0a",
   "metadata": {
    "tags": []
   },
   "outputs": [],
   "source": [
    "# Initialize the SOM\n",
    "som = MiniSom(x=10, y=10,       # This is the grid size which represents num of nodes (10 * 10 = 100)\n",
    "              input_len=15,     # The dimensionality of the input data. This should match the number of features in your dataset.  \n",
    "              sigma=1.0,        # The radius of the neighborhood function, which determines the extent of the influence a node has on its neighbors. A larger sigma means a broader area of influence.\n",
    "              learning_rate=0.5 # The initial learning rate for the training process. It controls how much the weights are adjusted during each training step.\n",
    "             )"
   ]
  },
  {
   "cell_type": "code",
   "execution_count": 7,
   "id": "cd3d71c0-798a-43f6-afaa-f9066ba648fd",
   "metadata": {
    "tags": []
   },
   "outputs": [
    {
     "name": "stdout",
     "output_type": "stream",
     "text": [
      " [ 100 / 100 ] 100% - 0:00:00 left \n",
      " quantization error: 0.5237854704718794\n"
     ]
    }
   ],
   "source": [
    "som.random_weights_init(X)\n",
    "som.train_random(data=X, num_iteration=100, verbose=True)"
   ]
  },
  {
   "cell_type": "markdown",
   "id": "daa80a9a-51cb-49e8-8ad7-3a07e142c932",
   "metadata": {},
   "source": [
    "### <span style=\"color:#3C4048; font-weight: bold; font-size: 18px; font-family: Gill Sans, sans-serif;\">Data Visualization</span>"
   ]
  },
  {
   "cell_type": "markdown",
   "id": "e2a9a0d9-7f9f-4e5d-911d-603134e97a5b",
   "metadata": {},
   "source": [
    "<p style=\"text-align: justify; text-justify: inter-word; font-size: 15px; text-indent: 50px;\">\n",
    "    We are going to plot all the winning nodes in the two dimentional grid graph. In this graph we are\n",
    "    primarily going to depicts Mean Interneuron Distance(MID). In simple terms, MID is the mean of\n",
    "    distances of winning node with its surrounding nodes. The higher MID of the node, it more away\n",
    "    from its surrounding nodes. Therefore the <b>higher MID</b> node probably an outlier.<br>\n",
    "    <strong>Note</strong>: More details can be found in appendix(<a href=\"#Mean-Interneuron-Distance\">Mean Interneuron Distance</a>) section of this notebook\n",
    "</p>"
   ]
  },
  {
   "cell_type": "code",
   "execution_count": 8,
   "id": "6c958ceb-de3a-4aba-9328-c30f68844f62",
   "metadata": {
    "tags": []
   },
   "outputs": [],
   "source": [
    "from pylab import bone, pcolor, colorbar, plot, show"
   ]
  },
  {
   "cell_type": "code",
   "execution_count": 9,
   "id": "d2497db9-9c5f-4c6a-90a7-1134b015bf45",
   "metadata": {
    "tags": []
   },
   "outputs": [
    {
     "data": {
      "text/plain": [
       "array([[0.32659542, 0.53922705, 0.40487302, 0.45722096, 0.50791217,\n",
       "        0.49687411, 0.47569902, 0.45624938, 0.4665439 , 0.30091527],\n",
       "       [0.46423442, 0.73436292, 0.71028881, 0.65350612, 0.70701932,\n",
       "        0.79407183, 0.85933588, 0.66070333, 0.8043371 , 0.45341505],\n",
       "       [0.34112063, 0.67742744, 0.65940733, 0.65679498, 0.73555708,\n",
       "        0.74311449, 0.68836436, 0.88523726, 0.85689638, 0.44802109],\n",
       "       [0.47870205, 0.54555687, 0.75638362, 0.62983655, 0.74073964,\n",
       "        0.68093167, 0.83583194, 0.78662258, 0.68372631, 0.4671507 ],\n",
       "       [0.39490006, 0.70575359, 0.65922799, 0.65458367, 0.6436112 ,\n",
       "        0.89138597, 0.68390239, 0.67606477, 0.67094871, 0.37629238],\n",
       "       [0.63940191, 0.73616358, 0.79734187, 0.76516414, 0.76877896,\n",
       "        0.81624939, 0.80753481, 0.56109951, 0.5663806 , 0.32320954],\n",
       "       [0.50093249, 0.82243566, 0.76199833, 0.84991867, 0.73578736,\n",
       "        0.82067214, 0.68666459, 0.61931716, 0.6324141 , 0.31744738],\n",
       "       [0.58121599, 0.80528616, 0.93768368, 0.78755958, 0.78043103,\n",
       "        0.67064543, 0.66285757, 0.56212639, 0.56540127, 0.41055765],\n",
       "       [0.50000112, 1.        , 0.76516987, 0.99701033, 0.80284028,\n",
       "        0.78665883, 0.65896747, 0.51459506, 0.5035012 , 0.33248977],\n",
       "       [0.3576638 , 0.54429876, 0.59470833, 0.54583405, 0.48657766,\n",
       "        0.56093219, 0.56129129, 0.29200354, 0.24872183, 0.19726109]])"
      ]
     },
     "execution_count": 9,
     "metadata": {},
     "output_type": "execute_result"
    }
   ],
   "source": [
    "# This method give MID of each winning node\n",
    "som.distance_map()"
   ]
  },
  {
   "cell_type": "code",
   "execution_count": 10,
   "id": "0b808487-276c-48aa-ae69-5c88d2a09b5e",
   "metadata": {
    "tags": []
   },
   "outputs": [
    {
     "data": {
      "image/png": "[encoded data removed]",
      "text/plain": [
       "<Figure size 640x480 with 2 Axes>"
      ]
     },
     "metadata": {},
     "output_type": "display_data"
    }
   ],
   "source": [
    "# NOTE:\n",
    "# The graph might look different each time that you run 'entire notebook', it's because\n",
    "# random weights the we initize will be different each time.\n",
    "bone()\n",
    "\n",
    "# We will get 10 X 10 graph because our array shape is 10 X 10,\n",
    "# if you are not clear read appendix section of this notebook\n",
    "pcolor(som.distance_map())\n",
    "\n",
    "# In the generated graph white color nodes(grid) are having highest MID and dark-blue(grid) has lowest MID\n",
    "# The white color nodes potentially outlier and possible repesent fradulent customers\n",
    "colorbar()\n",
    "\n",
    "# Now we will check each winning node approved credit load or not. For this we are going to use\n",
    "# output label\n",
    "markers = [\"o\", \"s\"]\n",
    "color = [\"r\", \"g\"]\n",
    "\n",
    "for index, customer_data in enumerate(X):\n",
    "    winning_node = som.winner(customer_data)\n",
    "    plot(\n",
    "        winning_node[0] + 0.5,  # Represent X co-ordinate and 0.5 to move marker in the center of grid\n",
    "        winning_node[1] + 0.5,  # Represent Y co-ordinate and 0.5 to move marker in the center of grid\n",
    "        markers[y[index]],  # If Y is 0, not approved and it repesented with \"o\", For approved it is 1 and \"s\"\n",
    "        markeredgecolor=color[y[index]],\n",
    "        markerfacecolor=\"None\",  # Some color filled inside markers if you remove this one\n",
    "        markersize=10,\n",
    "        markeredgewidth=2\n",
    "    )"
   ]
  },
  {
   "cell_type": "markdown",
   "id": "72bde53d-9af2-488f-959c-440c438ae4ca",
   "metadata": {},
   "source": [
    "### <span style=\"color:#3C4048; font-weight: bold; font-size: 18px; font-family: Gill Sans, sans-serif;\">Finding the frauds</span>"
   ]
  },
  {
   "cell_type": "markdown",
   "id": "8c3e1547-c410-4e81-8aae-d5d0496f1ecd",
   "metadata": {},
   "source": [
    "<p style=\"text-align: justify; text-justify: inter-word;\">\n",
    "    In the above Graph, the wight grids represents potential outliers or fraudulent customers. We are going to use\n",
    "    <code>som.win_map(data)</code> method to get customers associated with these white grids by looking at graph and grabing\n",
    "    co-ordinates.\n",
    "</p>"
   ]
  },
  {
   "cell_type": "code",
   "execution_count": 11,
   "id": "14f878df-aa37-4ff5-adea-8b16183a0f57",
   "metadata": {
    "tags": []
   },
   "outputs": [],
   "source": [
    "mappings = som.win_map(X)"
   ]
  },
  {
   "cell_type": "code",
   "execution_count": 16,
   "id": "5c99b30e-10aa-4945-a2ad-da59065f413d",
   "metadata": {
    "tags": []
   },
   "outputs": [],
   "source": [
    "frauds = mappings[(1, 9)]"
   ]
  },
  {
   "cell_type": "code",
   "execution_count": 17,
   "id": "7ce6c493-a205-4a3e-82bf-22fb6a09d51e",
   "metadata": {
    "tags": []
   },
   "outputs": [],
   "source": [
    "frauds = sc.inverse_transform(frauds) # converting to original form"
   ]
  },
  {
   "cell_type": "code",
   "execution_count": 18,
   "id": "3161c930-5ad2-4893-bfc8-1949ef44daaf",
   "metadata": {
    "tags": []
   },
   "outputs": [
    {
     "data": {
      "text/plain": [
       "array([[1.5726466e+07, 1.0000000e+00, 1.7420000e+01, 6.5000000e+00,\n",
       "        2.0000000e+00, 3.0000000e+00, 4.0000000e+00, 1.2500000e-01,\n",
       "        0.0000000e+00, 0.0000000e+00, 0.0000000e+00, 0.0000000e+00,\n",
       "        2.0000000e+00, 6.0000000e+01, 1.0100000e+02],\n",
       "       [1.5692408e+07, 1.0000000e+00, 4.8080000e+01, 6.0400000e+00,\n",
       "        2.0000000e+00, 4.0000000e+00, 4.0000000e+00, 4.0000000e-02,\n",
       "        0.0000000e+00, 0.0000000e+00, 0.0000000e+00, 0.0000000e+00,\n",
       "        2.0000000e+00, 0.0000000e+00, 2.6910000e+03],\n",
       "       [1.5694530e+07, 1.0000000e+00, 4.1170000e+01, 1.3350000e+00,\n",
       "        2.0000000e+00, 2.0000000e+00, 4.0000000e+00, 1.6500000e-01,\n",
       "        0.0000000e+00, 0.0000000e+00, 0.0000000e+00, 0.0000000e+00,\n",
       "        2.0000000e+00, 1.6800000e+02, 1.0000000e+00],\n",
       "       [1.5667451e+07, 1.0000000e+00, 3.9920000e+01, 5.0000000e+00,\n",
       "        2.0000000e+00, 3.0000000e+00, 5.0000000e+00, 2.1000000e-01,\n",
       "        0.0000000e+00, 0.0000000e+00, 0.0000000e+00, 0.0000000e+00,\n",
       "        2.0000000e+00, 5.5000000e+02, 1.0000000e+00],\n",
       "       [1.5763108e+07, 1.0000000e+00, 2.8670000e+01, 1.4500000e+01,\n",
       "        2.0000000e+00, 2.0000000e+00, 4.0000000e+00, 1.2500000e-01,\n",
       "        0.0000000e+00, 0.0000000e+00, 0.0000000e+00, 0.0000000e+00,\n",
       "        2.0000000e+00, 0.0000000e+00, 2.8700000e+02],\n",
       "       [1.5723989e+07, 1.0000000e+00, 2.2250000e+01, 9.0000000e+00,\n",
       "        2.0000000e+00, 6.0000000e+00, 4.0000000e+00, 8.5000000e-02,\n",
       "        0.0000000e+00, 0.0000000e+00, 0.0000000e+00, 0.0000000e+00,\n",
       "        2.0000000e+00, 0.0000000e+00, 1.0000000e+00],\n",
       "       [1.5688210e+07, 1.0000000e+00, 3.8250000e+01, 1.0125000e+01,\n",
       "        1.0000000e+00, 4.0000000e+00, 4.0000000e+00, 1.2500000e-01,\n",
       "        0.0000000e+00, 0.0000000e+00, 0.0000000e+00, 0.0000000e+00,\n",
       "        2.0000000e+00, 1.6000000e+02, 1.0000000e+00],\n",
       "       [1.5730287e+07, 1.0000000e+00, 3.6170000e+01, 5.5000000e+00,\n",
       "        2.0000000e+00, 3.0000000e+00, 5.0000000e+00, 5.0000000e+00,\n",
       "        0.0000000e+00, 0.0000000e+00, 0.0000000e+00, 0.0000000e+00,\n",
       "        2.0000000e+00, 2.1000000e+02, 6.8800000e+02],\n",
       "       [1.5720353e+07, 1.0000000e+00, 1.9500000e+01, 2.9000000e-01,\n",
       "        2.0000000e+00, 4.0000000e+00, 4.0000000e+00, 2.9000000e-01,\n",
       "        0.0000000e+00, 0.0000000e+00, 0.0000000e+00, 0.0000000e+00,\n",
       "        2.0000000e+00, 2.8000000e+02, 3.6500000e+02],\n",
       "       [1.5728906e+07, 1.0000000e+00, 2.9250000e+01, 1.3000000e+01,\n",
       "        2.0000000e+00, 2.0000000e+00, 8.0000000e+00, 5.0000000e-01,\n",
       "        0.0000000e+00, 0.0000000e+00, 0.0000000e+00, 0.0000000e+00,\n",
       "        2.0000000e+00, 2.2800000e+02, 1.0000000e+00],\n",
       "       [1.5736510e+07, 1.0000000e+00, 4.1500000e+01, 1.5400000e+00,\n",
       "        2.0000000e+00, 3.0000000e+00, 5.0000000e+00, 3.5000000e+00,\n",
       "        0.0000000e+00, 0.0000000e+00, 0.0000000e+00, 0.0000000e+00,\n",
       "        2.0000000e+00, 2.1600000e+02, 1.0000000e+00],\n",
       "       [1.5708236e+07, 1.0000000e+00, 1.8580000e+01, 5.7100000e+00,\n",
       "        2.0000000e+00, 2.0000000e+00, 4.0000000e+00, 5.4000000e-01,\n",
       "        0.0000000e+00, 0.0000000e+00, 0.0000000e+00, 0.0000000e+00,\n",
       "        2.0000000e+00, 1.2000000e+02, 1.0000000e+00],\n",
       "       [1.5617065e+07, 1.0000000e+00, 2.2170000e+01, 2.2500000e+00,\n",
       "        2.0000000e+00, 3.0000000e+00, 4.0000000e+00, 1.2500000e-01,\n",
       "        0.0000000e+00, 0.0000000e+00, 0.0000000e+00, 0.0000000e+00,\n",
       "        2.0000000e+00, 1.6000000e+02, 1.1000000e+01],\n",
       "       [1.5736420e+07, 1.0000000e+00, 2.2080000e+01, 2.3350000e+00,\n",
       "        2.0000000e+00, 4.0000000e+00, 4.0000000e+00, 7.5000000e-01,\n",
       "        0.0000000e+00, 0.0000000e+00, 0.0000000e+00, 0.0000000e+00,\n",
       "        2.0000000e+00, 1.8000000e+02, 1.0000000e+00],\n",
       "       [1.5765093e+07, 1.0000000e+00, 3.1570000e+01, 6.2500000e-01,\n",
       "        2.0000000e+00, 4.0000000e+00, 4.0000000e+00, 2.5000000e-01,\n",
       "        0.0000000e+00, 0.0000000e+00, 0.0000000e+00, 0.0000000e+00,\n",
       "        2.0000000e+00, 3.8000000e+02, 2.0110000e+03],\n",
       "       [1.5632275e+07, 1.0000000e+00, 2.2750000e+01, 1.1500000e+01,\n",
       "        2.0000000e+00, 3.0000000e+00, 4.0000000e+00, 4.1500000e-01,\n",
       "        0.0000000e+00, 0.0000000e+00, 0.0000000e+00, 0.0000000e+00,\n",
       "        2.0000000e+00, 0.0000000e+00, 1.0000000e+00],\n",
       "       [1.5642063e+07, 1.0000000e+00, 3.4670000e+01, 1.0800000e+00,\n",
       "        2.0000000e+00, 7.0000000e+00, 4.0000000e+00, 1.1650000e+00,\n",
       "        0.0000000e+00, 0.0000000e+00, 0.0000000e+00, 0.0000000e+00,\n",
       "        1.0000000e+00, 2.8000000e+01, 1.0000000e+00],\n",
       "       [1.5737542e+07, 1.0000000e+00, 3.3750000e+01, 2.7500000e+00,\n",
       "        2.0000000e+00, 3.0000000e+00, 5.0000000e+00, 0.0000000e+00,\n",
       "        0.0000000e+00, 0.0000000e+00, 0.0000000e+00, 0.0000000e+00,\n",
       "        2.0000000e+00, 1.8000000e+02, 1.0000000e+00],\n",
       "       [1.5656417e+07, 1.0000000e+00, 4.0580000e+01, 1.5000000e+00,\n",
       "        2.0000000e+00, 3.0000000e+00, 5.0000000e+00, 0.0000000e+00,\n",
       "        0.0000000e+00, 0.0000000e+00, 0.0000000e+00, 0.0000000e+00,\n",
       "        1.0000000e+00, 3.0000000e+02, 1.0000000e+00],\n",
       "       [1.5748986e+07, 1.0000000e+00, 4.8080000e+01, 3.7500000e+00,\n",
       "        2.0000000e+00, 3.0000000e+00, 5.0000000e+00, 1.0000000e+00,\n",
       "        0.0000000e+00, 0.0000000e+00, 0.0000000e+00, 0.0000000e+00,\n",
       "        2.0000000e+00, 1.0000000e+02, 3.0000000e+00],\n",
       "       [1.5654760e+07, 1.0000000e+00, 2.3750000e+01, 1.2000000e+01,\n",
       "        2.0000000e+00, 8.0000000e+00, 4.0000000e+00, 2.0850000e+00,\n",
       "        0.0000000e+00, 0.0000000e+00, 0.0000000e+00, 0.0000000e+00,\n",
       "        1.0000000e+00, 8.0000000e+01, 1.0000000e+00],\n",
       "       [1.5652667e+07, 1.0000000e+00, 2.0000000e+01, 0.0000000e+00,\n",
       "        2.0000000e+00, 2.0000000e+00, 4.0000000e+00, 5.0000000e-01,\n",
       "        0.0000000e+00, 0.0000000e+00, 0.0000000e+00, 0.0000000e+00,\n",
       "        2.0000000e+00, 1.4400000e+02, 1.0000000e+00]])"
      ]
     },
     "execution_count": 18,
     "metadata": {},
     "output_type": "execute_result"
    }
   ],
   "source": [
    "frauds"
   ]
  },
  {
   "cell_type": "code",
   "execution_count": null,
   "id": "66994151-4ed3-44e7-bed6-3defb583f3aa",
   "metadata": {},
   "outputs": [],
   "source": []
  }
 ],
 "metadata": {
  "kernelspec": {
   "display_name": "Python 3 (ipykernel)",
   "language": "python",
   "name": "python3"
  },
  "language_info": {
   "codemirror_mode": {
    "name": "ipython",
    "version": 3
   },
   "file_extension": ".py",
   "mimetype": "text/x-python",
   "name": "python",
   "nbconvert_exporter": "python",
   "pygments_lexer": "ipython3",
   "version": "3.11.2"
  }
 },
 "nbformat": 4,
 "nbformat_minor": 5
}
