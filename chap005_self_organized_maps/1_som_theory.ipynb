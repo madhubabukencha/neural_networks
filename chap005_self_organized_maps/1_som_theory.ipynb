{
 "cells": [
  {
   "cell_type": "markdown",
   "id": "c65eae5c-329b-43a1-845e-c0e4ba060975",
   "metadata": {
    "tags": []
   },
   "source": [
    "<p style=\"color:#153462; \n",
    "          font-weight: bold; \n",
    "          font-size: 30px; \n",
    "          font-family: Gill Sans, sans-serif; \n",
    "          text-align: center;\">\n",
    "          Self Organized Maps</p>"
   ]
  },
  {
   "cell_type": "markdown",
   "id": "37a0198b-9983-468f-8dd4-816f976bde39",
   "metadata": {},
   "source": [
    "<p style=\"text-align: justify; text-justify: inter-word;\">\n",
    "   <font size=3>\n",
    "       Self Organized Map (SOM) belongs to the unsupervized area of neural networks. SOM's are invented in 1980's. The are primarily used for reducing dimentionality.\n",
    "   </font>\n",
    "</p>"
   ]
  },
  {
   "cell_type": "markdown",
   "id": "1555731b-24d5-4e39-bb49-ff5e907b2f50",
   "metadata": {},
   "source": [
    "### <span style=\"color:#3C4048; font-weight: bold; font-size: 18px; font-family: Gill Sans, sans-serif;\">Useful Resources</span>"
   ]
  },
  {
   "cell_type": "markdown",
   "id": "40026db8-403e-46be-8982-b71d86b0e32a",
   "metadata": {
    "tags": []
   },
   "source": [
    "https://sci2s.ugr.es/keel/pdf/algorithm/articulo/1990-Kohonen-PIEEE.pdf"
   ]
  },
  {
   "cell_type": "code",
   "execution_count": null,
   "id": "2c7bb014-8a6b-4ef5-883c-5df7de4610f3",
   "metadata": {},
   "outputs": [],
   "source": []
  }
 ],
 "metadata": {
  "kernelspec": {
   "display_name": "Python 3 (ipykernel)",
   "language": "python",
   "name": "python3"
  },
  "language_info": {
   "codemirror_mode": {
    "name": "ipython",
    "version": 3
   },
   "file_extension": ".py",
   "mimetype": "text/x-python",
   "name": "python",
   "nbconvert_exporter": "python",
   "pygments_lexer": "ipython3",
   "version": "3.11.2"
  }
 },
 "nbformat": 4,
 "nbformat_minor": 5
}
