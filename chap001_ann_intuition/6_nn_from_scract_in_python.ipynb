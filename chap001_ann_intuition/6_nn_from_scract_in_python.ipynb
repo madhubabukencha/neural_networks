{
 "cells": [
  {
   "cell_type": "markdown",
   "id": "ed018360-2fa3-4172-a8f2-a0e9f9191bfc",
   "metadata": {},
   "source": [
    "<p style=\"color:#153462; \n",
    "          font-weight: bold; \n",
    "          font-size: 30px; \n",
    "          font-family: Gill Sans, sans-serif;\n",
    "          text-align: center;\">\n",
    "          Implementation of NN in Python</p>"
   ]
  },
  {
   "cell_type": "markdown",
   "id": "cf5f0cc1-965c-467b-aa7f-39097e34e16c",
   "metadata": {},
   "source": [
    "<p style=\"text-align: justify; text-justify: inter-word; font-size:17px;\">\n",
    "    The goal of this notebook is to implement a simple artificial neural network from scratch.\n",
    "</p>"
   ]
  },
  {
   "cell_type": "markdown",
   "id": "65b939f2-93f5-4415-b7ab-8e52695c9db3",
   "metadata": {},
   "source": [
    " ### <span style=\"color:#123524; font-weight: bold;\">Packages Importing</span>"
   ]
  },
  {
   "cell_type": "markdown",
   "id": "f26a8986-8820-4bb4-a450-ff158b8d9b8c",
   "metadata": {},
   "source": [
    "<p style=\"text-align: justify; \n",
    "          text-justify: inter-word;\n",
    "          font-size:17px;\">\n",
    "    You will use these packages in the later part of this notebook.\n",
    "</p>"
   ]
  },
  {
   "cell_type": "code",
   "execution_count": 1,
   "id": "a3cf30f1-1136-4a78-a683-9d3dbb5f62e3",
   "metadata": {},
   "outputs": [],
   "source": [
    "import numpy as np\n",
    "import matplotlib.pyplot as plt"
   ]
  },
  {
   "cell_type": "markdown",
   "id": "7ea440cd-e3c9-4d71-9d3e-6d3a20b4a4d5",
   "metadata": {},
   "source": [
    " ### <span style=\"color:#123524; font-weight: bold;\">Manual Calculation of the Layer</span>"
   ]
  },
  {
   "cell_type": "markdown",
   "id": "7c918808-59f2-485c-9ac5-7babc20038f7",
   "metadata": {},
   "source": [
    "<img src=\"images\\basic_nn.png\" alt=\"basic_nn\" style=\"width: 500px;\"/>"
   ]
  },
  {
   "cell_type": "markdown",
   "id": "6521fadf-9157-4999-9a1f-b63e1e2a156c",
   "metadata": {},
   "source": [
    "<p style=\"text-align: justify; \n",
    "          text-justify: inter-word;\n",
    "          font-size:17px;\">\n",
    "  Let's assume you have 4 input nodes and 3 output nodes. Now you have $4 * 3 = 12$ weights and 3 bias (to know more about bias look it in nn_terminology notebook)\n",
    "</p>"
   ]
  },
  {
   "cell_type": "code",
   "execution_count": 1,
   "id": "74b0c707-9eb1-48ab-895e-b724abc3ddad",
   "metadata": {
    "tags": []
   },
   "outputs": [
    {
     "name": "stdout",
     "output_type": "stream",
     "text": [
      "[5.42, 3.56, 5.63]\n"
     ]
    }
   ],
   "source": [
    "input = [1, 2.3, 3, 0.5]\n",
    "\n",
    "# Random weights, each column represents weights for each input node\n",
    "weight_1 = [0.5, 0.4, 0.9, 0.6]\n",
    "weight_2 = [0.6, 0.2, 0.1, 0.4]\n",
    "weight_3 = [0.6, 0.1, 0.5, 0.6]\n",
    "\n",
    "# Bias\n",
    "bias_1 = 1\n",
    "bias_2 = 2\n",
    "bias_3 = 3\n",
    "\n",
    "# Output of each output node\n",
    "output = [input[0] * weight_1[0] +  input[1] * weight_1[1] + input[2] * weight_1[2]+ input[3] * weight_1[3] + bias_1,\n",
    "          input[0] * weight_2[0] +  input[1] * weight_2[1] + input[2] * weight_2[2] + input[3] * weight_2[3] + bias_2,\n",
    "          input[0] * weight_3[0] +  input[1] * weight_3[1] + input[2] * weight_3[2] + input[3] * weight_3[3] + bias_3]\n",
    "print(output)"
   ]
  },
  {
   "cell_type": "markdown",
   "id": "a2d8b5ce-7571-4820-bd82-610234ea405e",
   "metadata": {},
   "source": [
    " ### <span style=\"color:#123524; font-weight: bold;\">With \"For\" Loop</span>"
   ]
  },
  {
   "cell_type": "code",
   "execution_count": 2,
   "id": "613600d4-0990-4da0-aff7-de8d602ebee8",
   "metadata": {
    "tags": []
   },
   "outputs": [
    {
     "name": "stdout",
     "output_type": "stream",
     "text": [
      "[5.42, 3.56, 5.63]\n"
     ]
    }
   ],
   "source": [
    "inputs = [1, 2.3, 3, 0.5]\n",
    "\n",
    "# Random weights\n",
    "weights = [[0.5, 0.4, 0.9, 0.6], [0.6, 0.2, 0.1, 0.4], [0.6, 0.1, 0.5, 0.6]]\n",
    "biases = [1, 2, 3]\n",
    "\n",
    "layer_output = []\n",
    "for weight, bias in zip(weights, biases):\n",
    "    neuron_output = 0\n",
    "    for n_input, w in zip(inputs, weight):\n",
    "        neuron_output += n_input * w\n",
    "    neuron_output += bias\n",
    "    layer_output.append(neuron_output)\n",
    "\n",
    "print(layer_output)"
   ]
  },
  {
   "cell_type": "markdown",
   "id": "3f8205b1-8b6f-43a8-9b4c-81bf86709b63",
   "metadata": {},
   "source": [
    " ### <span style=\"color:#123524; font-weight: bold;\">Implementation with Numpy</span>"
   ]
  },
  {
   "cell_type": "markdown",
   "id": "e2557e43-789a-498f-95aa-96042b4a2122",
   "metadata": {},
   "source": [
    "<p style=\"text-align: justify; text-justify: inter-word; font-size:17px;\">\n",
    "    To perform multiplication, we will use <strong>Dot Product</strong>. To do a Dot Product, the number of columns in the first\n",
    "    Matrix should equal to number of rows in the second Matrix. In our case, the input matrix has a dimension of (4, 1) and the weights\n",
    "    matrix has a dimension of (3, 4). To match dimensions we should perform a transpose of a weights matrix.\n",
    "</p>"
   ]
  },
  {
   "cell_type": "code",
   "execution_count": 5,
   "id": "8cba8d54-e5eb-4016-a3d3-d335e3d457b6",
   "metadata": {
    "tags": []
   },
   "outputs": [
    {
     "name": "stdout",
     "output_type": "stream",
     "text": [
      "[5.42 3.56 5.63]\n"
     ]
    }
   ],
   "source": [
    "import numpy as np\n",
    "\n",
    "inputs = [1, 2.3, 3, 0.5]\n",
    "\n",
    "# Random weights, performing transpose to match the dimentions\n",
    "weights = np.array([[0.5, 0.4, 0.9, 0.6], [0.6, 0.2, 0.1, 0.4], [0.6, 0.1, 0.5, 0.6]]).T\n",
    "biases = [1, 2, 3]\n",
    "layer_output = np.dot(input, weights) + biases\n",
    "print(layer_output)"
   ]
  },
  {
   "cell_type": "markdown",
   "id": "2819057d-f7b8-4968-b426-3957ef962144",
   "metadata": {},
   "source": [
    " ### <span style=\"color:#123524; font-weight: bold;\">Batches, Layer and Objects</span>"
   ]
  },
  {
   "cell_type": "markdown",
   "id": "0733d01d-e302-46e1-8fed-2d27490ee734",
   "metadata": {},
   "source": [
    "<p style=\"text-align: justify; text-justify: inter-word; font-size:17px;\">\n",
    "    In this section, we are going to feed a batch of inputs. A batch of inputs helps for better generalization. When you feed a \n",
    "    batch of inputs, the network performs the same operations (using the same weights) on all inputs simultaneously. This parallel\n",
    "    processing is what makes batching computationally efficient, especially on GPUs. During training, the network updates its weights\n",
    "    based on the error calculated from the entire batch. The updates aim to improve performance across all inputs in the batch, leading \n",
    "    to more stable and efficient training.\n",
    "</p>"
   ]
  },
  {
   "cell_type": "code",
   "execution_count": 8,
   "id": "74845081-cac9-4632-ad20-7deca8b98bb7",
   "metadata": {},
   "outputs": [],
   "source": [
    "# It has a size of 4 X 4\n",
    "batch_of_inputs = [[1, 2.3, 3, 0.5],\n",
    "                   [0.5, 1, 3, 0.4],\n",
    "                   [4.5, 3, 1, 0.9],\n",
    "                   [0.5, 0.4, 2, 0.2]]\n",
    "\n",
    "# Random weights: It has a size of 3 X 4\n",
    "weights = [[0.5, 0.4, 0.9, 0.6], \n",
    "           [0.6, 0.2, 0.1, 0.4], \n",
    "           [0.6, 0.1, 0.5, 0.6]]\n",
    "\n",
    "biases = [1, 2, 3]"
   ]
  },
  {
   "cell_type": "code",
   "execution_count": 9,
   "id": "140487a3-327f-40cb-9150-8de54cb2f621",
   "metadata": {
    "tags": []
   },
   "outputs": [
    {
     "data": {
      "text/plain": [
       "array([[4.42, 1.56, 2.63],\n",
       "       [3.59, 0.96, 2.14],\n",
       "       [4.89, 3.76, 4.04],\n",
       "       [2.33, 0.66, 1.46]])"
      ]
     },
     "execution_count": 9,
     "metadata": {},
     "output_type": "execute_result"
    }
   ],
   "source": [
    "import numpy as np\n",
    "\n",
    "# Performing transpose to make it compatible with matrix multiplication\n",
    "output =  np.dot(batch_of_inputs, np.transpose(weights))\n",
    "# NOTE: The number of batches of input equals to number of rows of the output\n",
    "output"
   ]
  },
  {
   "cell_type": "markdown",
   "id": "104caf58-c5f4-4c1f-8733-c471cb1240d3",
   "metadata": {},
   "source": [
    "<p style=\"text-align: justify; text-justify: inter-word; font-size:17px;\">\n",
    "    <strong>Here is the explanation of the above output matrix:</strong>\n",
    "    <ul style=\"text-align: justify; text-justify: inter-word; font-size:17px;\">\n",
    "        <li>Each <b>row</b> corresponds to an input sample from the <i>batch_of_inputs</i>. The first row represents the weighted sum of inputs for each of the 3 neurons for the **first input sample** and so on.</li>\n",
    "        <li>Each <b>column</b> corresponds to a neuron in the layer (since there are 3 neurons, we have 3 columns).</li>\n",
    "        <li>The values in the matrix represent the weighted sum of inputs for each neuron before applying any activation function.</li>\n",
    "    </ul>\n",
    "    Thus, each row in the output represents the pre-activation outputs of all neurons for a single input sample.\n",
    "</p>"
   ]
  },
  {
   "cell_type": "code",
   "execution_count": 10,
   "id": "2c8959a5-774f-4698-b6cb-d62d6495c597",
   "metadata": {},
   "outputs": [
    {
     "data": {
      "text/plain": [
       "array([[5.42, 3.56, 5.63],\n",
       "       [4.59, 2.96, 5.14],\n",
       "       [5.89, 5.76, 7.04],\n",
       "       [3.33, 2.66, 4.46]])"
      ]
     },
     "execution_count": 10,
     "metadata": {},
     "output_type": "execute_result"
    }
   ],
   "source": [
    "# If you see carefully, first row output matches with single input output\n",
    "output + biases"
   ]
  },
  {
   "cell_type": "markdown",
   "id": "d0f7e714-9adb-499b-8293-38dd7947dff0",
   "metadata": {},
   "source": [
    "#### <span style=\"color:#AE445A; font-weight: bold;\">Adding Additional Layer</span>"
   ]
  },
  {
   "cell_type": "markdown",
   "id": "531826a2-01a0-4cf4-bac2-204cb7d55ced",
   "metadata": {},
   "source": [
    "<p style=\"text-align: justify; \n",
    "          text-justify: inter-word;\n",
    "          font-size:17px;\">\n",
    "  Adding an additional layer with 3 neurons. The output of second layer going to act as an input now, so we just only need to defined weights and bias.\n",
    "</p>"
   ]
  },
  {
   "cell_type": "code",
   "execution_count": 12,
   "id": "e0dfc87d-efc3-43a0-9c64-2f84c975f495",
   "metadata": {
    "tags": []
   },
   "outputs": [
    {
     "name": "stdout",
     "output_type": "stream",
     "text": [
      "[[0.461  2.6316 3.408 ]\n",
      " [0.271  2.3608 3.001 ]\n",
      " [1.531  2.5488 4.051 ]\n",
      " [0.391  1.8352 2.457 ]]\n"
     ]
    }
   ],
   "source": [
    "# Input Batch: has a size of 4 X 4\n",
    "batch_of_inputs = [[1, 2.3, 3, 0.5],\n",
    "                   [0.5, 1, 3, 0.4],\n",
    "                   [4.5, 3, 1, 0.9],\n",
    "                   [0.5, 0.4, 2, 0.2]]\n",
    "\n",
    "# Random weights: It has a size of 3 X 4\n",
    "# Since we have 4 input nodes we are going to have 4 columns and\n",
    "# We have 3 output nodes so we are going to have 3 rows\n",
    "weights1 = [[0.5, 0.4, 0.9, 0.6], \n",
    "           [0.6, 0.2, 0.1, 0.4],\n",
    "           [0.6, 0.1, 0.5, 0.6]]\n",
    "\n",
    "# Since our input layer has 3 neurons we are going to have 3 columns\n",
    "# and since we have 3 neurons in the output layer we are going to have 3 rows.\n",
    "weights2 = [[-0.1, 0.7, -0.3],\n",
    "            [0.4, -0.2, 0.12],\n",
    "            [0.3, 0.1, 0.2]]\n",
    "\n",
    "bias1 = [1, 2, 3]\n",
    "bias2 = [0.2, 0.5, 0.3]\n",
    "\n",
    "layer1_output = np.dot(batch_of_inputs, np.array(weights1).T) + bias1\n",
    "layer2_output = np.dot(layer1_output, np.array(weights2).T) + bias2\n",
    "print(layer2_output)"
   ]
  },
  {
   "cell_type": "markdown",
   "id": "481c3e2b-1af6-488b-bcb5-184fb3687463",
   "metadata": {},
   "source": [
    "#### <span style=\"color:#AE445A; font-weight: bold;\">Converting Into an Object</span>"
   ]
  },
  {
   "cell_type": "code",
   "execution_count": 1,
   "id": "f09ac12b-1aa1-49f9-9ea7-18709affd03d",
   "metadata": {
    "tags": []
   },
   "outputs": [
    {
     "name": "stdout",
     "output_type": "stream",
     "text": [
      "[[ 0.1152811   7.69522063  2.81115045  2.52504874  3.71647637]\n",
      " [ 0.47034874  6.11061917  2.53906165  1.50747988  2.3343289 ]\n",
      " [ 5.45075238  7.44991736  4.52664459 10.17779879  9.31098353]\n",
      " [ 0.84593703  3.7874768   1.90986991  1.38512263  1.81492571]]\n",
      "[[18.55041775 -4.73602561]\n",
      " [13.49148266 -4.77259248]\n",
      " [17.53603842  3.22630427]\n",
      " [ 8.29456105 -2.62815743]]\n"
     ]
    }
   ],
   "source": [
    "import numpy as np\n",
    "\n",
    "np.random.seed(0)\n",
    "\n",
    "X = [[1, 2.3, 3, 0.5],\n",
    "     [0.5, 1, 3, 0.4],\n",
    "     [4.5, 3, 1, 0.9],\n",
    "     [0.5, 0.4, 2, 0.2]]\n",
    "\n",
    "\n",
    "class LayerDense:\n",
    "    def __init__(self, n_inputs, n_neurons):\n",
    "        \"\"\"\n",
    "        :param n_inputs: Input size or num of features, in our example, we have 4 features\n",
    "        :type  n_inputs: int\n",
    "        :param n_neurons: Number of neurons in the output layer\n",
    "        :type  n_neurons: int\n",
    "        \"\"\"\n",
    "        # By passing input and neurons to create random weights, you can avoid the problem of transposing weights\n",
    "        self.weights = np.random.randn(n_inputs, n_neurons)\n",
    "        self.bias = np.zeros((1, n_neurons))\n",
    "    \n",
    "    def forward(self, inputs):\n",
    "        self.output = np.dot(inputs, self.weights) + self.bias\n",
    "    \n",
    "\n",
    "layer1 = LayerDense(4, 5)\n",
    "# The neurons in the first layer act as input in the second layer\n",
    "layer2 = LayerDense(5, 2)\n",
    "\n",
    "layer1.forward(X)\n",
    "layer2.forward(layer1.output)\n",
    "print(layer1.output)\n",
    "print(layer2.output)"
   ]
  },
  {
   "cell_type": "markdown",
   "id": "c72b8a21-009e-4d92-b219-d855897179bf",
   "metadata": {},
   "source": [
    " ### <span style=\"color:#123524; font-weight: bold;\">Hidden Layers and Activation Functions</span>"
   ]
  },
  {
   "cell_type": "markdown",
   "id": "0b0ff039-2167-43e9-b30b-efccaff4e670",
   "metadata": {},
   "source": [
    "<p style=\"text-align: justify; text-justify: inter-word; font-size:17px;\">\n",
    "    We will feed $input \\times weights + bias$ to the activation function. Based on the activation function type it returns the\n",
    "    output value. Below are few activation functions.\n",
    "</p>"
   ]
  },
  {
   "cell_type": "markdown",
   "id": "7153ed6d-15c0-4580-90fb-71cbf96f7948",
   "metadata": {},
   "source": [
    "#### <span style=\"color:#AE445A; font-weight: bold;\">Step Activation Function</span>"
   ]
  },
  {
   "cell_type": "markdown",
   "id": "f27d8f22-d82c-43b2-a92f-789196da14b7",
   "metadata": {},
   "source": [
    "<p style=\"text-align: justify; text-justify: inter-word; font-size:17px;\">\n",
    "    A step activation function is a mathematical function that assigns a value of 0 or 1 to an input based on\n",
    "    whether it is greater than or less than a threshold value. It's also known as the Heaviside step function. \n",
    "</p>"
   ]
  },
  {
   "cell_type": "markdown",
   "id": "08fe3b14-81fa-4fc9-9008-3203f8284c32",
   "metadata": {},
   "source": [
    "\\begin{equation*}\n",
    "f(x) =\n",
    "\\begin{cases}\n",
    "    0, & \\text{if } x < 0 \\\\\n",
    "    1, & \\text{if } x \\geq 0\n",
    "\\end{cases}\n",
    "\\end{equation*}"
   ]
  },
  {
   "cell_type": "markdown",
   "id": "e8584146-bbe6-45fa-b5db-3eb7f4f20d1e",
   "metadata": {
    "tags": []
   },
   "source": [
    "#### <span style=\"color:#AE445A; font-weight: bold;\">Sigmoid Activation Function</span>"
   ]
  },
  {
   "cell_type": "markdown",
   "id": "cacc34d3-e564-42e5-92ed-62d6abe5243f",
   "metadata": {},
   "source": [
    "<p style=\"text-align: justify; \n",
    "          text-justify: inter-word;\n",
    "          font-size:17px;\">\n",
    "  The sigmoid activation function is a mathematical function that maps any input value to a value between 0 and 1.\n",
    "</p>\n"
   ]
  },
  {
   "cell_type": "markdown",
   "id": "3e43a670-9721-4af2-a129-51264401b36a",
   "metadata": {},
   "source": [
    "$$f(x) = \\frac{1}{1 + e^{-x}}$$"
   ]
  },
  {
   "cell_type": "markdown",
   "id": "ddde6339-9088-48ef-a4ef-7b1e940c5949",
   "metadata": {},
   "source": [
    "<p style=\"text-align: justify; text-justify: inter-word;font-size:17px;\">\n",
    "    The sigmoid activation function is commonly used in neural networks because it introduces non-linearity into the network, which allows\n",
    "    the network to learn more complex patterns in the data. However, the sigmoid activation function has some drawbacks. One drawback is that\n",
    "    it can suffer from the vanishing gradient problem, making it difficult to train deep neural networks. Another drawback is that it is not\n",
    "    zero-centered, which can slow down the training process.\n",
    "</p>"
   ]
  },
  {
   "cell_type": "markdown",
   "id": "e22b670c-dd31-4db7-854e-cbd5d0638151",
   "metadata": {},
   "source": [
    "#### <span style=\"color:#AE445A; font-weight: bold;\">ReLU Activation Function</span>"
   ]
  },
  {
   "cell_type": "markdown",
   "id": "359bb70d-fcbb-4281-81d7-3e9890226647",
   "metadata": {},
   "source": [
    "<p style=\"text-align: justify; \n",
    "          text-justify: inter-word;\n",
    "          font-size:17px;\">\n",
    "    The Rectified Linear Activation(ReLU) work in such that for any input value 'x', if 'x' is positive, the function returns 'x'. If 'x' is negative or zero, the function returns 0.\n",
    "</p>"
   ]
  },
  {
   "cell_type": "markdown",
   "id": "fe3a6b63-3130-4a0e-a046-5e74621a7764",
   "metadata": {},
   "source": [
    "$$f(x) = \\max(0, x)$$"
   ]
  },
  {
   "cell_type": "markdown",
   "id": "5d618607-31d8-4285-8aa7-708e71e23b14",
   "metadata": {},
   "source": [
    "<p style=\"text-align: justify; \n",
    "          text-justify: inter-word;\n",
    "          font-size:17px;\">\n",
    "  ReLU is computationally inexpensive as it involves a simple comparison and no complex calculations.  ReLU can lead to sparse activations, where some neurons are inactive (output 0). This can help the network learn more efficiently.  Compared to traditional activation functions like sigmoid and tanh, ReLU helps mitigate the vanishing gradient problem, which can hinder the training of deep networks. \n",
    "    <br><br>\n",
    "    <b>Dying ReLU problem: </b>Neurons can \"die\" during training, meaning they become inactive for all inputs and stop contributing to learning. This can happen if a neuron's weights are updated in such a way that it always receives negative inputs.\n",
    "</p>"
   ]
  },
  {
   "cell_type": "code",
   "execution_count": 27,
   "id": "636dede4-b958-4794-b399-5fb5ef400675",
   "metadata": {},
   "outputs": [
    {
     "data": {
      "image/png": "[encoded data removed]",
      "text/plain": [
       "<Figure size 640x480 with 1 Axes>"
      ]
     },
     "metadata": {},
     "output_type": "display_data"
    }
   ],
   "source": [
    "def relu(x):\n",
    "    return np.maximum(0, x)\n",
    "\n",
    "x = np.linspace(-10, 10, 100)\n",
    "y = relu(x)\n",
    "\n",
    "plt.plot(x, y, label=\"ReLU\")\n",
    "plt.title(\"ReLU Activation Function\")\n",
    "plt.xlabel(\"Input\")\n",
    "plt.ylabel(\"Output\")\n",
    "plt.grid(True)\n",
    "plt.legend()\n",
    "plt.show()"
   ]
  },
  {
   "cell_type": "markdown",
   "id": "67e46640-e995-4207-acb2-5a9618b2ca31",
   "metadata": {},
   "source": [
    "#### <span style=\"color:#AE445A; font-weight: bold;\">Creating Dataset</span>"
   ]
  },
  {
   "cell_type": "markdown",
   "id": "42a84428-32dd-4c5f-a2c8-31760730e6f5",
   "metadata": {},
   "source": [
    "<p style=\"text-align: justify; \n",
    "          text-justify: inter-word;\n",
    "          font-size:17px;\">\n",
    "    In this section, we are going to create synthetic data.\n",
    "</p>"
   ]
  },
  {
   "cell_type": "code",
   "execution_count": 1,
   "id": "647eb1a7-dffe-4a6f-903d-fe4f5c7803b1",
   "metadata": {},
   "outputs": [],
   "source": [
    "from pyspark.sql import SparkSession\n",
    "from pyspark.sql.functions import when, col\n",
    "import requests"
   ]
  },
  {
   "cell_type": "code",
   "execution_count": 2,
   "id": "91d9ec3d-1016-4e90-9756-620b510de9ab",
   "metadata": {},
   "outputs": [
    {
     "data": {
      "text/html": [
       "\n",
       "            <div>\n",
       "                <p><b>SparkSession - in-memory</b></p>\n",
       "                \n",
       "        <div>\n",
       "            <p><b>SparkContext</b></p>\n",
       "\n",
       "            <p><a href=\"http://DESKTOP-9BVKVNB:4040\">Spark UI</a></p>\n",
       "\n",
       "            <dl>\n",
       "              <dt>Version</dt>\n",
       "                <dd><code>v3.5.5</code></dd>\n",
       "              <dt>Master</dt>\n",
       "                <dd><code>local[*]</code></dd>\n",
       "              <dt>AppName</dt>\n",
       "                <dd><code>Iris_Dataset</code></dd>\n",
       "            </dl>\n",
       "        </div>\n",
       "        \n",
       "            </div>\n",
       "        "
      ],
      "text/plain": [
       "<pyspark.sql.session.SparkSession at 0x1ea727cbe00>"
      ]
     },
     "execution_count": 2,
     "metadata": {},
     "output_type": "execute_result"
    }
   ],
   "source": [
    "spark = SparkSession.builder.appName(\"Iris_Dataset\").getOrCreate()\n",
    "spark"
   ]
  },
  {
   "cell_type": "code",
   "execution_count": 3,
   "id": "f94b3eb9-8ee7-4c4e-b8e0-53452476a78d",
   "metadata": {},
   "outputs": [
    {
     "data": {
      "text/plain": [
       "200"
      ]
     },
     "execution_count": 3,
     "metadata": {},
     "output_type": "execute_result"
    }
   ],
   "source": [
    "# NOTE: Run this cell if you don't iris_data.csv file on your local\n",
    "# URL of the Iris dataset\n",
    "# url = \"https://archive.ics.uci.edu/ml/machine-learning-databases/iris/iris.data\"\n",
    "# response = requests.get(url)\n",
    "# with open(\"iris_data.csv\", \"wb\") as file:\n",
    "#     file.write(response.content)"
   ]
  },
  {
   "cell_type": "code",
   "execution_count": 3,
   "id": "d1a856ca-4f50-4af0-8e02-f7bed552bed7",
   "metadata": {},
   "outputs": [],
   "source": [
    "iris_df = spark.read.csv(\"iris_data.csv\", header=False, inferSchema=True)\n",
    "column_names = [\"sepal_length\", \"sepal_width\", \"petal_length\", \"petal_width\", \"species\"]\n",
    "iris_df = iris_df.toDF(*column_names)"
   ]
  },
  {
   "cell_type": "code",
   "execution_count": 4,
   "id": "59a89e4a-18f8-40ad-bc9b-3397b06084ec",
   "metadata": {},
   "outputs": [
    {
     "name": "stdout",
     "output_type": "stream",
     "text": [
      "+------------+-----------+------------+-----------+-----------+\n",
      "|sepal_length|sepal_width|petal_length|petal_width|    species|\n",
      "+------------+-----------+------------+-----------+-----------+\n",
      "|         5.1|        3.5|         1.4|        0.2|Iris-setosa|\n",
      "|         4.9|        3.0|         1.4|        0.2|Iris-setosa|\n",
      "|         4.7|        3.2|         1.3|        0.2|Iris-setosa|\n",
      "|         4.6|        3.1|         1.5|        0.2|Iris-setosa|\n",
      "|         5.0|        3.6|         1.4|        0.2|Iris-setosa|\n",
      "+------------+-----------+------------+-----------+-----------+\n",
      "only showing top 5 rows\n",
      "\n"
     ]
    }
   ],
   "source": [
    "iris_df.show(5)"
   ]
  },
  {
   "cell_type": "code",
   "execution_count": 5,
   "id": "a666a92d-ab3c-4783-971c-4a27deeda0a4",
   "metadata": {},
   "outputs": [],
   "source": [
    "iris_df = iris_df.withColumn(\n",
    "    \"species_encoding\",\n",
    "    when(col(\"species\") == \"Iris-setosa\", 0)\n",
    "    .when(col(\"species\") == \"Iris-virginica\", 1)\n",
    "    .when(col(\"species\") == \"Iris-versicolor\", 2),\n",
    ")"
   ]
  },
  {
   "cell_type": "code",
   "execution_count": 6,
   "id": "4b73501b-4f30-4660-bc88-b9949645eeb4",
   "metadata": {},
   "outputs": [
    {
     "name": "stdout",
     "output_type": "stream",
     "text": [
      "+------------+-----------+------------+-----------+---------------+----------------+\n",
      "|sepal_length|sepal_width|petal_length|petal_width|        species|species_encoding|\n",
      "+------------+-----------+------------+-----------+---------------+----------------+\n",
      "|         4.7|        3.2|         1.3|        0.2|    Iris-setosa|               0|\n",
      "|         4.9|        3.1|         1.5|        0.1|    Iris-setosa|               0|\n",
      "|         5.4|        3.9|         1.3|        0.4|    Iris-setosa|               0|\n",
      "|         5.0|        3.4|         1.6|        0.4|    Iris-setosa|               0|\n",
      "|         5.1|        3.8|         1.6|        0.2|    Iris-setosa|               0|\n",
      "|         4.9|        2.4|         3.3|        1.0|Iris-versicolor|               2|\n",
      "|         6.6|        2.9|         4.6|        1.3|Iris-versicolor|               2|\n",
      "|         5.6|        3.0|         4.5|        1.5|Iris-versicolor|               2|\n",
      "|         5.7|        2.6|         3.5|        1.0|Iris-versicolor|               2|\n",
      "|         5.8|        2.6|         4.0|        1.2|Iris-versicolor|               2|\n",
      "|         5.8|        2.8|         5.1|        2.4| Iris-virginica|               1|\n",
      "|         6.2|        2.8|         4.8|        1.8| Iris-virginica|               1|\n",
      "+------------+-----------+------------+-----------+---------------+----------------+\n",
      "only showing top 12 rows\n",
      "\n"
     ]
    }
   ],
   "source": [
    "iris_df.sample(fraction=0.1, seed=0.211).show(12)"
   ]
  },
  {
   "cell_type": "markdown",
   "id": "5ab94187-0b1e-4251-84a0-971859084f12",
   "metadata": {},
   "source": [
    "#### <span style=\"color:#AE445A; font-weight: bold;\">Implementing ReLU</span>"
   ]
  },
  {
   "cell_type": "code",
   "execution_count": 7,
   "id": "6cc7e8b7-1bae-4e4d-96c5-53a7ed34664a",
   "metadata": {},
   "outputs": [],
   "source": [
    "import numpy as np\n",
    "\n",
    "X = iris_df.select(iris_df.columns[0:4])\n",
    "y = iris_df.select(iris_df.species_encoding)"
   ]
  },
  {
   "cell_type": "code",
   "execution_count": 21,
   "id": "3200288c-3e3d-4864-9add-352d7e53f7b8",
   "metadata": {},
   "outputs": [],
   "source": [
    "X_np = np.array(X.collect())\n",
    "y_np = np.array(y.collect()).flatten()"
   ]
  },
  {
   "cell_type": "code",
   "execution_count": 22,
   "id": "730026b7-534f-48ae-8b4e-1e4ef0737bd5",
   "metadata": {},
   "outputs": [
    {
     "name": "stdout",
     "output_type": "stream",
     "text": [
      "Input shape: (150, 4)\n",
      "Output shape: (150,)\n"
     ]
    }
   ],
   "source": [
    "print(f\"Input shape: {X_np.shape}\")\n",
    "print(f\"Output shape: {y_np.shape}\")"
   ]
  },
  {
   "cell_type": "code",
   "execution_count": 33,
   "id": "00c10db4-c5e2-474c-b7e8-1d6fc4d84ca8",
   "metadata": {},
   "outputs": [],
   "source": [
    "class DenseLayer:\n",
    "    def __init__(self, n_inputs, n_neurons, random_seed=42):\n",
    "        \"\"\"\n",
    "        :param n_inputs: Input size or num of features, in our example, we have 4 features\n",
    "        :type  n_inputs: int\n",
    "        :param n_neurons: Number of neurons in the output layer\n",
    "        :type  n_neurons: int\n",
    "        \"\"\"\n",
    "        # By passing input and neurons to create random weights, you can avoid the problem of transposing weights\n",
    "        np.random.seed(random_seed)\n",
    "        self.weights = np.random.randn(n_inputs, n_neurons)\n",
    "        self.bias = np.zeros((1, n_neurons))\n",
    "    \n",
    "    def forward(self, inputs):\n",
    "        self.output = np.dot(inputs, self.weights) + self.bias\n",
    "\n",
    "class ActivationReLU:\n",
    "    def forward(self, inputs):\n",
    "        self.output = np.maximum(0, inputs)"
   ]
  },
  {
   "cell_type": "code",
   "execution_count": 34,
   "id": "24f867ba-5d18-4b7b-a931-0d6cce43defc",
   "metadata": {},
   "outputs": [],
   "source": [
    "layer1 = DenseLayer(n_inputs=4, n_neurons=5)\n",
    "activation1 = ActivationReLU()\n",
    "layer1.forward(X_np)"
   ]
  },
  {
   "cell_type": "code",
   "execution_count": 36,
   "id": "570f17dc-0018-44b2-81c7-694bd85b203d",
   "metadata": {},
   "outputs": [],
   "source": [
    "activation1.forward(layer1.output)"
   ]
  },
  {
   "cell_type": "markdown",
   "id": "94cbd0e5-60f8-49d9-8c1a-40cdf943a4f3",
   "metadata": {},
   "source": [
    "### <span style=\"color:#123524; font-weight: bold;\">Softmax</span>"
   ]
  },
  {
   "cell_type": "code",
   "execution_count": null,
   "id": "22bd3dd8-7d7f-490c-acf6-cbffee6b4729",
   "metadata": {},
   "outputs": [],
   "source": []
  }
 ],
 "metadata": {
  "kernelspec": {
   "display_name": "Python 3 (ipykernel)",
   "language": "python",
   "name": "python3"
  },
  "language_info": {
   "codemirror_mode": {
    "name": "ipython",
    "version": 3
   },
   "file_extension": ".py",
   "mimetype": "text/x-python",
   "name": "python",
   "nbconvert_exporter": "python",
   "pygments_lexer": "ipython3",
   "version": "3.13.2"
  }
 },
 "nbformat": 4,
 "nbformat_minor": 5
}
