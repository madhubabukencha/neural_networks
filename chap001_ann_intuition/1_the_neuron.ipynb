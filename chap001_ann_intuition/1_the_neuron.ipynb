{
 "cells": [
  {
   "cell_type": "markdown",
   "metadata": {},
   "source": [
    "<p style=\"color:#153462; \n",
    "          font-weight: bold; \n",
    "          font-size: 30px; \n",
    "          font-family: Gill Sans, sans-serif; \n",
    "          text-align: center;\">\n",
    "          Biological Neuron and Technical Representation</p>"
   ]
  },
  {
   "cell_type": "markdown",
   "metadata": {},
   "source": [
    "#### Main of parts of the Biological Neuron:\n",
    "<p style=\"text-align: justify; text-justify: inter-word;\">\n",
    "   <font size=3>\n",
    "       <strong>About Biological Neuron</strong>:<br>\n",
    "       Biological neurons are electrically active cells, and the human brain contains about\n",
    "       10<sup>11</sup> neurons. Each neuron is typically connected to a thousand other neurons\n",
    "       and consequently the number of synapses in the brain exceeds 10<sup>14</sup>. Each neuron\n",
    "       can be found mainly in 2 states, active or rest. When the neuron is activated, it produces\n",
    "       an action potential(electrical impulse) that is transported along the axon. Once the signal\n",
    "       reaches the synapse, it causes the release of chemicals that cross the junction and enter\n",
    "       the body of other neurons.\n",
    "   </font>\n",
    "</p>\n"
   ]
  },
  {
   "cell_type": "markdown",
   "metadata": {},
   "source": [
    "<img src=\"images/main_part_of_neuron.png\" alt=\"actual_neuron_image\" style=\"width:400px;\"/>"
   ]
  },
  {
   "cell_type": "markdown",
   "metadata": {},
   "source": [
    "<p style=\"text-align: justify; text-justify: inter-word;\">\n",
    "   <font size=3>\n",
    "       <ul>\n",
    "        <li> \n",
    "            <b>Dendrite</b>: <br>\n",
    "            The Dendrites receives the messages from other cells. These represents the inputs of the neuron.\n",
    "        </li>\n",
    "         <li>\n",
    "             <b>Nucleus</b>: <br>\n",
    "             The nucleus of the neuron is an oval shaped membrane-bound structure found in the soma or \n",
    "             body of the neuron. It contains the nucleolus and chromosomes, necessary for the coded \n",
    "             production proteins within the cell\n",
    "        </li>\n",
    "        <li>\n",
    "            <b>Soma</b>: <br>\n",
    "            Soma is the cell body of neuron that contains the nucleus and much of the other 'life'\n",
    "            of the neuron. Dendrites and Axon reach out from other soma to connect with other neurons. \n",
    "        </li>\n",
    "        <li>\n",
    "            <b>Axon</b>: <br>\n",
    "            Passes messages away from the cell body to other neurons, muscles or Glands.\n",
    "            These Axon represents as neurons output.\n",
    "        </li>\n",
    "        <li>\n",
    "            <b>Myelin sheath</b>: <br>\n",
    "            Covers the Axon of some neurons and helps speed neural impulses\n",
    "            (Electric signal travelling down the Axon).\n",
    "        </li>\n",
    "        <li> \n",
    "            <b>Axon Terminal</b>: <br>\n",
    "            Forms the junction with other cells\n",
    "        </li>\n",
    "    </ul>\n",
    "   </font>\n",
    "</p>"
   ]
  },
  {
   "cell_type": "markdown",
   "metadata": {},
   "source": [
    "#### SYNAPSE"
   ]
  },
  {
   "cell_type": "markdown",
   "metadata": {},
   "source": [
    "<p style=\"text-align: justify; text-justify: inter-word;\">\n",
    "   <font size=3>\n",
    "       In the nervous system, a Synapse is a structure that permits a neuron to pass\n",
    "       an electrical or chemical signal to other\n",
    "   </font>\n",
    "</p>\n",
    "<img src=\"images/SYNAPSE.jpg\" alt=\"Drawing\" style=\"width: 600px;\"/>"
   ]
  },
  {
   "cell_type": "markdown",
   "metadata": {},
   "source": [
    "#### Technical represenation of Neuron(Perceptron)"
   ]
  },
  {
   "cell_type": "markdown",
   "metadata": {},
   "source": [
    "<p>The Neural Networks loosely mimic the way our brains solve the problem by taking inputs, processing them and generating output. Like us they learn to reconize the patterns, but they do this by training on labelled dataset.</p>"
   ]
  },
  {
   "cell_type": "markdown",
   "metadata": {},
   "source": [
    "<img src=\"images/Tech_Neuron.PNG\" alt=\"Drawing\" style=\"width: 600px;\"/>"
   ]
  },
  {
   "cell_type": "markdown",
   "metadata": {},
   "source": [
    "#### Biological Neuron Vs Artificial Neuron"
   ]
  },
  {
   "cell_type": "markdown",
   "metadata": {},
   "source": [
    "<p style=\"text-align: justify; text-justify: inter-word;\">\n",
    "   <font size=3>\n",
    "       The biological neuron is analogous to artificial neurons in the following terms:\n",
    "   </font>\n",
    "</p>"
   ]
  },
  {
   "cell_type": "markdown",
   "metadata": {},
   "source": [
    "<p style=\"text-align: justify; text-justify: inter-word;\">\n",
    "   <font size=3>\n",
    "       <table>\n",
    "          <tr>\n",
    "            <th>Biological Neuron</th>\n",
    "            <th>Artificial Neuron</th>\n",
    "          </tr>\n",
    "          <tr>\n",
    "            <td>Cell Nucleus (Soma)</td>\n",
    "            <td>Node</td>\n",
    "          </tr>\n",
    "          <tr>\n",
    "            <td>Dendrites</td>\n",
    "            <td>Input</td>\n",
    "          </tr>\n",
    "          <tr>\n",
    "            <td>Synapse</td>\n",
    "            <td>Weights or interconnections</td>\n",
    "          </tr>\n",
    "          <tr>\n",
    "            <td>Axon</td>\n",
    "            <td>Output</td>\n",
    "          </tr>\n",
    "      </table>\n",
    "   </font>\n",
    "</p>\n"
   ]
  },
  {
   "cell_type": "markdown",
   "metadata": {},
   "source": [
    "#### Useful blogs to read:\n",
    "<b>From towardsdatascience </b>: <br>\n",
    "<a href=\"https://towardsdatascience.com/a-beginners-guide-to-neural-networks-b6be0d442fa4#.24wy4o50n\">a-beginners-guide-to-neural-networks</a>\n",
    "<ol>\n",
    "    <li>Have basic explation about how human brain and percepton learns</li>\n",
    "    <li>Conveyed how percepton works by taking simple real life example</p>\n",
    "</ol>\n",
    "<b>Polycode</b>:<br>\n",
    "<a href=\"https://www.youtube.com/watch?v=kft1AJ9WVDk\">Create a Simple Neural Network in Python from Scratch</a>\n",
    "<ol>\n",
    "    <li> This will teach you how to build a percept from scrach </li>\n",
    "    <li> It will show usage of Sigmod Activation function </li>\n",
    "    <li> Gives idea of back propagation </li>\n",
    "</ol>\n",
    "worth to watch"
   ]
  },
  {
   "cell_type": "code",
   "execution_count": null,
   "metadata": {},
   "outputs": [],
   "source": []
  }
 ],
 "metadata": {
  "kernelspec": {
   "display_name": "Python 3 (ipykernel)",
   "language": "python",
   "name": "python3"
  },
  "language_info": {
   "codemirror_mode": {
    "name": "ipython",
    "version": 3
   },
   "file_extension": ".py",
   "mimetype": "text/x-python",
   "name": "python",
   "nbconvert_exporter": "python",
   "pygments_lexer": "ipython3",
   "version": "3.11.2"
  }
 },
 "nbformat": 4,
 "nbformat_minor": 4
}
