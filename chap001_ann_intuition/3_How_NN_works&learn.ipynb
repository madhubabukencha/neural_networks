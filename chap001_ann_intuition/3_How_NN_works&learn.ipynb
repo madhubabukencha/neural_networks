{
 "cells": [
  {
   "cell_type": "markdown",
   "metadata": {},
   "source": [
    "<p style=\"color:#153462; \n",
    "          font-weight: bold; \n",
    "          font-size: 30px; \n",
    "          font-family: Gill Sans, sans-serif; \n",
    "          text-align: center;\">\n",
    "          How Neural Networks Works and Learns</p>"
   ]
  },
  {
   "cell_type": "markdown",
   "metadata": {},
   "source": [
    "### Breif Introduction on NN's Learn"
   ]
  },
  {
   "cell_type": "markdown",
   "metadata": {},
   "source": [
    "<p style=\"text-align: justify; text-justify: inter-word;\">\n",
    "   <font size=3>\n",
    "       The neural network(also know as perceptron) in the below image is also known as <i>Single Layer FeedForward\n",
    "       Neural Network</i>. The neural network sums the all input values(X<sub>i</sub>) and weights(W<sub>i</sub>) and\n",
    "       then applies the some activation function and produces the predicted value(ŷ). The predicted value compared with\n",
    "       actual value(y), if the difference is more then it will update the weights and repeates the same process. This\n",
    "       process also know as back propagation. calculate we use something called <i>Cost Function</i>. Our goal is \n",
    "       should be minimizing <i>Cost Function</i>. Just to note, a dataset might have millions of records, but a\n",
    "       neural network just have single set of weights for all\n",
    "       of those weights.\n",
    "   </font>\n",
    "</p>"
   ]
  },
  {
   "cell_type": "markdown",
   "metadata": {
    "tags": []
   },
   "source": [
    "<img src=\"images\\simple_neuron.PNG\" alt=\"simple_neuron\" style=\"width: 600px;\"/>"
   ]
  },
  {
   "cell_type": "markdown",
   "metadata": {},
   "source": [
    "Y = Actual output value <br>\n",
    "&Ycirc;\t= Output value from perceptron <br>\n",
    "Cost Function (C) = 1/2(&Ycirc;-Y)<sup>2</sup>"
   ]
  },
  {
   "cell_type": "markdown",
   "metadata": {},
   "source": [
    "<h3>Definations:</h3>\n",
    "<ol>\n",
    "    <li><b>Cost Function(C):</b><br>Cost functions basically tells what is the error that we have in our prediction. Our goal is to minize the cost function value. If we have less Cost Function value which means &Ycirc; value is close to Y</li>\n",
    "</ol>"
   ]
  },
  {
   "cell_type": "markdown",
   "metadata": {},
   "source": [
    "### Resources\n",
    "<ul>\n",
    "    <li><a href=\"https://www.udemy.com/course/deeplearning/learn/lecture/6747427#notes\">How Neural Networks Works</a></li>\n",
    "    <li><a href=\"https://www.udemy.com/course/deeplearning/learn/lecture/6753752#notes\">How Neural Networks Learn</a></li>\n",
    "    <li><a href=\"https://stats.stackexchange.com/questions/154879/a-list-of-cost-functions-used-in-neural-networks-alongside-applications\">A list of cost functions used in neural networks, alongside applications</a></li>\n",
    "</ul>"
   ]
  },
  {
   "cell_type": "code",
   "execution_count": null,
   "metadata": {},
   "outputs": [],
   "source": []
  }
 ],
 "metadata": {
  "kernelspec": {
   "display_name": "Python 3 (ipykernel)",
   "language": "python",
   "name": "python3"
  },
  "language_info": {
   "codemirror_mode": {
    "name": "ipython",
    "version": 3
   },
   "file_extension": ".py",
   "mimetype": "text/x-python",
   "name": "python",
   "nbconvert_exporter": "python",
   "pygments_lexer": "ipython3",
   "version": "3.11.2"
  }
 },
 "nbformat": 4,
 "nbformat_minor": 4
}
